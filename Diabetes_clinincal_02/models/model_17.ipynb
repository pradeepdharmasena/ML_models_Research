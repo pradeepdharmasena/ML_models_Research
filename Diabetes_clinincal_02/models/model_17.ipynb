{
 "cells": [
  {
   "cell_type": "code",
   "execution_count": 1,
   "metadata": {},
   "outputs": [],
   "source": [
    "import numpy as np;\n",
    "import pandas as pd;\n",
    "import matplotlib.pyplot as plt\n",
    "import sklearn.metrics as sm\n",
    "from sklearn.preprocessing import LabelEncoder\n",
    "from sklearn.model_selection import cross_val_score\n",
    "from sklearn.model_selection import GridSearchCV\n",
    "from sklearn.preprocessing import MinMaxScaler\n",
    "from scipy import stats\n",
    "from sklearn import tree\n",
    "from sklearn.ensemble import GradientBoostingClassifier\n",
    "from sklearn.neighbors import KNeighborsClassifier\n",
    "from sklearn.linear_model import LogisticRegression\n",
    "from sklearn.naive_bayes import MultinomialNB, BernoulliNB \n",
    "from sklearn.ensemble import RandomForestClassifier\n",
    "from sklearn import svm\n",
    "import seaborn as sb\n",
    "from imblearn.under_sampling import RandomUnderSampler\n",
    "from imblearn.over_sampling import SMOTE"
   ]
  },
  {
   "cell_type": "code",
   "execution_count": 2,
   "metadata": {},
   "outputs": [
    {
     "name": "stdout",
     "output_type": "stream",
     "text": [
      "    Age  Sex  HighChol  CholCheck   BMI  Smoker  HeartDiseaseorAttack  \\\n",
      "0   4.0  1.0       0.0        1.0  26.0     0.0                   0.0   \n",
      "1  12.0  1.0       1.0        1.0  26.0     1.0                   0.0   \n",
      "2  13.0  1.0       0.0        1.0  26.0     0.0                   0.0   \n",
      "3  11.0  1.0       1.0        1.0  28.0     1.0                   0.0   \n",
      "4   8.0  0.0       0.0        1.0  29.0     1.0                   0.0   \n",
      "\n",
      "   PhysActivity  Fruits  Veggies  HvyAlcoholConsump  GenHlth  MentHlth  \\\n",
      "0           1.0     0.0      1.0                0.0      3.0       5.0   \n",
      "1           0.0     1.0      0.0                0.0      3.0       0.0   \n",
      "2           1.0     1.0      1.0                0.0      1.0       0.0   \n",
      "3           1.0     1.0      1.0                0.0      3.0       0.0   \n",
      "4           1.0     1.0      1.0                0.0      2.0       0.0   \n",
      "\n",
      "   PhysHlth  DiffWalk  Stroke  HighBP  Diabetes  \n",
      "0      30.0       0.0     0.0     1.0       0.0  \n",
      "1       0.0       0.0     1.0     1.0       0.0  \n",
      "2      10.0       0.0     0.0     0.0       0.0  \n",
      "3       3.0       0.0     0.0     1.0       0.0  \n",
      "4       0.0       0.0     0.0     0.0       0.0  \n"
     ]
    }
   ],
   "source": [
    "df = pd.read_csv(\"../data/diabetes_data.csv\")\n",
    "df = df.drop_duplicates()\n",
    "print(df.head())"
   ]
  },
  {
   "cell_type": "code",
   "execution_count": 3,
   "metadata": {},
   "outputs": [
    {
     "data": {
      "text/html": [
       "<div>\n",
       "<style scoped>\n",
       "    .dataframe tbody tr th:only-of-type {\n",
       "        vertical-align: middle;\n",
       "    }\n",
       "\n",
       "    .dataframe tbody tr th {\n",
       "        vertical-align: top;\n",
       "    }\n",
       "\n",
       "    .dataframe thead th {\n",
       "        text-align: right;\n",
       "    }\n",
       "</style>\n",
       "<table border=\"1\" class=\"dataframe\">\n",
       "  <thead>\n",
       "    <tr style=\"text-align: right;\">\n",
       "      <th></th>\n",
       "      <th>Age</th>\n",
       "      <th>Sex</th>\n",
       "      <th>HighChol</th>\n",
       "      <th>CholCheck</th>\n",
       "      <th>BMI</th>\n",
       "      <th>Smoker</th>\n",
       "      <th>HeartDiseaseorAttack</th>\n",
       "      <th>PhysActivity</th>\n",
       "      <th>Fruits</th>\n",
       "      <th>Veggies</th>\n",
       "      <th>HvyAlcoholConsump</th>\n",
       "      <th>GenHlth</th>\n",
       "      <th>MentHlth</th>\n",
       "      <th>PhysHlth</th>\n",
       "      <th>DiffWalk</th>\n",
       "      <th>Stroke</th>\n",
       "      <th>HighBP</th>\n",
       "      <th>Diabetes</th>\n",
       "    </tr>\n",
       "  </thead>\n",
       "  <tbody>\n",
       "    <tr>\n",
       "      <th>count</th>\n",
       "      <td>64020.000000</td>\n",
       "      <td>64020.000000</td>\n",
       "      <td>64020.000000</td>\n",
       "      <td>64020.000000</td>\n",
       "      <td>64020.000000</td>\n",
       "      <td>64020.000000</td>\n",
       "      <td>64020.000000</td>\n",
       "      <td>64020.000000</td>\n",
       "      <td>64020.000000</td>\n",
       "      <td>64020.000000</td>\n",
       "      <td>64020.000000</td>\n",
       "      <td>64020.000000</td>\n",
       "      <td>64020.000000</td>\n",
       "      <td>64020.000000</td>\n",
       "      <td>64020.000000</td>\n",
       "      <td>64020.000000</td>\n",
       "      <td>64020.000000</td>\n",
       "      <td>64020.000000</td>\n",
       "    </tr>\n",
       "    <tr>\n",
       "      <th>mean</th>\n",
       "      <td>8.607420</td>\n",
       "      <td>0.455983</td>\n",
       "      <td>0.539550</td>\n",
       "      <td>0.973211</td>\n",
       "      <td>30.178554</td>\n",
       "      <td>0.490706</td>\n",
       "      <td>0.159950</td>\n",
       "      <td>0.678366</td>\n",
       "      <td>0.590862</td>\n",
       "      <td>0.771587</td>\n",
       "      <td>0.046345</td>\n",
       "      <td>2.921103</td>\n",
       "      <td>4.130537</td>\n",
       "      <td>6.385020</td>\n",
       "      <td>0.277007</td>\n",
       "      <td>0.068510</td>\n",
       "      <td>0.581756</td>\n",
       "      <td>0.521681</td>\n",
       "    </tr>\n",
       "    <tr>\n",
       "      <th>std</th>\n",
       "      <td>2.860717</td>\n",
       "      <td>0.498063</td>\n",
       "      <td>0.498437</td>\n",
       "      <td>0.161466</td>\n",
       "      <td>7.287730</td>\n",
       "      <td>0.499918</td>\n",
       "      <td>0.366563</td>\n",
       "      <td>0.467107</td>\n",
       "      <td>0.491679</td>\n",
       "      <td>0.419813</td>\n",
       "      <td>0.210233</td>\n",
       "      <td>1.107991</td>\n",
       "      <td>8.466301</td>\n",
       "      <td>10.368493</td>\n",
       "      <td>0.447524</td>\n",
       "      <td>0.252621</td>\n",
       "      <td>0.493275</td>\n",
       "      <td>0.499534</td>\n",
       "    </tr>\n",
       "    <tr>\n",
       "      <th>min</th>\n",
       "      <td>1.000000</td>\n",
       "      <td>0.000000</td>\n",
       "      <td>0.000000</td>\n",
       "      <td>0.000000</td>\n",
       "      <td>12.000000</td>\n",
       "      <td>0.000000</td>\n",
       "      <td>0.000000</td>\n",
       "      <td>0.000000</td>\n",
       "      <td>0.000000</td>\n",
       "      <td>0.000000</td>\n",
       "      <td>0.000000</td>\n",
       "      <td>1.000000</td>\n",
       "      <td>0.000000</td>\n",
       "      <td>0.000000</td>\n",
       "      <td>0.000000</td>\n",
       "      <td>0.000000</td>\n",
       "      <td>0.000000</td>\n",
       "      <td>0.000000</td>\n",
       "    </tr>\n",
       "    <tr>\n",
       "      <th>25%</th>\n",
       "      <td>7.000000</td>\n",
       "      <td>0.000000</td>\n",
       "      <td>0.000000</td>\n",
       "      <td>1.000000</td>\n",
       "      <td>25.000000</td>\n",
       "      <td>0.000000</td>\n",
       "      <td>0.000000</td>\n",
       "      <td>0.000000</td>\n",
       "      <td>0.000000</td>\n",
       "      <td>1.000000</td>\n",
       "      <td>0.000000</td>\n",
       "      <td>2.000000</td>\n",
       "      <td>0.000000</td>\n",
       "      <td>0.000000</td>\n",
       "      <td>0.000000</td>\n",
       "      <td>0.000000</td>\n",
       "      <td>0.000000</td>\n",
       "      <td>0.000000</td>\n",
       "    </tr>\n",
       "    <tr>\n",
       "      <th>50%</th>\n",
       "      <td>9.000000</td>\n",
       "      <td>0.000000</td>\n",
       "      <td>1.000000</td>\n",
       "      <td>1.000000</td>\n",
       "      <td>29.000000</td>\n",
       "      <td>0.000000</td>\n",
       "      <td>0.000000</td>\n",
       "      <td>1.000000</td>\n",
       "      <td>1.000000</td>\n",
       "      <td>1.000000</td>\n",
       "      <td>0.000000</td>\n",
       "      <td>3.000000</td>\n",
       "      <td>0.000000</td>\n",
       "      <td>0.000000</td>\n",
       "      <td>0.000000</td>\n",
       "      <td>0.000000</td>\n",
       "      <td>1.000000</td>\n",
       "      <td>1.000000</td>\n",
       "    </tr>\n",
       "    <tr>\n",
       "      <th>75%</th>\n",
       "      <td>11.000000</td>\n",
       "      <td>1.000000</td>\n",
       "      <td>1.000000</td>\n",
       "      <td>1.000000</td>\n",
       "      <td>34.000000</td>\n",
       "      <td>1.000000</td>\n",
       "      <td>0.000000</td>\n",
       "      <td>1.000000</td>\n",
       "      <td>1.000000</td>\n",
       "      <td>1.000000</td>\n",
       "      <td>0.000000</td>\n",
       "      <td>4.000000</td>\n",
       "      <td>3.000000</td>\n",
       "      <td>7.000000</td>\n",
       "      <td>1.000000</td>\n",
       "      <td>0.000000</td>\n",
       "      <td>1.000000</td>\n",
       "      <td>1.000000</td>\n",
       "    </tr>\n",
       "    <tr>\n",
       "      <th>max</th>\n",
       "      <td>13.000000</td>\n",
       "      <td>1.000000</td>\n",
       "      <td>1.000000</td>\n",
       "      <td>1.000000</td>\n",
       "      <td>98.000000</td>\n",
       "      <td>1.000000</td>\n",
       "      <td>1.000000</td>\n",
       "      <td>1.000000</td>\n",
       "      <td>1.000000</td>\n",
       "      <td>1.000000</td>\n",
       "      <td>1.000000</td>\n",
       "      <td>5.000000</td>\n",
       "      <td>30.000000</td>\n",
       "      <td>30.000000</td>\n",
       "      <td>1.000000</td>\n",
       "      <td>1.000000</td>\n",
       "      <td>1.000000</td>\n",
       "      <td>1.000000</td>\n",
       "    </tr>\n",
       "  </tbody>\n",
       "</table>\n",
       "</div>"
      ],
      "text/plain": [
       "                Age           Sex      HighChol     CholCheck           BMI  \\\n",
       "count  64020.000000  64020.000000  64020.000000  64020.000000  64020.000000   \n",
       "mean       8.607420      0.455983      0.539550      0.973211     30.178554   \n",
       "std        2.860717      0.498063      0.498437      0.161466      7.287730   \n",
       "min        1.000000      0.000000      0.000000      0.000000     12.000000   \n",
       "25%        7.000000      0.000000      0.000000      1.000000     25.000000   \n",
       "50%        9.000000      0.000000      1.000000      1.000000     29.000000   \n",
       "75%       11.000000      1.000000      1.000000      1.000000     34.000000   \n",
       "max       13.000000      1.000000      1.000000      1.000000     98.000000   \n",
       "\n",
       "             Smoker  HeartDiseaseorAttack  PhysActivity        Fruits  \\\n",
       "count  64020.000000          64020.000000  64020.000000  64020.000000   \n",
       "mean       0.490706              0.159950      0.678366      0.590862   \n",
       "std        0.499918              0.366563      0.467107      0.491679   \n",
       "min        0.000000              0.000000      0.000000      0.000000   \n",
       "25%        0.000000              0.000000      0.000000      0.000000   \n",
       "50%        0.000000              0.000000      1.000000      1.000000   \n",
       "75%        1.000000              0.000000      1.000000      1.000000   \n",
       "max        1.000000              1.000000      1.000000      1.000000   \n",
       "\n",
       "            Veggies  HvyAlcoholConsump       GenHlth      MentHlth  \\\n",
       "count  64020.000000       64020.000000  64020.000000  64020.000000   \n",
       "mean       0.771587           0.046345      2.921103      4.130537   \n",
       "std        0.419813           0.210233      1.107991      8.466301   \n",
       "min        0.000000           0.000000      1.000000      0.000000   \n",
       "25%        1.000000           0.000000      2.000000      0.000000   \n",
       "50%        1.000000           0.000000      3.000000      0.000000   \n",
       "75%        1.000000           0.000000      4.000000      3.000000   \n",
       "max        1.000000           1.000000      5.000000     30.000000   \n",
       "\n",
       "           PhysHlth      DiffWalk        Stroke        HighBP      Diabetes  \n",
       "count  64020.000000  64020.000000  64020.000000  64020.000000  64020.000000  \n",
       "mean       6.385020      0.277007      0.068510      0.581756      0.521681  \n",
       "std       10.368493      0.447524      0.252621      0.493275      0.499534  \n",
       "min        0.000000      0.000000      0.000000      0.000000      0.000000  \n",
       "25%        0.000000      0.000000      0.000000      0.000000      0.000000  \n",
       "50%        0.000000      0.000000      0.000000      1.000000      1.000000  \n",
       "75%        7.000000      1.000000      0.000000      1.000000      1.000000  \n",
       "max       30.000000      1.000000      1.000000      1.000000      1.000000  "
      ]
     },
     "execution_count": 3,
     "metadata": {},
     "output_type": "execute_result"
    }
   ],
   "source": [
    "df.describe()"
   ]
  },
  {
   "cell_type": "code",
   "execution_count": 4,
   "metadata": {},
   "outputs": [
    {
     "name": "stdout",
     "output_type": "stream",
     "text": [
      "['Age', 'Sex', 'HighChol', 'CholCheck', 'BMI', 'Smoker', 'HeartDiseaseorAttack', 'PhysActivity', 'Fruits', 'Veggies', 'HvyAlcoholConsump', 'GenHlth', 'MentHlth', 'PhysHlth', 'DiffWalk', 'Stroke', 'HighBP', 'Diabetes']\n"
     ]
    }
   ],
   "source": [
    "df_features = list(df.columns)\n",
    "print(df_features)"
   ]
  },
  {
   "cell_type": "code",
   "execution_count": 5,
   "metadata": {},
   "outputs": [
    {
     "name": "stdout",
     "output_type": "stream",
     "text": [
      "Age                         0\n",
      "Sex                     34828\n",
      "HighChol                29478\n",
      "CholCheck                1715\n",
      "BMI                         0\n",
      "Smoker                  32605\n",
      "HeartDiseaseorAttack    53780\n",
      "PhysActivity            20591\n",
      "Fruits                  26193\n",
      "Veggies                 14623\n",
      "HvyAlcoholConsump       61053\n",
      "GenHlth                     0\n",
      "MentHlth                41555\n",
      "PhysHlth                33432\n",
      "DiffWalk                46286\n",
      "Stroke                  59634\n",
      "HighBP                  26776\n",
      "Diabetes                30622\n",
      "dtype: int64\n",
      "Age                     0\n",
      "Sex                     0\n",
      "HighChol                0\n",
      "CholCheck               0\n",
      "BMI                     0\n",
      "Smoker                  0\n",
      "HeartDiseaseorAttack    0\n",
      "PhysActivity            0\n",
      "Fruits                  0\n",
      "Veggies                 0\n",
      "HvyAlcoholConsump       0\n",
      "GenHlth                 0\n",
      "MentHlth                0\n",
      "PhysHlth                0\n",
      "DiffWalk                0\n",
      "Stroke                  0\n",
      "HighBP                  0\n",
      "Diabetes                0\n",
      "dtype: int64\n"
     ]
    }
   ],
   "source": [
    "print((df[df_features]==0).sum())\n",
    "print((df[df_features]==\"NaN\").sum())"
   ]
  },
  {
   "cell_type": "code",
   "execution_count": 6,
   "metadata": {},
   "outputs": [
    {
     "name": "stdout",
     "output_type": "stream",
     "text": [
      "Age                     0\n",
      "Sex                     0\n",
      "HighChol                0\n",
      "CholCheck               0\n",
      "BMI                     0\n",
      "Smoker                  0\n",
      "HeartDiseaseorAttack    0\n",
      "PhysActivity            0\n",
      "Fruits                  0\n",
      "Veggies                 0\n",
      "HvyAlcoholConsump       0\n",
      "GenHlth                 0\n",
      "MentHlth                0\n",
      "PhysHlth                0\n",
      "DiffWalk                0\n",
      "Stroke                  0\n",
      "HighBP                  0\n",
      "Diabetes                0\n",
      "dtype: int64\n",
      "(64020, 18)\n",
      "(64020, 18)\n"
     ]
    }
   ],
   "source": [
    "#print((df[X.columns]).isNull().sum())\n",
    "print(df[df_features].isnull().sum())\n",
    "print(df.shape)\n",
    "df = df.dropna(axis = 0)\n",
    "print(df.shape)\n",
    "#print(X)"
   ]
  },
  {
   "cell_type": "code",
   "execution_count": 7,
   "metadata": {},
   "outputs": [
    {
     "name": "stdout",
     "output_type": "stream",
     "text": [
      "Age                         0\n",
      "Sex                     34828\n",
      "HighChol                29478\n",
      "CholCheck                1715\n",
      "BMI                         0\n",
      "Smoker                  32605\n",
      "HeartDiseaseorAttack    53780\n",
      "PhysActivity            20591\n",
      "Fruits                  26193\n",
      "Veggies                 14623\n",
      "HvyAlcoholConsump       61053\n",
      "GenHlth                     0\n",
      "MentHlth                41555\n",
      "PhysHlth                33432\n",
      "DiffWalk                46286\n",
      "Stroke                  59634\n",
      "HighBP                  26776\n",
      "Diabetes                30622\n",
      "dtype: int64\n"
     ]
    }
   ],
   "source": [
    "print((df[df_features]==0).sum())"
   ]
  },
  {
   "cell_type": "code",
   "execution_count": 8,
   "metadata": {},
   "outputs": [
    {
     "name": "stdout",
     "output_type": "stream",
     "text": [
      "Age                     13.0\n",
      "Sex                      1.0\n",
      "HighChol                 1.0\n",
      "CholCheck                1.0\n",
      "BMI                     98.0\n",
      "Smoker                   1.0\n",
      "HeartDiseaseorAttack     1.0\n",
      "PhysActivity             1.0\n",
      "Fruits                   1.0\n",
      "Veggies                  1.0\n",
      "HvyAlcoholConsump        1.0\n",
      "GenHlth                  5.0\n",
      "MentHlth                30.0\n",
      "PhysHlth                30.0\n",
      "DiffWalk                 1.0\n",
      "Stroke                   1.0\n",
      "HighBP                   1.0\n",
      "Diabetes                 1.0\n",
      "dtype: float64\n"
     ]
    }
   ],
   "source": [
    "print(df.max())"
   ]
  },
  {
   "cell_type": "code",
   "execution_count": 9,
   "metadata": {},
   "outputs": [
    {
     "name": "stdout",
     "output_type": "stream",
     "text": [
      "Age                      1.0\n",
      "Sex                      0.0\n",
      "HighChol                 0.0\n",
      "CholCheck                0.0\n",
      "BMI                     12.0\n",
      "Smoker                   0.0\n",
      "HeartDiseaseorAttack     0.0\n",
      "PhysActivity             0.0\n",
      "Fruits                   0.0\n",
      "Veggies                  0.0\n",
      "HvyAlcoholConsump        0.0\n",
      "GenHlth                  1.0\n",
      "MentHlth                 0.0\n",
      "PhysHlth                 0.0\n",
      "DiffWalk                 0.0\n",
      "Stroke                   0.0\n",
      "HighBP                   0.0\n",
      "Diabetes                 0.0\n",
      "dtype: float64\n"
     ]
    }
   ],
   "source": [
    "print(df.min())"
   ]
  },
  {
   "cell_type": "code",
   "execution_count": 12,
   "metadata": {},
   "outputs": [
    {
     "name": "stdout",
     "output_type": "stream",
     "text": [
      "Age                     12.0\n",
      "Sex                      1.0\n",
      "HighChol                 1.0\n",
      "CholCheck                1.0\n",
      "BMI                     86.0\n",
      "Smoker                   1.0\n",
      "HeartDiseaseorAttack     1.0\n",
      "PhysActivity             1.0\n",
      "Fruits                   1.0\n",
      "Veggies                  1.0\n",
      "HvyAlcoholConsump        1.0\n",
      "GenHlth                  4.0\n",
      "MentHlth                30.0\n",
      "PhysHlth                30.0\n",
      "DiffWalk                 1.0\n",
      "Stroke                   1.0\n",
      "HighBP                   1.0\n",
      "Diabetes                 1.0\n",
      "dtype: float64\n"
     ]
    }
   ],
   "source": [
    "print(df.max() - df.min())"
   ]
  },
  {
   "cell_type": "code",
   "execution_count": 13,
   "metadata": {},
   "outputs": [
    {
     "data": {
      "image/png": "[encoded data removed]",
      "text/plain": [
       "<Figure size 2000x3000 with 20 Axes>"
      ]
     },
     "metadata": {},
     "output_type": "display_data"
    }
   ],
   "source": [
    "fig, axes = plt.subplots(5,4, figsize=(20,30))\n",
    "x_,y_ = 0,0\n",
    "for i, column in enumerate(df.columns[:]):    \n",
    "    sb.boxplot(x=df[column], ax=axes[x_,y_], palette=\"Set2\")\n",
    "    if i < 3:\n",
    "        y_ += 1\n",
    "    elif i == 3: \n",
    "        x_ = 1\n",
    "        y_ = 0\n",
    "    elif i == 7: \n",
    "        x_ = 2\n",
    "        y_ = 0\n",
    "    elif i == 11: \n",
    "        x_ = 3\n",
    "        y_ = 0\n",
    "    elif i == 15: \n",
    "        x_ = 4\n",
    "        y_ = 0\n",
    "    else:\n",
    "        y_ += 1"
   ]
  },
  {
   "cell_type": "code",
   "execution_count": 14,
   "metadata": {},
   "outputs": [
    {
     "name": "stdout",
     "output_type": "stream",
     "text": [
      "Index(['Age', 'Sex', 'HighChol', 'CholCheck', 'BMI', 'Smoker',\n",
      "       'HeartDiseaseorAttack', 'PhysActivity', 'Fruits', 'Veggies',\n",
      "       'HvyAlcoholConsump', 'GenHlth', 'MentHlth', 'PhysHlth', 'DiffWalk',\n",
      "       'Stroke', 'HighBP', 'Diabetes'],\n",
      "      dtype='object')\n",
      "        Age  Sex  HighChol  CholCheck       BMI  Smoker  HeartDiseaseorAttack  \\\n",
      "0  0.250000  1.0       0.0        1.0  0.162791     0.0                   0.0   \n",
      "1  0.916667  1.0       1.0        1.0  0.162791     1.0                   0.0   \n",
      "2  1.000000  1.0       0.0        1.0  0.162791     0.0                   0.0   \n",
      "3  0.833333  1.0       1.0        1.0  0.186047     1.0                   0.0   \n",
      "4  0.583333  0.0       0.0        1.0  0.197674     1.0                   0.0   \n",
      "\n",
      "   PhysActivity  Fruits  Veggies  HvyAlcoholConsump  GenHlth  MentHlth  \\\n",
      "0           1.0     0.0      1.0                0.0     0.50  0.166667   \n",
      "1           0.0     1.0      0.0                0.0     0.50  0.000000   \n",
      "2           1.0     1.0      1.0                0.0     0.00  0.000000   \n",
      "3           1.0     1.0      1.0                0.0     0.50  0.000000   \n",
      "4           1.0     1.0      1.0                0.0     0.25  0.000000   \n",
      "\n",
      "   PhysHlth  DiffWalk  Stroke  HighBP  Diabetes  \n",
      "0  1.000000       0.0     0.0     1.0       0.0  \n",
      "1  0.000000       0.0     1.0     1.0       0.0  \n",
      "2  0.333333       0.0     0.0     0.0       0.0  \n",
      "3  0.100000       0.0     0.0     1.0       0.0  \n",
      "4  0.000000       0.0     0.0     0.0       0.0  \n"
     ]
    }
   ],
   "source": [
    "cols = df.columns\n",
    "print(cols)\n",
    "scaler = MinMaxScaler()\n",
    "dat = scaler.fit_transform(df)\n",
    "df_01 = pd.DataFrame(data=dat, columns=cols)  \n",
    "print(df_01.head())"
   ]
  },
  {
   "cell_type": "code",
   "execution_count": 15,
   "metadata": {},
   "outputs": [
    {
     "name": "stdout",
     "output_type": "stream",
     "text": [
      "Age                     1.0\n",
      "Sex                     1.0\n",
      "HighChol                1.0\n",
      "CholCheck               1.0\n",
      "BMI                     1.0\n",
      "Smoker                  1.0\n",
      "HeartDiseaseorAttack    1.0\n",
      "PhysActivity            1.0\n",
      "Fruits                  1.0\n",
      "Veggies                 1.0\n",
      "HvyAlcoholConsump       1.0\n",
      "GenHlth                 1.0\n",
      "MentHlth                1.0\n",
      "PhysHlth                1.0\n",
      "DiffWalk                1.0\n",
      "Stroke                  1.0\n",
      "HighBP                  1.0\n",
      "Diabetes                1.0\n",
      "dtype: float64\n"
     ]
    }
   ],
   "source": [
    "print(df_01.max() - df_01.min())"
   ]
  },
  {
   "cell_type": "code",
   "execution_count": 17,
   "metadata": {},
   "outputs": [
    {
     "name": "stdout",
     "output_type": "stream",
     "text": [
      "1.0    33398\n",
      "0.0    30622\n",
      "Name: Diabetes, dtype: int64\n"
     ]
    }
   ],
   "source": [
    "x = df_01.drop([\"Diabetes\"], axis =1);\n",
    "y = df_01[\"Diabetes\"]\n",
    "print(y.value_counts())"
   ]
  },
  {
   "cell_type": "code",
   "execution_count": 18,
   "metadata": {},
   "outputs": [
    {
     "data": {
      "text/plain": [
       "(array([30622.,     0.,     0.,     0.,     0.,     0.,     0.,     0.,\n",
       "            0., 33398.]),\n",
       " array([0. , 0.1, 0.2, 0.3, 0.4, 0.5, 0.6, 0.7, 0.8, 0.9, 1. ]),\n",
       " <BarContainer object of 10 artists>)"
      ]
     },
     "execution_count": 18,
     "metadata": {},
     "output_type": "execute_result"
    },
    {
     "data": {
      "image/png": "[encoded data removed]",
      "text/plain": [
       "<Figure size 640x480 with 1 Axes>"
      ]
     },
     "metadata": {},
     "output_type": "display_data"
    }
   ],
   "source": [
    "plt.hist(y)"
   ]
  },
  {
   "cell_type": "code",
   "execution_count": 26,
   "metadata": {},
   "outputs": [
    {
     "name": "stdout",
     "output_type": "stream",
     "text": [
      "1.0    32233\n",
      "0.0    30622\n",
      "Name: Diabetes, dtype: int64\n"
     ]
    },
    {
     "data": {
      "text/plain": [
       "(array([30622.,     0.,     0.,     0.,     0.,     0.,     0.,     0.,\n",
       "            0., 32233.]),\n",
       " array([0. , 0.1, 0.2, 0.3, 0.4, 0.5, 0.6, 0.7, 0.8, 0.9, 1. ]),\n",
       " <BarContainer object of 10 artists>)"
      ]
     },
     "execution_count": 26,
     "metadata": {},
     "output_type": "execute_result"
    },
    {
     "data": {
      "image/png": "[encoded data removed]",
      "text/plain": [
       "<Figure size 640x480 with 1 Axes>"
      ]
     },
     "metadata": {},
     "output_type": "display_data"
    }
   ],
   "source": [
    "# transform the dataset\n",
    "under = RandomUnderSampler(sampling_strategy= 0.95, random_state=0)\n",
    "X, Y = under.fit_resample(x, y)\n",
    "print(Y.value_counts())\n",
    "plt.hist(Y)"
   ]
  },
  {
   "cell_type": "code",
   "execution_count": 27,
   "metadata": {},
   "outputs": [
    {
     "name": "stdout",
     "output_type": "stream",
     "text": [
      "0.0    32233\n",
      "1.0    32233\n",
      "Name: Diabetes, dtype: int64\n"
     ]
    },
    {
     "data": {
      "text/plain": [
       "(array([32233.,     0.,     0.,     0.,     0.,     0.,     0.,     0.,\n",
       "            0., 32233.]),\n",
       " array([0. , 0.1, 0.2, 0.3, 0.4, 0.5, 0.6, 0.7, 0.8, 0.9, 1. ]),\n",
       " <BarContainer object of 10 artists>)"
      ]
     },
     "execution_count": 27,
     "metadata": {},
     "output_type": "execute_result"
    },
    {
     "data": {
      "image/png": "[encoded data removed]",
      "text/plain": [
       "<Figure size 640x480 with 1 Axes>"
      ]
     },
     "metadata": {},
     "output_type": "display_data"
    }
   ],
   "source": [
    "smt = SMOTE(random_state=0)\n",
    "X, Y = smt.fit_resample(X,Y)\n",
    "print(Y.value_counts())\n",
    "plt.hist(Y)"
   ]
  },
  {
   "cell_type": "code",
   "execution_count": 28,
   "metadata": {},
   "outputs": [
    {
     "name": "stdout",
     "output_type": "stream",
     "text": [
      "CV value :  2\n",
      "Parameters :  {}\n",
      "Accuracy :  62.866\n",
      "Standed deviation :  0.123\n",
      "CV value :  3\n",
      "Parameters :  {}\n",
      "Accuracy :  62.783\n",
      "Standed deviation :  0.333\n",
      "CV value :  4\n",
      "Parameters :  {}\n",
      "Accuracy :  62.518\n",
      "Standed deviation :  0.829\n",
      "CV value :  5\n",
      "Parameters :  {}\n",
      "Accuracy :  62.738\n",
      "Standed deviation :  1.080\n"
     ]
    }
   ],
   "source": [
    "# creating a decision tree classifier\n",
    "dt_model = tree.DecisionTreeClassifier()\n",
    "param_grid_dt = {\n",
    "     \n",
    "}\n",
    "cv_array = [2,3,4,5]\n",
    "for cv in cv_array:\n",
    "    gridSearchRF = GridSearchCV(estimator=dt_model, param_grid=param_grid_dt, scoring='accuracy', n_jobs=-1, cv=cv)\n",
    "    gridSearchRF.fit(X, Y)\n",
    "    print(\"CV value : \", cv)\n",
    "    print(\"Parameters : \", gridSearchRF.best_params_)\n",
    "    print(\"Accuracy :  %0.3f\" % (gridSearchRF.best_score_*100))\n",
    "    print(\"Standed deviation :  %0.3f\" % (gridSearchRF.cv_results_['std_test_score'][gridSearchRF.best_index_]*100))"
   ]
  },
  {
   "cell_type": "code",
   "execution_count": 29,
   "metadata": {},
   "outputs": [
    {
     "name": "stdout",
     "output_type": "stream",
     "text": [
      "CV value :  2\n",
      "Parameters :  {'random_state': 0}\n",
      "Accuracy :  73.688\n",
      "Standed deviation :  0.313\n",
      "CV value :  3\n",
      "Parameters :  {'random_state': 0}\n",
      "Accuracy :  73.764\n",
      "Standed deviation :  0.458\n",
      "CV value :  4\n",
      "Parameters :  {'random_state': 0}\n",
      "Accuracy :  73.825\n",
      "Standed deviation :  0.317\n",
      "CV value :  5\n",
      "Parameters :  {'random_state': 0}\n",
      "Accuracy :  73.783\n",
      "Standed deviation :  0.422\n"
     ]
    }
   ],
   "source": [
    "# creating a Gradient boosting classifier\n",
    "gb_model = GradientBoostingClassifier()\n",
    "param_grid_gb = {\n",
    "     'random_state': [0, 1, 2,3,4,5 , 10, 20, 30, 40, 50]\n",
    "}\n",
    "for cv in cv_array:\n",
    "     gridSearchRF = GridSearchCV(estimator=gb_model, param_grid=param_grid_gb, scoring='accuracy', n_jobs=-1, cv=cv)\n",
    "     gridSearchRF.fit(X, Y)\n",
    "     print(\"CV value : \", cv)\n",
    "     print(\"Parameters : \", gridSearchRF.best_params_)\n",
    "     print(\"Accuracy :  %0.3f\" % (gridSearchRF.best_score_*100))\n",
    "     print(\"Standed deviation :  %0.3f\" % (gridSearchRF.cv_results_['std_test_score'][gridSearchRF.best_index_]*100))"
   ]
  },
  {
   "cell_type": "code",
   "execution_count": 30,
   "metadata": {},
   "outputs": [
    {
     "name": "stdout",
     "output_type": "stream",
     "text": [
      "CV value :  2\n",
      "Parameters :  {'n_neighbors': 17}\n",
      "Accuracy :  70.896\n",
      "Standed deviation :  0.180\n",
      "CV value :  3\n",
      "Parameters :  {'n_neighbors': 17}\n",
      "Accuracy :  70.988\n",
      "Standed deviation :  0.467\n",
      "CV value :  4\n",
      "Parameters :  {'n_neighbors': 17}\n",
      "Accuracy :  71.099\n",
      "Standed deviation :  0.467\n",
      "CV value :  5\n",
      "Parameters :  {'n_neighbors': 17}\n",
      "Accuracy :  71.368\n",
      "Standed deviation :  0.617\n"
     ]
    }
   ],
   "source": [
    "# creating a KNN classifier\n",
    "KNN_model =KNeighborsClassifier()\n",
    "param_grid_knn = {\n",
    "     'n_neighbors': [3, 5, 7, 11, 13, 17]\n",
    "}\n",
    "for cv in cv_array:\n",
    "     gridSearchRF = GridSearchCV(estimator=KNN_model, param_grid=param_grid_knn, scoring='accuracy', n_jobs=-1, cv=cv)\n",
    "     gridSearchRF.fit(X, Y)\n",
    "     print(\"CV value : \", cv)\n",
    "     print(\"Parameters : \", gridSearchRF.best_params_)\n",
    "     print(\"Accuracy :  %0.3f\" % (gridSearchRF.best_score_*100))\n",
    "     print(\"Standed deviation :  %0.3f\" % (gridSearchRF.cv_results_['std_test_score'][gridSearchRF.best_index_]*100))"
   ]
  },
  {
   "cell_type": "code",
   "execution_count": 31,
   "metadata": {},
   "outputs": [
    {
     "name": "stdout",
     "output_type": "stream",
     "text": [
      "CV value :  2\n",
      "Parameters :  {'max_iter': 100}\n",
      "Accuracy :  73.324\n",
      "Standed deviation :  0.259\n",
      "CV value :  3\n",
      "Parameters :  {'max_iter': 100}\n",
      "Accuracy :  73.388\n",
      "Standed deviation :  0.300\n",
      "CV value :  4\n",
      "Parameters :  {'max_iter': 100}\n",
      "Accuracy :  73.380\n",
      "Standed deviation :  0.369\n",
      "CV value :  5\n",
      "Parameters :  {'max_iter': 100}\n",
      "Accuracy :  73.417\n",
      "Standed deviation :  0.347\n"
     ]
    }
   ],
   "source": [
    "# creating a Lgistic regression classifier\n",
    "lr_model = LogisticRegression() \n",
    "\n",
    "param_grid_lr = {\n",
    "     'max_iter': [100, 200, 300, 400, 500]\n",
    "}\n",
    "for cv in cv_array:\n",
    "     gridSearchRF = GridSearchCV(estimator=lr_model, param_grid=param_grid_lr, scoring='accuracy', n_jobs=-1, cv=cv)\n",
    "     gridSearchRF.fit(X, Y)\n",
    "     print(\"CV value : \", cv)\n",
    "     print(\"Parameters : \", gridSearchRF.best_params_)\n",
    "     print(\"Accuracy :  %0.3f\" % (gridSearchRF.best_score_*100))\n",
    "     print(\"Standed deviation :  %0.3f\" % (gridSearchRF.cv_results_['std_test_score'][gridSearchRF.best_index_]*100))\n"
   ]
  },
  {
   "cell_type": "code",
   "execution_count": 32,
   "metadata": {},
   "outputs": [
    {
     "name": "stdout",
     "output_type": "stream",
     "text": [
      "CV value :  2\n",
      "Parameters :  {}\n",
      "Accuracy :  68.042\n",
      "Standed deviation :  0.195\n",
      "CV value :  3\n",
      "Parameters :  {}\n",
      "Accuracy :  68.085\n",
      "Standed deviation :  0.492\n",
      "CV value :  4\n",
      "Parameters :  {}\n",
      "Accuracy :  68.098\n",
      "Standed deviation :  0.441\n",
      "CV value :  5\n",
      "Parameters :  {}\n",
      "Accuracy :  68.068\n",
      "Standed deviation :  0.477\n"
     ]
    }
   ],
   "source": [
    "# creating a Nave Bayers classifier\n",
    "nb_model = MultinomialNB()\n",
    "param_grid_nb = {\n",
    "\n",
    "}\n",
    "for cv in cv_array:\n",
    "    gridSearchRF = GridSearchCV(estimator=nb_model, param_grid=param_grid_nb, scoring='accuracy', n_jobs=-1, cv=cv)\n",
    "    gridSearchRF.fit(X, Y)\n",
    "    print(\"CV value : \", cv)\n",
    "    print(\"Parameters : \", gridSearchRF.best_params_)\n",
    "    print(\"Accuracy :  %0.3f\" % (gridSearchRF.best_score_*100))\n",
    "    print(\"Standed deviation :  %0.3f\" % (gridSearchRF.cv_results_['std_test_score'][gridSearchRF.best_index_]*100))\n"
   ]
  },
  {
   "cell_type": "code",
   "execution_count": 33,
   "metadata": {},
   "outputs": [
    {
     "name": "stdout",
     "output_type": "stream",
     "text": [
      "CV value :  2\n",
      "Parameters :  {'kernel': 'linear'}\n",
      "Accuracy :  73.287\n",
      "Standed deviation :  0.144\n",
      "CV value :  3\n",
      "Parameters :  {'kernel': 'linear'}\n",
      "Accuracy :  73.349\n",
      "Standed deviation :  0.302\n",
      "CV value :  4\n",
      "Parameters :  {'kernel': 'linear'}\n",
      "Accuracy :  73.391\n",
      "Standed deviation :  0.399\n",
      "CV value :  5\n",
      "Parameters :  {'kernel': 'linear'}\n",
      "Accuracy :  73.355\n",
      "Standed deviation :  0.407\n"
     ]
    }
   ],
   "source": [
    "# creating a SVM classifier\n",
    "svm_model = svm.SVC()\n",
    "param_grid_svm = {\n",
    "     'kernel': ['linear', 'poly', 'rbf', 'sigmoid']\n",
    "}\n",
    "\n",
    "for cv in cv_array:\n",
    "     gridSearchRF = GridSearchCV(estimator=svm_model, param_grid=param_grid_svm, scoring='accuracy', n_jobs=-1, cv=cv)\n",
    "     gridSearchRF.fit(X, Y)\n",
    "     print(\"CV value : \", cv)\n",
    "     print(\"Parameters : \", gridSearchRF.best_params_)\n",
    "     print(\"Accuracy :  %0.3f\" % (gridSearchRF.best_score_*100))\n",
    "     print(\"Standed deviation :  %0.3f\" % (gridSearchRF.cv_results_['std_test_score'][gridSearchRF.best_index_]*100))\n"
   ]
  },
  {
   "cell_type": "code",
   "execution_count": 34,
   "metadata": {},
   "outputs": [
    {
     "name": "stdout",
     "output_type": "stream",
     "text": [
      "CV value :  2\n",
      "Parameters :  {'max_depth': 300, 'max_features': 2, 'n_estimators': 300}\n",
      "Accuracy :  70.737\n",
      "Standed deviation :  0.039\n",
      "CV value :  3\n",
      "Parameters :  {'max_depth': 300, 'max_features': 3, 'n_estimators': 200}\n",
      "Accuracy :  70.429\n",
      "Standed deviation :  0.165\n",
      "CV value :  4\n",
      "Parameters :  {'max_depth': 150, 'max_features': 4, 'n_estimators': 300}\n",
      "Accuracy :  70.360\n",
      "Standed deviation :  0.766\n",
      "CV value :  5\n",
      "Parameters :  {'max_depth': 100, 'max_features': 3, 'n_estimators': 300}\n",
      "Accuracy :  70.370\n",
      "Standed deviation :  0.801\n"
     ]
    }
   ],
   "source": [
    "# creating a Random forest classifier\n",
    "rf = RandomForestClassifier()\n",
    "param_grid_rf = {\n",
    "     'max_depth': [80, 90, 100, 110, 150, 200, 300],\n",
    "     'max_features': [2, 3, 4, 5,6],\n",
    "     'n_estimators': [100, 200, 300]\n",
    "}\n",
    "\n",
    "for cv in cv_array:\n",
    "     gridSearchRF = GridSearchCV(estimator=rf, param_grid=param_grid_rf, scoring='accuracy', n_jobs=-1, cv=cv)\n",
    "     gridSearchRF.fit(X, Y)\n",
    "     print(\"CV value : \", cv)\n",
    "     print(\"Parameters : \", gridSearchRF.best_params_)\n",
    "     print(\"Accuracy :  %0.3f\" % (gridSearchRF.best_score_*100))\n",
    "     print(\"Standed deviation :  %0.3f\" % (gridSearchRF.cv_results_['std_test_score'][gridSearchRF.best_index_]*100))"
   ]
  }
 ],
 "metadata": {
  "kernelspec": {
   "display_name": "Python 3.9.13 ('base')",
   "language": "python",
   "name": "python3"
  },
  "language_info": {
   "codemirror_mode": {
    "name": "ipython",
    "version": 3
   },
   "file_extension": ".py",
   "mimetype": "text/x-python",
   "name": "python",
   "nbconvert_exporter": "python",
   "pygments_lexer": "ipython3",
   "version": "3.11.3"
  },
  "orig_nbformat": 4,
  "vscode": {
   "interpreter": {
    "hash": "dd78fe5a17d57d1a86104509f6d28e1e730005acb4374104044dd451171eb7b3"
   }
  }
 },
 "nbformat": 4,
 "nbformat_minor": 2
}
