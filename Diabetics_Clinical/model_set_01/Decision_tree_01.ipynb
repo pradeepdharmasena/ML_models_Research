{
 "cells": [
  {
   "cell_type": "code",
   "execution_count": 1,
   "metadata": {},
   "outputs": [],
   "source": [
    "import numpy as np;\n",
    "import pandas as pd;\n",
    "import matplotlib.pyplot as plt\n",
    "import sklearn.metrics as sm\n",
    "from sklearn.preprocessing import LabelEncoder\n",
    "from sklearn.model_selection import train_test_split\n",
    "from sklearn import tree\n",
    "from sklearn.metrics import confusion_matrix\n",
    "import seaborn as sb\n",
    "from imblearn.under_sampling import RandomUnderSampler\n",
    "from imblearn.over_sampling import SMOTE"
   ]
  },
  {
   "cell_type": "code",
   "execution_count": 2,
   "metadata": {},
   "outputs": [
    {
     "name": "stdout",
     "output_type": "stream",
     "text": [
      "   Pregnancies  Glucose  BloodPressure  SkinThickness  Insulin   BMI  \\\n",
      "0            2      138             62             35        0  33.6   \n",
      "1            0       84             82             31      125  38.2   \n",
      "2            0      145              0              0        0  44.2   \n",
      "3            0      135             68             42      250  42.3   \n",
      "4            1      139             62             41      480  40.7   \n",
      "\n",
      "   DiabetesPedigreeFunction  Age  Results  \n",
      "0                     0.127   47        1  \n",
      "1                     0.233   23        0  \n",
      "2                     0.630   31        1  \n",
      "3                     0.365   24        1  \n",
      "4                     0.536   21        0  \n"
     ]
    }
   ],
   "source": [
    "df = pd.read_csv(\"../data/diabetes.csv\")\n",
    "df = df.drop_duplicates()\n",
    "print(df.head())"
   ]
  },
  {
   "cell_type": "code",
   "execution_count": 3,
   "metadata": {},
   "outputs": [
    {
     "data": {
      "text/html": [
       "<div>\n",
       "<style scoped>\n",
       "    .dataframe tbody tr th:only-of-type {\n",
       "        vertical-align: middle;\n",
       "    }\n",
       "\n",
       "    .dataframe tbody tr th {\n",
       "        vertical-align: top;\n",
       "    }\n",
       "\n",
       "    .dataframe thead th {\n",
       "        text-align: right;\n",
       "    }\n",
       "</style>\n",
       "<table border=\"1\" class=\"dataframe\">\n",
       "  <thead>\n",
       "    <tr style=\"text-align: right;\">\n",
       "      <th></th>\n",
       "      <th>Pregnancies</th>\n",
       "      <th>Glucose</th>\n",
       "      <th>BloodPressure</th>\n",
       "      <th>SkinThickness</th>\n",
       "      <th>Insulin</th>\n",
       "      <th>BMI</th>\n",
       "      <th>DiabetesPedigreeFunction</th>\n",
       "      <th>Age</th>\n",
       "      <th>Results</th>\n",
       "    </tr>\n",
       "  </thead>\n",
       "  <tbody>\n",
       "    <tr>\n",
       "      <th>count</th>\n",
       "      <td>744.000000</td>\n",
       "      <td>744.000000</td>\n",
       "      <td>744.000000</td>\n",
       "      <td>744.000000</td>\n",
       "      <td>744.000000</td>\n",
       "      <td>744.000000</td>\n",
       "      <td>744.000000</td>\n",
       "      <td>744.000000</td>\n",
       "      <td>744.000000</td>\n",
       "    </tr>\n",
       "    <tr>\n",
       "      <th>mean</th>\n",
       "      <td>3.752688</td>\n",
       "      <td>120.892473</td>\n",
       "      <td>68.959677</td>\n",
       "      <td>20.908602</td>\n",
       "      <td>79.534946</td>\n",
       "      <td>32.229704</td>\n",
       "      <td>0.472355</td>\n",
       "      <td>33.142473</td>\n",
       "      <td>0.340054</td>\n",
       "    </tr>\n",
       "    <tr>\n",
       "      <th>std</th>\n",
       "      <td>3.335541</td>\n",
       "      <td>31.943115</td>\n",
       "      <td>19.317521</td>\n",
       "      <td>16.311726</td>\n",
       "      <td>111.745897</td>\n",
       "      <td>8.206319</td>\n",
       "      <td>0.326181</td>\n",
       "      <td>11.751286</td>\n",
       "      <td>0.474046</td>\n",
       "    </tr>\n",
       "    <tr>\n",
       "      <th>min</th>\n",
       "      <td>0.000000</td>\n",
       "      <td>0.000000</td>\n",
       "      <td>0.000000</td>\n",
       "      <td>0.000000</td>\n",
       "      <td>0.000000</td>\n",
       "      <td>0.000000</td>\n",
       "      <td>0.078000</td>\n",
       "      <td>21.000000</td>\n",
       "      <td>0.000000</td>\n",
       "    </tr>\n",
       "    <tr>\n",
       "      <th>25%</th>\n",
       "      <td>1.000000</td>\n",
       "      <td>99.000000</td>\n",
       "      <td>62.000000</td>\n",
       "      <td>0.000000</td>\n",
       "      <td>0.000000</td>\n",
       "      <td>27.400000</td>\n",
       "      <td>0.244000</td>\n",
       "      <td>24.000000</td>\n",
       "      <td>0.000000</td>\n",
       "    </tr>\n",
       "    <tr>\n",
       "      <th>50%</th>\n",
       "      <td>3.000000</td>\n",
       "      <td>117.000000</td>\n",
       "      <td>72.000000</td>\n",
       "      <td>23.000000</td>\n",
       "      <td>36.000000</td>\n",
       "      <td>32.300000</td>\n",
       "      <td>0.375500</td>\n",
       "      <td>29.000000</td>\n",
       "      <td>0.000000</td>\n",
       "    </tr>\n",
       "    <tr>\n",
       "      <th>75%</th>\n",
       "      <td>6.000000</td>\n",
       "      <td>140.250000</td>\n",
       "      <td>80.000000</td>\n",
       "      <td>32.000000</td>\n",
       "      <td>130.000000</td>\n",
       "      <td>36.800000</td>\n",
       "      <td>0.632500</td>\n",
       "      <td>40.250000</td>\n",
       "      <td>1.000000</td>\n",
       "    </tr>\n",
       "    <tr>\n",
       "      <th>max</th>\n",
       "      <td>17.000000</td>\n",
       "      <td>199.000000</td>\n",
       "      <td>122.000000</td>\n",
       "      <td>110.000000</td>\n",
       "      <td>744.000000</td>\n",
       "      <td>80.600000</td>\n",
       "      <td>2.420000</td>\n",
       "      <td>81.000000</td>\n",
       "      <td>1.000000</td>\n",
       "    </tr>\n",
       "  </tbody>\n",
       "</table>\n",
       "</div>"
      ],
      "text/plain": [
       "       Pregnancies     Glucose  BloodPressure  SkinThickness     Insulin  \\\n",
       "count   744.000000  744.000000     744.000000     744.000000  744.000000   \n",
       "mean      3.752688  120.892473      68.959677      20.908602   79.534946   \n",
       "std       3.335541   31.943115      19.317521      16.311726  111.745897   \n",
       "min       0.000000    0.000000       0.000000       0.000000    0.000000   \n",
       "25%       1.000000   99.000000      62.000000       0.000000    0.000000   \n",
       "50%       3.000000  117.000000      72.000000      23.000000   36.000000   \n",
       "75%       6.000000  140.250000      80.000000      32.000000  130.000000   \n",
       "max      17.000000  199.000000     122.000000     110.000000  744.000000   \n",
       "\n",
       "              BMI  DiabetesPedigreeFunction         Age     Results  \n",
       "count  744.000000                744.000000  744.000000  744.000000  \n",
       "mean    32.229704                  0.472355   33.142473    0.340054  \n",
       "std      8.206319                  0.326181   11.751286    0.474046  \n",
       "min      0.000000                  0.078000   21.000000    0.000000  \n",
       "25%     27.400000                  0.244000   24.000000    0.000000  \n",
       "50%     32.300000                  0.375500   29.000000    0.000000  \n",
       "75%     36.800000                  0.632500   40.250000    1.000000  \n",
       "max     80.600000                  2.420000   81.000000    1.000000  "
      ]
     },
     "execution_count": 3,
     "metadata": {},
     "output_type": "execute_result"
    }
   ],
   "source": [
    "\n",
    "df.describe()"
   ]
  },
  {
   "cell_type": "code",
   "execution_count": 4,
   "metadata": {},
   "outputs": [
    {
     "name": "stdout",
     "output_type": "stream",
     "text": [
      "['Pregnancies', 'Glucose', 'BloodPressure', 'SkinThickness', 'Insulin', 'BMI', 'DiabetesPedigreeFunction', 'Age', 'Results']\n"
     ]
    }
   ],
   "source": [
    "df_features = list(df.columns)\n",
    "print(df_features)"
   ]
  },
  {
   "cell_type": "code",
   "execution_count": 5,
   "metadata": {},
   "outputs": [
    {
     "name": "stdout",
     "output_type": "stream",
     "text": [
      "0    491\n",
      "1    253\n",
      "Name: Results, dtype: int64\n"
     ]
    }
   ],
   "source": [
    "x = df.drop([\"Results\"], axis =1);\n",
    "y = df[\"Results\"]\n",
    "print(y.value_counts())"
   ]
  },
  {
   "cell_type": "code",
   "execution_count": 6,
   "metadata": {},
   "outputs": [
    {
     "data": {
      "text/plain": [
       "(array([491.,   0.,   0.,   0.,   0.,   0.,   0.,   0.,   0., 253.]),\n",
       " array([0. , 0.1, 0.2, 0.3, 0.4, 0.5, 0.6, 0.7, 0.8, 0.9, 1. ]),\n",
       " <BarContainer object of 10 artists>)"
      ]
     },
     "execution_count": 6,
     "metadata": {},
     "output_type": "execute_result"
    },
    {
     "data": {
      "image/png": "[encoded data removed]",
      "text/plain": [
       "<Figure size 432x288 with 1 Axes>"
      ]
     },
     "metadata": {
      "needs_background": "light"
     },
     "output_type": "display_data"
    }
   ],
   "source": [
    "plt.hist(y)"
   ]
  },
  {
   "cell_type": "code",
   "execution_count": 7,
   "metadata": {},
   "outputs": [
    {
     "name": "stdout",
     "output_type": "stream",
     "text": [
      "0    361\n",
      "1    253\n",
      "Name: Results, dtype: int64\n"
     ]
    },
    {
     "data": {
      "text/plain": [
       "(array([361.,   0.,   0.,   0.,   0.,   0.,   0.,   0.,   0., 253.]),\n",
       " array([0. , 0.1, 0.2, 0.3, 0.4, 0.5, 0.6, 0.7, 0.8, 0.9, 1. ]),\n",
       " <BarContainer object of 10 artists>)"
      ]
     },
     "execution_count": 7,
     "metadata": {},
     "output_type": "execute_result"
    },
    {
     "data": {
      "image/png": "[encoded data removed]",
      "text/plain": [
       "<Figure size 432x288 with 1 Axes>"
      ]
     },
     "metadata": {
      "needs_background": "light"
     },
     "output_type": "display_data"
    }
   ],
   "source": [
    "# transform the dataset\n",
    "under = RandomUnderSampler(sampling_strategy= 0.7)\n",
    "X, Y = under.fit_resample(x, y)\n",
    "print(Y.value_counts())\n",
    "plt.hist(Y)"
   ]
  },
  {
   "cell_type": "code",
   "execution_count": 8,
   "metadata": {},
   "outputs": [
    {
     "name": "stdout",
     "output_type": "stream",
     "text": [
      "0    361\n",
      "1    361\n",
      "Name: Results, dtype: int64\n"
     ]
    },
    {
     "data": {
      "text/plain": [
       "(array([361.,   0.,   0.,   0.,   0.,   0.,   0.,   0.,   0., 361.]),\n",
       " array([0. , 0.1, 0.2, 0.3, 0.4, 0.5, 0.6, 0.7, 0.8, 0.9, 1. ]),\n",
       " <BarContainer object of 10 artists>)"
      ]
     },
     "execution_count": 8,
     "metadata": {},
     "output_type": "execute_result"
    },
    {
     "data": {
      "image/png": "[encoded data removed]",
      "text/plain": [
       "<Figure size 432x288 with 1 Axes>"
      ]
     },
     "metadata": {
      "needs_background": "light"
     },
     "output_type": "display_data"
    }
   ],
   "source": [
    "smt = SMOTE()\n",
    "X, Y = smt.fit_resample(X,Y)\n",
    "print(Y.value_counts())\n",
    "plt.hist(Y)"
   ]
  },
  {
   "cell_type": "code",
   "execution_count": 9,
   "metadata": {},
   "outputs": [],
   "source": [
    "X_train, X_test,Y_train,Y_test = train_test_split(X,Y,test_size=0.2, random_state=41)"
   ]
  },
  {
   "cell_type": "code",
   "execution_count": 10,
   "metadata": {},
   "outputs": [
    {
     "name": "stdout",
     "output_type": "stream",
     "text": [
      "Accuracy(%) =  75.17241379310344\n",
      "Number of mislabeled points : 36 / 145\n",
      "F1 Score (%) =  78.31325301204821\n",
      "Precision (%) =  77.38095238095238\n",
      "Recall (%) =  79.26829268292683\n"
     ]
    },
    {
     "data": {
      "image/png": "[encoded data removed]",
      "text/plain": [
       "<Figure size 432x288 with 2 Axes>"
      ]
     },
     "metadata": {
      "needs_background": "light"
     },
     "output_type": "display_data"
    }
   ],
   "source": [
    "# creating a Nave Bayers classifier\n",
    "model = tree.DecisionTreeClassifier()\n",
    "\n",
    "# Training the model on the training dataset\n",
    "# fit function is used to train the model using the training sets as parameters\n",
    "model.fit(X_train, Y_train)\n",
    "\n",
    "# performing predictions on the test dataset\n",
    "Y_pred = model.predict(X_test)\n",
    "\n",
    "\n",
    "\n",
    "accuracy = sm.accuracy_score(Y_test, Y_pred)\n",
    "precision = sm.precision_score(Y_test, Y_pred)\n",
    "recall = sm.recall_score(Y_test, Y_pred)\n",
    "f1_score = sm.f1_score(Y_test, Y_pred)\n",
    "print(\"Accuracy(%) = \", accuracy*100)\n",
    "print(\"Number of mislabeled points :\",(Y_test != Y_pred).sum(),\"/\" ,  X_test.shape[0])\n",
    "print(\"F1 Score (%) = \",f1_score*100)\n",
    "print(\"Precision (%) = \",precision *100)\n",
    "print(\"Recall (%) = \",recall*100)\n",
    "\n",
    "cf_matrix = confusion_matrix(Y_test, Y_pred)\n",
    "    \n",
    "\n",
    "ax= plt.subplot()\n",
    "sb.heatmap(cf_matrix, annot=True, fmt='g', ax=ax);  #annot=True to annotate cells, ftm='g' to disable scientific notation\n",
    "ax.set_xlabel('Predicted');\n",
    "ax.set_ylabel('Actual'); \n",
    "ax.set_title('Confusion Matrix'); \n"
   ]
  }
 ],
 "metadata": {
  "kernelspec": {
   "display_name": "Python 3.9.13 ('base')",
   "language": "python",
   "name": "python3"
  },
  "language_info": {
   "codemirror_mode": {
    "name": "ipython",
    "version": 3
   },
   "file_extension": ".py",
   "mimetype": "text/x-python",
   "name": "python",
   "nbconvert_exporter": "python",
   "pygments_lexer": "ipython3",
   "version": "3.9.13"
  },
  "orig_nbformat": 4,
  "vscode": {
   "interpreter": {
    "hash": "dd78fe5a17d57d1a86104509f6d28e1e730005acb4374104044dd451171eb7b3"
   }
  }
 },
 "nbformat": 4,
 "nbformat_minor": 2
}
