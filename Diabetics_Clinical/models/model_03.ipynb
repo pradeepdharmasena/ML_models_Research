{
 "cells": [
  {
   "cell_type": "code",
   "execution_count": 1,
   "metadata": {},
   "outputs": [],
   "source": [
    "import numpy as np;\n",
    "import pandas as pd;\n",
    "import matplotlib.pyplot as plt\n",
    "import sklearn.metrics as sm\n",
    "from sklearn.preprocessing import LabelEncoder\n",
    "from sklearn.model_selection import cross_val_score\n",
    "from sklearn.model_selection import GridSearchCV\n",
    "from sklearn.preprocessing import MinMaxScaler\n",
    "from scipy import stats\n",
    "from sklearn import tree\n",
    "from sklearn.ensemble import GradientBoostingClassifier\n",
    "from sklearn.neighbors import KNeighborsClassifier\n",
    "from sklearn.linear_model import LogisticRegression\n",
    "from sklearn.naive_bayes import MultinomialNB, BernoulliNB \n",
    "from sklearn.ensemble import RandomForestClassifier\n",
    "from sklearn import svm\n",
    "import seaborn as sb\n",
    "from imblearn.under_sampling import RandomUnderSampler\n",
    "from imblearn.over_sampling import SMOTE"
   ]
  },
  {
   "cell_type": "code",
   "execution_count": 2,
   "metadata": {},
   "outputs": [
    {
     "name": "stdout",
     "output_type": "stream",
     "text": [
      "   Glucose   BMI   Age  Results\n",
      "0    138.0  33.6  47.0        1\n",
      "1     84.0  38.2  23.0        0\n",
      "2    145.0  44.2  31.0        1\n",
      "3    135.0  42.3  24.0        1\n",
      "4    139.0  40.7  21.0        0\n"
     ]
    }
   ],
   "source": [
    "df = pd.read_csv(\"../data/selected_M_best3.csv\")\n",
    "df = df.drop_duplicates()\n",
    "print(df.head())"
   ]
  },
  {
   "cell_type": "code",
   "execution_count": 3,
   "metadata": {},
   "outputs": [
    {
     "data": {
      "text/html": [
       "<div>\n",
       "<style scoped>\n",
       "    .dataframe tbody tr th:only-of-type {\n",
       "        vertical-align: middle;\n",
       "    }\n",
       "\n",
       "    .dataframe tbody tr th {\n",
       "        vertical-align: top;\n",
       "    }\n",
       "\n",
       "    .dataframe thead th {\n",
       "        text-align: right;\n",
       "    }\n",
       "</style>\n",
       "<table border=\"1\" class=\"dataframe\">\n",
       "  <thead>\n",
       "    <tr style=\"text-align: right;\">\n",
       "      <th></th>\n",
       "      <th>Glucose</th>\n",
       "      <th>BMI</th>\n",
       "      <th>Age</th>\n",
       "      <th>Results</th>\n",
       "    </tr>\n",
       "  </thead>\n",
       "  <tbody>\n",
       "    <tr>\n",
       "      <th>count</th>\n",
       "      <td>744.000000</td>\n",
       "      <td>744.000000</td>\n",
       "      <td>744.000000</td>\n",
       "      <td>746.000000</td>\n",
       "    </tr>\n",
       "    <tr>\n",
       "      <th>mean</th>\n",
       "      <td>120.892473</td>\n",
       "      <td>32.229704</td>\n",
       "      <td>33.142473</td>\n",
       "      <td>0.332440</td>\n",
       "    </tr>\n",
       "    <tr>\n",
       "      <th>std</th>\n",
       "      <td>31.943115</td>\n",
       "      <td>8.206319</td>\n",
       "      <td>11.751286</td>\n",
       "      <td>0.471404</td>\n",
       "    </tr>\n",
       "    <tr>\n",
       "      <th>min</th>\n",
       "      <td>0.000000</td>\n",
       "      <td>0.000000</td>\n",
       "      <td>21.000000</td>\n",
       "      <td>0.000000</td>\n",
       "    </tr>\n",
       "    <tr>\n",
       "      <th>25%</th>\n",
       "      <td>99.000000</td>\n",
       "      <td>27.400000</td>\n",
       "      <td>24.000000</td>\n",
       "      <td>0.000000</td>\n",
       "    </tr>\n",
       "    <tr>\n",
       "      <th>50%</th>\n",
       "      <td>117.000000</td>\n",
       "      <td>32.300000</td>\n",
       "      <td>29.000000</td>\n",
       "      <td>0.000000</td>\n",
       "    </tr>\n",
       "    <tr>\n",
       "      <th>75%</th>\n",
       "      <td>140.250000</td>\n",
       "      <td>36.800000</td>\n",
       "      <td>40.250000</td>\n",
       "      <td>1.000000</td>\n",
       "    </tr>\n",
       "    <tr>\n",
       "      <th>max</th>\n",
       "      <td>199.000000</td>\n",
       "      <td>80.600000</td>\n",
       "      <td>81.000000</td>\n",
       "      <td>1.000000</td>\n",
       "    </tr>\n",
       "  </tbody>\n",
       "</table>\n",
       "</div>"
      ],
      "text/plain": [
       "          Glucose         BMI         Age     Results\n",
       "count  744.000000  744.000000  744.000000  746.000000\n",
       "mean   120.892473   32.229704   33.142473    0.332440\n",
       "std     31.943115    8.206319   11.751286    0.471404\n",
       "min      0.000000    0.000000   21.000000    0.000000\n",
       "25%     99.000000   27.400000   24.000000    0.000000\n",
       "50%    117.000000   32.300000   29.000000    0.000000\n",
       "75%    140.250000   36.800000   40.250000    1.000000\n",
       "max    199.000000   80.600000   81.000000    1.000000"
      ]
     },
     "execution_count": 3,
     "metadata": {},
     "output_type": "execute_result"
    }
   ],
   "source": [
    "df.describe()"
   ]
  },
  {
   "cell_type": "code",
   "execution_count": 4,
   "metadata": {},
   "outputs": [
    {
     "name": "stdout",
     "output_type": "stream",
     "text": [
      "['Glucose', 'BMI', 'Age', 'Results']\n"
     ]
    }
   ],
   "source": [
    "df_features = list(df.columns)\n",
    "print(df_features)"
   ]
  },
  {
   "cell_type": "code",
   "execution_count": 5,
   "metadata": {},
   "outputs": [
    {
     "name": "stdout",
     "output_type": "stream",
     "text": [
      "Glucose      5\n",
      "BMI         10\n",
      "Age          0\n",
      "Results    498\n",
      "dtype: int64\n",
      "Glucose    0\n",
      "BMI        0\n",
      "Age        0\n",
      "Results    0\n",
      "dtype: int64\n"
     ]
    }
   ],
   "source": [
    "print((df[df_features]==0).sum())\n",
    "print((df[df_features]==\"NaN\").sum())"
   ]
  },
  {
   "cell_type": "code",
   "execution_count": 6,
   "metadata": {},
   "outputs": [
    {
     "name": "stdout",
     "output_type": "stream",
     "text": [
      "Glucose    2\n",
      "BMI        2\n",
      "Age        2\n",
      "Results    0\n",
      "dtype: int64\n",
      "(746, 4)\n",
      "(744, 4)\n"
     ]
    }
   ],
   "source": [
    "#print((df[X.columns]).isNull().sum())\n",
    "print(df[df_features].isnull().sum())\n",
    "print(df.shape)\n",
    "df = df.dropna(axis = 0)\n",
    "print(df.shape)\n",
    "#print(X)"
   ]
  },
  {
   "cell_type": "code",
   "execution_count": 7,
   "metadata": {},
   "outputs": [
    {
     "name": "stdout",
     "output_type": "stream",
     "text": [
      "Glucose      5\n",
      "BMI         10\n",
      "Age          0\n",
      "Results    497\n",
      "dtype: int64\n"
     ]
    }
   ],
   "source": [
    "\n",
    "# temp = df[df['BloodPressure']!=0.000000]\n",
    "# df['BloodPressure'] = df['BloodPressure'].replace( 0.000000 , temp.mean()[0])\n",
    "\n",
    "# temp = df[df['Glucose']!=0.000000]\n",
    "# df['Glucose'] = df['Glucose'].replace( 0.000000 , temp.mean()[0])\n",
    "\n",
    "# temp = df[df['BMI']!=0.000000]\n",
    "# df['BMI'] = df['BMI'].replace( 0.000000 , temp.mean()[0])\n",
    "\n",
    "\n",
    "print((df[df_features]==0).sum())\n"
   ]
  },
  {
   "cell_type": "code",
   "execution_count": 8,
   "metadata": {},
   "outputs": [
    {
     "name": "stdout",
     "output_type": "stream",
     "text": [
      "Glucose    199.0\n",
      "BMI         80.6\n",
      "Age         81.0\n",
      "Results      1.0\n",
      "dtype: float64\n"
     ]
    }
   ],
   "source": [
    "print(df.max())"
   ]
  },
  {
   "cell_type": "code",
   "execution_count": 9,
   "metadata": {},
   "outputs": [
    {
     "name": "stdout",
     "output_type": "stream",
     "text": [
      "Glucose     0.0\n",
      "BMI         0.0\n",
      "Age        21.0\n",
      "Results     0.0\n",
      "dtype: float64\n"
     ]
    }
   ],
   "source": [
    "print(df.min())"
   ]
  },
  {
   "cell_type": "code",
   "execution_count": 10,
   "metadata": {},
   "outputs": [
    {
     "name": "stdout",
     "output_type": "stream",
     "text": [
      "Glucose    199.0\n",
      "BMI         80.6\n",
      "Age         60.0\n",
      "Results      1.0\n",
      "dtype: float64\n"
     ]
    }
   ],
   "source": [
    "print(df.max() - df.min())"
   ]
  },
  {
   "cell_type": "code",
   "execution_count": 11,
   "metadata": {},
   "outputs": [
    {
     "data": {
      "image/png": "[encoded data removed]",
      "text/plain": [
       "<Figure size 1440x576 with 12 Axes>"
      ]
     },
     "metadata": {
      "needs_background": "light"
     },
     "output_type": "display_data"
    }
   ],
   "source": [
    "fig, axes = plt.subplots(3,4, figsize=(20,8))\n",
    "x_,y_ = 0,0\n",
    "for i, column in enumerate(df.columns[:]):    \n",
    "    sb.boxplot(x=df[column], ax=axes[x_,y_], palette=\"Set2\")\n",
    "    if i < 3:\n",
    "        y_ += 1\n",
    "    elif i == 3: \n",
    "        x_ = 1\n",
    "        y_ = 0\n",
    "    else:\n",
    "        y_ += 1"
   ]
  },
  {
   "cell_type": "code",
   "execution_count": 12,
   "metadata": {},
   "outputs": [
    {
     "name": "stdout",
     "output_type": "stream",
     "text": [
      "Index(['Glucose', 'BMI', 'Age', 'Results'], dtype='object')\n",
      "    Glucose       BMI       Age  Results\n",
      "0  0.693467  0.416873  0.433333      1.0\n",
      "1  0.422111  0.473945  0.033333      0.0\n",
      "2  0.728643  0.548387  0.166667      1.0\n",
      "3  0.678392  0.524814  0.050000      1.0\n",
      "4  0.698492  0.504963  0.000000      0.0\n"
     ]
    }
   ],
   "source": [
    "cols = df.columns\n",
    "print(cols)\n",
    "scaler = MinMaxScaler()\n",
    "dat = scaler.fit_transform(df)\n",
    "df_01 = pd.DataFrame(data=dat, columns=cols)  \n",
    "print(df_01.head())"
   ]
  },
  {
   "cell_type": "code",
   "execution_count": 13,
   "metadata": {},
   "outputs": [
    {
     "name": "stdout",
     "output_type": "stream",
     "text": [
      "Glucose    1.0\n",
      "BMI        1.0\n",
      "Age        1.0\n",
      "Results    1.0\n",
      "dtype: float64\n"
     ]
    }
   ],
   "source": [
    "print(df_01.max() - df_01.min())"
   ]
  },
  {
   "cell_type": "code",
   "execution_count": 14,
   "metadata": {},
   "outputs": [
    {
     "name": "stdout",
     "output_type": "stream",
     "text": [
      "0.0    497\n",
      "1.0    247\n",
      "Name: Results, dtype: int64\n"
     ]
    }
   ],
   "source": [
    "x = df_01.drop([\"Results\"], axis =1);\n",
    "y = df_01[\"Results\"]\n",
    "print(y.value_counts())"
   ]
  },
  {
   "cell_type": "code",
   "execution_count": 15,
   "metadata": {},
   "outputs": [
    {
     "data": {
      "text/plain": [
       "(array([497.,   0.,   0.,   0.,   0.,   0.,   0.,   0.,   0., 247.]),\n",
       " array([0. , 0.1, 0.2, 0.3, 0.4, 0.5, 0.6, 0.7, 0.8, 0.9, 1. ]),\n",
       " <BarContainer object of 10 artists>)"
      ]
     },
     "execution_count": 15,
     "metadata": {},
     "output_type": "execute_result"
    },
    {
     "data": {
      "image/png": "[encoded data removed]",
      "text/plain": [
       "<Figure size 432x288 with 1 Axes>"
      ]
     },
     "metadata": {
      "needs_background": "light"
     },
     "output_type": "display_data"
    }
   ],
   "source": [
    "plt.hist(y)"
   ]
  },
  {
   "cell_type": "code",
   "execution_count": 16,
   "metadata": {},
   "outputs": [
    {
     "name": "stdout",
     "output_type": "stream",
     "text": [
      "0.0    274\n",
      "1.0    247\n",
      "Name: Results, dtype: int64\n"
     ]
    },
    {
     "data": {
      "text/plain": [
       "(array([274.,   0.,   0.,   0.,   0.,   0.,   0.,   0.,   0., 247.]),\n",
       " array([0. , 0.1, 0.2, 0.3, 0.4, 0.5, 0.6, 0.7, 0.8, 0.9, 1. ]),\n",
       " <BarContainer object of 10 artists>)"
      ]
     },
     "execution_count": 16,
     "metadata": {},
     "output_type": "execute_result"
    },
    {
     "data": {
      "image/png": "[encoded data removed]",
      "text/plain": [
       "<Figure size 432x288 with 1 Axes>"
      ]
     },
     "metadata": {
      "needs_background": "light"
     },
     "output_type": "display_data"
    }
   ],
   "source": [
    "# transform the dataset\n",
    "under = RandomUnderSampler(sampling_strategy= 0.9, random_state=0)\n",
    "X, Y = under.fit_resample(x, y)\n",
    "print(Y.value_counts())\n",
    "plt.hist(Y)"
   ]
  },
  {
   "cell_type": "code",
   "execution_count": 17,
   "metadata": {},
   "outputs": [
    {
     "name": "stdout",
     "output_type": "stream",
     "text": [
      "0.0    274\n",
      "1.0    274\n",
      "Name: Results, dtype: int64\n"
     ]
    },
    {
     "data": {
      "text/plain": [
       "(array([274.,   0.,   0.,   0.,   0.,   0.,   0.,   0.,   0., 274.]),\n",
       " array([0. , 0.1, 0.2, 0.3, 0.4, 0.5, 0.6, 0.7, 0.8, 0.9, 1. ]),\n",
       " <BarContainer object of 10 artists>)"
      ]
     },
     "execution_count": 17,
     "metadata": {},
     "output_type": "execute_result"
    },
    {
     "data": {
      "image/png": "[encoded data removed]",
      "text/plain": [
       "<Figure size 432x288 with 1 Axes>"
      ]
     },
     "metadata": {
      "needs_background": "light"
     },
     "output_type": "display_data"
    }
   ],
   "source": [
    "smt = SMOTE(random_state=0)\n",
    "X, Y = smt.fit_resample(X,Y)\n",
    "print(Y.value_counts())\n",
    "plt.hist(Y)"
   ]
  },
  {
   "cell_type": "code",
   "execution_count": 18,
   "metadata": {},
   "outputs": [
    {
     "name": "stdout",
     "output_type": "stream",
     "text": [
      "CV value :  2\n",
      "Parameters :  {}\n",
      "Accuracy :  57.847\n",
      "Standed deviation :  0.547\n",
      "CV value :  3\n",
      "Parameters :  {}\n",
      "Accuracy :  58.567\n",
      "Standed deviation :  3.727\n",
      "CV value :  4\n",
      "Parameters :  {}\n",
      "Accuracy :  60.036\n",
      "Standed deviation :  3.627\n",
      "CV value :  5\n",
      "Parameters :  {}\n",
      "Accuracy :  57.114\n",
      "Standed deviation :  3.818\n"
     ]
    }
   ],
   "source": [
    "# creating a decision tree classifier\n",
    "dt_model = tree.DecisionTreeClassifier()\n",
    "param_grid_dt = {\n",
    "     \n",
    "}\n",
    "cv_array = [2,3,4,5]\n",
    "for cv in cv_array:\n",
    "    gridSearchRF = GridSearchCV(estimator=dt_model, param_grid=param_grid_dt, scoring='accuracy', n_jobs=-1, cv=cv)\n",
    "    gridSearchRF.fit(X, Y)\n",
    "    print(\"CV value : \", cv)\n",
    "    print(\"Parameters : \", gridSearchRF.best_params_)\n",
    "    print(\"Accuracy :  %0.3f\" % (gridSearchRF.best_score_*100))\n",
    "    print(\"Standed deviation :  %0.3f\" % (gridSearchRF.cv_results_['std_test_score'][gridSearchRF.best_index_]*100))"
   ]
  },
  {
   "cell_type": "code",
   "execution_count": 19,
   "metadata": {},
   "outputs": [
    {
     "name": "stdout",
     "output_type": "stream",
     "text": [
      "CV value :  2\n",
      "Parameters :  {'random_state': 1}\n",
      "Accuracy :  64.964\n",
      "Standed deviation :  4.380\n",
      "CV value :  3\n",
      "Parameters :  {'random_state': 0}\n",
      "Accuracy :  67.320\n",
      "Standed deviation :  7.245\n",
      "CV value :  4\n",
      "Parameters :  {'random_state': 10}\n",
      "Accuracy :  64.964\n",
      "Standed deviation :  5.607\n",
      "CV value :  5\n",
      "Parameters :  {'random_state': 0}\n",
      "Accuracy :  64.752\n",
      "Standed deviation :  6.631\n"
     ]
    }
   ],
   "source": [
    "# creating a Gradient boosting classifier\n",
    "gb_model = GradientBoostingClassifier()\n",
    "param_grid_gb = {\n",
    "     'random_state': [0, 1, 2,3,4,5 , 10, 20, 30, 40, 50]\n",
    "}\n",
    "for cv in cv_array:\n",
    "     gridSearchRF = GridSearchCV(estimator=gb_model, param_grid=param_grid_gb, scoring='accuracy', n_jobs=-1, cv=cv)\n",
    "     gridSearchRF.fit(X, Y)\n",
    "     print(\"CV value : \", cv)\n",
    "     print(\"Parameters : \", gridSearchRF.best_params_)\n",
    "     print(\"Accuracy :  %0.3f\" % (gridSearchRF.best_score_*100))\n",
    "     print(\"Standed deviation :  %0.3f\" % (gridSearchRF.cv_results_['std_test_score'][gridSearchRF.best_index_]*100))"
   ]
  },
  {
   "cell_type": "code",
   "execution_count": 20,
   "metadata": {},
   "outputs": [
    {
     "name": "stdout",
     "output_type": "stream",
     "text": [
      "CV value :  2\n",
      "Parameters :  {'n_neighbors': 17}\n",
      "Accuracy :  66.423\n",
      "Standed deviation :  1.825\n",
      "CV value :  3\n",
      "Parameters :  {'n_neighbors': 17}\n",
      "Accuracy :  64.406\n",
      "Standed deviation :  5.972\n",
      "CV value :  4\n",
      "Parameters :  {'n_neighbors': 17}\n",
      "Accuracy :  65.511\n",
      "Standed deviation :  5.544\n",
      "CV value :  5\n",
      "Parameters :  {'n_neighbors': 17}\n",
      "Accuracy :  64.754\n",
      "Standed deviation :  8.785\n"
     ]
    }
   ],
   "source": [
    "# creating a KNN classifier\n",
    "KNN_model =KNeighborsClassifier()\n",
    "param_grid_knn = {\n",
    "     'n_neighbors': [3, 5, 7, 11, 13, 17]\n",
    "}\n",
    "for cv in cv_array:\n",
    "     gridSearchRF = GridSearchCV(estimator=KNN_model, param_grid=param_grid_knn, scoring='accuracy', n_jobs=-1, cv=cv)\n",
    "     gridSearchRF.fit(X, Y)\n",
    "     print(\"CV value : \", cv)\n",
    "     print(\"Parameters : \", gridSearchRF.best_params_)\n",
    "     print(\"Accuracy :  %0.3f\" % (gridSearchRF.best_score_*100))\n",
    "     print(\"Standed deviation :  %0.3f\" % (gridSearchRF.cv_results_['std_test_score'][gridSearchRF.best_index_]*100))"
   ]
  },
  {
   "cell_type": "code",
   "execution_count": 21,
   "metadata": {},
   "outputs": [
    {
     "name": "stdout",
     "output_type": "stream",
     "text": [
      "CV value :  2\n",
      "Parameters :  {'max_iter': 100}\n",
      "Accuracy :  66.971\n",
      "Standed deviation :  5.292\n",
      "CV value :  3\n",
      "Parameters :  {'max_iter': 100}\n",
      "Accuracy :  65.859\n",
      "Standed deviation :  6.790\n",
      "CV value :  4\n",
      "Parameters :  {'max_iter': 100}\n",
      "Accuracy :  65.511\n",
      "Standed deviation :  5.323\n",
      "CV value :  5\n",
      "Parameters :  {'max_iter': 100}\n",
      "Accuracy :  65.476\n",
      "Standed deviation :  8.761\n"
     ]
    }
   ],
   "source": [
    "# creating a Lgistic regression classifier\n",
    "lr_model = LogisticRegression() \n",
    "\n",
    "param_grid_lr = {\n",
    "     'max_iter': [100, 200, 300, 400, 500]\n",
    "}\n",
    "for cv in cv_array:\n",
    "     gridSearchRF = GridSearchCV(estimator=lr_model, param_grid=param_grid_lr, scoring='accuracy', n_jobs=-1, cv=cv)\n",
    "     gridSearchRF.fit(X, Y)\n",
    "     print(\"CV value : \", cv)\n",
    "     print(\"Parameters : \", gridSearchRF.best_params_)\n",
    "     print(\"Accuracy :  %0.3f\" % (gridSearchRF.best_score_*100))\n",
    "     print(\"Standed deviation :  %0.3f\" % (gridSearchRF.cv_results_['std_test_score'][gridSearchRF.best_index_]*100))\n"
   ]
  },
  {
   "cell_type": "code",
   "execution_count": 22,
   "metadata": {},
   "outputs": [
    {
     "name": "stdout",
     "output_type": "stream",
     "text": [
      "CV value :  2\n",
      "Parameters :  {}\n",
      "Accuracy :  51.460\n",
      "Standed deviation :  0.000\n",
      "CV value :  3\n",
      "Parameters :  {}\n",
      "Accuracy :  51.469\n",
      "Standed deviation :  3.630\n",
      "CV value :  4\n",
      "Parameters :  {}\n",
      "Accuracy :  47.993\n",
      "Standed deviation :  1.494\n",
      "CV value :  5\n",
      "Parameters :  {}\n",
      "Accuracy :  49.633\n",
      "Standed deviation :  1.268\n"
     ]
    }
   ],
   "source": [
    "# creating a Nave Bayers classifier\n",
    "nb_model = MultinomialNB()\n",
    "param_grid_nb = {\n",
    "\n",
    "}\n",
    "for cv in cv_array:\n",
    "    gridSearchRF = GridSearchCV(estimator=nb_model, param_grid=param_grid_nb, scoring='accuracy', n_jobs=-1, cv=cv)\n",
    "    gridSearchRF.fit(X, Y)\n",
    "    print(\"CV value : \", cv)\n",
    "    print(\"Parameters : \", gridSearchRF.best_params_)\n",
    "    print(\"Accuracy :  %0.3f\" % (gridSearchRF.best_score_*100))\n",
    "    print(\"Standed deviation :  %0.3f\" % (gridSearchRF.cv_results_['std_test_score'][gridSearchRF.best_index_]*100))\n"
   ]
  },
  {
   "cell_type": "code",
   "execution_count": 23,
   "metadata": {},
   "outputs": [
    {
     "name": "stdout",
     "output_type": "stream",
     "text": [
      "CV value :  2\n",
      "Parameters :  {'kernel': 'rbf'}\n",
      "Accuracy :  66.788\n",
      "Standed deviation :  5.109\n",
      "CV value :  3\n",
      "Parameters :  {'kernel': 'poly'}\n",
      "Accuracy :  67.141\n",
      "Standed deviation :  5.443\n",
      "CV value :  4\n",
      "Parameters :  {'kernel': 'poly'}\n",
      "Accuracy :  67.518\n",
      "Standed deviation :  5.713\n",
      "CV value :  5\n",
      "Parameters :  {'kernel': 'rbf'}\n",
      "Accuracy :  66.212\n",
      "Standed deviation :  7.649\n"
     ]
    }
   ],
   "source": [
    "# creating a SVM classifier\n",
    "svm_model = svm.SVC()\n",
    "param_grid_svm = {\n",
    "     'kernel': ['linear', 'poly', 'rbf', 'sigmoid']\n",
    "}\n",
    "\n",
    "for cv in cv_array:\n",
    "     gridSearchRF = GridSearchCV(estimator=svm_model, param_grid=param_grid_svm, scoring='accuracy', n_jobs=-1, cv=cv)\n",
    "     gridSearchRF.fit(X, Y)\n",
    "     print(\"CV value : \", cv)\n",
    "     print(\"Parameters : \", gridSearchRF.best_params_)\n",
    "     print(\"Accuracy :  %0.3f\" % (gridSearchRF.best_score_*100))\n",
    "     print(\"Standed deviation :  %0.3f\" % (gridSearchRF.cv_results_['std_test_score'][gridSearchRF.best_index_]*100))\n"
   ]
  },
  {
   "cell_type": "code",
   "execution_count": 24,
   "metadata": {},
   "outputs": [
    {
     "name": "stdout",
     "output_type": "stream",
     "text": [
      "CV value :  2\n",
      "Parameters :  {'max_depth': 110, 'max_features': 2, 'n_estimators': 100}\n",
      "Accuracy :  64.234\n",
      "Standed deviation :  2.920\n",
      "CV value :  3\n",
      "Parameters :  {'max_depth': 300, 'max_features': 2, 'n_estimators': 200}\n",
      "Accuracy :  64.588\n",
      "Standed deviation :  4.777\n",
      "CV value :  4\n",
      "Parameters :  {'max_depth': 90, 'max_features': 3, 'n_estimators': 100}\n",
      "Accuracy :  64.234\n",
      "Standed deviation :  3.613\n",
      "CV value :  5\n",
      "Parameters :  {'max_depth': 200, 'max_features': 2, 'n_estimators': 300}\n",
      "Accuracy :  63.852\n",
      "Standed deviation :  6.403\n"
     ]
    }
   ],
   "source": [
    "# creating a Random forest classifier\n",
    "rf = RandomForestClassifier()\n",
    "param_grid_rf = {\n",
    "     'max_depth': [80, 90, 100, 110, 150, 200, 300],\n",
    "     'max_features': [2, 3, 4, 5,6],\n",
    "     'n_estimators': [100, 200, 300]\n",
    "}\n",
    "\n",
    "for cv in cv_array:\n",
    "     gridSearchRF = GridSearchCV(estimator=rf, param_grid=param_grid_rf, scoring='accuracy', n_jobs=-1, cv=cv)\n",
    "     gridSearchRF.fit(X, Y)\n",
    "     print(\"CV value : \", cv)\n",
    "     print(\"Parameters : \", gridSearchRF.best_params_)\n",
    "     print(\"Accuracy :  %0.3f\" % (gridSearchRF.best_score_*100))\n",
    "     print(\"Standed deviation :  %0.3f\" % (gridSearchRF.cv_results_['std_test_score'][gridSearchRF.best_index_]*100))"
   ]
  }
 ],
 "metadata": {
  "kernelspec": {
   "display_name": "Python 3.9.13 ('base')",
   "language": "python",
   "name": "python3"
  },
  "language_info": {
   "codemirror_mode": {
    "name": "ipython",
    "version": 3
   },
   "file_extension": ".py",
   "mimetype": "text/x-python",
   "name": "python",
   "nbconvert_exporter": "python",
   "pygments_lexer": "ipython3",
   "version": "3.9.13 (main, Oct 13 2022, 21:23:06) [MSC v.1916 64 bit (AMD64)]"
  },
  "orig_nbformat": 4,
  "vscode": {
   "interpreter": {
    "hash": "dd78fe5a17d57d1a86104509f6d28e1e730005acb4374104044dd451171eb7b3"
   }
  }
 },
 "nbformat": 4,
 "nbformat_minor": 2
}
