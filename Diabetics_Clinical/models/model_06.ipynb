{
 "cells": [
  {
   "cell_type": "code",
   "execution_count": 1,
   "metadata": {},
   "outputs": [],
   "source": [
    "import numpy as np;\n",
    "import pandas as pd;\n",
    "import matplotlib.pyplot as plt\n",
    "import sklearn.metrics as sm\n",
    "from sklearn.preprocessing import LabelEncoder\n",
    "from sklearn.model_selection import cross_val_score\n",
    "from sklearn.model_selection import GridSearchCV\n",
    "from sklearn.preprocessing import MinMaxScaler\n",
    "from scipy import stats\n",
    "from sklearn import tree\n",
    "from sklearn.ensemble import GradientBoostingClassifier\n",
    "from sklearn.neighbors import KNeighborsClassifier\n",
    "from sklearn.linear_model import LogisticRegression\n",
    "from sklearn.naive_bayes import MultinomialNB, BernoulliNB \n",
    "from sklearn.ensemble import RandomForestClassifier\n",
    "from sklearn import svm\n",
    "import seaborn as sb\n",
    "from imblearn.under_sampling import RandomUnderSampler\n",
    "from imblearn.over_sampling import SMOTE"
   ]
  },
  {
   "cell_type": "code",
   "execution_count": 2,
   "metadata": {},
   "outputs": [
    {
     "name": "stdout",
     "output_type": "stream",
     "text": [
      "   Pregnancies  Glucose  Insulin   BMI  DiabetesPedigreeFunction   Age  \\\n",
      "0          2.0    138.0      0.0  33.6                     0.127  47.0   \n",
      "1          0.0     84.0    125.0  38.2                     0.233  23.0   \n",
      "2          0.0    145.0      0.0  44.2                     0.630  31.0   \n",
      "3          0.0    135.0    250.0  42.3                     0.365  24.0   \n",
      "4          1.0    139.0    480.0  40.7                     0.536  21.0   \n",
      "\n",
      "   Results  \n",
      "0        1  \n",
      "1        0  \n",
      "2        1  \n",
      "3        1  \n",
      "4        0  \n"
     ]
    }
   ],
   "source": [
    "df = pd.read_csv(\"../data/selected_M_best6.csv\")\n",
    "df = df.drop_duplicates()\n",
    "print(df.head())"
   ]
  },
  {
   "cell_type": "code",
   "execution_count": 3,
   "metadata": {},
   "outputs": [
    {
     "data": {
      "text/html": [
       "<div>\n",
       "<style scoped>\n",
       "    .dataframe tbody tr th:only-of-type {\n",
       "        vertical-align: middle;\n",
       "    }\n",
       "\n",
       "    .dataframe tbody tr th {\n",
       "        vertical-align: top;\n",
       "    }\n",
       "\n",
       "    .dataframe thead th {\n",
       "        text-align: right;\n",
       "    }\n",
       "</style>\n",
       "<table border=\"1\" class=\"dataframe\">\n",
       "  <thead>\n",
       "    <tr style=\"text-align: right;\">\n",
       "      <th></th>\n",
       "      <th>Pregnancies</th>\n",
       "      <th>Glucose</th>\n",
       "      <th>Insulin</th>\n",
       "      <th>BMI</th>\n",
       "      <th>DiabetesPedigreeFunction</th>\n",
       "      <th>Age</th>\n",
       "      <th>Results</th>\n",
       "    </tr>\n",
       "  </thead>\n",
       "  <tbody>\n",
       "    <tr>\n",
       "      <th>count</th>\n",
       "      <td>744.000000</td>\n",
       "      <td>744.000000</td>\n",
       "      <td>744.000000</td>\n",
       "      <td>744.000000</td>\n",
       "      <td>744.000000</td>\n",
       "      <td>744.000000</td>\n",
       "      <td>746.000000</td>\n",
       "    </tr>\n",
       "    <tr>\n",
       "      <th>mean</th>\n",
       "      <td>3.752688</td>\n",
       "      <td>120.892473</td>\n",
       "      <td>79.534946</td>\n",
       "      <td>32.229704</td>\n",
       "      <td>0.472355</td>\n",
       "      <td>33.142473</td>\n",
       "      <td>0.332440</td>\n",
       "    </tr>\n",
       "    <tr>\n",
       "      <th>std</th>\n",
       "      <td>3.335541</td>\n",
       "      <td>31.943115</td>\n",
       "      <td>111.745897</td>\n",
       "      <td>8.206319</td>\n",
       "      <td>0.326181</td>\n",
       "      <td>11.751286</td>\n",
       "      <td>0.471404</td>\n",
       "    </tr>\n",
       "    <tr>\n",
       "      <th>min</th>\n",
       "      <td>0.000000</td>\n",
       "      <td>0.000000</td>\n",
       "      <td>0.000000</td>\n",
       "      <td>0.000000</td>\n",
       "      <td>0.078000</td>\n",
       "      <td>21.000000</td>\n",
       "      <td>0.000000</td>\n",
       "    </tr>\n",
       "    <tr>\n",
       "      <th>25%</th>\n",
       "      <td>1.000000</td>\n",
       "      <td>99.000000</td>\n",
       "      <td>0.000000</td>\n",
       "      <td>27.400000</td>\n",
       "      <td>0.244000</td>\n",
       "      <td>24.000000</td>\n",
       "      <td>0.000000</td>\n",
       "    </tr>\n",
       "    <tr>\n",
       "      <th>50%</th>\n",
       "      <td>3.000000</td>\n",
       "      <td>117.000000</td>\n",
       "      <td>36.000000</td>\n",
       "      <td>32.300000</td>\n",
       "      <td>0.375500</td>\n",
       "      <td>29.000000</td>\n",
       "      <td>0.000000</td>\n",
       "    </tr>\n",
       "    <tr>\n",
       "      <th>75%</th>\n",
       "      <td>6.000000</td>\n",
       "      <td>140.250000</td>\n",
       "      <td>130.000000</td>\n",
       "      <td>36.800000</td>\n",
       "      <td>0.632500</td>\n",
       "      <td>40.250000</td>\n",
       "      <td>1.000000</td>\n",
       "    </tr>\n",
       "    <tr>\n",
       "      <th>max</th>\n",
       "      <td>17.000000</td>\n",
       "      <td>199.000000</td>\n",
       "      <td>744.000000</td>\n",
       "      <td>80.600000</td>\n",
       "      <td>2.420000</td>\n",
       "      <td>81.000000</td>\n",
       "      <td>1.000000</td>\n",
       "    </tr>\n",
       "  </tbody>\n",
       "</table>\n",
       "</div>"
      ],
      "text/plain": [
       "       Pregnancies     Glucose     Insulin         BMI  \\\n",
       "count   744.000000  744.000000  744.000000  744.000000   \n",
       "mean      3.752688  120.892473   79.534946   32.229704   \n",
       "std       3.335541   31.943115  111.745897    8.206319   \n",
       "min       0.000000    0.000000    0.000000    0.000000   \n",
       "25%       1.000000   99.000000    0.000000   27.400000   \n",
       "50%       3.000000  117.000000   36.000000   32.300000   \n",
       "75%       6.000000  140.250000  130.000000   36.800000   \n",
       "max      17.000000  199.000000  744.000000   80.600000   \n",
       "\n",
       "       DiabetesPedigreeFunction         Age     Results  \n",
       "count                744.000000  744.000000  746.000000  \n",
       "mean                   0.472355   33.142473    0.332440  \n",
       "std                    0.326181   11.751286    0.471404  \n",
       "min                    0.078000   21.000000    0.000000  \n",
       "25%                    0.244000   24.000000    0.000000  \n",
       "50%                    0.375500   29.000000    0.000000  \n",
       "75%                    0.632500   40.250000    1.000000  \n",
       "max                    2.420000   81.000000    1.000000  "
      ]
     },
     "execution_count": 3,
     "metadata": {},
     "output_type": "execute_result"
    }
   ],
   "source": [
    "df.describe()"
   ]
  },
  {
   "cell_type": "code",
   "execution_count": 4,
   "metadata": {},
   "outputs": [
    {
     "name": "stdout",
     "output_type": "stream",
     "text": [
      "['Pregnancies', 'Glucose', 'Insulin', 'BMI', 'DiabetesPedigreeFunction', 'Age', 'Results']\n"
     ]
    }
   ],
   "source": [
    "df_features = list(df.columns)\n",
    "print(df_features)"
   ]
  },
  {
   "cell_type": "code",
   "execution_count": 5,
   "metadata": {},
   "outputs": [
    {
     "name": "stdout",
     "output_type": "stream",
     "text": [
      "Pregnancies                 112\n",
      "Glucose                       5\n",
      "Insulin                     359\n",
      "BMI                          10\n",
      "DiabetesPedigreeFunction      0\n",
      "Age                           0\n",
      "Results                     498\n",
      "dtype: int64\n",
      "Pregnancies                 0\n",
      "Glucose                     0\n",
      "Insulin                     0\n",
      "BMI                         0\n",
      "DiabetesPedigreeFunction    0\n",
      "Age                         0\n",
      "Results                     0\n",
      "dtype: int64\n"
     ]
    }
   ],
   "source": [
    "print((df[df_features]==0).sum())\n",
    "print((df[df_features]==\"NaN\").sum())"
   ]
  },
  {
   "cell_type": "code",
   "execution_count": 6,
   "metadata": {},
   "outputs": [
    {
     "name": "stdout",
     "output_type": "stream",
     "text": [
      "Pregnancies                 2\n",
      "Glucose                     2\n",
      "Insulin                     2\n",
      "BMI                         2\n",
      "DiabetesPedigreeFunction    2\n",
      "Age                         2\n",
      "Results                     0\n",
      "dtype: int64\n",
      "(746, 7)\n",
      "(744, 7)\n"
     ]
    }
   ],
   "source": [
    "#print((df[X.columns]).isNull().sum())\n",
    "print(df[df_features].isnull().sum())\n",
    "print(df.shape)\n",
    "df = df.dropna(axis = 0)\n",
    "print(df.shape)\n",
    "#print(X)"
   ]
  },
  {
   "cell_type": "code",
   "execution_count": 7,
   "metadata": {},
   "outputs": [
    {
     "name": "stdout",
     "output_type": "stream",
     "text": [
      "Pregnancies                 112\n",
      "Glucose                       5\n",
      "Insulin                     359\n",
      "BMI                          10\n",
      "DiabetesPedigreeFunction      0\n",
      "Age                           0\n",
      "Results                     497\n",
      "dtype: int64\n"
     ]
    }
   ],
   "source": [
    "\n",
    "# temp = df[df['BloodPressure']!=0.000000]\n",
    "# df['BloodPressure'] = df['BloodPressure'].replace( 0.000000 , temp.mean()[0])\n",
    "\n",
    "# temp = df[df['Glucose']!=0.000000]\n",
    "# df['Glucose'] = df['Glucose'].replace( 0.000000 , temp.mean()[0])\n",
    "\n",
    "# temp = df[df['BMI']!=0.000000]\n",
    "# df['BMI'] = df['BMI'].replace( 0.000000 , temp.mean()[0])\n",
    "\n",
    "\n",
    "print((df[df_features]==0).sum())\n"
   ]
  },
  {
   "cell_type": "code",
   "execution_count": 8,
   "metadata": {},
   "outputs": [
    {
     "name": "stdout",
     "output_type": "stream",
     "text": [
      "Pregnancies                  17.00\n",
      "Glucose                     199.00\n",
      "Insulin                     744.00\n",
      "BMI                          80.60\n",
      "DiabetesPedigreeFunction      2.42\n",
      "Age                          81.00\n",
      "Results                       1.00\n",
      "dtype: float64\n"
     ]
    }
   ],
   "source": [
    "print(df.max())"
   ]
  },
  {
   "cell_type": "code",
   "execution_count": 9,
   "metadata": {},
   "outputs": [
    {
     "name": "stdout",
     "output_type": "stream",
     "text": [
      "Pregnancies                  0.000\n",
      "Glucose                      0.000\n",
      "Insulin                      0.000\n",
      "BMI                          0.000\n",
      "DiabetesPedigreeFunction     0.078\n",
      "Age                         21.000\n",
      "Results                      0.000\n",
      "dtype: float64\n"
     ]
    }
   ],
   "source": [
    "print(df.min())"
   ]
  },
  {
   "cell_type": "code",
   "execution_count": 10,
   "metadata": {},
   "outputs": [
    {
     "name": "stdout",
     "output_type": "stream",
     "text": [
      "Pregnancies                  17.000\n",
      "Glucose                     199.000\n",
      "Insulin                     744.000\n",
      "BMI                          80.600\n",
      "DiabetesPedigreeFunction      2.342\n",
      "Age                          60.000\n",
      "Results                       1.000\n",
      "dtype: float64\n"
     ]
    }
   ],
   "source": [
    "print(df.max() - df.min())"
   ]
  },
  {
   "cell_type": "code",
   "execution_count": 11,
   "metadata": {},
   "outputs": [
    {
     "data": {
      "image/png": "[encoded data removed]",
      "text/plain": [
       "<Figure size 1440x576 with 12 Axes>"
      ]
     },
     "metadata": {
      "needs_background": "light"
     },
     "output_type": "display_data"
    }
   ],
   "source": [
    "fig, axes = plt.subplots(3,4, figsize=(20,8))\n",
    "x_,y_ = 0,0\n",
    "for i, column in enumerate(df.columns[:]):    \n",
    "    sb.boxplot(x=df[column], ax=axes[x_,y_], palette=\"Set2\")\n",
    "    if i < 3:\n",
    "        y_ += 1\n",
    "    elif i == 3: \n",
    "        x_ = 1\n",
    "        y_ = 0\n",
    "    elif i == 7: \n",
    "        x_ = 2\n",
    "        y_ = 0\n",
    "    else:\n",
    "        y_ += 1"
   ]
  },
  {
   "cell_type": "code",
   "execution_count": 12,
   "metadata": {},
   "outputs": [
    {
     "name": "stdout",
     "output_type": "stream",
     "text": [
      "Index(['Pregnancies', 'Glucose', 'Insulin', 'BMI', 'DiabetesPedigreeFunction',\n",
      "       'Age', 'Results'],\n",
      "      dtype='object')\n",
      "   Pregnancies   Glucose   Insulin       BMI  DiabetesPedigreeFunction  \\\n",
      "0     0.117647  0.693467  0.000000  0.416873                  0.020922   \n",
      "1     0.000000  0.422111  0.168011  0.473945                  0.066183   \n",
      "2     0.000000  0.728643  0.000000  0.548387                  0.235696   \n",
      "3     0.000000  0.678392  0.336022  0.524814                  0.122545   \n",
      "4     0.058824  0.698492  0.645161  0.504963                  0.195559   \n",
      "\n",
      "        Age  Results  \n",
      "0  0.433333      1.0  \n",
      "1  0.033333      0.0  \n",
      "2  0.166667      1.0  \n",
      "3  0.050000      1.0  \n",
      "4  0.000000      0.0  \n"
     ]
    }
   ],
   "source": [
    "cols = df.columns\n",
    "print(cols)\n",
    "scaler = MinMaxScaler()\n",
    "dat = scaler.fit_transform(df)\n",
    "df_01 = pd.DataFrame(data=dat, columns=cols)  \n",
    "print(df_01.head())"
   ]
  },
  {
   "cell_type": "code",
   "execution_count": 13,
   "metadata": {},
   "outputs": [
    {
     "name": "stdout",
     "output_type": "stream",
     "text": [
      "Pregnancies                 1.0\n",
      "Glucose                     1.0\n",
      "Insulin                     1.0\n",
      "BMI                         1.0\n",
      "DiabetesPedigreeFunction    1.0\n",
      "Age                         1.0\n",
      "Results                     1.0\n",
      "dtype: float64\n"
     ]
    }
   ],
   "source": [
    "print(df_01.max() - df_01.min())"
   ]
  },
  {
   "cell_type": "code",
   "execution_count": 14,
   "metadata": {},
   "outputs": [
    {
     "name": "stdout",
     "output_type": "stream",
     "text": [
      "0.0    497\n",
      "1.0    247\n",
      "Name: Results, dtype: int64\n"
     ]
    }
   ],
   "source": [
    "x = df_01.drop([\"Results\"], axis =1);\n",
    "y = df_01[\"Results\"]\n",
    "print(y.value_counts())"
   ]
  },
  {
   "cell_type": "code",
   "execution_count": 15,
   "metadata": {},
   "outputs": [
    {
     "data": {
      "text/plain": [
       "(array([497.,   0.,   0.,   0.,   0.,   0.,   0.,   0.,   0., 247.]),\n",
       " array([0. , 0.1, 0.2, 0.3, 0.4, 0.5, 0.6, 0.7, 0.8, 0.9, 1. ]),\n",
       " <BarContainer object of 10 artists>)"
      ]
     },
     "execution_count": 15,
     "metadata": {},
     "output_type": "execute_result"
    },
    {
     "data": {
      "image/png": "[encoded data removed]",
      "text/plain": [
       "<Figure size 432x288 with 1 Axes>"
      ]
     },
     "metadata": {
      "needs_background": "light"
     },
     "output_type": "display_data"
    }
   ],
   "source": [
    "plt.hist(y)"
   ]
  },
  {
   "cell_type": "code",
   "execution_count": 16,
   "metadata": {},
   "outputs": [
    {
     "name": "stdout",
     "output_type": "stream",
     "text": [
      "0.0    274\n",
      "1.0    247\n",
      "Name: Results, dtype: int64\n"
     ]
    },
    {
     "data": {
      "text/plain": [
       "(array([274.,   0.,   0.,   0.,   0.,   0.,   0.,   0.,   0., 247.]),\n",
       " array([0. , 0.1, 0.2, 0.3, 0.4, 0.5, 0.6, 0.7, 0.8, 0.9, 1. ]),\n",
       " <BarContainer object of 10 artists>)"
      ]
     },
     "execution_count": 16,
     "metadata": {},
     "output_type": "execute_result"
    },
    {
     "data": {
      "image/png": "[encoded data removed]",
      "text/plain": [
       "<Figure size 432x288 with 1 Axes>"
      ]
     },
     "metadata": {
      "needs_background": "light"
     },
     "output_type": "display_data"
    }
   ],
   "source": [
    "# transform the dataset\n",
    "under = RandomUnderSampler(sampling_strategy= 0.9, random_state=0)\n",
    "X, Y = under.fit_resample(x, y)\n",
    "print(Y.value_counts())\n",
    "plt.hist(Y)"
   ]
  },
  {
   "cell_type": "code",
   "execution_count": 17,
   "metadata": {},
   "outputs": [
    {
     "name": "stdout",
     "output_type": "stream",
     "text": [
      "0.0    274\n",
      "1.0    274\n",
      "Name: Results, dtype: int64\n"
     ]
    },
    {
     "data": {
      "text/plain": [
       "(array([274.,   0.,   0.,   0.,   0.,   0.,   0.,   0.,   0., 274.]),\n",
       " array([0. , 0.1, 0.2, 0.3, 0.4, 0.5, 0.6, 0.7, 0.8, 0.9, 1. ]),\n",
       " <BarContainer object of 10 artists>)"
      ]
     },
     "execution_count": 17,
     "metadata": {},
     "output_type": "execute_result"
    },
    {
     "data": {
      "image/png": "[encoded data removed]",
      "text/plain": [
       "<Figure size 432x288 with 1 Axes>"
      ]
     },
     "metadata": {
      "needs_background": "light"
     },
     "output_type": "display_data"
    }
   ],
   "source": [
    "smt = SMOTE(random_state=0)\n",
    "X, Y = smt.fit_resample(X,Y)\n",
    "print(Y.value_counts())\n",
    "plt.hist(Y)"
   ]
  },
  {
   "cell_type": "code",
   "execution_count": 18,
   "metadata": {},
   "outputs": [
    {
     "name": "stdout",
     "output_type": "stream",
     "text": [
      "CV value :  2\n",
      "Parameters :  {}\n",
      "Accuracy :  62.591\n",
      "Standed deviation :  1.277\n",
      "CV value :  3\n",
      "Parameters :  {}\n",
      "Accuracy :  62.399\n",
      "Standed deviation :  3.822\n",
      "CV value :  4\n",
      "Parameters :  {}\n",
      "Accuracy :  59.854\n",
      "Standed deviation :  4.193\n",
      "CV value :  5\n",
      "Parameters :  {}\n",
      "Accuracy :  62.954\n",
      "Standed deviation :  3.003\n"
     ]
    }
   ],
   "source": [
    "# creating a decision tree classifier\n",
    "dt_model = tree.DecisionTreeClassifier()\n",
    "param_grid_dt = {\n",
    "     \n",
    "}\n",
    "cv_array = [2,3,4,5]\n",
    "for cv in cv_array:\n",
    "    gridSearchRF = GridSearchCV(estimator=dt_model, param_grid=param_grid_dt, scoring='accuracy', n_jobs=-1, cv=cv)\n",
    "    gridSearchRF.fit(X, Y)\n",
    "    print(\"CV value : \", cv)\n",
    "    print(\"Parameters : \", gridSearchRF.best_params_)\n",
    "    print(\"Accuracy :  %0.3f\" % (gridSearchRF.best_score_*100))\n",
    "    print(\"Standed deviation :  %0.3f\" % (gridSearchRF.cv_results_['std_test_score'][gridSearchRF.best_index_]*100))"
   ]
  },
  {
   "cell_type": "code",
   "execution_count": 19,
   "metadata": {},
   "outputs": [
    {
     "name": "stdout",
     "output_type": "stream",
     "text": [
      "CV value :  2\n",
      "Parameters :  {'random_state': 0}\n",
      "Accuracy :  63.321\n",
      "Standed deviation :  1.277\n",
      "CV value :  3\n",
      "Parameters :  {'random_state': 10}\n",
      "Accuracy :  66.595\n",
      "Standed deviation :  4.403\n",
      "CV value :  4\n",
      "Parameters :  {'random_state': 0}\n",
      "Accuracy :  63.869\n",
      "Standed deviation :  4.272\n",
      "CV value :  5\n",
      "Parameters :  {'random_state': 4}\n",
      "Accuracy :  65.114\n",
      "Standed deviation :  7.866\n"
     ]
    }
   ],
   "source": [
    "# creating a Gradient boosting classifier\n",
    "gb_model = GradientBoostingClassifier()\n",
    "param_grid_gb = {\n",
    "     'random_state': [0, 1, 2,3,4,5 , 10, 20, 30, 40, 50]\n",
    "}\n",
    "for cv in cv_array:\n",
    "     gridSearchRF = GridSearchCV(estimator=gb_model, param_grid=param_grid_gb, scoring='accuracy', n_jobs=-1, cv=cv)\n",
    "     gridSearchRF.fit(X, Y)\n",
    "     print(\"CV value : \", cv)\n",
    "     print(\"Parameters : \", gridSearchRF.best_params_)\n",
    "     print(\"Accuracy :  %0.3f\" % (gridSearchRF.best_score_*100))\n",
    "     print(\"Standed deviation :  %0.3f\" % (gridSearchRF.cv_results_['std_test_score'][gridSearchRF.best_index_]*100))"
   ]
  },
  {
   "cell_type": "code",
   "execution_count": 20,
   "metadata": {},
   "outputs": [
    {
     "name": "stdout",
     "output_type": "stream",
     "text": [
      "CV value :  2\n",
      "Parameters :  {'n_neighbors': 17}\n",
      "Accuracy :  65.328\n",
      "Standed deviation :  2.920\n",
      "CV value :  3\n",
      "Parameters :  {'n_neighbors': 13}\n",
      "Accuracy :  64.957\n",
      "Standed deviation :  4.311\n",
      "CV value :  4\n",
      "Parameters :  {'n_neighbors': 17}\n",
      "Accuracy :  64.416\n",
      "Standed deviation :  4.540\n",
      "CV value :  5\n",
      "Parameters :  {'n_neighbors': 17}\n",
      "Accuracy :  65.301\n",
      "Standed deviation :  7.730\n"
     ]
    }
   ],
   "source": [
    "# creating a KNN classifier\n",
    "KNN_model =KNeighborsClassifier()\n",
    "param_grid_knn = {\n",
    "     'n_neighbors': [3, 5, 7, 11, 13, 17]\n",
    "}\n",
    "for cv in cv_array:\n",
    "     gridSearchRF = GridSearchCV(estimator=KNN_model, param_grid=param_grid_knn, scoring='accuracy', n_jobs=-1, cv=cv)\n",
    "     gridSearchRF.fit(X, Y)\n",
    "     print(\"CV value : \", cv)\n",
    "     print(\"Parameters : \", gridSearchRF.best_params_)\n",
    "     print(\"Accuracy :  %0.3f\" % (gridSearchRF.best_score_*100))\n",
    "     print(\"Standed deviation :  %0.3f\" % (gridSearchRF.cv_results_['std_test_score'][gridSearchRF.best_index_]*100))"
   ]
  },
  {
   "cell_type": "code",
   "execution_count": 21,
   "metadata": {},
   "outputs": [
    {
     "name": "stdout",
     "output_type": "stream",
     "text": [
      "CV value :  2\n",
      "Parameters :  {'max_iter': 100}\n",
      "Accuracy :  66.971\n",
      "Standed deviation :  6.387\n",
      "CV value :  3\n",
      "Parameters :  {'max_iter': 100}\n",
      "Accuracy :  66.773\n",
      "Standed deviation :  6.432\n",
      "CV value :  4\n",
      "Parameters :  {'max_iter': 100}\n",
      "Accuracy :  66.971\n",
      "Standed deviation :  5.686\n",
      "CV value :  5\n",
      "Parameters :  {'max_iter': 100}\n",
      "Accuracy :  66.756\n",
      "Standed deviation :  8.242\n"
     ]
    }
   ],
   "source": [
    "# creating a Lgistic regression classifier\n",
    "lr_model = LogisticRegression() \n",
    "\n",
    "param_grid_lr = {\n",
    "     'max_iter': [100, 200, 300, 400, 500]\n",
    "}\n",
    "for cv in cv_array:\n",
    "     gridSearchRF = GridSearchCV(estimator=lr_model, param_grid=param_grid_lr, scoring='accuracy', n_jobs=-1, cv=cv)\n",
    "     gridSearchRF.fit(X, Y)\n",
    "     print(\"CV value : \", cv)\n",
    "     print(\"Parameters : \", gridSearchRF.best_params_)\n",
    "     print(\"Accuracy :  %0.3f\" % (gridSearchRF.best_score_*100))\n",
    "     print(\"Standed deviation :  %0.3f\" % (gridSearchRF.cv_results_['std_test_score'][gridSearchRF.best_index_]*100))\n"
   ]
  },
  {
   "cell_type": "code",
   "execution_count": 22,
   "metadata": {},
   "outputs": [
    {
     "name": "stdout",
     "output_type": "stream",
     "text": [
      "CV value :  2\n",
      "Parameters :  {}\n",
      "Accuracy :  47.993\n",
      "Standed deviation :  0.182\n",
      "CV value :  3\n",
      "Parameters :  {}\n",
      "Accuracy :  49.274\n",
      "Standed deviation :  1.901\n",
      "CV value :  4\n",
      "Parameters :  {}\n",
      "Accuracy :  45.803\n",
      "Standed deviation :  0.948\n",
      "CV value :  5\n",
      "Parameters :  {}\n",
      "Accuracy :  46.714\n",
      "Standed deviation :  3.854\n"
     ]
    }
   ],
   "source": [
    "# creating a Nave Bayers classifier\n",
    "nb_model = MultinomialNB()\n",
    "param_grid_nb = {\n",
    "\n",
    "}\n",
    "for cv in cv_array:\n",
    "    gridSearchRF = GridSearchCV(estimator=nb_model, param_grid=param_grid_nb, scoring='accuracy', n_jobs=-1, cv=cv)\n",
    "    gridSearchRF.fit(X, Y)\n",
    "    print(\"CV value : \", cv)\n",
    "    print(\"Parameters : \", gridSearchRF.best_params_)\n",
    "    print(\"Accuracy :  %0.3f\" % (gridSearchRF.best_score_*100))\n",
    "    print(\"Standed deviation :  %0.3f\" % (gridSearchRF.cv_results_['std_test_score'][gridSearchRF.best_index_]*100))\n"
   ]
  },
  {
   "cell_type": "code",
   "execution_count": 23,
   "metadata": {},
   "outputs": [
    {
     "name": "stdout",
     "output_type": "stream",
     "text": [
      "CV value :  2\n",
      "Parameters :  {'kernel': 'rbf'}\n",
      "Accuracy :  66.423\n",
      "Standed deviation :  4.380\n",
      "CV value :  3\n",
      "Parameters :  {'kernel': 'poly'}\n",
      "Accuracy :  65.863\n",
      "Standed deviation :  5.476\n",
      "CV value :  4\n",
      "Parameters :  {'kernel': 'rbf'}\n",
      "Accuracy :  65.876\n",
      "Standed deviation :  5.273\n",
      "CV value :  5\n",
      "Parameters :  {'kernel': 'linear'}\n",
      "Accuracy :  66.387\n",
      "Standed deviation :  8.571\n"
     ]
    }
   ],
   "source": [
    "# creating a SVM classifier\n",
    "svm_model = svm.SVC()\n",
    "param_grid_svm = {\n",
    "     'kernel': ['linear', 'poly', 'rbf', 'sigmoid']\n",
    "}\n",
    "\n",
    "for cv in cv_array:\n",
    "     gridSearchRF = GridSearchCV(estimator=svm_model, param_grid=param_grid_svm, scoring='accuracy', n_jobs=-1, cv=cv)\n",
    "     gridSearchRF.fit(X, Y)\n",
    "     print(\"CV value : \", cv)\n",
    "     print(\"Parameters : \", gridSearchRF.best_params_)\n",
    "     print(\"Accuracy :  %0.3f\" % (gridSearchRF.best_score_*100))\n",
    "     print(\"Standed deviation :  %0.3f\" % (gridSearchRF.cv_results_['std_test_score'][gridSearchRF.best_index_]*100))\n"
   ]
  },
  {
   "cell_type": "code",
   "execution_count": 24,
   "metadata": {},
   "outputs": [
    {
     "name": "stdout",
     "output_type": "stream",
     "text": [
      "CV value :  2\n",
      "Parameters :  {'max_depth': 200, 'max_features': 4, 'n_estimators': 100}\n",
      "Accuracy :  65.693\n",
      "Standed deviation :  4.380\n",
      "CV value :  3\n",
      "Parameters :  {'max_depth': 200, 'max_features': 2, 'n_estimators': 300}\n",
      "Accuracy :  66.955\n",
      "Standed deviation :  6.632\n",
      "CV value :  4\n",
      "Parameters :  {'max_depth': 100, 'max_features': 2, 'n_estimators': 200}\n",
      "Accuracy :  68.431\n",
      "Standed deviation :  5.398\n",
      "CV value :  5\n",
      "Parameters :  {'max_depth': 200, 'max_features': 3, 'n_estimators': 100}\n",
      "Accuracy :  68.212\n",
      "Standed deviation :  9.668\n"
     ]
    }
   ],
   "source": [
    "# creating a Random forest classifier\n",
    "rf = RandomForestClassifier()\n",
    "param_grid_rf = {\n",
    "     'max_depth': [80, 90, 100, 110, 150, 200, 300],\n",
    "     'max_features': [2, 3, 4, 5,6],\n",
    "     'n_estimators': [100, 200, 300]\n",
    "}\n",
    "\n",
    "for cv in cv_array:\n",
    "     gridSearchRF = GridSearchCV(estimator=rf, param_grid=param_grid_rf, scoring='accuracy', n_jobs=-1, cv=cv)\n",
    "     gridSearchRF.fit(X, Y)\n",
    "     print(\"CV value : \", cv)\n",
    "     print(\"Parameters : \", gridSearchRF.best_params_)\n",
    "     print(\"Accuracy :  %0.3f\" % (gridSearchRF.best_score_*100))\n",
    "     print(\"Standed deviation :  %0.3f\" % (gridSearchRF.cv_results_['std_test_score'][gridSearchRF.best_index_]*100))"
   ]
  }
 ],
 "metadata": {
  "kernelspec": {
   "display_name": "Python 3.9.13 ('base')",
   "language": "python",
   "name": "python3"
  },
  "language_info": {
   "codemirror_mode": {
    "name": "ipython",
    "version": 3
   },
   "file_extension": ".py",
   "mimetype": "text/x-python",
   "name": "python",
   "nbconvert_exporter": "python",
   "pygments_lexer": "ipython3",
   "version": "3.9.13 (main, Oct 13 2022, 21:23:06) [MSC v.1916 64 bit (AMD64)]"
  },
  "orig_nbformat": 4,
  "vscode": {
   "interpreter": {
    "hash": "dd78fe5a17d57d1a86104509f6d28e1e730005acb4374104044dd451171eb7b3"
   }
  }
 },
 "nbformat": 4,
 "nbformat_minor": 2
}
