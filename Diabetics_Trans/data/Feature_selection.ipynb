{
 "cells": [
  {
   "cell_type": "code",
   "execution_count": 18,
   "metadata": {},
   "outputs": [],
   "source": [
    "import numpy as np;\n",
    "import pandas as pd;\n",
    "import matplotlib.pyplot as plt\n",
    "import sklearn.metrics as sm\n",
    "import imblearn\n",
    "from sklearn.feature_selection import mutual_info_classif\n",
    "from sklearn.feature_selection import SelectKBest\n",
    "import seaborn as sb"
   ]
  },
  {
   "cell_type": "code",
   "execution_count": 19,
   "metadata": {},
   "outputs": [],
   "source": [
    "# read_file = pd.read_excel (\"data.xlsx\")\n",
    "# read_file.to_csv (\"hypertensionDataSet.csv\",  index = None, header=True)"
   ]
  },
  {
   "cell_type": "code",
   "execution_count": 20,
   "metadata": {},
   "outputs": [],
   "source": [
    "\n",
    "df = pd.read_csv(\"diabetes_final.csv\")\n",
    "df = df.drop_duplicates()"
   ]
  },
  {
   "cell_type": "code",
   "execution_count": 21,
   "metadata": {},
   "outputs": [
    {
     "name": "stdout",
     "output_type": "stream",
     "text": [
      "    DDX11L1     WASH7P   LOC729737  LOC100133331  LOC101928626     MIR6723  \\\n",
      "0  1.000000  33.639123  102.262933      4.036695      1.000000  868.562146   \n",
      "1  3.289867  23.029070   10.966224      1.096622      1.000000    1.000000   \n",
      "2  5.613121  45.706844  134.714909     11.226242      1.603749    4.009372   \n",
      "3  3.609919  30.082659   55.352093      1.203306      1.203306    2.406613   \n",
      "4  4.467258  43.555766   45.789395     13.401774      2.233629    3.350444   \n",
      "\n",
      "   LOC100288069     FAM87B  LINC00115   LINC01128  ...     NLGN4Y     TTTY14  \\\n",
      "0     22.201821  26.911298  18.837909  127.155884  ...   1.000000   1.000000   \n",
      "1     30.705427  14.256091  12.062846  160.106870  ...   1.000000   1.000000   \n",
      "2     27.263732  23.254359  17.641238  114.668048  ...  15.235615  10.424368   \n",
      "3     26.472740  22.862821  13.236370   92.654590  ...   1.000000   1.000000   \n",
      "4     42.438951  31.270806  15.635403  116.148708  ...   1.000000   1.000000   \n",
      "\n",
      "         CD24     BCORP1      TXLNGY       KDM5D     TTTY10      EIF1AY  \\\n",
      "0  189.051869   1.000000    1.000000    1.345565   1.000000    1.000000   \n",
      "1  218.227856   1.000000    1.000000    1.000000   1.000000    1.000000   \n",
      "2  493.152792  42.499346  372.871623  695.225155  24.056234  210.091108   \n",
      "3  256.304256   1.000000    1.000000    1.000000   1.000000    1.000000   \n",
      "4  201.026610   1.000000    1.000000    1.000000   1.000000    1.000000   \n",
      "\n",
      "     RPS4Y2  Target  \n",
      "0  1.000000     1.0  \n",
      "1  1.000000     1.0  \n",
      "2  5.613121     1.0  \n",
      "3  1.000000     1.0  \n",
      "4  1.000000     1.0  \n",
      "\n",
      "[5 rows x 24738 columns]\n"
     ]
    }
   ],
   "source": [
    "#df = df.T.drop_duplicates();\n",
    "print(df.head())"
   ]
  },
  {
   "cell_type": "code",
   "execution_count": 22,
   "metadata": {},
   "outputs": [],
   "source": [
    "# def map_results(inpt):\n",
    "#     if inpt == 'control':\n",
    "#         return 0;\n",
    "\n",
    "#     else:\n",
    "#         return 1;"
   ]
  },
  {
   "cell_type": "code",
   "execution_count": 23,
   "metadata": {},
   "outputs": [],
   "source": [
    "#df['Results'] = df['Results'].apply(map_results)"
   ]
  },
  {
   "cell_type": "code",
   "execution_count": 24,
   "metadata": {},
   "outputs": [
    {
     "name": "stdout",
     "output_type": "stream",
     "text": [
      "    DDX11L1     WASH7P   LOC729737  LOC100133331  LOC101928626     MIR6723  \\\n",
      "0  1.000000  33.639123  102.262933      4.036695      1.000000  868.562146   \n",
      "1  3.289867  23.029070   10.966224      1.096622      1.000000    1.000000   \n",
      "2  5.613121  45.706844  134.714909     11.226242      1.603749    4.009372   \n",
      "3  3.609919  30.082659   55.352093      1.203306      1.203306    2.406613   \n",
      "4  4.467258  43.555766   45.789395     13.401774      2.233629    3.350444   \n",
      "\n",
      "   LOC100288069     FAM87B  LINC00115   LINC01128  ...     NLGN4Y     TTTY14  \\\n",
      "0     22.201821  26.911298  18.837909  127.155884  ...   1.000000   1.000000   \n",
      "1     30.705427  14.256091  12.062846  160.106870  ...   1.000000   1.000000   \n",
      "2     27.263732  23.254359  17.641238  114.668048  ...  15.235615  10.424368   \n",
      "3     26.472740  22.862821  13.236370   92.654590  ...   1.000000   1.000000   \n",
      "4     42.438951  31.270806  15.635403  116.148708  ...   1.000000   1.000000   \n",
      "\n",
      "         CD24     BCORP1      TXLNGY       KDM5D     TTTY10      EIF1AY  \\\n",
      "0  189.051869   1.000000    1.000000    1.345565   1.000000    1.000000   \n",
      "1  218.227856   1.000000    1.000000    1.000000   1.000000    1.000000   \n",
      "2  493.152792  42.499346  372.871623  695.225155  24.056234  210.091108   \n",
      "3  256.304256   1.000000    1.000000    1.000000   1.000000    1.000000   \n",
      "4  201.026610   1.000000    1.000000    1.000000   1.000000    1.000000   \n",
      "\n",
      "     RPS4Y2  Target  \n",
      "0  1.000000     1.0  \n",
      "1  1.000000     1.0  \n",
      "2  5.613121     1.0  \n",
      "3  1.000000     1.0  \n",
      "4  1.000000     1.0  \n",
      "\n",
      "[5 rows x 24738 columns]\n"
     ]
    }
   ],
   "source": [
    "print(df.head())"
   ]
  },
  {
   "cell_type": "code",
   "execution_count": 25,
   "metadata": {},
   "outputs": [],
   "source": [
    "X = df.drop([\"Target\"], axis =1);\n",
    "Y = df[\"Target\"]"
   ]
  },
  {
   "cell_type": "code",
   "execution_count": 26,
   "metadata": {},
   "outputs": [],
   "source": [
    "\n",
    "\n",
    "fs = SelectKBest(score_func=mutual_info_classif, k=8)\n",
    "X_selected = fs.fit_transform(X, Y)\n",
    "cols = fs.get_support(indices=True)\n",
    "\n",
    "# Create a new DataFrame with the selected features and the target variable\n",
    "selected_features_df = pd.DataFrame(X_selected, columns=[X.columns[i] for i in cols])\n",
    "selected_features_df[\"Target\"] = Y  # Add the \"Target\" column\n",
    "\n",
    "# Save the new DataFrame to a CSV file without the index\n",
    "selected_features_df.to_csv(\"selected_M_best8.csv\", encoding='utf-8', index=False)\n"
   ]
  },
  {
   "cell_type": "code",
   "execution_count": 27,
   "metadata": {},
   "outputs": [],
   "source": [
    "# X = df.drop([\"Target\"], axis =1);\n",
    "# Y = df[\"Target\"]\n",
    "\n",
    "# fs = SelectKBest(score_func=mutual_info_classif, k=17)\n",
    "# X_selected = fs.fit_transform(X, Y)\n",
    "# cols = fs.get_support(indices=True)\n",
    "# print(cols)\n",
    "# X_se = df.iloc[:,cols]\n",
    "# X_se.to_csv(\"selected_M_best17.csv\", encoding='utf-8', index=False)"
   ]
  }
 ],
 "metadata": {
  "kernelspec": {
   "display_name": "Python 3.9.13 ('base')",
   "language": "python",
   "name": "python3"
  },
  "language_info": {
   "codemirror_mode": {
    "name": "ipython",
    "version": 3
   },
   "file_extension": ".py",
   "mimetype": "text/x-python",
   "name": "python",
   "nbconvert_exporter": "python",
   "pygments_lexer": "ipython3",
   "version": "3.11.3"
  },
  "orig_nbformat": 4,
  "vscode": {
   "interpreter": {
    "hash": "dd78fe5a17d57d1a86104509f6d28e1e730005acb4374104044dd451171eb7b3"
   }
  }
 },
 "nbformat": 4,
 "nbformat_minor": 2
}
