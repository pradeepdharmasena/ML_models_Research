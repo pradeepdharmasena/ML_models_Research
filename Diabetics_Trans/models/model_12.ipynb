{
 "cells": [
  {
   "cell_type": "code",
   "execution_count": 8,
   "metadata": {},
   "outputs": [],
   "source": [
    "import numpy as np;\n",
    "import pandas as pd;\n",
    "import matplotlib.pyplot as plt\n",
    "import sklearn.metrics as sm\n",
    "from sklearn.preprocessing import LabelEncoder\n",
    "from sklearn.model_selection import cross_val_score\n",
    "from sklearn.model_selection import GridSearchCV\n",
    "from sklearn.preprocessing import MinMaxScaler\n",
    "\n",
    "from scipy import stats\n",
    "from sklearn import tree\n",
    "from sklearn.ensemble import GradientBoostingClassifier\n",
    "from sklearn.neighbors import KNeighborsClassifier\n",
    "from sklearn.linear_model import LogisticRegression\n",
    "from sklearn.naive_bayes import MultinomialNB,BernoulliNB\n",
    "from sklearn.ensemble import RandomForestClassifier\n",
    "from sklearn import tree\n",
    "from sklearn import svm\n",
    "import seaborn as sb\n",
    "from imblearn.under_sampling import RandomUnderSampler\n",
    "from imblearn.over_sampling import SMOTE"
   ]
  },
  {
   "cell_type": "code",
   "execution_count": 9,
   "metadata": {},
   "outputs": [
    {
     "name": "stdout",
     "output_type": "stream",
     "text": [
      "       KLHL21        LZIC       NLRP6    MIR4537        HBA1        NFIX  \\\n",
      "0  408.378949  119.082494  162.813354  12.782867  422.507380  173.577873   \n",
      "1  253.319773  118.435219   81.150057  16.449336   87.729792  100.889260   \n",
      "2  532.444640  122.686792  180.421753   4.811247  258.203576  139.526156   \n",
      "3  391.074568  132.363700  409.124164   2.406613   93.857896   57.758705   \n",
      "4  399.819591  139.601812  136.251369  13.401774  751.616158  211.077941   \n",
      "\n",
      "         JUND   MIR663AHG    PRSS46         PXK  LOC101928231       KANTR  \\\n",
      "0  294.678714  956.023865  1.000000  297.369844      1.000000  102.262933   \n",
      "1  276.348843  652.490325  1.000000  233.580570      1.000000  103.082505   \n",
      "2  255.797952  230.137969  4.009372  304.712294      5.613121   83.394944   \n",
      "3  175.682729  454.849806  1.000000  204.562082      1.000000   50.538867   \n",
      "4  243.465561   64.775241  2.233629  385.301002      4.467258   80.410644   \n",
      "\n",
      "   Results  \n",
      "0        1  \n",
      "1        1  \n",
      "2        1  \n",
      "3        1  \n",
      "4        1  \n"
     ]
    }
   ],
   "source": [
    "df = pd.read_csv(\"../data/selected_M_best12.csv\")\n",
    "df = df.drop_duplicates()\n",
    "print(df.head())"
   ]
  },
  {
   "cell_type": "code",
   "execution_count": 10,
   "metadata": {},
   "outputs": [],
   "source": [
    "# def map_results(inpt):\n",
    "#     if inpt == 'control':\n",
    "#         return 0;\n",
    "\n",
    "#     else:\n",
    "#         return 1;"
   ]
  },
  {
   "cell_type": "code",
   "execution_count": 11,
   "metadata": {},
   "outputs": [],
   "source": [
    "# df['Results'] = df['Results'].apply(map_results)\n",
    "# print(df.head())"
   ]
  },
  {
   "cell_type": "code",
   "execution_count": 12,
   "metadata": {},
   "outputs": [
    {
     "data": {
      "text/html": [
       "<div>\n",
       "<style scoped>\n",
       "    .dataframe tbody tr th:only-of-type {\n",
       "        vertical-align: middle;\n",
       "    }\n",
       "\n",
       "    .dataframe tbody tr th {\n",
       "        vertical-align: top;\n",
       "    }\n",
       "\n",
       "    .dataframe thead th {\n",
       "        text-align: right;\n",
       "    }\n",
       "</style>\n",
       "<table border=\"1\" class=\"dataframe\">\n",
       "  <thead>\n",
       "    <tr style=\"text-align: right;\">\n",
       "      <th></th>\n",
       "      <th>KLHL21</th>\n",
       "      <th>LZIC</th>\n",
       "      <th>NLRP6</th>\n",
       "      <th>MIR4537</th>\n",
       "      <th>HBA1</th>\n",
       "      <th>NFIX</th>\n",
       "      <th>JUND</th>\n",
       "      <th>MIR663AHG</th>\n",
       "      <th>PRSS46</th>\n",
       "      <th>PXK</th>\n",
       "      <th>LOC101928231</th>\n",
       "      <th>KANTR</th>\n",
       "      <th>Results</th>\n",
       "    </tr>\n",
       "  </thead>\n",
       "  <tbody>\n",
       "    <tr>\n",
       "      <th>count</th>\n",
       "      <td>116.000000</td>\n",
       "      <td>116.000000</td>\n",
       "      <td>116.000000</td>\n",
       "      <td>116.000000</td>\n",
       "      <td>116.000000</td>\n",
       "      <td>116.000000</td>\n",
       "      <td>116.000000</td>\n",
       "      <td>116.000000</td>\n",
       "      <td>116.000000</td>\n",
       "      <td>116.000000</td>\n",
       "      <td>116.000000</td>\n",
       "      <td>116.000000</td>\n",
       "      <td>116.000000</td>\n",
       "    </tr>\n",
       "    <tr>\n",
       "      <th>mean</th>\n",
       "      <td>341.190567</td>\n",
       "      <td>136.380108</td>\n",
       "      <td>169.348899</td>\n",
       "      <td>9.362595</td>\n",
       "      <td>5631.022563</td>\n",
       "      <td>201.365632</td>\n",
       "      <td>266.508239</td>\n",
       "      <td>681.840503</td>\n",
       "      <td>1.503599</td>\n",
       "      <td>256.507771</td>\n",
       "      <td>1.802047</td>\n",
       "      <td>68.295853</td>\n",
       "      <td>0.431034</td>\n",
       "    </tr>\n",
       "    <tr>\n",
       "      <th>std</th>\n",
       "      <td>132.385307</td>\n",
       "      <td>48.225795</td>\n",
       "      <td>134.415089</td>\n",
       "      <td>8.547251</td>\n",
       "      <td>22376.681531</td>\n",
       "      <td>451.931080</td>\n",
       "      <td>291.919740</td>\n",
       "      <td>1065.674828</td>\n",
       "      <td>1.423073</td>\n",
       "      <td>75.158344</td>\n",
       "      <td>1.992720</td>\n",
       "      <td>18.337080</td>\n",
       "      <td>0.497369</td>\n",
       "    </tr>\n",
       "    <tr>\n",
       "      <th>min</th>\n",
       "      <td>66.370880</td>\n",
       "      <td>80.726335</td>\n",
       "      <td>5.006662</td>\n",
       "      <td>1.000000</td>\n",
       "      <td>5.788649</td>\n",
       "      <td>6.753424</td>\n",
       "      <td>59.757097</td>\n",
       "      <td>8.483496</td>\n",
       "      <td>1.000000</td>\n",
       "      <td>92.618381</td>\n",
       "      <td>1.000000</td>\n",
       "      <td>10.013325</td>\n",
       "      <td>0.000000</td>\n",
       "    </tr>\n",
       "    <tr>\n",
       "      <th>25%</th>\n",
       "      <td>262.744890</td>\n",
       "      <td>113.147906</td>\n",
       "      <td>102.645681</td>\n",
       "      <td>3.681635</td>\n",
       "      <td>45.582804</td>\n",
       "      <td>69.344060</td>\n",
       "      <td>123.953297</td>\n",
       "      <td>83.343558</td>\n",
       "      <td>1.000000</td>\n",
       "      <td>214.513117</td>\n",
       "      <td>1.000000</td>\n",
       "      <td>56.578993</td>\n",
       "      <td>0.000000</td>\n",
       "    </tr>\n",
       "    <tr>\n",
       "      <th>50%</th>\n",
       "      <td>315.817003</td>\n",
       "      <td>126.301624</td>\n",
       "      <td>137.750146</td>\n",
       "      <td>5.962768</td>\n",
       "      <td>225.706240</td>\n",
       "      <td>94.318849</td>\n",
       "      <td>197.398628</td>\n",
       "      <td>300.196621</td>\n",
       "      <td>1.000000</td>\n",
       "      <td>247.881034</td>\n",
       "      <td>1.000000</td>\n",
       "      <td>70.584817</td>\n",
       "      <td>0.000000</td>\n",
       "    </tr>\n",
       "    <tr>\n",
       "      <th>75%</th>\n",
       "      <td>393.077684</td>\n",
       "      <td>143.457188</td>\n",
       "      <td>191.200896</td>\n",
       "      <td>12.593158</td>\n",
       "      <td>757.331937</td>\n",
       "      <td>155.725190</td>\n",
       "      <td>296.450687</td>\n",
       "      <td>770.164663</td>\n",
       "      <td>1.105834</td>\n",
       "      <td>282.903629</td>\n",
       "      <td>1.394463</td>\n",
       "      <td>80.458632</td>\n",
       "      <td>1.000000</td>\n",
       "    </tr>\n",
       "    <tr>\n",
       "      <th>max</th>\n",
       "      <td>1136.361050</td>\n",
       "      <td>467.984177</td>\n",
       "      <td>848.504583</td>\n",
       "      <td>39.113255</td>\n",
       "      <td>165229.888600</td>\n",
       "      <td>3351.676152</td>\n",
       "      <td>2298.238085</td>\n",
       "      <td>7208.064725</td>\n",
       "      <td>9.398235</td>\n",
       "      <td>707.927191</td>\n",
       "      <td>11.747793</td>\n",
       "      <td>105.574372</td>\n",
       "      <td>1.000000</td>\n",
       "    </tr>\n",
       "  </tbody>\n",
       "</table>\n",
       "</div>"
      ],
      "text/plain": [
       "            KLHL21        LZIC       NLRP6     MIR4537           HBA1  \\\n",
       "count   116.000000  116.000000  116.000000  116.000000     116.000000   \n",
       "mean    341.190567  136.380108  169.348899    9.362595    5631.022563   \n",
       "std     132.385307   48.225795  134.415089    8.547251   22376.681531   \n",
       "min      66.370880   80.726335    5.006662    1.000000       5.788649   \n",
       "25%     262.744890  113.147906  102.645681    3.681635      45.582804   \n",
       "50%     315.817003  126.301624  137.750146    5.962768     225.706240   \n",
       "75%     393.077684  143.457188  191.200896   12.593158     757.331937   \n",
       "max    1136.361050  467.984177  848.504583   39.113255  165229.888600   \n",
       "\n",
       "              NFIX         JUND    MIR663AHG      PRSS46         PXK  \\\n",
       "count   116.000000   116.000000   116.000000  116.000000  116.000000   \n",
       "mean    201.365632   266.508239   681.840503    1.503599  256.507771   \n",
       "std     451.931080   291.919740  1065.674828    1.423073   75.158344   \n",
       "min       6.753424    59.757097     8.483496    1.000000   92.618381   \n",
       "25%      69.344060   123.953297    83.343558    1.000000  214.513117   \n",
       "50%      94.318849   197.398628   300.196621    1.000000  247.881034   \n",
       "75%     155.725190   296.450687   770.164663    1.105834  282.903629   \n",
       "max    3351.676152  2298.238085  7208.064725    9.398235  707.927191   \n",
       "\n",
       "       LOC101928231       KANTR     Results  \n",
       "count    116.000000  116.000000  116.000000  \n",
       "mean       1.802047   68.295853    0.431034  \n",
       "std        1.992720   18.337080    0.497369  \n",
       "min        1.000000   10.013325    0.000000  \n",
       "25%        1.000000   56.578993    0.000000  \n",
       "50%        1.000000   70.584817    0.000000  \n",
       "75%        1.394463   80.458632    1.000000  \n",
       "max       11.747793  105.574372    1.000000  "
      ]
     },
     "execution_count": 12,
     "metadata": {},
     "output_type": "execute_result"
    }
   ],
   "source": [
    "\n",
    "df.describe()"
   ]
  },
  {
   "cell_type": "code",
   "execution_count": 13,
   "metadata": {},
   "outputs": [
    {
     "name": "stdout",
     "output_type": "stream",
     "text": [
      "['KLHL21', 'LZIC', 'NLRP6', 'MIR4537', 'HBA1', 'NFIX', 'JUND', 'MIR663AHG', 'PRSS46', 'PXK', 'LOC101928231', 'KANTR', 'Results']\n",
      "13\n"
     ]
    }
   ],
   "source": [
    "df_features = list(df.columns)\n",
    "print(df_features)\n",
    "print(len(df.columns))"
   ]
  },
  {
   "cell_type": "code",
   "execution_count": 14,
   "metadata": {},
   "outputs": [
    {
     "data": {
      "image/png": "[encoded data removed]",
      "text/plain": [
       "<Figure size 1440x1440 with 16 Axes>"
      ]
     },
     "metadata": {
      "needs_background": "light"
     },
     "output_type": "display_data"
    }
   ],
   "source": [
    "fig, axes = plt.subplots(4,4, figsize=(20,20))\n",
    "x_,y_ = 0,0\n",
    "for i, column in enumerate(df.columns[0:]):    \n",
    "    sb.boxplot(x=df[column], ax=axes[x_,y_], palette=\"Set2\")\n",
    "    if i < 3:\n",
    "        y_ += 1\n",
    "    elif i == 3: \n",
    "        x_ = 1\n",
    "        y_ = 0\n",
    "    elif i == 7:\n",
    "        x_ = 2\n",
    "        y_ = 0\n",
    "    elif i == 11:\n",
    "        x_ = 3\n",
    "        y_ = 0\n",
    "    \n",
    "    else:\n",
    "        y_ += 1"
   ]
  },
  {
   "cell_type": "code",
   "execution_count": 15,
   "metadata": {},
   "outputs": [
    {
     "name": "stdout",
     "output_type": "stream",
     "text": [
      "Index(['KLHL21', 'LZIC', 'NLRP6', 'MIR4537', 'HBA1', 'NFIX', 'JUND',\n",
      "       'MIR663AHG', 'PRSS46', 'PXK', 'LOC101928231', 'KANTR', 'Results'],\n",
      "      dtype='object')\n",
      "     KLHL21      LZIC     NLRP6   MIR4537      HBA1      NFIX      JUND  \\\n",
      "0  0.319637  0.099046  0.187086  0.309154  0.002522  0.049874  0.104947   \n",
      "1  0.174720  0.097374  0.090271  0.405353  0.000496  0.028143  0.096758   \n",
      "2  0.435587  0.108353  0.207961  0.099998  0.001528  0.039694  0.087578   \n",
      "3  0.303464  0.133341  0.479097  0.036906  0.000533  0.015249  0.051788   \n",
      "4  0.311637  0.152032  0.155596  0.325393  0.004514  0.061085  0.082068   \n",
      "\n",
      "   MIR663AHG    PRSS46       PXK  LOC101928231     KANTR  Results  \n",
      "0   0.131610  0.000000  0.332762      0.000000  0.965347      1.0  \n",
      "1   0.089451  0.000000  0.229092      0.000000  0.973924      1.0  \n",
      "2   0.030787  0.358334  0.344695      0.429216  0.767903      1.0  \n",
      "3   0.061999  0.000000  0.181931      0.000000  0.424080      1.0  \n",
      "4   0.007819  0.146891  0.475668      0.322602  0.736674      1.0  \n"
     ]
    }
   ],
   "source": [
    "cols = df.columns\n",
    "print(cols)\n",
    "scaler = MinMaxScaler()\n",
    "dat = scaler.fit_transform(df)\n",
    "df_02 = pd.DataFrame(data=dat, columns=cols)  \n",
    "print(df_02.head())"
   ]
  },
  {
   "cell_type": "code",
   "execution_count": 16,
   "metadata": {},
   "outputs": [
    {
     "name": "stdout",
     "output_type": "stream",
     "text": [
      "0    66\n",
      "1    50\n",
      "Name: Results, dtype: int64\n"
     ]
    }
   ],
   "source": [
    "x = df_02.drop([\"Results\"], axis =1);\n",
    "y = df[\"Results\"]\n",
    "print(y.value_counts())"
   ]
  },
  {
   "cell_type": "code",
   "execution_count": 17,
   "metadata": {},
   "outputs": [
    {
     "data": {
      "text/plain": [
       "(array([66.,  0.,  0.,  0.,  0.,  0.,  0.,  0.,  0., 50.]),\n",
       " array([0. , 0.1, 0.2, 0.3, 0.4, 0.5, 0.6, 0.7, 0.8, 0.9, 1. ]),\n",
       " <BarContainer object of 10 artists>)"
      ]
     },
     "execution_count": 17,
     "metadata": {},
     "output_type": "execute_result"
    },
    {
     "data": {
      "image/png": "[encoded data removed]",
      "text/plain": [
       "<Figure size 432x288 with 1 Axes>"
      ]
     },
     "metadata": {
      "needs_background": "light"
     },
     "output_type": "display_data"
    }
   ],
   "source": [
    "plt.hist(y)"
   ]
  },
  {
   "cell_type": "code",
   "execution_count": 18,
   "metadata": {},
   "outputs": [
    {
     "name": "stdout",
     "output_type": "stream",
     "text": [
      "1    66\n",
      "0    66\n",
      "Name: Results, dtype: int64\n"
     ]
    },
    {
     "data": {
      "text/plain": [
       "(array([66.,  0.,  0.,  0.,  0.,  0.,  0.,  0.,  0., 66.]),\n",
       " array([0. , 0.1, 0.2, 0.3, 0.4, 0.5, 0.6, 0.7, 0.8, 0.9, 1. ]),\n",
       " <BarContainer object of 10 artists>)"
      ]
     },
     "execution_count": 18,
     "metadata": {},
     "output_type": "execute_result"
    },
    {
     "data": {
      "image/png": "[encoded data removed]",
      "text/plain": [
       "<Figure size 432x288 with 1 Axes>"
      ]
     },
     "metadata": {
      "needs_background": "light"
     },
     "output_type": "display_data"
    }
   ],
   "source": [
    "smt = SMOTE()\n",
    "X, Y = smt.fit_resample(x,y)\n",
    "print(Y.value_counts())\n",
    "plt.hist(Y)"
   ]
  },
  {
   "cell_type": "code",
   "execution_count": 19,
   "metadata": {},
   "outputs": [
    {
     "name": "stdout",
     "output_type": "stream",
     "text": [
      "CV value :  2\n",
      "Parameters :  {}\n",
      "Accuracy :  70.455\n",
      "Standed deviation :  6.818\n",
      "CV value :  3\n",
      "Parameters :  {}\n",
      "Accuracy :  70.455\n",
      "Standed deviation :  8.089\n",
      "CV value :  4\n",
      "Parameters :  {}\n",
      "Accuracy :  70.455\n",
      "Standed deviation :  9.432\n",
      "CV value :  5\n",
      "Parameters :  {}\n",
      "Accuracy :  77.265\n",
      "Standed deviation :  7.448\n"
     ]
    }
   ],
   "source": [
    "# creating a decision tree classifier\n",
    "dt_model = tree.DecisionTreeClassifier()\n",
    "param_grid_dt = {\n",
    "     \n",
    "}\n",
    "cv_array = [2,3,4,5]\n",
    "for cv in cv_array:\n",
    "    gridSearchRF = GridSearchCV(estimator=dt_model, param_grid=param_grid_dt, scoring='accuracy', n_jobs=-1, cv=cv)\n",
    "    gridSearchRF.fit(X, Y)\n",
    "    print(\"CV value : \", cv)\n",
    "    print(\"Parameters : \", gridSearchRF.best_params_)\n",
    "    print(\"Accuracy :  %0.3f\" % (gridSearchRF.best_score_*100))\n",
    "    print(\"Standed deviation :  %0.3f\" % (gridSearchRF.cv_results_['std_test_score'][gridSearchRF.best_index_]*100))"
   ]
  },
  {
   "cell_type": "code",
   "execution_count": 20,
   "metadata": {},
   "outputs": [
    {
     "name": "stdout",
     "output_type": "stream",
     "text": [
      "CV value :  2\n",
      "Parameters :  {'random_state': 20}\n",
      "Accuracy :  78.030\n",
      "Standed deviation :  6.818\n",
      "CV value :  3\n",
      "Parameters :  {'random_state': 2}\n",
      "Accuracy :  79.545\n",
      "Standed deviation :  3.214\n",
      "CV value :  4\n",
      "Parameters :  {'random_state': 1}\n",
      "Accuracy :  81.061\n",
      "Standed deviation :  5.819\n",
      "CV value :  5\n",
      "Parameters :  {'random_state': 1}\n",
      "Accuracy :  79.658\n",
      "Standed deviation :  8.925\n"
     ]
    }
   ],
   "source": [
    "# creating a Gradient boosting classifier\n",
    "gb_model = GradientBoostingClassifier()\n",
    "param_grid_gb = {\n",
    "     'random_state': [0, 1, 2,3,4,5 , 10, 20, 30, 40, 50]\n",
    "}\n",
    "for cv in cv_array:\n",
    "     gridSearchRF = GridSearchCV(estimator=gb_model, param_grid=param_grid_gb, scoring='accuracy', n_jobs=-1, cv=cv)\n",
    "     gridSearchRF.fit(X, Y)\n",
    "     print(\"CV value : \", cv)\n",
    "     print(\"Parameters : \", gridSearchRF.best_params_)\n",
    "     print(\"Accuracy :  %0.3f\" % (gridSearchRF.best_score_*100))\n",
    "     print(\"Standed deviation :  %0.3f\" % (gridSearchRF.cv_results_['std_test_score'][gridSearchRF.best_index_]*100))"
   ]
  },
  {
   "cell_type": "code",
   "execution_count": 21,
   "metadata": {},
   "outputs": [
    {
     "name": "stdout",
     "output_type": "stream",
     "text": [
      "CV value :  2\n",
      "Parameters :  {'n_neighbors': 3}\n",
      "Accuracy :  76.515\n",
      "Standed deviation :  2.273\n",
      "CV value :  3\n",
      "Parameters :  {'n_neighbors': 3}\n",
      "Accuracy :  69.697\n",
      "Standed deviation :  2.143\n",
      "CV value :  4\n",
      "Parameters :  {'n_neighbors': 11}\n",
      "Accuracy :  77.273\n",
      "Standed deviation :  3.388\n",
      "CV value :  5\n",
      "Parameters :  {'n_neighbors': 7}\n",
      "Accuracy :  76.496\n",
      "Standed deviation :  7.779\n"
     ]
    }
   ],
   "source": [
    "# creating a KNN classifier\n",
    "KNN_model =KNeighborsClassifier()\n",
    "param_grid_knn = {\n",
    "     'n_neighbors': [3, 5, 7, 11, 13, 17]\n",
    "}\n",
    "for cv in cv_array:\n",
    "     gridSearchRF = GridSearchCV(estimator=KNN_model, param_grid=param_grid_knn, scoring='accuracy', n_jobs=-1, cv=cv)\n",
    "     gridSearchRF.fit(X, Y)\n",
    "     print(\"CV value : \", cv)\n",
    "     print(\"Parameters : \", gridSearchRF.best_params_)\n",
    "     print(\"Accuracy :  %0.3f\" % (gridSearchRF.best_score_*100))\n",
    "     print(\"Standed deviation :  %0.3f\" % (gridSearchRF.cv_results_['std_test_score'][gridSearchRF.best_index_]*100))"
   ]
  },
  {
   "cell_type": "code",
   "execution_count": 22,
   "metadata": {},
   "outputs": [
    {
     "name": "stdout",
     "output_type": "stream",
     "text": [
      "CV value :  2\n",
      "Parameters :  {'max_iter': 100}\n",
      "Accuracy :  53.030\n",
      "Standed deviation :  1.515\n",
      "CV value :  3\n",
      "Parameters :  {'max_iter': 100}\n",
      "Accuracy :  60.606\n",
      "Standed deviation :  2.835\n",
      "CV value :  4\n",
      "Parameters :  {'max_iter': 100}\n",
      "Accuracy :  57.576\n",
      "Standed deviation :  4.791\n",
      "CV value :  5\n",
      "Parameters :  {'max_iter': 100}\n",
      "Accuracy :  61.396\n",
      "Standed deviation :  5.734\n"
     ]
    }
   ],
   "source": [
    "# creating a Lgistic regression classifier\n",
    "lr_model = LogisticRegression() \n",
    "\n",
    "param_grid_lr = {\n",
    "     'max_iter': [100, 200, 300, 400, 500]\n",
    "}\n",
    "for cv in cv_array:\n",
    "     gridSearchRF = GridSearchCV(estimator=lr_model, param_grid=param_grid_lr, scoring='accuracy', n_jobs=-1, cv=cv)\n",
    "     gridSearchRF.fit(X, Y)\n",
    "     print(\"CV value : \", cv)\n",
    "     print(\"Parameters : \", gridSearchRF.best_params_)\n",
    "     print(\"Accuracy :  %0.3f\" % (gridSearchRF.best_score_*100))\n",
    "     print(\"Standed deviation :  %0.3f\" % (gridSearchRF.cv_results_['std_test_score'][gridSearchRF.best_index_]*100))\n"
   ]
  },
  {
   "cell_type": "code",
   "execution_count": 23,
   "metadata": {},
   "outputs": [
    {
     "name": "stdout",
     "output_type": "stream",
     "text": [
      "CV value :  2\n",
      "Parameters :  {}\n",
      "Accuracy :  46.212\n",
      "Standed deviation :  5.303\n",
      "CV value :  3\n",
      "Parameters :  {}\n",
      "Accuracy :  54.545\n",
      "Standed deviation :  4.910\n",
      "CV value :  4\n",
      "Parameters :  {}\n",
      "Accuracy :  52.273\n",
      "Standed deviation :  12.379\n",
      "CV value :  5\n",
      "Parameters :  {}\n",
      "Accuracy :  54.701\n",
      "Standed deviation :  9.030\n"
     ]
    }
   ],
   "source": [
    "# creating a Nave Bayers classifier\n",
    "nb_model = MultinomialNB()\n",
    "param_grid_nb = {\n",
    "\n",
    "}\n",
    "for cv in cv_array:\n",
    "    gridSearchRF = GridSearchCV(estimator=nb_model, param_grid=param_grid_nb, scoring='accuracy', n_jobs=-1, cv=cv)\n",
    "    gridSearchRF.fit(X, Y)\n",
    "    print(\"CV value : \", cv)\n",
    "    print(\"Parameters : \", gridSearchRF.best_params_)\n",
    "    print(\"Accuracy :  %0.3f\" % (gridSearchRF.best_score_*100))\n",
    "    print(\"Standed deviation :  %0.3f\" % (gridSearchRF.cv_results_['std_test_score'][gridSearchRF.best_index_]*100))\n"
   ]
  },
  {
   "cell_type": "code",
   "execution_count": 24,
   "metadata": {},
   "outputs": [
    {
     "name": "stdout",
     "output_type": "stream",
     "text": [
      "CV value :  2\n",
      "Parameters :  {'kernel': 'poly'}\n",
      "Accuracy :  62.121\n",
      "Standed deviation :  0.000\n",
      "CV value :  3\n",
      "Parameters :  {'kernel': 'rbf'}\n",
      "Accuracy :  66.667\n",
      "Standed deviation :  8.571\n",
      "CV value :  4\n",
      "Parameters :  {'kernel': 'rbf'}\n",
      "Accuracy :  71.212\n",
      "Standed deviation :  8.159\n",
      "CV value :  5\n",
      "Parameters :  {'kernel': 'rbf'}\n",
      "Accuracy :  70.399\n",
      "Standed deviation :  9.597\n"
     ]
    }
   ],
   "source": [
    "# creating a SVM classifier\n",
    "svm_model = svm.SVC()\n",
    "param_grid_svm = {\n",
    "     'kernel': ['linear', 'poly', 'rbf', 'sigmoid']\n",
    "}\n",
    "\n",
    "for cv in cv_array:\n",
    "     gridSearchRF = GridSearchCV(estimator=svm_model, param_grid=param_grid_svm, scoring='accuracy', n_jobs=-1, cv=cv)\n",
    "     gridSearchRF.fit(X, Y)\n",
    "     print(\"CV value : \", cv)\n",
    "     print(\"Parameters : \", gridSearchRF.best_params_)\n",
    "     print(\"Accuracy :  %0.3f\" % (gridSearchRF.best_score_*100))\n",
    "     print(\"Standed deviation :  %0.3f\" % (gridSearchRF.cv_results_['std_test_score'][gridSearchRF.best_index_]*100))\n"
   ]
  },
  {
   "cell_type": "code",
   "execution_count": 25,
   "metadata": {},
   "outputs": [
    {
     "name": "stdout",
     "output_type": "stream",
     "text": [
      "CV value :  2\n",
      "Parameters :  {'max_depth': 90, 'max_features': 6, 'n_estimators': 200}\n",
      "Accuracy :  81.818\n",
      "Standed deviation :  4.545\n",
      "CV value :  3\n",
      "Parameters :  {'max_depth': 150, 'max_features': 2, 'n_estimators': 100}\n",
      "Accuracy :  82.576\n",
      "Standed deviation :  3.863\n",
      "CV value :  4\n",
      "Parameters :  {'max_depth': 90, 'max_features': 2, 'n_estimators': 200}\n",
      "Accuracy :  82.576\n",
      "Standed deviation :  5.819\n",
      "CV value :  5\n",
      "Parameters :  {'max_depth': 80, 'max_features': 2, 'n_estimators': 100}\n",
      "Accuracy :  83.390\n",
      "Standed deviation :  6.037\n"
     ]
    }
   ],
   "source": [
    "# creating a Random forest classifier\n",
    "rf = RandomForestClassifier()\n",
    "param_grid_rf = {\n",
    "     'max_depth': [80, 90, 100, 110, 150, 200, 300],\n",
    "     'max_features': [2, 3, 4, 5,6],\n",
    "     'n_estimators': [100, 200, 300]\n",
    "}\n",
    "\n",
    "for cv in cv_array:\n",
    "     gridSearchRF = GridSearchCV(estimator=rf, param_grid=param_grid_rf, scoring='accuracy', n_jobs=-1, cv=cv)\n",
    "     gridSearchRF.fit(X, Y)\n",
    "     print(\"CV value : \", cv)\n",
    "     print(\"Parameters : \", gridSearchRF.best_params_)\n",
    "     print(\"Accuracy :  %0.3f\" % (gridSearchRF.best_score_*100))\n",
    "     print(\"Standed deviation :  %0.3f\" % (gridSearchRF.cv_results_['std_test_score'][gridSearchRF.best_index_]*100))"
   ]
  }
 ],
 "metadata": {
  "kernelspec": {
   "display_name": "Python 3.9.13 ('base')",
   "language": "python",
   "name": "python3"
  },
  "language_info": {
   "codemirror_mode": {
    "name": "ipython",
    "version": 3
   },
   "file_extension": ".py",
   "mimetype": "text/x-python",
   "name": "python",
   "nbconvert_exporter": "python",
   "pygments_lexer": "ipython3",
   "version": "3.9.13 (main, Oct 13 2022, 21:23:06) [MSC v.1916 64 bit (AMD64)]"
  },
  "orig_nbformat": 4,
  "vscode": {
   "interpreter": {
    "hash": "dd78fe5a17d57d1a86104509f6d28e1e730005acb4374104044dd451171eb7b3"
   }
  }
 },
 "nbformat": 4,
 "nbformat_minor": 2
}
