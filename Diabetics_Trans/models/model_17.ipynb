{
 "cells": [
  {
   "cell_type": "code",
   "execution_count": 1,
   "metadata": {},
   "outputs": [],
   "source": [
    "import numpy as np;\n",
    "import pandas as pd;\n",
    "import matplotlib.pyplot as plt\n",
    "import sklearn.metrics as sm\n",
    "from sklearn.preprocessing import LabelEncoder\n",
    "from sklearn.model_selection import cross_val_score\n",
    "from sklearn.model_selection import GridSearchCV\n",
    "from sklearn.preprocessing import MinMaxScaler\n",
    "\n",
    "from scipy import stats\n",
    "from sklearn import tree\n",
    "from sklearn.ensemble import GradientBoostingClassifier\n",
    "from sklearn.neighbors import KNeighborsClassifier\n",
    "from sklearn.linear_model import LogisticRegression\n",
    "from sklearn.naive_bayes import MultinomialNB,BernoulliNB\n",
    "from sklearn.ensemble import RandomForestClassifier\n",
    "from sklearn import tree\n",
    "from sklearn import svm\n",
    "import seaborn as sb\n",
    "from imblearn.under_sampling import RandomUnderSampler\n",
    "from imblearn.over_sampling import SMOTE"
   ]
  },
  {
   "cell_type": "code",
   "execution_count": 2,
   "metadata": {},
   "outputs": [
    {
     "name": "stdout",
     "output_type": "stream",
     "text": [
      "       KLHL21        LZIC        GHITM       FBXW4       NLRP6    MIR4537  \\\n",
      "0  408.378949  119.082494   958.714995  168.195613  162.813354  12.782867   \n",
      "1  253.319773  118.435219  1178.869074  178.749450   81.150057  16.449336   \n",
      "2  532.444640  122.686792   962.249350  149.148649  180.421753   4.811247   \n",
      "3  391.074568  132.363700  1472.846990  105.890960  409.124164   2.406613   \n",
      "4  399.819591  139.601813  1269.818087  147.419514  136.251369  13.401774   \n",
      "\n",
      "         HBA1        KAT8        NFIX        JUND     ZNF582   MIR663AHG  \\\n",
      "0  422.507380  229.418816  173.577873  294.678714  22.201821  956.023865   \n",
      "1   87.729792  279.638711  100.889260  276.348843  18.642581  652.490325   \n",
      "2  258.203576  278.250437  139.526156  255.797952  23.254359  230.137970   \n",
      "3   93.857896  305.639816   57.758705  175.682729  43.319029  454.849806   \n",
      "4  751.616159  217.778828  211.077941  243.465561  26.803548   64.775241   \n",
      "\n",
      "       CLIC6         PXK  LOC101243545       MAP1B       KANTR  Target  \n",
      "0   4.709477  297.369844     26.238516  474.311629  102.262933     1.0  \n",
      "1   2.193245  233.580570     15.352714  195.198786  103.082505     1.0  \n",
      "2  10.424368  304.712294     21.650610  212.496731   83.394944     1.0  \n",
      "3   1.203306  204.562082     19.252902   13.236370   50.538867     1.0  \n",
      "4   3.350444  385.301003     33.504435  293.722214   80.410644     1.0  \n"
     ]
    }
   ],
   "source": [
    "df = pd.read_csv(\"../data/selected_M_best17.csv\")\n",
    "df = df.drop_duplicates()\n",
    "print(df.head())"
   ]
  },
  {
   "cell_type": "code",
   "execution_count": 3,
   "metadata": {},
   "outputs": [],
   "source": [
    "# def map_results(inpt):\n",
    "#     if inpt == 'control':\n",
    "#         return 0;\n",
    "\n",
    "#     else:\n",
    "#         return 1;"
   ]
  },
  {
   "cell_type": "code",
   "execution_count": 4,
   "metadata": {},
   "outputs": [],
   "source": [
    "# df['Results'] = df['Results'].apply(map_results)\n",
    "# print(df.head())"
   ]
  },
  {
   "cell_type": "code",
   "execution_count": 5,
   "metadata": {},
   "outputs": [
    {
     "data": {
      "text/html": [
       "<div>\n",
       "<style scoped>\n",
       "    .dataframe tbody tr th:only-of-type {\n",
       "        vertical-align: middle;\n",
       "    }\n",
       "\n",
       "    .dataframe tbody tr th {\n",
       "        vertical-align: top;\n",
       "    }\n",
       "\n",
       "    .dataframe thead th {\n",
       "        text-align: right;\n",
       "    }\n",
       "</style>\n",
       "<table border=\"1\" class=\"dataframe\">\n",
       "  <thead>\n",
       "    <tr style=\"text-align: right;\">\n",
       "      <th></th>\n",
       "      <th>KLHL21</th>\n",
       "      <th>LZIC</th>\n",
       "      <th>GHITM</th>\n",
       "      <th>FBXW4</th>\n",
       "      <th>NLRP6</th>\n",
       "      <th>MIR4537</th>\n",
       "      <th>HBA1</th>\n",
       "      <th>KAT8</th>\n",
       "      <th>NFIX</th>\n",
       "      <th>JUND</th>\n",
       "      <th>ZNF582</th>\n",
       "      <th>MIR663AHG</th>\n",
       "      <th>CLIC6</th>\n",
       "      <th>PXK</th>\n",
       "      <th>LOC101243545</th>\n",
       "      <th>MAP1B</th>\n",
       "      <th>KANTR</th>\n",
       "      <th>Target</th>\n",
       "    </tr>\n",
       "  </thead>\n",
       "  <tbody>\n",
       "    <tr>\n",
       "      <th>count</th>\n",
       "      <td>116.000000</td>\n",
       "      <td>116.000000</td>\n",
       "      <td>116.000000</td>\n",
       "      <td>116.000000</td>\n",
       "      <td>116.000000</td>\n",
       "      <td>116.000000</td>\n",
       "      <td>116.000000</td>\n",
       "      <td>116.000000</td>\n",
       "      <td>116.000000</td>\n",
       "      <td>116.000000</td>\n",
       "      <td>116.000000</td>\n",
       "      <td>116.000000</td>\n",
       "      <td>116.000000</td>\n",
       "      <td>116.000000</td>\n",
       "      <td>116.000000</td>\n",
       "      <td>116.000000</td>\n",
       "      <td>116.000000</td>\n",
       "      <td>116.000000</td>\n",
       "    </tr>\n",
       "    <tr>\n",
       "      <th>mean</th>\n",
       "      <td>341.190567</td>\n",
       "      <td>136.380108</td>\n",
       "      <td>1316.600825</td>\n",
       "      <td>160.215432</td>\n",
       "      <td>169.348899</td>\n",
       "      <td>9.362595</td>\n",
       "      <td>5631.022563</td>\n",
       "      <td>266.777843</td>\n",
       "      <td>201.365632</td>\n",
       "      <td>266.508239</td>\n",
       "      <td>29.506354</td>\n",
       "      <td>681.840503</td>\n",
       "      <td>3.872180</td>\n",
       "      <td>256.507771</td>\n",
       "      <td>85.236171</td>\n",
       "      <td>20716.912286</td>\n",
       "      <td>68.295853</td>\n",
       "      <td>0.431034</td>\n",
       "    </tr>\n",
       "    <tr>\n",
       "      <th>std</th>\n",
       "      <td>132.385307</td>\n",
       "      <td>48.225795</td>\n",
       "      <td>417.421640</td>\n",
       "      <td>62.692747</td>\n",
       "      <td>134.415089</td>\n",
       "      <td>8.547251</td>\n",
       "      <td>22376.681532</td>\n",
       "      <td>45.054985</td>\n",
       "      <td>451.931079</td>\n",
       "      <td>291.919740</td>\n",
       "      <td>9.753641</td>\n",
       "      <td>1065.674828</td>\n",
       "      <td>4.924806</td>\n",
       "      <td>75.158344</td>\n",
       "      <td>86.748891</td>\n",
       "      <td>84011.721084</td>\n",
       "      <td>18.337080</td>\n",
       "      <td>0.497369</td>\n",
       "    </tr>\n",
       "    <tr>\n",
       "      <th>min</th>\n",
       "      <td>66.370880</td>\n",
       "      <td>80.726335</td>\n",
       "      <td>551.370727</td>\n",
       "      <td>72.174788</td>\n",
       "      <td>5.006662</td>\n",
       "      <td>1.000000</td>\n",
       "      <td>5.788649</td>\n",
       "      <td>165.482936</td>\n",
       "      <td>6.753424</td>\n",
       "      <td>59.757097</td>\n",
       "      <td>5.620869</td>\n",
       "      <td>8.483496</td>\n",
       "      <td>1.000000</td>\n",
       "      <td>92.618381</td>\n",
       "      <td>1.000000</td>\n",
       "      <td>2.165143</td>\n",
       "      <td>10.013325</td>\n",
       "      <td>0.000000</td>\n",
       "    </tr>\n",
       "    <tr>\n",
       "      <th>25%</th>\n",
       "      <td>262.744890</td>\n",
       "      <td>113.147906</td>\n",
       "      <td>1111.321750</td>\n",
       "      <td>128.284451</td>\n",
       "      <td>102.645681</td>\n",
       "      <td>3.681635</td>\n",
       "      <td>45.582804</td>\n",
       "      <td>235.568519</td>\n",
       "      <td>69.344060</td>\n",
       "      <td>123.953297</td>\n",
       "      <td>23.326957</td>\n",
       "      <td>83.343558</td>\n",
       "      <td>1.000000</td>\n",
       "      <td>214.513117</td>\n",
       "      <td>25.079348</td>\n",
       "      <td>24.096767</td>\n",
       "      <td>56.578993</td>\n",
       "      <td>0.000000</td>\n",
       "    </tr>\n",
       "    <tr>\n",
       "      <th>50%</th>\n",
       "      <td>315.817003</td>\n",
       "      <td>126.301624</td>\n",
       "      <td>1266.457106</td>\n",
       "      <td>149.552023</td>\n",
       "      <td>137.750146</td>\n",
       "      <td>5.962768</td>\n",
       "      <td>225.706240</td>\n",
       "      <td>266.388902</td>\n",
       "      <td>94.318849</td>\n",
       "      <td>197.398628</td>\n",
       "      <td>29.094008</td>\n",
       "      <td>300.196621</td>\n",
       "      <td>1.965003</td>\n",
       "      <td>247.881034</td>\n",
       "      <td>38.451703</td>\n",
       "      <td>197.766605</td>\n",
       "      <td>70.584817</td>\n",
       "      <td>0.000000</td>\n",
       "    </tr>\n",
       "    <tr>\n",
       "      <th>75%</th>\n",
       "      <td>393.077684</td>\n",
       "      <td>143.457188</td>\n",
       "      <td>1436.113204</td>\n",
       "      <td>175.558203</td>\n",
       "      <td>191.200896</td>\n",
       "      <td>12.593158</td>\n",
       "      <td>757.331937</td>\n",
       "      <td>285.892972</td>\n",
       "      <td>155.725190</td>\n",
       "      <td>296.450687</td>\n",
       "      <td>33.859239</td>\n",
       "      <td>770.164663</td>\n",
       "      <td>3.915522</td>\n",
       "      <td>282.903629</td>\n",
       "      <td>128.311941</td>\n",
       "      <td>626.153699</td>\n",
       "      <td>80.458632</td>\n",
       "      <td>1.000000</td>\n",
       "    </tr>\n",
       "    <tr>\n",
       "      <th>max</th>\n",
       "      <td>1136.361050</td>\n",
       "      <td>467.984177</td>\n",
       "      <td>4642.026371</td>\n",
       "      <td>600.611272</td>\n",
       "      <td>848.504583</td>\n",
       "      <td>39.113255</td>\n",
       "      <td>165229.888627</td>\n",
       "      <td>505.662279</td>\n",
       "      <td>3351.676152</td>\n",
       "      <td>2298.238085</td>\n",
       "      <td>69.124421</td>\n",
       "      <td>7208.064725</td>\n",
       "      <td>34.068601</td>\n",
       "      <td>707.927191</td>\n",
       "      <td>385.882601</td>\n",
       "      <td>575118.397908</td>\n",
       "      <td>105.574372</td>\n",
       "      <td>1.000000</td>\n",
       "    </tr>\n",
       "  </tbody>\n",
       "</table>\n",
       "</div>"
      ],
      "text/plain": [
       "            KLHL21        LZIC        GHITM       FBXW4       NLRP6  \\\n",
       "count   116.000000  116.000000   116.000000  116.000000  116.000000   \n",
       "mean    341.190567  136.380108  1316.600825  160.215432  169.348899   \n",
       "std     132.385307   48.225795   417.421640   62.692747  134.415089   \n",
       "min      66.370880   80.726335   551.370727   72.174788    5.006662   \n",
       "25%     262.744890  113.147906  1111.321750  128.284451  102.645681   \n",
       "50%     315.817003  126.301624  1266.457106  149.552023  137.750146   \n",
       "75%     393.077684  143.457188  1436.113204  175.558203  191.200896   \n",
       "max    1136.361050  467.984177  4642.026371  600.611272  848.504583   \n",
       "\n",
       "          MIR4537           HBA1        KAT8         NFIX         JUND  \\\n",
       "count  116.000000     116.000000  116.000000   116.000000   116.000000   \n",
       "mean     9.362595    5631.022563  266.777843   201.365632   266.508239   \n",
       "std      8.547251   22376.681532   45.054985   451.931079   291.919740   \n",
       "min      1.000000       5.788649  165.482936     6.753424    59.757097   \n",
       "25%      3.681635      45.582804  235.568519    69.344060   123.953297   \n",
       "50%      5.962768     225.706240  266.388902    94.318849   197.398628   \n",
       "75%     12.593158     757.331937  285.892972   155.725190   296.450687   \n",
       "max     39.113255  165229.888627  505.662279  3351.676152  2298.238085   \n",
       "\n",
       "           ZNF582    MIR663AHG       CLIC6         PXK  LOC101243545  \\\n",
       "count  116.000000   116.000000  116.000000  116.000000    116.000000   \n",
       "mean    29.506354   681.840503    3.872180  256.507771     85.236171   \n",
       "std      9.753641  1065.674828    4.924806   75.158344     86.748891   \n",
       "min      5.620869     8.483496    1.000000   92.618381      1.000000   \n",
       "25%     23.326957    83.343558    1.000000  214.513117     25.079348   \n",
       "50%     29.094008   300.196621    1.965003  247.881034     38.451703   \n",
       "75%     33.859239   770.164663    3.915522  282.903629    128.311941   \n",
       "max     69.124421  7208.064725   34.068601  707.927191    385.882601   \n",
       "\n",
       "               MAP1B       KANTR      Target  \n",
       "count     116.000000  116.000000  116.000000  \n",
       "mean    20716.912286   68.295853    0.431034  \n",
       "std     84011.721084   18.337080    0.497369  \n",
       "min         2.165143   10.013325    0.000000  \n",
       "25%        24.096767   56.578993    0.000000  \n",
       "50%       197.766605   70.584817    0.000000  \n",
       "75%       626.153699   80.458632    1.000000  \n",
       "max    575118.397908  105.574372    1.000000  "
      ]
     },
     "execution_count": 5,
     "metadata": {},
     "output_type": "execute_result"
    }
   ],
   "source": [
    "\n",
    "df.describe()"
   ]
  },
  {
   "cell_type": "code",
   "execution_count": 6,
   "metadata": {},
   "outputs": [
    {
     "name": "stdout",
     "output_type": "stream",
     "text": [
      "['KLHL21', 'LZIC', 'GHITM', 'FBXW4', 'NLRP6', 'MIR4537', 'HBA1', 'KAT8', 'NFIX', 'JUND', 'ZNF582', 'MIR663AHG', 'CLIC6', 'PXK', 'LOC101243545', 'MAP1B', 'KANTR', 'Target']\n",
      "18\n"
     ]
    }
   ],
   "source": [
    "df_features = list(df.columns)\n",
    "print(df_features)\n",
    "print(len(df.columns))"
   ]
  },
  {
   "cell_type": "code",
   "execution_count": 7,
   "metadata": {},
   "outputs": [
    {
     "data": {
      "image/png": "[encoded data removed]",
      "text/plain": [
       "<Figure size 2000x2500 with 20 Axes>"
      ]
     },
     "metadata": {},
     "output_type": "display_data"
    }
   ],
   "source": [
    "fig, axes = plt.subplots(5,4, figsize=(20,25))\n",
    "x_,y_ = 0,0\n",
    "for i, column in enumerate(df.columns[0:]):    \n",
    "    sb.boxplot(x=df[column], ax=axes[x_,y_], palette=\"Set2\")\n",
    "    if i < 3:\n",
    "        y_ += 1\n",
    "    elif i == 3: \n",
    "        x_ = 1\n",
    "        y_ = 0\n",
    "    elif i == 7:\n",
    "        x_ = 2\n",
    "        y_ = 0\n",
    "    elif i == 11:\n",
    "        x_ = 3\n",
    "        y_ = 0\n",
    "    elif i == 15:\n",
    "        x_ = 4\n",
    "        y_ = 0\n",
    "    else:\n",
    "        y_ += 1"
   ]
  },
  {
   "cell_type": "code",
   "execution_count": 8,
   "metadata": {},
   "outputs": [
    {
     "name": "stdout",
     "output_type": "stream",
     "text": [
      "Index(['KLHL21', 'LZIC', 'GHITM', 'FBXW4', 'NLRP6', 'MIR4537', 'HBA1', 'KAT8',\n",
      "       'NFIX', 'JUND', 'ZNF582', 'MIR663AHG', 'CLIC6', 'PXK', 'LOC101243545',\n",
      "       'MAP1B', 'KANTR', 'Target'],\n",
      "      dtype='object')\n",
      "     KLHL21      LZIC     GHITM     FBXW4     NLRP6   MIR4537      HBA1  \\\n",
      "0  0.319637  0.099046  0.099579  0.181707  0.187086  0.309154  0.002522   \n",
      "1  0.174720  0.097374  0.153398  0.201679  0.090271  0.405353  0.000496   \n",
      "2  0.435587  0.108353  0.100443  0.145663  0.207961  0.099998  0.001528   \n",
      "3  0.303464  0.133341  0.225264  0.063804  0.479097  0.036906  0.000533   \n",
      "4  0.311637  0.152032  0.175631  0.142391  0.155596  0.325393  0.004514   \n",
      "\n",
      "       KAT8      NFIX      JUND    ZNF582  MIR663AHG     CLIC6       PXK  \\\n",
      "0  0.187948  0.049874  0.104947  0.261103   0.131610  0.112175  0.332762   \n",
      "1  0.335575  0.028143  0.096758  0.205055   0.089451  0.036084  0.229092   \n",
      "2  0.331494  0.039694  0.087578  0.277677   0.030787  0.284994  0.344695   \n",
      "3  0.412009  0.015249  0.051788  0.593639   0.061999  0.006148  0.181931   \n",
      "4  0.153730  0.061085  0.082068  0.333567   0.007819  0.071078  0.475668   \n",
      "\n",
      "   LOC101243545     MAP1B     KANTR  Target  \n",
      "0      0.065575  0.000821  0.965347     1.0  \n",
      "1      0.037291  0.000336  0.973924     1.0  \n",
      "2      0.053654  0.000366  0.767903     1.0  \n",
      "3      0.047425  0.000019  0.424080     1.0  \n",
      "4      0.084453  0.000507  0.736674     1.0  \n"
     ]
    }
   ],
   "source": [
    "cols = df.columns\n",
    "print(cols)\n",
    "scaler = MinMaxScaler()\n",
    "dat = scaler.fit_transform(df)\n",
    "df_02 = pd.DataFrame(data=dat, columns=cols)  \n",
    "print(df_02.head())"
   ]
  },
  {
   "cell_type": "code",
   "execution_count": 9,
   "metadata": {},
   "outputs": [
    {
     "name": "stdout",
     "output_type": "stream",
     "text": [
      "0.0    66\n",
      "1.0    50\n",
      "Name: Target, dtype: int64\n"
     ]
    }
   ],
   "source": [
    "x = df_02.drop([\"Target\"], axis =1);\n",
    "y = df[\"Target\"]\n",
    "print(y.value_counts())"
   ]
  },
  {
   "cell_type": "code",
   "execution_count": 10,
   "metadata": {},
   "outputs": [
    {
     "data": {
      "text/plain": [
       "(array([66.,  0.,  0.,  0.,  0.,  0.,  0.,  0.,  0., 50.]),\n",
       " array([0. , 0.1, 0.2, 0.3, 0.4, 0.5, 0.6, 0.7, 0.8, 0.9, 1. ]),\n",
       " <BarContainer object of 10 artists>)"
      ]
     },
     "execution_count": 10,
     "metadata": {},
     "output_type": "execute_result"
    },
    {
     "data": {
      "image/png": "[encoded data removed]",
      "text/plain": [
       "<Figure size 640x480 with 1 Axes>"
      ]
     },
     "metadata": {},
     "output_type": "display_data"
    }
   ],
   "source": [
    "plt.hist(y)"
   ]
  },
  {
   "cell_type": "code",
   "execution_count": 11,
   "metadata": {},
   "outputs": [
    {
     "name": "stdout",
     "output_type": "stream",
     "text": [
      "1.0    66\n",
      "0.0    66\n",
      "Name: Target, dtype: int64\n"
     ]
    },
    {
     "data": {
      "text/plain": [
       "(array([66.,  0.,  0.,  0.,  0.,  0.,  0.,  0.,  0., 66.]),\n",
       " array([0. , 0.1, 0.2, 0.3, 0.4, 0.5, 0.6, 0.7, 0.8, 0.9, 1. ]),\n",
       " <BarContainer object of 10 artists>)"
      ]
     },
     "execution_count": 11,
     "metadata": {},
     "output_type": "execute_result"
    },
    {
     "data": {
      "image/png": "[encoded data removed]",
      "text/plain": [
       "<Figure size 640x480 with 1 Axes>"
      ]
     },
     "metadata": {},
     "output_type": "display_data"
    }
   ],
   "source": [
    "smt = SMOTE()\n",
    "X, Y = smt.fit_resample(x,y)\n",
    "print(Y.value_counts())\n",
    "plt.hist(Y)"
   ]
  },
  {
   "cell_type": "code",
   "execution_count": 12,
   "metadata": {},
   "outputs": [
    {
     "name": "stdout",
     "output_type": "stream",
     "text": [
      "CV value :  2\n",
      "Parameters :  {}\n",
      "Accuracy :  78.788\n",
      "Standed deviation :  1.515\n",
      "CV value :  3\n",
      "Parameters :  {}\n",
      "Accuracy :  75.000\n",
      "Standed deviation :  0.000\n",
      "CV value :  4\n",
      "Parameters :  {}\n",
      "Accuracy :  71.970\n",
      "Standed deviation :  9.907\n",
      "CV value :  5\n",
      "Parameters :  {}\n",
      "Accuracy :  73.618\n",
      "Standed deviation :  8.123\n"
     ]
    }
   ],
   "source": [
    "# creating a decision tree classifier\n",
    "dt_model = tree.DecisionTreeClassifier()\n",
    "param_grid_dt = {\n",
    "     \n",
    "}\n",
    "cv_array = [2,3,4,5]\n",
    "for cv in cv_array:\n",
    "    gridSearchRF = GridSearchCV(estimator=dt_model, param_grid=param_grid_dt, scoring='accuracy', n_jobs=-1, cv=cv)\n",
    "    gridSearchRF.fit(X, Y)\n",
    "    print(\"CV value : \", cv)\n",
    "    print(\"Parameters : \", gridSearchRF.best_params_)\n",
    "    print(\"Accuracy :  %0.3f\" % (gridSearchRF.best_score_*100))\n",
    "    print(\"Standed deviation :  %0.3f\" % (gridSearchRF.cv_results_['std_test_score'][gridSearchRF.best_index_]*100))"
   ]
  },
  {
   "cell_type": "code",
   "execution_count": 13,
   "metadata": {},
   "outputs": [
    {
     "name": "stdout",
     "output_type": "stream",
     "text": [
      "CV value :  2\n",
      "Parameters :  {'random_state': 0}\n",
      "Accuracy :  79.545\n",
      "Standed deviation :  2.273\n",
      "CV value :  3\n",
      "Parameters :  {'random_state': 0}\n",
      "Accuracy :  81.818\n",
      "Standed deviation :  5.567\n",
      "CV value :  4\n",
      "Parameters :  {'random_state': 4}\n",
      "Accuracy :  82.576\n",
      "Standed deviation :  7.836\n",
      "CV value :  5\n",
      "Parameters :  {'random_state': 30}\n",
      "Accuracy :  82.707\n",
      "Standed deviation :  9.454\n"
     ]
    }
   ],
   "source": [
    "# creating a Gradient boosting classifier\n",
    "gb_model = GradientBoostingClassifier()\n",
    "param_grid_gb = {\n",
    "     'random_state': [0, 1, 2,3,4,5 , 10, 20, 30, 40, 50]\n",
    "}\n",
    "for cv in cv_array:\n",
    "     gridSearchRF = GridSearchCV(estimator=gb_model, param_grid=param_grid_gb, scoring='accuracy', n_jobs=-1, cv=cv)\n",
    "     gridSearchRF.fit(X, Y)\n",
    "     print(\"CV value : \", cv)\n",
    "     print(\"Parameters : \", gridSearchRF.best_params_)\n",
    "     print(\"Accuracy :  %0.3f\" % (gridSearchRF.best_score_*100))\n",
    "     print(\"Standed deviation :  %0.3f\" % (gridSearchRF.cv_results_['std_test_score'][gridSearchRF.best_index_]*100))"
   ]
  },
  {
   "cell_type": "code",
   "execution_count": 14,
   "metadata": {},
   "outputs": [
    {
     "name": "stdout",
     "output_type": "stream",
     "text": [
      "CV value :  2\n",
      "Parameters :  {'n_neighbors': 5}\n",
      "Accuracy :  72.727\n",
      "Standed deviation :  0.000\n",
      "CV value :  3\n",
      "Parameters :  {'n_neighbors': 3}\n",
      "Accuracy :  72.727\n",
      "Standed deviation :  1.856\n",
      "CV value :  4\n",
      "Parameters :  {'n_neighbors': 11}\n",
      "Accuracy :  76.515\n",
      "Standed deviation :  7.227\n",
      "CV value :  5\n",
      "Parameters :  {'n_neighbors': 7}\n",
      "Accuracy :  76.553\n",
      "Standed deviation :  4.180\n"
     ]
    }
   ],
   "source": [
    "# creating a KNN classifier\n",
    "KNN_model =KNeighborsClassifier()\n",
    "param_grid_knn = {\n",
    "     'n_neighbors': [3, 5, 7, 11, 13, 17]\n",
    "}\n",
    "for cv in cv_array:\n",
    "     gridSearchRF = GridSearchCV(estimator=KNN_model, param_grid=param_grid_knn, scoring='accuracy', n_jobs=-1, cv=cv)\n",
    "     gridSearchRF.fit(X, Y)\n",
    "     print(\"CV value : \", cv)\n",
    "     print(\"Parameters : \", gridSearchRF.best_params_)\n",
    "     print(\"Accuracy :  %0.3f\" % (gridSearchRF.best_score_*100))\n",
    "     print(\"Standed deviation :  %0.3f\" % (gridSearchRF.cv_results_['std_test_score'][gridSearchRF.best_index_]*100))"
   ]
  },
  {
   "cell_type": "code",
   "execution_count": 15,
   "metadata": {},
   "outputs": [
    {
     "name": "stdout",
     "output_type": "stream",
     "text": [
      "CV value :  2\n",
      "Parameters :  {'max_iter': 100}\n",
      "Accuracy :  64.394\n",
      "Standed deviation :  2.273\n",
      "CV value :  3\n",
      "Parameters :  {'max_iter': 100}\n",
      "Accuracy :  69.697\n",
      "Standed deviation :  5.965\n",
      "CV value :  4\n",
      "Parameters :  {'max_iter': 100}\n",
      "Accuracy :  71.212\n",
      "Standed deviation :  10.820\n",
      "CV value :  5\n",
      "Parameters :  {'max_iter': 100}\n",
      "Accuracy :  71.168\n",
      "Standed deviation :  6.733\n"
     ]
    }
   ],
   "source": [
    "# creating a Lgistic regression classifier\n",
    "lr_model = LogisticRegression() \n",
    "\n",
    "param_grid_lr = {\n",
    "     'max_iter': [100, 200, 300, 400, 500]\n",
    "}\n",
    "for cv in cv_array:\n",
    "     gridSearchRF = GridSearchCV(estimator=lr_model, param_grid=param_grid_lr, scoring='accuracy', n_jobs=-1, cv=cv)\n",
    "     gridSearchRF.fit(X, Y)\n",
    "     print(\"CV value : \", cv)\n",
    "     print(\"Parameters : \", gridSearchRF.best_params_)\n",
    "     print(\"Accuracy :  %0.3f\" % (gridSearchRF.best_score_*100))\n",
    "     print(\"Standed deviation :  %0.3f\" % (gridSearchRF.cv_results_['std_test_score'][gridSearchRF.best_index_]*100))\n"
   ]
  },
  {
   "cell_type": "code",
   "execution_count": 16,
   "metadata": {},
   "outputs": [
    {
     "name": "stdout",
     "output_type": "stream",
     "text": [
      "CV value :  2\n",
      "Parameters :  {}\n",
      "Accuracy :  62.121\n",
      "Standed deviation :  0.000\n",
      "CV value :  3\n",
      "Parameters :  {}\n",
      "Accuracy :  68.939\n",
      "Standed deviation :  5.357\n",
      "CV value :  4\n",
      "Parameters :  {}\n",
      "Accuracy :  73.485\n",
      "Standed deviation :  9.907\n",
      "CV value :  5\n",
      "Parameters :  {}\n",
      "Accuracy :  71.909\n",
      "Standed deviation :  5.466\n"
     ]
    }
   ],
   "source": [
    "# creating a Nave Bayers classifier\n",
    "nb_model = MultinomialNB()\n",
    "param_grid_nb = {\n",
    "\n",
    "}\n",
    "for cv in cv_array:\n",
    "    gridSearchRF = GridSearchCV(estimator=nb_model, param_grid=param_grid_nb, scoring='accuracy', n_jobs=-1, cv=cv)\n",
    "    gridSearchRF.fit(X, Y)\n",
    "    print(\"CV value : \", cv)\n",
    "    print(\"Parameters : \", gridSearchRF.best_params_)\n",
    "    print(\"Accuracy :  %0.3f\" % (gridSearchRF.best_score_*100))\n",
    "    print(\"Standed deviation :  %0.3f\" % (gridSearchRF.cv_results_['std_test_score'][gridSearchRF.best_index_]*100))\n"
   ]
  },
  {
   "cell_type": "code",
   "execution_count": 17,
   "metadata": {},
   "outputs": [
    {
     "name": "stdout",
     "output_type": "stream",
     "text": [
      "CV value :  2\n",
      "Parameters :  {'kernel': 'poly'}\n",
      "Accuracy :  75.000\n",
      "Standed deviation :  5.303\n"
     ]
    },
    {
     "name": "stdout",
     "output_type": "stream",
     "text": [
      "CV value :  3\n",
      "Parameters :  {'kernel': 'poly'}\n",
      "Accuracy :  75.000\n",
      "Standed deviation :  6.428\n",
      "CV value :  4\n",
      "Parameters :  {'kernel': 'poly'}\n",
      "Accuracy :  76.515\n",
      "Standed deviation :  13.783\n",
      "CV value :  5\n",
      "Parameters :  {'kernel': 'rbf'}\n",
      "Accuracy :  75.783\n",
      "Standed deviation :  3.654\n"
     ]
    }
   ],
   "source": [
    "# creating a SVM classifier\n",
    "svm_model = svm.SVC()\n",
    "param_grid_svm = {\n",
    "     'kernel': ['linear', 'poly', 'rbf', 'sigmoid']\n",
    "}\n",
    "\n",
    "for cv in cv_array:\n",
    "     gridSearchRF = GridSearchCV(estimator=svm_model, param_grid=param_grid_svm, scoring='accuracy', n_jobs=-1, cv=cv)\n",
    "     gridSearchRF.fit(X, Y)\n",
    "     print(\"CV value : \", cv)\n",
    "     print(\"Parameters : \", gridSearchRF.best_params_)\n",
    "     print(\"Accuracy :  %0.3f\" % (gridSearchRF.best_score_*100))\n",
    "     print(\"Standed deviation :  %0.3f\" % (gridSearchRF.cv_results_['std_test_score'][gridSearchRF.best_index_]*100))\n"
   ]
  },
  {
   "cell_type": "code",
   "execution_count": 18,
   "metadata": {},
   "outputs": [
    {
     "name": "stdout",
     "output_type": "stream",
     "text": [
      "CV value :  2\n",
      "Parameters :  {'max_depth': 90, 'max_features': 3, 'n_estimators': 300}\n",
      "Accuracy :  83.333\n",
      "Standed deviation :  4.545\n",
      "CV value :  3\n",
      "Parameters :  {'max_depth': 80, 'max_features': 4, 'n_estimators': 100}\n",
      "Accuracy :  83.333\n",
      "Standed deviation :  2.835\n",
      "CV value :  4\n",
      "Parameters :  {'max_depth': 80, 'max_features': 2, 'n_estimators': 300}\n",
      "Accuracy :  85.606\n",
      "Standed deviation :  7.836\n",
      "CV value :  5\n",
      "Parameters :  {'max_depth': 110, 'max_features': 3, 'n_estimators': 100}\n",
      "Accuracy :  84.188\n",
      "Standed deviation :  7.116\n"
     ]
    }
   ],
   "source": [
    "# creating a Random forest classifier\n",
    "rf = RandomForestClassifier()\n",
    "param_grid_rf = {\n",
    "     'max_depth': [80, 90, 100, 110, 150, 200, 300],\n",
    "     'max_features': [2, 3, 4, 5,6],\n",
    "     'n_estimators': [100, 200, 300]\n",
    "}\n",
    "\n",
    "for cv in cv_array:\n",
    "     gridSearchRF = GridSearchCV(estimator=rf, param_grid=param_grid_rf, scoring='accuracy', n_jobs=-1, cv=cv)\n",
    "     gridSearchRF.fit(X, Y)\n",
    "     print(\"CV value : \", cv)\n",
    "     print(\"Parameters : \", gridSearchRF.best_params_)\n",
    "     print(\"Accuracy :  %0.3f\" % (gridSearchRF.best_score_*100))\n",
    "     print(\"Standed deviation :  %0.3f\" % (gridSearchRF.cv_results_['std_test_score'][gridSearchRF.best_index_]*100))"
   ]
  }
 ],
 "metadata": {
  "kernelspec": {
   "display_name": "Python 3.9.13 ('base')",
   "language": "python",
   "name": "python3"
  },
  "language_info": {
   "codemirror_mode": {
    "name": "ipython",
    "version": 3
   },
   "file_extension": ".py",
   "mimetype": "text/x-python",
   "name": "python",
   "nbconvert_exporter": "python",
   "pygments_lexer": "ipython3",
   "version": "3.11.3"
  },
  "orig_nbformat": 4,
  "vscode": {
   "interpreter": {
    "hash": "dd78fe5a17d57d1a86104509f6d28e1e730005acb4374104044dd451171eb7b3"
   }
  }
 },
 "nbformat": 4,
 "nbformat_minor": 2
}
