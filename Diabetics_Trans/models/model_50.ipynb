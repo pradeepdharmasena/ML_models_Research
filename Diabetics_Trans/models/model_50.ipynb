{
 "cells": [
  {
   "cell_type": "code",
   "execution_count": 2,
   "metadata": {},
   "outputs": [],
   "source": [
    "import numpy as np;\n",
    "import pandas as pd;\n",
    "import matplotlib.pyplot as plt\n",
    "import sklearn.metrics as sm\n",
    "from sklearn.preprocessing import LabelEncoder\n",
    "from sklearn.model_selection import cross_val_score\n",
    "from sklearn.model_selection import GridSearchCV\n",
    "from sklearn.preprocessing import MinMaxScaler\n",
    "\n",
    "from scipy import stats\n",
    "from sklearn import tree\n",
    "from sklearn.ensemble import GradientBoostingClassifier\n",
    "from sklearn.neighbors import KNeighborsClassifier\n",
    "from sklearn.linear_model import LogisticRegression\n",
    "from sklearn.naive_bayes import MultinomialNB,BernoulliNB\n",
    "from sklearn.ensemble import RandomForestClassifier\n",
    "from sklearn import tree\n",
    "from sklearn import svm\n",
    "import seaborn as sb\n",
    "from imblearn.under_sampling import RandomUnderSampler\n",
    "from imblearn.over_sampling import SMOTE"
   ]
  },
  {
   "cell_type": "code",
   "execution_count": 3,
   "metadata": {},
   "outputs": [
    {
     "name": "stdout",
     "output_type": "stream",
     "text": [
      "       HES5      KLHL21        LZIC      CASZ1     EIF2B3     NHLH2  \\\n",
      "0  1.000000  408.378949  119.082494  39.694165  67.951028  1.000000   \n",
      "1  1.000000  253.319773  118.435219  21.932448  84.439924  3.289867   \n",
      "2  2.405623  532.444640  122.686792  60.140584  73.772450  4.811247   \n",
      "3  1.000000  391.074568  132.363700  19.252902  73.401688  1.000000   \n",
      "4  1.116815  399.819591  139.601812  59.191169  61.424797  4.467258   \n",
      "\n",
      "        FCRLA       ARID4B        GHITM       FBXW4  ...       MAP1B  \\\n",
      "0   92.171196  1163.913643   958.714995  168.195613  ...  474.311629   \n",
      "1  245.643416  1383.937462  1178.869074  178.749450  ...  195.198786   \n",
      "2   77.781822  1048.851791   962.249350  149.148649  ...  212.496731   \n",
      "3   77.011607  1872.344702  1472.846990  105.890960  ...   13.236370   \n",
      "4  171.989433  1322.308368  1269.818087  147.419514  ...  293.722214   \n",
      "\n",
      "        RBM22  LOC202181      NT5C3A        RALA     TAS2R5      SCRIB  \\\n",
      "0  192.415781  87.461719  349.846875  111.009105  12.782867  93.516761   \n",
      "1  165.589981  69.087211  424.392867  132.691310  14.256091  48.251385   \n",
      "2  242.166086  77.781822  258.203576  121.884918  16.037489  83.394944   \n",
      "3  232.238128  52.945480  635.345760  125.143862   2.406613  50.538867   \n",
      "4  195.442537  83.761088  367.431970  119.499151  12.284959  83.761088   \n",
      "\n",
      "        KANTR      MIR6087  Results  \n",
      "0  102.262933  1324.035867        1  \n",
      "1  103.082505   332.276586        1  \n",
      "2   83.394944   743.337623        1  \n",
      "3   50.538867   354.975377        1  \n",
      "4   80.410644   260.217779        1  \n",
      "\n",
      "[5 rows x 51 columns]\n"
     ]
    }
   ],
   "source": [
    "df = pd.read_csv(\"../data/selected_M_best50.csv\")\n",
    "df = df.drop_duplicates()\n",
    "print(df.head())"
   ]
  },
  {
   "cell_type": "code",
   "execution_count": 4,
   "metadata": {},
   "outputs": [],
   "source": [
    "# def map_results(inpt):\n",
    "#     if inpt == 'control':\n",
    "#         return 0;\n",
    "\n",
    "#     else:\n",
    "#         return 1;"
   ]
  },
  {
   "cell_type": "code",
   "execution_count": 5,
   "metadata": {},
   "outputs": [],
   "source": [
    "# df['Results'] = df['Results'].apply(map_results)\n",
    "# print(df.head())"
   ]
  },
  {
   "cell_type": "code",
   "execution_count": 6,
   "metadata": {},
   "outputs": [
    {
     "data": {
      "text/html": [
       "<div>\n",
       "<style scoped>\n",
       "    .dataframe tbody tr th:only-of-type {\n",
       "        vertical-align: middle;\n",
       "    }\n",
       "\n",
       "    .dataframe tbody tr th {\n",
       "        vertical-align: top;\n",
       "    }\n",
       "\n",
       "    .dataframe thead th {\n",
       "        text-align: right;\n",
       "    }\n",
       "</style>\n",
       "<table border=\"1\" class=\"dataframe\">\n",
       "  <thead>\n",
       "    <tr style=\"text-align: right;\">\n",
       "      <th></th>\n",
       "      <th>HES5</th>\n",
       "      <th>KLHL21</th>\n",
       "      <th>LZIC</th>\n",
       "      <th>CASZ1</th>\n",
       "      <th>EIF2B3</th>\n",
       "      <th>NHLH2</th>\n",
       "      <th>FCRLA</th>\n",
       "      <th>ARID4B</th>\n",
       "      <th>GHITM</th>\n",
       "      <th>FBXW4</th>\n",
       "      <th>...</th>\n",
       "      <th>MAP1B</th>\n",
       "      <th>RBM22</th>\n",
       "      <th>LOC202181</th>\n",
       "      <th>NT5C3A</th>\n",
       "      <th>RALA</th>\n",
       "      <th>TAS2R5</th>\n",
       "      <th>SCRIB</th>\n",
       "      <th>KANTR</th>\n",
       "      <th>MIR6087</th>\n",
       "      <th>Results</th>\n",
       "    </tr>\n",
       "  </thead>\n",
       "  <tbody>\n",
       "    <tr>\n",
       "      <th>count</th>\n",
       "      <td>116.000000</td>\n",
       "      <td>116.000000</td>\n",
       "      <td>116.000000</td>\n",
       "      <td>116.000000</td>\n",
       "      <td>116.000000</td>\n",
       "      <td>116.000000</td>\n",
       "      <td>116.000000</td>\n",
       "      <td>116.000000</td>\n",
       "      <td>116.000000</td>\n",
       "      <td>116.000000</td>\n",
       "      <td>...</td>\n",
       "      <td>116.000000</td>\n",
       "      <td>116.000000</td>\n",
       "      <td>116.000000</td>\n",
       "      <td>116.000000</td>\n",
       "      <td>116.000000</td>\n",
       "      <td>116.000000</td>\n",
       "      <td>116.000000</td>\n",
       "      <td>116.000000</td>\n",
       "      <td>1.160000e+02</td>\n",
       "      <td>116.000000</td>\n",
       "    </tr>\n",
       "    <tr>\n",
       "      <th>mean</th>\n",
       "      <td>1.259586</td>\n",
       "      <td>341.190567</td>\n",
       "      <td>136.380108</td>\n",
       "      <td>35.542237</td>\n",
       "      <td>70.846265</td>\n",
       "      <td>1.968033</td>\n",
       "      <td>146.820715</td>\n",
       "      <td>1449.202745</td>\n",
       "      <td>1316.600825</td>\n",
       "      <td>160.215432</td>\n",
       "      <td>...</td>\n",
       "      <td>20716.912287</td>\n",
       "      <td>187.971192</td>\n",
       "      <td>66.840623</td>\n",
       "      <td>505.436399</td>\n",
       "      <td>127.123553</td>\n",
       "      <td>10.770483</td>\n",
       "      <td>76.125851</td>\n",
       "      <td>68.295853</td>\n",
       "      <td>8.035998e+04</td>\n",
       "      <td>0.431034</td>\n",
       "    </tr>\n",
       "    <tr>\n",
       "      <th>std</th>\n",
       "      <td>0.812481</td>\n",
       "      <td>132.385307</td>\n",
       "      <td>48.225795</td>\n",
       "      <td>21.990355</td>\n",
       "      <td>19.913995</td>\n",
       "      <td>2.597023</td>\n",
       "      <td>77.459744</td>\n",
       "      <td>271.858239</td>\n",
       "      <td>417.421640</td>\n",
       "      <td>62.692747</td>\n",
       "      <td>...</td>\n",
       "      <td>84011.721085</td>\n",
       "      <td>32.577634</td>\n",
       "      <td>30.962460</td>\n",
       "      <td>324.136759</td>\n",
       "      <td>34.880393</td>\n",
       "      <td>5.816347</td>\n",
       "      <td>47.337180</td>\n",
       "      <td>18.337080</td>\n",
       "      <td>3.235455e+05</td>\n",
       "      <td>0.497369</td>\n",
       "    </tr>\n",
       "    <tr>\n",
       "      <th>min</th>\n",
       "      <td>1.000000</td>\n",
       "      <td>66.370880</td>\n",
       "      <td>80.726335</td>\n",
       "      <td>6.675550</td>\n",
       "      <td>34.936667</td>\n",
       "      <td>1.000000</td>\n",
       "      <td>11.368037</td>\n",
       "      <td>963.359058</td>\n",
       "      <td>551.370727</td>\n",
       "      <td>72.174788</td>\n",
       "      <td>...</td>\n",
       "      <td>2.165143</td>\n",
       "      <td>92.258669</td>\n",
       "      <td>11.976700</td>\n",
       "      <td>169.931322</td>\n",
       "      <td>57.206863</td>\n",
       "      <td>1.000000</td>\n",
       "      <td>28.463297</td>\n",
       "      <td>10.013325</td>\n",
       "      <td>5.006662e+00</td>\n",
       "      <td>0.000000</td>\n",
       "    </tr>\n",
       "    <tr>\n",
       "      <th>25%</th>\n",
       "      <td>1.000000</td>\n",
       "      <td>262.744890</td>\n",
       "      <td>113.147906</td>\n",
       "      <td>20.884606</td>\n",
       "      <td>60.331200</td>\n",
       "      <td>1.000000</td>\n",
       "      <td>98.410433</td>\n",
       "      <td>1260.592091</td>\n",
       "      <td>1111.321750</td>\n",
       "      <td>128.284451</td>\n",
       "      <td>...</td>\n",
       "      <td>24.096767</td>\n",
       "      <td>166.996277</td>\n",
       "      <td>46.491517</td>\n",
       "      <td>363.940982</td>\n",
       "      <td>100.420778</td>\n",
       "      <td>6.760047</td>\n",
       "      <td>48.660437</td>\n",
       "      <td>56.578993</td>\n",
       "      <td>2.865210e+01</td>\n",
       "      <td>0.000000</td>\n",
       "    </tr>\n",
       "    <tr>\n",
       "      <th>50%</th>\n",
       "      <td>1.000000</td>\n",
       "      <td>315.817003</td>\n",
       "      <td>126.301624</td>\n",
       "      <td>29.805489</td>\n",
       "      <td>67.975505</td>\n",
       "      <td>1.000000</td>\n",
       "      <td>139.031060</td>\n",
       "      <td>1428.608277</td>\n",
       "      <td>1266.457106</td>\n",
       "      <td>149.552023</td>\n",
       "      <td>...</td>\n",
       "      <td>197.766605</td>\n",
       "      <td>182.608289</td>\n",
       "      <td>61.095707</td>\n",
       "      <td>428.973892</td>\n",
       "      <td>120.669975</td>\n",
       "      <td>9.806288</td>\n",
       "      <td>62.552115</td>\n",
       "      <td>70.584817</td>\n",
       "      <td>3.360720e+02</td>\n",
       "      <td>0.000000</td>\n",
       "    </tr>\n",
       "    <tr>\n",
       "      <th>75%</th>\n",
       "      <td>1.000000</td>\n",
       "      <td>393.077684</td>\n",
       "      <td>143.457188</td>\n",
       "      <td>42.480009</td>\n",
       "      <td>78.519162</td>\n",
       "      <td>1.322418</td>\n",
       "      <td>179.437853</td>\n",
       "      <td>1618.644680</td>\n",
       "      <td>1436.113204</td>\n",
       "      <td>175.558203</td>\n",
       "      <td>...</td>\n",
       "      <td>626.153699</td>\n",
       "      <td>206.190550</td>\n",
       "      <td>78.446788</td>\n",
       "      <td>526.342648</td>\n",
       "      <td>144.419211</td>\n",
       "      <td>14.184730</td>\n",
       "      <td>90.669097</td>\n",
       "      <td>80.458632</td>\n",
       "      <td>1.928659e+03</td>\n",
       "      <td>1.000000</td>\n",
       "    </tr>\n",
       "    <tr>\n",
       "      <th>max</th>\n",
       "      <td>6.066065</td>\n",
       "      <td>1136.361050</td>\n",
       "      <td>467.984177</td>\n",
       "      <td>131.575287</td>\n",
       "      <td>175.589013</td>\n",
       "      <td>17.621690</td>\n",
       "      <td>523.872716</td>\n",
       "      <td>2378.841837</td>\n",
       "      <td>4642.026371</td>\n",
       "      <td>600.611272</td>\n",
       "      <td>...</td>\n",
       "      <td>575118.397900</td>\n",
       "      <td>278.276654</td>\n",
       "      <td>218.889588</td>\n",
       "      <td>3262.626531</td>\n",
       "      <td>257.544212</td>\n",
       "      <td>29.253762</td>\n",
       "      <td>332.023532</td>\n",
       "      <td>105.574372</td>\n",
       "      <td>2.566614e+06</td>\n",
       "      <td>1.000000</td>\n",
       "    </tr>\n",
       "  </tbody>\n",
       "</table>\n",
       "<p>8 rows × 51 columns</p>\n",
       "</div>"
      ],
      "text/plain": [
       "             HES5       KLHL21        LZIC       CASZ1      EIF2B3  \\\n",
       "count  116.000000   116.000000  116.000000  116.000000  116.000000   \n",
       "mean     1.259586   341.190567  136.380108   35.542237   70.846265   \n",
       "std      0.812481   132.385307   48.225795   21.990355   19.913995   \n",
       "min      1.000000    66.370880   80.726335    6.675550   34.936667   \n",
       "25%      1.000000   262.744890  113.147906   20.884606   60.331200   \n",
       "50%      1.000000   315.817003  126.301624   29.805489   67.975505   \n",
       "75%      1.000000   393.077684  143.457188   42.480009   78.519162   \n",
       "max      6.066065  1136.361050  467.984177  131.575287  175.589013   \n",
       "\n",
       "            NHLH2       FCRLA       ARID4B        GHITM       FBXW4  ...  \\\n",
       "count  116.000000  116.000000   116.000000   116.000000  116.000000  ...   \n",
       "mean     1.968033  146.820715  1449.202745  1316.600825  160.215432  ...   \n",
       "std      2.597023   77.459744   271.858239   417.421640   62.692747  ...   \n",
       "min      1.000000   11.368037   963.359058   551.370727   72.174788  ...   \n",
       "25%      1.000000   98.410433  1260.592091  1111.321750  128.284451  ...   \n",
       "50%      1.000000  139.031060  1428.608277  1266.457106  149.552023  ...   \n",
       "75%      1.322418  179.437853  1618.644680  1436.113204  175.558203  ...   \n",
       "max     17.621690  523.872716  2378.841837  4642.026371  600.611272  ...   \n",
       "\n",
       "               MAP1B       RBM22   LOC202181       NT5C3A        RALA  \\\n",
       "count     116.000000  116.000000  116.000000   116.000000  116.000000   \n",
       "mean    20716.912287  187.971192   66.840623   505.436399  127.123553   \n",
       "std     84011.721085   32.577634   30.962460   324.136759   34.880393   \n",
       "min         2.165143   92.258669   11.976700   169.931322   57.206863   \n",
       "25%        24.096767  166.996277   46.491517   363.940982  100.420778   \n",
       "50%       197.766605  182.608289   61.095707   428.973892  120.669975   \n",
       "75%       626.153699  206.190550   78.446788   526.342648  144.419211   \n",
       "max    575118.397900  278.276654  218.889588  3262.626531  257.544212   \n",
       "\n",
       "           TAS2R5       SCRIB       KANTR       MIR6087     Results  \n",
       "count  116.000000  116.000000  116.000000  1.160000e+02  116.000000  \n",
       "mean    10.770483   76.125851   68.295853  8.035998e+04    0.431034  \n",
       "std      5.816347   47.337180   18.337080  3.235455e+05    0.497369  \n",
       "min      1.000000   28.463297   10.013325  5.006662e+00    0.000000  \n",
       "25%      6.760047   48.660437   56.578993  2.865210e+01    0.000000  \n",
       "50%      9.806288   62.552115   70.584817  3.360720e+02    0.000000  \n",
       "75%     14.184730   90.669097   80.458632  1.928659e+03    1.000000  \n",
       "max     29.253762  332.023532  105.574372  2.566614e+06    1.000000  \n",
       "\n",
       "[8 rows x 51 columns]"
      ]
     },
     "execution_count": 6,
     "metadata": {},
     "output_type": "execute_result"
    }
   ],
   "source": [
    "\n",
    "df.describe()"
   ]
  },
  {
   "cell_type": "code",
   "execution_count": 7,
   "metadata": {},
   "outputs": [
    {
     "name": "stdout",
     "output_type": "stream",
     "text": [
      "['HES5', 'KLHL21', 'LZIC', 'CASZ1', 'EIF2B3', 'NHLH2', 'FCRLA', 'ARID4B', 'GHITM', 'FBXW4', 'MIR3663HG', 'NLRP6', 'PHF21A', 'SF1', 'TMEM134', 'TRIM29', 'PABPN1', 'SPTB', 'MIR4537', 'HBA1', 'SNX29P1', 'KIAA0556', 'KAT8', 'CLEC18C', 'CTDNEP1', 'NFIX', 'JUND', 'MAU2', 'ERCC2', 'TMEM160', 'MED25', 'ZNF582', 'MIR663AHG', 'MIR663A', 'HSPA13', 'DGCR10', 'SELO', 'VHL', 'PXK', 'ZBTB20-AS1', 'LOC101243545', 'MAP1B', 'RBM22', 'LOC202181', 'NT5C3A', 'RALA', 'TAS2R5', 'SCRIB', 'KANTR', 'MIR6087', 'Results']\n",
      "51\n"
     ]
    }
   ],
   "source": [
    "df_features = list(df.columns)\n",
    "print(df_features)\n",
    "print(len(df.columns))"
   ]
  },
  {
   "cell_type": "code",
   "execution_count": 8,
   "metadata": {},
   "outputs": [
    {
     "data": {
      "image/png": "[encoded data removed]",
      "text/plain": [
       "<Figure size 1440x1440 with 56 Axes>"
      ]
     },
     "metadata": {
      "needs_background": "light"
     },
     "output_type": "display_data"
    }
   ],
   "source": [
    "fig, axes = plt.subplots(14,4, figsize=(20,20))\n",
    "x_,y_ = 0,0\n",
    "for i, column in enumerate(df.columns[0:]):    \n",
    "    sb.boxplot(x=df[column], ax=axes[x_,y_], palette=\"Set2\")\n",
    "    if i < 3:\n",
    "        y_ += 1\n",
    "    elif i == 3: \n",
    "        x_ = 1\n",
    "        y_ = 0\n",
    "    elif i == 7:\n",
    "        x_ = 2\n",
    "        y_ = 0\n",
    "    elif i == 11:\n",
    "        x_ = 3\n",
    "        y_ = 0\n",
    "    elif i == 15:\n",
    "        x_ = 4\n",
    "        y_ = 0\n",
    "    elif i == 19:\n",
    "        x_ = 5\n",
    "        y_ = 0\n",
    "    elif i == 23:\n",
    "        x_ = 6\n",
    "        y_ = 0\n",
    "    elif i == 27:\n",
    "        x_ = 7\n",
    "        y_ = 0\n",
    "    elif i == 31:\n",
    "        x_ = 8\n",
    "        y_ = 0\n",
    "    elif i == 35:\n",
    "        x_ = 9\n",
    "        y_ = 0\n",
    "    elif i == 39:\n",
    "        x_ = 10\n",
    "        y_ = 0\n",
    "    elif i == 43:\n",
    "        x_ = 11\n",
    "        y_ = 0\n",
    "    elif i == 47:\n",
    "        x_ = 12\n",
    "        y_ = 0\n",
    "    elif i == 51:\n",
    "        x_ = 13\n",
    "        y_ = 0\n",
    "    else:\n",
    "        y_ += 1"
   ]
  },
  {
   "cell_type": "code",
   "execution_count": 9,
   "metadata": {},
   "outputs": [
    {
     "name": "stdout",
     "output_type": "stream",
     "text": [
      "Index(['HES5', 'KLHL21', 'LZIC', 'CASZ1', 'EIF2B3', 'NHLH2', 'FCRLA', 'ARID4B',\n",
      "       'GHITM', 'FBXW4', 'MIR3663HG', 'NLRP6', 'PHF21A', 'SF1', 'TMEM134',\n",
      "       'TRIM29', 'PABPN1', 'SPTB', 'MIR4537', 'HBA1', 'SNX29P1', 'KIAA0556',\n",
      "       'KAT8', 'CLEC18C', 'CTDNEP1', 'NFIX', 'JUND', 'MAU2', 'ERCC2',\n",
      "       'TMEM160', 'MED25', 'ZNF582', 'MIR663AHG', 'MIR663A', 'HSPA13',\n",
      "       'DGCR10', 'SELO', 'VHL', 'PXK', 'ZBTB20-AS1', 'LOC101243545', 'MAP1B',\n",
      "       'RBM22', 'LOC202181', 'NT5C3A', 'RALA', 'TAS2R5', 'SCRIB', 'KANTR',\n",
      "       'MIR6087', 'Results'],\n",
      "      dtype='object')\n",
      "       HES5    KLHL21      LZIC     CASZ1    EIF2B3     NHLH2     FCRLA  \\\n",
      "0  0.000000  0.319637  0.099046  0.264361  0.234723  0.000000  0.157663   \n",
      "1  0.000000  0.174720  0.097374  0.122153  0.351955  0.137764  0.457119   \n",
      "2  0.277459  0.435587  0.108353  0.428064  0.276112  0.229294  0.129587   \n",
      "3  0.000000  0.303464  0.133341  0.100700  0.273476  0.000000  0.128084   \n",
      "4  0.023058  0.311637  0.152032  0.420462  0.188323  0.208598  0.313405   \n",
      "\n",
      "     ARID4B     GHITM     FBXW4  ...     MAP1B     RBM22  LOC202181    NT5C3A  \\\n",
      "0  0.141686  0.099579  0.181707  ...  0.000821  0.538427   0.364815  0.058174   \n",
      "1  0.297127  0.153398  0.201679  ...  0.000336  0.394216   0.276012  0.082278   \n",
      "2  0.060398  0.100443  0.145663  ...  0.000366  0.805876   0.318033  0.028542   \n",
      "3  0.642174  0.225264  0.063804  ...  0.000019  0.752505   0.198000  0.150488   \n",
      "4  0.253588  0.175631  0.142391  ...  0.000507  0.554698   0.346930  0.063860   \n",
      "\n",
      "       RALA    TAS2R5     SCRIB     KANTR   MIR6087  Results  \n",
      "0  0.268558  0.417037  0.214302  0.965347  0.000514      1.0  \n",
      "1  0.376787  0.469180  0.065187  0.973924  0.000128      1.0  \n",
      "2  0.322846  0.532230  0.180958  0.767903  0.000288      1.0  \n",
      "3  0.339113  0.049785  0.072722  0.424080  0.000136      1.0  \n",
      "4  0.310937  0.399414  0.182164  0.736674  0.000099      1.0  \n",
      "\n",
      "[5 rows x 51 columns]\n"
     ]
    }
   ],
   "source": [
    "cols = df.columns\n",
    "print(cols)\n",
    "scaler = MinMaxScaler()\n",
    "dat = scaler.fit_transform(df)\n",
    "df_02 = pd.DataFrame(data=dat, columns=cols)  \n",
    "print(df_02.head())"
   ]
  },
  {
   "cell_type": "code",
   "execution_count": 10,
   "metadata": {},
   "outputs": [
    {
     "name": "stdout",
     "output_type": "stream",
     "text": [
      "0    66\n",
      "1    50\n",
      "Name: Results, dtype: int64\n"
     ]
    }
   ],
   "source": [
    "x = df_02.drop([\"Results\"], axis =1);\n",
    "y = df[\"Results\"]\n",
    "print(y.value_counts())"
   ]
  },
  {
   "cell_type": "code",
   "execution_count": 11,
   "metadata": {},
   "outputs": [
    {
     "data": {
      "text/plain": [
       "(array([66.,  0.,  0.,  0.,  0.,  0.,  0.,  0.,  0., 50.]),\n",
       " array([0. , 0.1, 0.2, 0.3, 0.4, 0.5, 0.6, 0.7, 0.8, 0.9, 1. ]),\n",
       " <BarContainer object of 10 artists>)"
      ]
     },
     "execution_count": 11,
     "metadata": {},
     "output_type": "execute_result"
    },
    {
     "data": {
      "image/png": "[encoded data removed]",
      "text/plain": [
       "<Figure size 432x288 with 1 Axes>"
      ]
     },
     "metadata": {
      "needs_background": "light"
     },
     "output_type": "display_data"
    }
   ],
   "source": [
    "plt.hist(y)"
   ]
  },
  {
   "cell_type": "code",
   "execution_count": 12,
   "metadata": {},
   "outputs": [
    {
     "name": "stdout",
     "output_type": "stream",
     "text": [
      "1    66\n",
      "0    66\n",
      "Name: Results, dtype: int64\n"
     ]
    },
    {
     "data": {
      "text/plain": [
       "(array([66.,  0.,  0.,  0.,  0.,  0.,  0.,  0.,  0., 66.]),\n",
       " array([0. , 0.1, 0.2, 0.3, 0.4, 0.5, 0.6, 0.7, 0.8, 0.9, 1. ]),\n",
       " <BarContainer object of 10 artists>)"
      ]
     },
     "execution_count": 12,
     "metadata": {},
     "output_type": "execute_result"
    },
    {
     "data": {
      "image/png": "[encoded data removed]",
      "text/plain": [
       "<Figure size 432x288 with 1 Axes>"
      ]
     },
     "metadata": {
      "needs_background": "light"
     },
     "output_type": "display_data"
    }
   ],
   "source": [
    "smt = SMOTE()\n",
    "X, Y = smt.fit_resample(x,y)\n",
    "print(Y.value_counts())\n",
    "plt.hist(Y)"
   ]
  },
  {
   "cell_type": "code",
   "execution_count": 13,
   "metadata": {},
   "outputs": [
    {
     "name": "stdout",
     "output_type": "stream",
     "text": [
      "CV value :  2\n",
      "Parameters :  {}\n",
      "Accuracy :  76.515\n",
      "Standed deviation :  5.303\n",
      "CV value :  3\n",
      "Parameters :  {}\n",
      "Accuracy :  71.970\n",
      "Standed deviation :  1.071\n",
      "CV value :  4\n",
      "Parameters :  {}\n",
      "Accuracy :  75.000\n",
      "Standed deviation :  7.836\n",
      "CV value :  5\n",
      "Parameters :  {}\n",
      "Accuracy :  75.071\n",
      "Standed deviation :  9.587\n"
     ]
    }
   ],
   "source": [
    "# creating a decision tree classifier\n",
    "dt_model = tree.DecisionTreeClassifier()\n",
    "param_grid_dt = {\n",
    "     \n",
    "}\n",
    "cv_array = [2,3,4,5]\n",
    "for cv in cv_array:\n",
    "    gridSearchRF = GridSearchCV(estimator=dt_model, param_grid=param_grid_dt, scoring='accuracy', n_jobs=-1, cv=cv)\n",
    "    gridSearchRF.fit(X, Y)\n",
    "    print(\"CV value : \", cv)\n",
    "    print(\"Parameters : \", gridSearchRF.best_params_)\n",
    "    print(\"Accuracy :  %0.3f\" % (gridSearchRF.best_score_*100))\n",
    "    print(\"Standed deviation :  %0.3f\" % (gridSearchRF.cv_results_['std_test_score'][gridSearchRF.best_index_]*100))"
   ]
  },
  {
   "cell_type": "code",
   "execution_count": 14,
   "metadata": {},
   "outputs": [
    {
     "name": "stdout",
     "output_type": "stream",
     "text": [
      "CV value :  2\n",
      "Parameters :  {'random_state': 0}\n",
      "Accuracy :  81.061\n",
      "Standed deviation :  0.758\n",
      "CV value :  3\n",
      "Parameters :  {'random_state': 3}\n",
      "Accuracy :  80.303\n",
      "Standed deviation :  2.835\n",
      "CV value :  4\n",
      "Parameters :  {'random_state': 0}\n",
      "Accuracy :  80.303\n",
      "Standed deviation :  7.576\n",
      "CV value :  5\n",
      "Parameters :  {'random_state': 5}\n",
      "Accuracy :  79.601\n",
      "Standed deviation :  6.855\n"
     ]
    }
   ],
   "source": [
    "# creating a Gradient boosting classifier\n",
    "gb_model = GradientBoostingClassifier()\n",
    "param_grid_gb = {\n",
    "     'random_state': [0, 1, 2,3,4,5 , 10, 20, 30, 40, 50]\n",
    "}\n",
    "for cv in cv_array:\n",
    "     gridSearchRF = GridSearchCV(estimator=gb_model, param_grid=param_grid_gb, scoring='accuracy', n_jobs=-1, cv=cv)\n",
    "     gridSearchRF.fit(X, Y)\n",
    "     print(\"CV value : \", cv)\n",
    "     print(\"Parameters : \", gridSearchRF.best_params_)\n",
    "     print(\"Accuracy :  %0.3f\" % (gridSearchRF.best_score_*100))\n",
    "     print(\"Standed deviation :  %0.3f\" % (gridSearchRF.cv_results_['std_test_score'][gridSearchRF.best_index_]*100))"
   ]
  },
  {
   "cell_type": "code",
   "execution_count": 15,
   "metadata": {},
   "outputs": [
    {
     "name": "stdout",
     "output_type": "stream",
     "text": [
      "CV value :  2\n",
      "Parameters :  {'n_neighbors': 7}\n",
      "Accuracy :  77.273\n",
      "Standed deviation :  0.000\n",
      "CV value :  3\n",
      "Parameters :  {'n_neighbors': 7}\n",
      "Accuracy :  76.515\n",
      "Standed deviation :  1.071\n",
      "CV value :  4\n",
      "Parameters :  {'n_neighbors': 5}\n",
      "Accuracy :  80.303\n",
      "Standed deviation :  5.025\n",
      "CV value :  5\n",
      "Parameters :  {'n_neighbors': 3}\n",
      "Accuracy :  79.658\n",
      "Standed deviation :  8.537\n"
     ]
    }
   ],
   "source": [
    "# creating a KNN classifier\n",
    "KNN_model =KNeighborsClassifier()\n",
    "param_grid_knn = {\n",
    "     'n_neighbors': [3, 5, 7, 11, 13, 17]\n",
    "}\n",
    "for cv in cv_array:\n",
    "     gridSearchRF = GridSearchCV(estimator=KNN_model, param_grid=param_grid_knn, scoring='accuracy', n_jobs=-1, cv=cv)\n",
    "     gridSearchRF.fit(X, Y)\n",
    "     print(\"CV value : \", cv)\n",
    "     print(\"Parameters : \", gridSearchRF.best_params_)\n",
    "     print(\"Accuracy :  %0.3f\" % (gridSearchRF.best_score_*100))\n",
    "     print(\"Standed deviation :  %0.3f\" % (gridSearchRF.cv_results_['std_test_score'][gridSearchRF.best_index_]*100))"
   ]
  },
  {
   "cell_type": "code",
   "execution_count": 16,
   "metadata": {},
   "outputs": [
    {
     "name": "stdout",
     "output_type": "stream",
     "text": [
      "CV value :  2\n",
      "Parameters :  {'max_iter': 100}\n",
      "Accuracy :  74.242\n",
      "Standed deviation :  1.515\n",
      "CV value :  3\n",
      "Parameters :  {'max_iter': 100}\n",
      "Accuracy :  71.212\n",
      "Standed deviation :  1.071\n",
      "CV value :  4\n",
      "Parameters :  {'max_iter': 100}\n",
      "Accuracy :  74.242\n",
      "Standed deviation :  3.388\n",
      "CV value :  5\n",
      "Parameters :  {'max_iter': 100}\n",
      "Accuracy :  76.467\n",
      "Standed deviation :  8.318\n"
     ]
    }
   ],
   "source": [
    "# creating a Lgistic regression classifier\n",
    "lr_model = LogisticRegression() \n",
    "\n",
    "param_grid_lr = {\n",
    "     'max_iter': [100, 200, 300, 400, 500]\n",
    "}\n",
    "for cv in cv_array:\n",
    "     gridSearchRF = GridSearchCV(estimator=lr_model, param_grid=param_grid_lr, scoring='accuracy', n_jobs=-1, cv=cv)\n",
    "     gridSearchRF.fit(X, Y)\n",
    "     print(\"CV value : \", cv)\n",
    "     print(\"Parameters : \", gridSearchRF.best_params_)\n",
    "     print(\"Accuracy :  %0.3f\" % (gridSearchRF.best_score_*100))\n",
    "     print(\"Standed deviation :  %0.3f\" % (gridSearchRF.cv_results_['std_test_score'][gridSearchRF.best_index_]*100))\n"
   ]
  },
  {
   "cell_type": "code",
   "execution_count": 17,
   "metadata": {},
   "outputs": [
    {
     "name": "stdout",
     "output_type": "stream",
     "text": [
      "CV value :  2\n",
      "Parameters :  {}\n",
      "Accuracy :  64.394\n",
      "Standed deviation :  2.273\n",
      "CV value :  3\n",
      "Parameters :  {}\n",
      "Accuracy :  66.667\n",
      "Standed deviation :  3.863\n",
      "CV value :  4\n",
      "Parameters :  {}\n",
      "Accuracy :  69.697\n",
      "Standed deviation :  7.726\n",
      "CV value :  5\n",
      "Parameters :  {}\n",
      "Accuracy :  70.399\n",
      "Standed deviation :  7.523\n"
     ]
    }
   ],
   "source": [
    "# creating a Nave Bayers classifier\n",
    "nb_model = MultinomialNB()\n",
    "param_grid_nb = {\n",
    "\n",
    "}\n",
    "for cv in cv_array:\n",
    "    gridSearchRF = GridSearchCV(estimator=nb_model, param_grid=param_grid_nb, scoring='accuracy', n_jobs=-1, cv=cv)\n",
    "    gridSearchRF.fit(X, Y)\n",
    "    print(\"CV value : \", cv)\n",
    "    print(\"Parameters : \", gridSearchRF.best_params_)\n",
    "    print(\"Accuracy :  %0.3f\" % (gridSearchRF.best_score_*100))\n",
    "    print(\"Standed deviation :  %0.3f\" % (gridSearchRF.cv_results_['std_test_score'][gridSearchRF.best_index_]*100))\n"
   ]
  },
  {
   "cell_type": "code",
   "execution_count": 18,
   "metadata": {},
   "outputs": [
    {
     "name": "stdout",
     "output_type": "stream",
     "text": [
      "CV value :  2\n",
      "Parameters :  {'kernel': 'poly'}\n",
      "Accuracy :  79.545\n",
      "Standed deviation :  3.788\n",
      "CV value :  3\n",
      "Parameters :  {'kernel': 'poly'}\n",
      "Accuracy :  78.788\n",
      "Standed deviation :  3.863\n",
      "CV value :  4\n",
      "Parameters :  {'kernel': 'poly'}\n",
      "Accuracy :  78.788\n",
      "Standed deviation :  7.107\n",
      "CV value :  5\n",
      "Parameters :  {'kernel': 'poly'}\n",
      "Accuracy :  80.342\n",
      "Standed deviation :  5.959\n"
     ]
    }
   ],
   "source": [
    "# creating a SVM classifier\n",
    "svm_model = svm.SVC()\n",
    "param_grid_svm = {\n",
    "     'kernel': ['linear', 'poly', 'rbf', 'sigmoid']\n",
    "}\n",
    "\n",
    "for cv in cv_array:\n",
    "     gridSearchRF = GridSearchCV(estimator=svm_model, param_grid=param_grid_svm, scoring='accuracy', n_jobs=-1, cv=cv)\n",
    "     gridSearchRF.fit(X, Y)\n",
    "     print(\"CV value : \", cv)\n",
    "     print(\"Parameters : \", gridSearchRF.best_params_)\n",
    "     print(\"Accuracy :  %0.3f\" % (gridSearchRF.best_score_*100))\n",
    "     print(\"Standed deviation :  %0.3f\" % (gridSearchRF.cv_results_['std_test_score'][gridSearchRF.best_index_]*100))\n"
   ]
  },
  {
   "cell_type": "code",
   "execution_count": 19,
   "metadata": {},
   "outputs": [
    {
     "name": "stdout",
     "output_type": "stream",
     "text": [
      "CV value :  2\n",
      "Parameters :  {'max_depth': 300, 'max_features': 4, 'n_estimators': 300}\n",
      "Accuracy :  84.848\n",
      "Standed deviation :  3.030\n",
      "CV value :  3\n",
      "Parameters :  {'max_depth': 100, 'max_features': 5, 'n_estimators': 100}\n",
      "Accuracy :  83.333\n",
      "Standed deviation :  1.071\n",
      "CV value :  4\n",
      "Parameters :  {'max_depth': 150, 'max_features': 4, 'n_estimators': 300}\n",
      "Accuracy :  86.364\n",
      "Standed deviation :  6.247\n",
      "CV value :  5\n",
      "Parameters :  {'max_depth': 110, 'max_features': 2, 'n_estimators': 100}\n",
      "Accuracy :  84.843\n",
      "Standed deviation :  4.222\n"
     ]
    }
   ],
   "source": [
    "# creating a Random forest classifier\n",
    "rf = RandomForestClassifier()\n",
    "param_grid_rf = {\n",
    "     'max_depth': [80, 90, 100, 110, 150, 200, 300],\n",
    "     'max_features': [2, 3, 4, 5,6],\n",
    "     'n_estimators': [100, 200, 300]\n",
    "}\n",
    "\n",
    "for cv in cv_array:\n",
    "     gridSearchRF = GridSearchCV(estimator=rf, param_grid=param_grid_rf, scoring='accuracy', n_jobs=-1, cv=cv)\n",
    "     gridSearchRF.fit(X, Y)\n",
    "     print(\"CV value : \", cv)\n",
    "     print(\"Parameters : \", gridSearchRF.best_params_)\n",
    "     print(\"Accuracy :  %0.3f\" % (gridSearchRF.best_score_*100))\n",
    "     print(\"Standed deviation :  %0.3f\" % (gridSearchRF.cv_results_['std_test_score'][gridSearchRF.best_index_]*100))"
   ]
  }
 ],
 "metadata": {
  "kernelspec": {
   "display_name": "Python 3.9.13 ('base')",
   "language": "python",
   "name": "python3"
  },
  "language_info": {
   "codemirror_mode": {
    "name": "ipython",
    "version": 3
   },
   "file_extension": ".py",
   "mimetype": "text/x-python",
   "name": "python",
   "nbconvert_exporter": "python",
   "pygments_lexer": "ipython3",
   "version": "3.9.13"
  },
  "orig_nbformat": 4,
  "vscode": {
   "interpreter": {
    "hash": "dd78fe5a17d57d1a86104509f6d28e1e730005acb4374104044dd451171eb7b3"
   }
  }
 },
 "nbformat": 4,
 "nbformat_minor": 2
}
