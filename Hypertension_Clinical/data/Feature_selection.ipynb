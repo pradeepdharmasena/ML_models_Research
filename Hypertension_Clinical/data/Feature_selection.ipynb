{
 "cells": [
  {
   "cell_type": "code",
   "execution_count": 50,
   "metadata": {},
   "outputs": [],
   "source": [
    "import numpy as np;\n",
    "import pandas as pd;\n",
    "import matplotlib.pyplot as plt\n",
    "import sklearn.metrics as sm\n",
    "import imblearn\n",
    "from sklearn.feature_selection import mutual_info_classif\n",
    "from sklearn.feature_selection import SelectKBest\n",
    "import seaborn as sb"
   ]
  },
  {
   "cell_type": "code",
   "execution_count": 51,
   "metadata": {},
   "outputs": [],
   "source": [
    "# read_file = pd.read_excel (\"data.xlsx\")\n",
    "# read_file.to_csv (\"hypertensionDataSet.csv\",  index = None, header=True)"
   ]
  },
  {
   "cell_type": "code",
   "execution_count": 52,
   "metadata": {},
   "outputs": [
    {
     "name": "stdout",
     "output_type": "stream",
     "text": [
      "      anaemia  creatinine_phosphokinase  diabetes  ejection_fraction  \\\n",
      "age                                                                    \n",
      "75.0        0                       582         0                 20   \n",
      "55.0        0                      7861         0                 38   \n",
      "65.0        0                       146         0                 20   \n",
      "50.0        1                       111         0                 20   \n",
      "65.0        1                       160         1                 20   \n",
      "\n",
      "      high_blood_pressure  platelets  serum_creatinine  serum_sodium  sex  \\\n",
      "age                                                                         \n",
      "75.0                    1  265000.00               1.9           130    1   \n",
      "55.0                    0  263358.03               1.1           136    1   \n",
      "65.0                    0  162000.00               1.3           129    1   \n",
      "50.0                    0  210000.00               1.9           137    1   \n",
      "65.0                    0  327000.00               2.7           116    0   \n",
      "\n",
      "      smoking  time  Results  \n",
      "age                           \n",
      "75.0        0     4        1  \n",
      "55.0        0     6        1  \n",
      "65.0        1     7        1  \n",
      "50.0        0     7        1  \n",
      "65.0        0     8        1  \n"
     ]
    }
   ],
   "source": [
    "\n",
    "df = pd.read_csv(\"hypertension_clinical.csv\", index_col = 0)\n",
    "df = df.drop_duplicates()\n",
    "print(df.head())"
   ]
  },
  {
   "cell_type": "code",
   "execution_count": 53,
   "metadata": {},
   "outputs": [
    {
     "name": "stdout",
     "output_type": "stream",
     "text": [
      "11\n",
      "Index(['anaemia', 'creatinine_phosphokinase', 'diabetes', 'ejection_fraction',\n",
      "       'Results', 'platelets', 'serum_creatinine', 'serum_sodium', 'sex',\n",
      "       'smoking', 'time'],\n",
      "      dtype='object')\n"
     ]
    }
   ],
   "source": [
    "df = df.drop([\"Results\"], axis =1);\n",
    "df_features = list(df.columns)\n",
    "df = df.rename(columns={\"high_blood_pressure\": 'Results'})\n",
    "print(len(df_features))\n",
    "print(df.columns)"
   ]
  },
  {
   "cell_type": "code",
   "execution_count": 54,
   "metadata": {},
   "outputs": [],
   "source": [
    "\n",
    "# X = df.drop([\"Results\"], axis=1)\n",
    "# Y = df[\"Results\"]\n"
   ]
  },
  {
   "cell_type": "code",
   "execution_count": 55,
   "metadata": {},
   "outputs": [],
   "source": [
    "# fs = SelectKBest(score_func=mutual_info_classif, k=9)\n",
    "# X_selected = fs.fit_transform(X, Y)"
   ]
  },
  {
   "cell_type": "code",
   "execution_count": 58,
   "metadata": {},
   "outputs": [],
   "source": [
    "df = df.drop(['time'], axis=1)"
   ]
  },
  {
   "cell_type": "code",
   "execution_count": null,
   "metadata": {},
   "outputs": [],
   "source": [
    "# cols = fs.get_support(indices=True)"
   ]
  },
  {
   "cell_type": "code",
   "execution_count": 60,
   "metadata": {},
   "outputs": [],
   "source": [
    "# X_se = df.iloc[:,cols]\n",
    "df.to_csv(\"selected_M_best09.csv\", encoding='utf-8', index=False)"
   ]
  }
 ],
 "metadata": {
  "kernelspec": {
   "display_name": "Python 3.9.13 ('base')",
   "language": "python",
   "name": "python3"
  },
  "language_info": {
   "codemirror_mode": {
    "name": "ipython",
    "version": 3
   },
   "file_extension": ".py",
   "mimetype": "text/x-python",
   "name": "python",
   "nbconvert_exporter": "python",
   "pygments_lexer": "ipython3",
   "version": "3.11.3"
  },
  "orig_nbformat": 4,
  "vscode": {
   "interpreter": {
    "hash": "dd78fe5a17d57d1a86104509f6d28e1e730005acb4374104044dd451171eb7b3"
   }
  }
 },
 "nbformat": 4,
 "nbformat_minor": 2
}
