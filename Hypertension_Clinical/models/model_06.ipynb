{
 "cells": [
  {
   "cell_type": "code",
   "execution_count": 1,
   "metadata": {},
   "outputs": [],
   "source": [
    "import numpy as np;\n",
    "import pandas as pd;\n",
    "import matplotlib.pyplot as plt\n",
    "import sklearn.metrics as sm\n",
    "from sklearn.preprocessing import LabelEncoder\n",
    "from sklearn.model_selection import cross_val_score\n",
    "from sklearn.model_selection import GridSearchCV\n",
    "from sklearn.preprocessing import MinMaxScaler\n",
    "\n",
    "from sklearn import tree\n",
    "from sklearn.ensemble import GradientBoostingClassifier\n",
    "from sklearn.neighbors import KNeighborsClassifier\n",
    "from sklearn.linear_model import LogisticRegression\n",
    "from sklearn.naive_bayes import MultinomialNB, BernoulliNB \n",
    "from sklearn.ensemble import RandomForestClassifier\n",
    "from sklearn import svm\n",
    "\n",
    "from sklearn import tree\n",
    "from sklearn.metrics import confusion_matrix\n",
    "import seaborn as sb\n",
    "from imblearn.under_sampling import RandomUnderSampler\n",
    "from imblearn.over_sampling import SMOTE"
   ]
  },
  {
   "cell_type": "code",
   "execution_count": 2,
   "metadata": {},
   "outputs": [
    {
     "name": "stdout",
     "output_type": "stream",
     "text": [
      "   creatinine_phosphokinase  ejection_fraction  serum_creatinine  \\\n",
      "0                       582                 20               1.9   \n",
      "1                      7861                 38               1.1   \n",
      "2                       146                 20               1.3   \n",
      "3                       111                 20               1.9   \n",
      "4                       160                 20               2.7   \n",
      "\n",
      "   serum_sodium  smoking  time  Results  \n",
      "0           130        0     4        1  \n",
      "1           136        0     6        1  \n",
      "2           129        1     7        1  \n",
      "3           137        0     7        1  \n",
      "4           116        0     8        1  \n"
     ]
    }
   ],
   "source": [
    "df_01 = pd.read_csv(\"../data/selected_M_best6.csv\")\n",
    "df_01 = df_01.drop_duplicates()\n",
    "print(df_01.head())"
   ]
  },
  {
   "cell_type": "code",
   "execution_count": 3,
   "metadata": {},
   "outputs": [
    {
     "data": {
      "text/html": [
       "<div>\n",
       "<style scoped>\n",
       "    .dataframe tbody tr th:only-of-type {\n",
       "        vertical-align: middle;\n",
       "    }\n",
       "\n",
       "    .dataframe tbody tr th {\n",
       "        vertical-align: top;\n",
       "    }\n",
       "\n",
       "    .dataframe thead th {\n",
       "        text-align: right;\n",
       "    }\n",
       "</style>\n",
       "<table border=\"1\" class=\"dataframe\">\n",
       "  <thead>\n",
       "    <tr style=\"text-align: right;\">\n",
       "      <th></th>\n",
       "      <th>creatinine_phosphokinase</th>\n",
       "      <th>ejection_fraction</th>\n",
       "      <th>serum_creatinine</th>\n",
       "      <th>serum_sodium</th>\n",
       "      <th>smoking</th>\n",
       "      <th>time</th>\n",
       "      <th>Results</th>\n",
       "    </tr>\n",
       "  </thead>\n",
       "  <tbody>\n",
       "    <tr>\n",
       "      <th>count</th>\n",
       "      <td>299.000000</td>\n",
       "      <td>299.000000</td>\n",
       "      <td>299.00000</td>\n",
       "      <td>299.000000</td>\n",
       "      <td>299.00000</td>\n",
       "      <td>299.000000</td>\n",
       "      <td>299.00000</td>\n",
       "    </tr>\n",
       "    <tr>\n",
       "      <th>mean</th>\n",
       "      <td>581.839465</td>\n",
       "      <td>38.083612</td>\n",
       "      <td>1.39388</td>\n",
       "      <td>136.625418</td>\n",
       "      <td>0.32107</td>\n",
       "      <td>130.260870</td>\n",
       "      <td>0.32107</td>\n",
       "    </tr>\n",
       "    <tr>\n",
       "      <th>std</th>\n",
       "      <td>970.287881</td>\n",
       "      <td>11.834841</td>\n",
       "      <td>1.03451</td>\n",
       "      <td>4.412477</td>\n",
       "      <td>0.46767</td>\n",
       "      <td>77.614208</td>\n",
       "      <td>0.46767</td>\n",
       "    </tr>\n",
       "    <tr>\n",
       "      <th>min</th>\n",
       "      <td>23.000000</td>\n",
       "      <td>14.000000</td>\n",
       "      <td>0.50000</td>\n",
       "      <td>113.000000</td>\n",
       "      <td>0.00000</td>\n",
       "      <td>4.000000</td>\n",
       "      <td>0.00000</td>\n",
       "    </tr>\n",
       "    <tr>\n",
       "      <th>25%</th>\n",
       "      <td>116.500000</td>\n",
       "      <td>30.000000</td>\n",
       "      <td>0.90000</td>\n",
       "      <td>134.000000</td>\n",
       "      <td>0.00000</td>\n",
       "      <td>73.000000</td>\n",
       "      <td>0.00000</td>\n",
       "    </tr>\n",
       "    <tr>\n",
       "      <th>50%</th>\n",
       "      <td>250.000000</td>\n",
       "      <td>38.000000</td>\n",
       "      <td>1.10000</td>\n",
       "      <td>137.000000</td>\n",
       "      <td>0.00000</td>\n",
       "      <td>115.000000</td>\n",
       "      <td>0.00000</td>\n",
       "    </tr>\n",
       "    <tr>\n",
       "      <th>75%</th>\n",
       "      <td>582.000000</td>\n",
       "      <td>45.000000</td>\n",
       "      <td>1.40000</td>\n",
       "      <td>140.000000</td>\n",
       "      <td>1.00000</td>\n",
       "      <td>203.000000</td>\n",
       "      <td>1.00000</td>\n",
       "    </tr>\n",
       "    <tr>\n",
       "      <th>max</th>\n",
       "      <td>7861.000000</td>\n",
       "      <td>80.000000</td>\n",
       "      <td>9.40000</td>\n",
       "      <td>148.000000</td>\n",
       "      <td>1.00000</td>\n",
       "      <td>285.000000</td>\n",
       "      <td>1.00000</td>\n",
       "    </tr>\n",
       "  </tbody>\n",
       "</table>\n",
       "</div>"
      ],
      "text/plain": [
       "       creatinine_phosphokinase  ejection_fraction  serum_creatinine  \\\n",
       "count                299.000000         299.000000         299.00000   \n",
       "mean                 581.839465          38.083612           1.39388   \n",
       "std                  970.287881          11.834841           1.03451   \n",
       "min                   23.000000          14.000000           0.50000   \n",
       "25%                  116.500000          30.000000           0.90000   \n",
       "50%                  250.000000          38.000000           1.10000   \n",
       "75%                  582.000000          45.000000           1.40000   \n",
       "max                 7861.000000          80.000000           9.40000   \n",
       "\n",
       "       serum_sodium    smoking        time    Results  \n",
       "count    299.000000  299.00000  299.000000  299.00000  \n",
       "mean     136.625418    0.32107  130.260870    0.32107  \n",
       "std        4.412477    0.46767   77.614208    0.46767  \n",
       "min      113.000000    0.00000    4.000000    0.00000  \n",
       "25%      134.000000    0.00000   73.000000    0.00000  \n",
       "50%      137.000000    0.00000  115.000000    0.00000  \n",
       "75%      140.000000    1.00000  203.000000    1.00000  \n",
       "max      148.000000    1.00000  285.000000    1.00000  "
      ]
     },
     "execution_count": 3,
     "metadata": {},
     "output_type": "execute_result"
    }
   ],
   "source": [
    "df_01.describe()"
   ]
  },
  {
   "cell_type": "code",
   "execution_count": 4,
   "metadata": {},
   "outputs": [
    {
     "name": "stdout",
     "output_type": "stream",
     "text": [
      "['creatinine_phosphokinase', 'ejection_fraction', 'serum_creatinine', 'serum_sodium', 'smoking', 'time', 'Results']\n"
     ]
    }
   ],
   "source": [
    "df_features = list(df_01.columns)\n",
    "print(df_features)"
   ]
  },
  {
   "cell_type": "code",
   "execution_count": 5,
   "metadata": {},
   "outputs": [
    {
     "data": {
      "text/plain": [
       "Index(['creatinine_phosphokinase', 'ejection_fraction', 'serum_creatinine',\n",
       "       'serum_sodium', 'smoking', 'time', 'Results'],\n",
       "      dtype='object')"
      ]
     },
     "execution_count": 5,
     "metadata": {},
     "output_type": "execute_result"
    }
   ],
   "source": [
    "df_01.columns"
   ]
  },
  {
   "cell_type": "code",
   "execution_count": 6,
   "metadata": {},
   "outputs": [
    {
     "data": {
      "image/png": "[encoded data removed]",
      "text/plain": [
       "<Figure size 1440x1152 with 16 Axes>"
      ]
     },
     "metadata": {
      "needs_background": "light"
     },
     "output_type": "display_data"
    }
   ],
   "source": [
    "fig, axes = plt.subplots(4,4, figsize=(20,16))\n",
    "x_,y_ = 0,0\n",
    "for i, column in enumerate(df_01.columns[0:]):    \n",
    "    sb.boxplot(x=df_01[column], ax=axes[x_,y_], palette=\"Set2\")\n",
    "    if i < 3:\n",
    "        y_ += 1\n",
    "    elif i == 3: \n",
    "        x_ = 1\n",
    "        y_ = 0\n",
    "    elif i == 7:\n",
    "        x_ = 2\n",
    "        y_ = 0\n",
    "    elif i == 11:\n",
    "        x_ = 3\n",
    "        y_ = 0\n",
    "    else:\n",
    "        y_ += 1"
   ]
  },
  {
   "cell_type": "code",
   "execution_count": 7,
   "metadata": {},
   "outputs": [
    {
     "name": "stdout",
     "output_type": "stream",
     "text": [
      "Index(['creatinine_phosphokinase', 'ejection_fraction', 'serum_creatinine',\n",
      "       'serum_sodium', 'smoking', 'time', 'Results'],\n",
      "      dtype='object')\n",
      "   creatinine_phosphokinase  ejection_fraction  serum_creatinine  \\\n",
      "0                  0.071319           0.090909          0.157303   \n",
      "1                  1.000000           0.363636          0.067416   \n",
      "2                  0.015693           0.090909          0.089888   \n",
      "3                  0.011227           0.090909          0.157303   \n",
      "4                  0.017479           0.090909          0.247191   \n",
      "\n",
      "   serum_sodium  smoking      time  Results  \n",
      "0      0.485714      0.0  0.000000      1.0  \n",
      "1      0.657143      0.0  0.007117      1.0  \n",
      "2      0.457143      1.0  0.010676      1.0  \n",
      "3      0.685714      0.0  0.010676      1.0  \n",
      "4      0.085714      0.0  0.014235      1.0  \n"
     ]
    }
   ],
   "source": [
    "cols = df_01.columns\n",
    "print(cols)\n",
    "scaler = MinMaxScaler()\n",
    "dat = scaler.fit_transform(df_01)\n",
    "df_02 = pd.DataFrame(data=dat, columns=cols)  \n",
    "print(df_02.head())"
   ]
  },
  {
   "cell_type": "code",
   "execution_count": 8,
   "metadata": {},
   "outputs": [
    {
     "name": "stdout",
     "output_type": "stream",
     "text": [
      "0.0    203\n",
      "1.0     96\n",
      "Name: Results, dtype: int64\n"
     ]
    }
   ],
   "source": [
    "x = df_02.drop([\"Results\"], axis =1);\n",
    "y = df_02[\"Results\"]\n",
    "print(y.value_counts())"
   ]
  },
  {
   "cell_type": "code",
   "execution_count": 9,
   "metadata": {},
   "outputs": [
    {
     "data": {
      "text/plain": [
       "(array([203.,   0.,   0.,   0.,   0.,   0.,   0.,   0.,   0.,  96.]),\n",
       " array([0. , 0.1, 0.2, 0.3, 0.4, 0.5, 0.6, 0.7, 0.8, 0.9, 1. ]),\n",
       " <BarContainer object of 10 artists>)"
      ]
     },
     "execution_count": 9,
     "metadata": {},
     "output_type": "execute_result"
    },
    {
     "data": {
      "image/png": "[encoded data removed]",
      "text/plain": [
       "<Figure size 432x288 with 1 Axes>"
      ]
     },
     "metadata": {
      "needs_background": "light"
     },
     "output_type": "display_data"
    }
   ],
   "source": [
    "plt.hist(y)"
   ]
  },
  {
   "cell_type": "code",
   "execution_count": 10,
   "metadata": {},
   "outputs": [
    {
     "name": "stdout",
     "output_type": "stream",
     "text": [
      "0.0    137\n",
      "1.0     96\n",
      "Name: Results, dtype: int64\n"
     ]
    },
    {
     "data": {
      "text/plain": [
       "(array([137.,   0.,   0.,   0.,   0.,   0.,   0.,   0.,   0.,  96.]),\n",
       " array([0. , 0.1, 0.2, 0.3, 0.4, 0.5, 0.6, 0.7, 0.8, 0.9, 1. ]),\n",
       " <BarContainer object of 10 artists>)"
      ]
     },
     "execution_count": 10,
     "metadata": {},
     "output_type": "execute_result"
    },
    {
     "data": {
      "image/png": "[encoded data removed]",
      "text/plain": [
       "<Figure size 432x288 with 1 Axes>"
      ]
     },
     "metadata": {
      "needs_background": "light"
     },
     "output_type": "display_data"
    }
   ],
   "source": [
    "# transform the dataset\n",
    "under = RandomUnderSampler(sampling_strategy= 0.7,random_state = 0)\n",
    "X, Y = under.fit_resample(x, y)\n",
    "print(Y.value_counts())\n",
    "plt.hist(Y)"
   ]
  },
  {
   "cell_type": "code",
   "execution_count": 11,
   "metadata": {},
   "outputs": [
    {
     "name": "stdout",
     "output_type": "stream",
     "text": [
      "0.0    137\n",
      "1.0    137\n",
      "Name: Results, dtype: int64\n"
     ]
    },
    {
     "data": {
      "text/plain": [
       "(array([137.,   0.,   0.,   0.,   0.,   0.,   0.,   0.,   0., 137.]),\n",
       " array([0. , 0.1, 0.2, 0.3, 0.4, 0.5, 0.6, 0.7, 0.8, 0.9, 1. ]),\n",
       " <BarContainer object of 10 artists>)"
      ]
     },
     "execution_count": 11,
     "metadata": {},
     "output_type": "execute_result"
    },
    {
     "data": {
      "image/png": "[encoded data removed]",
      "text/plain": [
       "<Figure size 432x288 with 1 Axes>"
      ]
     },
     "metadata": {
      "needs_background": "light"
     },
     "output_type": "display_data"
    }
   ],
   "source": [
    "smt = SMOTE(random_state=0)\n",
    "X, Y = smt.fit_resample(X,Y)\n",
    "print(Y.value_counts())\n",
    "plt.hist(Y)"
   ]
  },
  {
   "cell_type": "code",
   "execution_count": 12,
   "metadata": {},
   "outputs": [
    {
     "name": "stdout",
     "output_type": "stream",
     "text": [
      "Parameters :  {}\n",
      "Accuracy :  78.770\n",
      "Standed deviation :  11.513\n"
     ]
    }
   ],
   "source": [
    "# creating a decision tree classifier\n",
    "dt_model = tree.DecisionTreeClassifier()\n",
    "param_grid_dt = {\n",
    "     \n",
    "}\n",
    "gridSearchRF = GridSearchCV(estimator=dt_model, param_grid=param_grid_dt, scoring='accuracy', n_jobs=-1, cv=10)\n",
    "gridSearchRF.fit(X, Y)\n",
    "print(\"Parameters : \", gridSearchRF.best_params_)\n",
    "print(\"Accuracy :  %0.3f\" % (gridSearchRF.best_score_*100))\n",
    "print(\"Standed deviation :  %0.3f\" % (gridSearchRF.cv_results_['std_test_score'][gridSearchRF.best_index_]*100))"
   ]
  },
  {
   "cell_type": "code",
   "execution_count": 13,
   "metadata": {},
   "outputs": [
    {
     "name": "stdout",
     "output_type": "stream",
     "text": [
      "Parameters :  {'random_state': 0}\n",
      "Accuracy :  82.394\n",
      "Standed deviation :  12.670\n"
     ]
    }
   ],
   "source": [
    "# creating a Gradient boosting classifier\n",
    "gb_model = GradientBoostingClassifier()\n",
    "param_grid_gb = {\n",
    "     'random_state': [0, 1, 2,3,4,5 , 10, 20, 30, 40, 50]\n",
    "}\n",
    "gridSearchRF = GridSearchCV(estimator=gb_model, param_grid=param_grid_gb, scoring='accuracy', n_jobs=-1, cv=10)\n",
    "gridSearchRF.fit(X, Y)\n",
    "print(\"Parameters : \", gridSearchRF.best_params_)\n",
    "print(\"Accuracy :  %0.3f\" % (gridSearchRF.best_score_*100))\n",
    "print(\"Standed deviation :  %0.3f\" % (gridSearchRF.cv_results_['std_test_score'][gridSearchRF.best_index_]*100))"
   ]
  },
  {
   "cell_type": "code",
   "execution_count": 14,
   "metadata": {},
   "outputs": [
    {
     "name": "stdout",
     "output_type": "stream",
     "text": [
      "Parameters :  {'n_neighbors': 7}\n",
      "Accuracy :  82.765\n",
      "Standed deviation :  10.392\n"
     ]
    }
   ],
   "source": [
    "# creating a KNN classifier\n",
    "KNN_model =KNeighborsClassifier()\n",
    "param_grid_knn = {\n",
    "     'n_neighbors': [3, 5, 7, 11, 13, 17]\n",
    "}\n",
    "gridSearchRF = GridSearchCV(estimator=KNN_model, param_grid=param_grid_knn, scoring='accuracy', n_jobs=-1, cv=10)\n",
    "gridSearchRF.fit(X, Y)\n",
    "print(\"Parameters : \", gridSearchRF.best_params_)\n",
    "print(\"Accuracy :  %0.3f\" % (gridSearchRF.best_score_*100))\n",
    "print(\"Standed deviation :  %0.3f\" % (gridSearchRF.cv_results_['std_test_score'][gridSearchRF.best_index_]*100))"
   ]
  },
  {
   "cell_type": "code",
   "execution_count": 15,
   "metadata": {},
   "outputs": [
    {
     "name": "stdout",
     "output_type": "stream",
     "text": [
      "Parameters :  {'max_iter': 100}\n",
      "Accuracy :  75.728\n",
      "Standed deviation :  16.370\n"
     ]
    }
   ],
   "source": [
    "# creating a Lgistic regression classifier\n",
    "lr_model = LogisticRegression() \n",
    "\n",
    "param_grid_lr = {\n",
    "     'max_iter': [100, 200, 300, 400, 500]\n",
    "}\n",
    "gridSearchRF = GridSearchCV(estimator=lr_model, param_grid=param_grid_lr, scoring='accuracy', n_jobs=-1, cv=10)\n",
    "gridSearchRF.fit(X, Y)\n",
    "print(\"Parameters : \", gridSearchRF.best_params_)\n",
    "print(\"Accuracy :  %0.3f\" % (gridSearchRF.best_score_*100))\n",
    "print(\"Standed deviation :  %0.3f\" % (gridSearchRF.cv_results_['std_test_score'][gridSearchRF.best_index_]*100))\n"
   ]
  },
  {
   "cell_type": "code",
   "execution_count": 16,
   "metadata": {},
   "outputs": [
    {
     "name": "stdout",
     "output_type": "stream",
     "text": [
      "Parameters :  {}\n",
      "Accuracy :  75.384\n",
      "Standed deviation :  15.725\n"
     ]
    }
   ],
   "source": [
    "# creating a Nave Bayers classifier\n",
    "nb_model = MultinomialNB()\n",
    "param_grid_nb = {\n",
    "\n",
    "}\n",
    "gridSearchRF = GridSearchCV(estimator=nb_model, param_grid=param_grid_nb, scoring='accuracy', n_jobs=-1, cv=10)\n",
    "gridSearchRF.fit(X, Y)\n",
    "print(\"Parameters : \", gridSearchRF.best_params_)\n",
    "print(\"Accuracy :  %0.3f\" % (gridSearchRF.best_score_*100))\n",
    "print(\"Standed deviation :  %0.3f\" % (gridSearchRF.cv_results_['std_test_score'][gridSearchRF.best_index_]*100))\n"
   ]
  },
  {
   "cell_type": "code",
   "execution_count": 17,
   "metadata": {},
   "outputs": [
    {
     "name": "stdout",
     "output_type": "stream",
     "text": [
      "Parameters :  {'kernel': 'poly'}\n",
      "Accuracy :  82.354\n",
      "Standed deviation :  13.960\n"
     ]
    }
   ],
   "source": [
    "# creating a SVM classifier\n",
    "svm_model = svm.SVC()\n",
    "param_grid_svm = {\n",
    "     'kernel': ['linear', 'poly', 'rbf', 'sigmoid']\n",
    "}\n",
    "\n",
    "gridSearchRF = GridSearchCV(estimator=svm_model, param_grid=param_grid_svm, scoring='accuracy', n_jobs=-1, cv=10)\n",
    "gridSearchRF.fit(X, Y)\n",
    "print(\"Parameters : \", gridSearchRF.best_params_)\n",
    "print(\"Accuracy :  %0.3f\" % (gridSearchRF.best_score_*100))\n",
    "print(\"Standed deviation :  %0.3f\" % (gridSearchRF.cv_results_['std_test_score'][gridSearchRF.best_index_]*100))\n"
   ]
  },
  {
   "cell_type": "code",
   "execution_count": 18,
   "metadata": {},
   "outputs": [
    {
     "name": "stdout",
     "output_type": "stream",
     "text": [
      "Parameters :  {'max_depth': 80, 'max_features': 2, 'n_estimators': 200}\n",
      "Accuracy :  84.960\n",
      "Standed deviation :  9.643\n"
     ]
    }
   ],
   "source": [
    "# creating a Random forest classifier\n",
    "\n",
    "param_grid_rf = {\n",
    "     'max_depth': [80, 90, 100, 110, 150, 200, 300],\n",
    "     'max_features': [2, 3, 4, 5,6],\n",
    "     'n_estimators': [100, 200, 300]\n",
    "}\n",
    "\n",
    "rf = RandomForestClassifier()\n",
    "gridSearchRF = GridSearchCV(estimator=rf, param_grid=param_grid_rf, scoring='accuracy', n_jobs=-1, cv=10)\n",
    "gridSearchRF.fit(X, Y)\n",
    "print(\"Parameters : \", gridSearchRF.best_params_)\n",
    "print(\"Accuracy :  %0.3f\" % (gridSearchRF.best_score_*100))\n",
    "print(\"Standed deviation :  %0.3f\" % (gridSearchRF.cv_results_['std_test_score'][gridSearchRF.best_index_]*100))"
   ]
  }
 ],
 "metadata": {
  "kernelspec": {
   "display_name": "Python 3.9.13 ('base')",
   "language": "python",
   "name": "python3"
  },
  "language_info": {
   "codemirror_mode": {
    "name": "ipython",
    "version": 3
   },
   "file_extension": ".py",
   "mimetype": "text/x-python",
   "name": "python",
   "nbconvert_exporter": "python",
   "pygments_lexer": "ipython3",
   "version": "3.9.13"
  },
  "orig_nbformat": 4,
  "vscode": {
   "interpreter": {
    "hash": "dd78fe5a17d57d1a86104509f6d28e1e730005acb4374104044dd451171eb7b3"
   }
  }
 },
 "nbformat": 4,
 "nbformat_minor": 2
}
