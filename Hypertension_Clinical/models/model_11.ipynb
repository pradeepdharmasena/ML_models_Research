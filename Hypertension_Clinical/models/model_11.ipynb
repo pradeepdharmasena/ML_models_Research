{
 "cells": [
  {
   "cell_type": "code",
   "execution_count": 1,
   "metadata": {},
   "outputs": [],
   "source": [
    "import numpy as np;\n",
    "import pandas as pd;\n",
    "import matplotlib.pyplot as plt\n",
    "import sklearn.metrics as sm\n",
    "from sklearn.preprocessing import LabelEncoder\n",
    "from sklearn.model_selection import cross_val_score\n",
    "from sklearn.model_selection import GridSearchCV\n",
    "from sklearn.preprocessing import MinMaxScaler\n",
    "\n",
    "from sklearn import tree\n",
    "from sklearn.ensemble import GradientBoostingClassifier\n",
    "from sklearn.neighbors import KNeighborsClassifier\n",
    "from sklearn.linear_model import LogisticRegression\n",
    "from sklearn.naive_bayes import MultinomialNB, BernoulliNB \n",
    "from sklearn.ensemble import RandomForestClassifier\n",
    "from sklearn import svm\n",
    "\n",
    "from sklearn import tree\n",
    "from sklearn.metrics import confusion_matrix\n",
    "import seaborn as sb\n",
    "from imblearn.under_sampling import RandomUnderSampler\n",
    "from imblearn.over_sampling import SMOTE"
   ]
  },
  {
   "cell_type": "code",
   "execution_count": 2,
   "metadata": {},
   "outputs": [
    {
     "name": "stdout",
     "output_type": "stream",
     "text": [
      "   anaemia  creatinine_phosphokinase  diabetes  ejection_fraction  \\\n",
      "0        0                       582         0                 20   \n",
      "1        0                      7861         0                 38   \n",
      "2        0                       146         0                 20   \n",
      "3        1                       111         0                 20   \n",
      "4        1                       160         1                 20   \n",
      "\n",
      "   high_blood_pressure  platelets  serum_creatinine  serum_sodium  sex  \\\n",
      "0                    1  265000.00               1.9           130    1   \n",
      "1                    0  263358.03               1.1           136    1   \n",
      "2                    0  162000.00               1.3           129    1   \n",
      "3                    0  210000.00               1.9           137    1   \n",
      "4                    0  327000.00               2.7           116    0   \n",
      "\n",
      "   smoking  time  Results  \n",
      "0        0     4        1  \n",
      "1        0     6        1  \n",
      "2        1     7        1  \n",
      "3        0     7        1  \n",
      "4        0     8        1  \n"
     ]
    }
   ],
   "source": [
    "df_01 = pd.read_csv(\"../data/selected_M_best11.csv\")\n",
    "df_01 = df_01.drop_duplicates()\n",
    "print(df_01.head())"
   ]
  },
  {
   "cell_type": "code",
   "execution_count": 3,
   "metadata": {},
   "outputs": [
    {
     "data": {
      "text/html": [
       "<div>\n",
       "<style scoped>\n",
       "    .dataframe tbody tr th:only-of-type {\n",
       "        vertical-align: middle;\n",
       "    }\n",
       "\n",
       "    .dataframe tbody tr th {\n",
       "        vertical-align: top;\n",
       "    }\n",
       "\n",
       "    .dataframe thead th {\n",
       "        text-align: right;\n",
       "    }\n",
       "</style>\n",
       "<table border=\"1\" class=\"dataframe\">\n",
       "  <thead>\n",
       "    <tr style=\"text-align: right;\">\n",
       "      <th></th>\n",
       "      <th>anaemia</th>\n",
       "      <th>creatinine_phosphokinase</th>\n",
       "      <th>diabetes</th>\n",
       "      <th>ejection_fraction</th>\n",
       "      <th>high_blood_pressure</th>\n",
       "      <th>platelets</th>\n",
       "      <th>serum_creatinine</th>\n",
       "      <th>serum_sodium</th>\n",
       "      <th>sex</th>\n",
       "      <th>smoking</th>\n",
       "      <th>time</th>\n",
       "      <th>Results</th>\n",
       "    </tr>\n",
       "  </thead>\n",
       "  <tbody>\n",
       "    <tr>\n",
       "      <th>count</th>\n",
       "      <td>299.000000</td>\n",
       "      <td>299.000000</td>\n",
       "      <td>299.000000</td>\n",
       "      <td>299.000000</td>\n",
       "      <td>299.000000</td>\n",
       "      <td>299.000000</td>\n",
       "      <td>299.00000</td>\n",
       "      <td>299.000000</td>\n",
       "      <td>299.000000</td>\n",
       "      <td>299.00000</td>\n",
       "      <td>299.000000</td>\n",
       "      <td>299.00000</td>\n",
       "    </tr>\n",
       "    <tr>\n",
       "      <th>mean</th>\n",
       "      <td>0.431438</td>\n",
       "      <td>581.839465</td>\n",
       "      <td>0.418060</td>\n",
       "      <td>38.083612</td>\n",
       "      <td>0.351171</td>\n",
       "      <td>263358.029264</td>\n",
       "      <td>1.39388</td>\n",
       "      <td>136.625418</td>\n",
       "      <td>0.648829</td>\n",
       "      <td>0.32107</td>\n",
       "      <td>130.260870</td>\n",
       "      <td>0.32107</td>\n",
       "    </tr>\n",
       "    <tr>\n",
       "      <th>std</th>\n",
       "      <td>0.496107</td>\n",
       "      <td>970.287881</td>\n",
       "      <td>0.494067</td>\n",
       "      <td>11.834841</td>\n",
       "      <td>0.478136</td>\n",
       "      <td>97804.236869</td>\n",
       "      <td>1.03451</td>\n",
       "      <td>4.412477</td>\n",
       "      <td>0.478136</td>\n",
       "      <td>0.46767</td>\n",
       "      <td>77.614208</td>\n",
       "      <td>0.46767</td>\n",
       "    </tr>\n",
       "    <tr>\n",
       "      <th>min</th>\n",
       "      <td>0.000000</td>\n",
       "      <td>23.000000</td>\n",
       "      <td>0.000000</td>\n",
       "      <td>14.000000</td>\n",
       "      <td>0.000000</td>\n",
       "      <td>25100.000000</td>\n",
       "      <td>0.50000</td>\n",
       "      <td>113.000000</td>\n",
       "      <td>0.000000</td>\n",
       "      <td>0.00000</td>\n",
       "      <td>4.000000</td>\n",
       "      <td>0.00000</td>\n",
       "    </tr>\n",
       "    <tr>\n",
       "      <th>25%</th>\n",
       "      <td>0.000000</td>\n",
       "      <td>116.500000</td>\n",
       "      <td>0.000000</td>\n",
       "      <td>30.000000</td>\n",
       "      <td>0.000000</td>\n",
       "      <td>212500.000000</td>\n",
       "      <td>0.90000</td>\n",
       "      <td>134.000000</td>\n",
       "      <td>0.000000</td>\n",
       "      <td>0.00000</td>\n",
       "      <td>73.000000</td>\n",
       "      <td>0.00000</td>\n",
       "    </tr>\n",
       "    <tr>\n",
       "      <th>50%</th>\n",
       "      <td>0.000000</td>\n",
       "      <td>250.000000</td>\n",
       "      <td>0.000000</td>\n",
       "      <td>38.000000</td>\n",
       "      <td>0.000000</td>\n",
       "      <td>262000.000000</td>\n",
       "      <td>1.10000</td>\n",
       "      <td>137.000000</td>\n",
       "      <td>1.000000</td>\n",
       "      <td>0.00000</td>\n",
       "      <td>115.000000</td>\n",
       "      <td>0.00000</td>\n",
       "    </tr>\n",
       "    <tr>\n",
       "      <th>75%</th>\n",
       "      <td>1.000000</td>\n",
       "      <td>582.000000</td>\n",
       "      <td>1.000000</td>\n",
       "      <td>45.000000</td>\n",
       "      <td>1.000000</td>\n",
       "      <td>303500.000000</td>\n",
       "      <td>1.40000</td>\n",
       "      <td>140.000000</td>\n",
       "      <td>1.000000</td>\n",
       "      <td>1.00000</td>\n",
       "      <td>203.000000</td>\n",
       "      <td>1.00000</td>\n",
       "    </tr>\n",
       "    <tr>\n",
       "      <th>max</th>\n",
       "      <td>1.000000</td>\n",
       "      <td>7861.000000</td>\n",
       "      <td>1.000000</td>\n",
       "      <td>80.000000</td>\n",
       "      <td>1.000000</td>\n",
       "      <td>850000.000000</td>\n",
       "      <td>9.40000</td>\n",
       "      <td>148.000000</td>\n",
       "      <td>1.000000</td>\n",
       "      <td>1.00000</td>\n",
       "      <td>285.000000</td>\n",
       "      <td>1.00000</td>\n",
       "    </tr>\n",
       "  </tbody>\n",
       "</table>\n",
       "</div>"
      ],
      "text/plain": [
       "          anaemia  creatinine_phosphokinase    diabetes  ejection_fraction  \\\n",
       "count  299.000000                299.000000  299.000000         299.000000   \n",
       "mean     0.431438                581.839465    0.418060          38.083612   \n",
       "std      0.496107                970.287881    0.494067          11.834841   \n",
       "min      0.000000                 23.000000    0.000000          14.000000   \n",
       "25%      0.000000                116.500000    0.000000          30.000000   \n",
       "50%      0.000000                250.000000    0.000000          38.000000   \n",
       "75%      1.000000                582.000000    1.000000          45.000000   \n",
       "max      1.000000               7861.000000    1.000000          80.000000   \n",
       "\n",
       "       high_blood_pressure      platelets  serum_creatinine  serum_sodium  \\\n",
       "count           299.000000     299.000000         299.00000    299.000000   \n",
       "mean              0.351171  263358.029264           1.39388    136.625418   \n",
       "std               0.478136   97804.236869           1.03451      4.412477   \n",
       "min               0.000000   25100.000000           0.50000    113.000000   \n",
       "25%               0.000000  212500.000000           0.90000    134.000000   \n",
       "50%               0.000000  262000.000000           1.10000    137.000000   \n",
       "75%               1.000000  303500.000000           1.40000    140.000000   \n",
       "max               1.000000  850000.000000           9.40000    148.000000   \n",
       "\n",
       "              sex    smoking        time    Results  \n",
       "count  299.000000  299.00000  299.000000  299.00000  \n",
       "mean     0.648829    0.32107  130.260870    0.32107  \n",
       "std      0.478136    0.46767   77.614208    0.46767  \n",
       "min      0.000000    0.00000    4.000000    0.00000  \n",
       "25%      0.000000    0.00000   73.000000    0.00000  \n",
       "50%      1.000000    0.00000  115.000000    0.00000  \n",
       "75%      1.000000    1.00000  203.000000    1.00000  \n",
       "max      1.000000    1.00000  285.000000    1.00000  "
      ]
     },
     "execution_count": 3,
     "metadata": {},
     "output_type": "execute_result"
    }
   ],
   "source": [
    "df_01.describe()"
   ]
  },
  {
   "cell_type": "code",
   "execution_count": 4,
   "metadata": {},
   "outputs": [
    {
     "name": "stdout",
     "output_type": "stream",
     "text": [
      "['anaemia', 'creatinine_phosphokinase', 'diabetes', 'ejection_fraction', 'high_blood_pressure', 'platelets', 'serum_creatinine', 'serum_sodium', 'sex', 'smoking', 'time', 'Results']\n"
     ]
    }
   ],
   "source": [
    "df_features = list(df_01.columns)\n",
    "print(df_features)"
   ]
  },
  {
   "cell_type": "code",
   "execution_count": 5,
   "metadata": {},
   "outputs": [
    {
     "name": "stdout",
     "output_type": "stream",
     "text": [
      "creatinine_phosphokinase    0\n",
      "ejection_fraction           0\n",
      "platelets                   0\n",
      "serum_creatinine            0\n",
      "serum_sodium                0\n",
      "time                        0\n",
      "dtype: int64\n"
     ]
    }
   ],
   "source": [
    "print((df_01[['creatinine_phosphokinase', 'ejection_fraction', 'platelets', 'serum_creatinine', 'serum_sodium', 'time']]==0).sum())"
   ]
  },
  {
   "cell_type": "code",
   "execution_count": 6,
   "metadata": {},
   "outputs": [
    {
     "data": {
      "text/plain": [
       "Index(['anaemia', 'creatinine_phosphokinase', 'diabetes', 'ejection_fraction',\n",
       "       'high_blood_pressure', 'platelets', 'serum_creatinine', 'serum_sodium',\n",
       "       'sex', 'smoking', 'time', 'Results'],\n",
       "      dtype='object')"
      ]
     },
     "execution_count": 6,
     "metadata": {},
     "output_type": "execute_result"
    }
   ],
   "source": [
    "df_01.columns"
   ]
  },
  {
   "cell_type": "code",
   "execution_count": 7,
   "metadata": {},
   "outputs": [
    {
     "data": {
      "image/png": "[encoded data removed]",
      "text/plain": [
       "<Figure size 1440x1152 with 16 Axes>"
      ]
     },
     "metadata": {
      "needs_background": "light"
     },
     "output_type": "display_data"
    }
   ],
   "source": [
    "fig, axes = plt.subplots(4,4, figsize=(20,16))\n",
    "x_,y_ = 0,0\n",
    "for i, column in enumerate(df_01.columns[0:]):    \n",
    "    sb.boxplot(x=df_01[column], ax=axes[x_,y_], palette=\"Set2\")\n",
    "    if i < 3:\n",
    "        y_ += 1\n",
    "    elif i == 3: \n",
    "        x_ = 1\n",
    "        y_ = 0\n",
    "    elif i == 7:\n",
    "        x_ = 2\n",
    "        y_ = 0\n",
    "    elif i == 11:\n",
    "        x_ = 3\n",
    "        y_ = 0\n",
    "    else:\n",
    "        y_ += 1"
   ]
  },
  {
   "cell_type": "code",
   "execution_count": 8,
   "metadata": {},
   "outputs": [
    {
     "name": "stdout",
     "output_type": "stream",
     "text": [
      "Index(['anaemia', 'creatinine_phosphokinase', 'diabetes', 'ejection_fraction',\n",
      "       'high_blood_pressure', 'platelets', 'serum_creatinine', 'serum_sodium',\n",
      "       'sex', 'smoking', 'time', 'Results'],\n",
      "      dtype='object')\n",
      "   anaemia  creatinine_phosphokinase  diabetes  ejection_fraction  \\\n",
      "0      0.0                  0.071319       0.0           0.090909   \n",
      "1      0.0                  1.000000       0.0           0.363636   \n",
      "2      0.0                  0.015693       0.0           0.090909   \n",
      "3      1.0                  0.011227       0.0           0.090909   \n",
      "4      1.0                  0.017479       1.0           0.090909   \n",
      "\n",
      "   high_blood_pressure  platelets  serum_creatinine  serum_sodium  sex  \\\n",
      "0                  1.0   0.290823          0.157303      0.485714  1.0   \n",
      "1                  0.0   0.288833          0.067416      0.657143  1.0   \n",
      "2                  0.0   0.165960          0.089888      0.457143  1.0   \n",
      "3                  0.0   0.224148          0.157303      0.685714  1.0   \n",
      "4                  0.0   0.365984          0.247191      0.085714  0.0   \n",
      "\n",
      "   smoking      time  Results  \n",
      "0      0.0  0.000000      1.0  \n",
      "1      0.0  0.007117      1.0  \n",
      "2      1.0  0.010676      1.0  \n",
      "3      0.0  0.010676      1.0  \n",
      "4      0.0  0.014235      1.0  \n"
     ]
    }
   ],
   "source": [
    "cols = df_01.columns\n",
    "print(cols)\n",
    "scaler = MinMaxScaler()\n",
    "dat = scaler.fit_transform(df_01)\n",
    "df_02 = pd.DataFrame(data=dat, columns=cols)  \n",
    "print(df_02.head())"
   ]
  },
  {
   "cell_type": "code",
   "execution_count": 9,
   "metadata": {},
   "outputs": [
    {
     "name": "stdout",
     "output_type": "stream",
     "text": [
      "0.0    203\n",
      "1.0     96\n",
      "Name: Results, dtype: int64\n"
     ]
    }
   ],
   "source": [
    "x = df_02.drop([\"Results\"], axis =1);\n",
    "y = df_02[\"Results\"]\n",
    "print(y.value_counts())"
   ]
  },
  {
   "cell_type": "code",
   "execution_count": 10,
   "metadata": {},
   "outputs": [
    {
     "data": {
      "text/plain": [
       "(array([203.,   0.,   0.,   0.,   0.,   0.,   0.,   0.,   0.,  96.]),\n",
       " array([0. , 0.1, 0.2, 0.3, 0.4, 0.5, 0.6, 0.7, 0.8, 0.9, 1. ]),\n",
       " <BarContainer object of 10 artists>)"
      ]
     },
     "execution_count": 10,
     "metadata": {},
     "output_type": "execute_result"
    },
    {
     "data": {
      "image/png": "[encoded data removed]",
      "text/plain": [
       "<Figure size 432x288 with 1 Axes>"
      ]
     },
     "metadata": {
      "needs_background": "light"
     },
     "output_type": "display_data"
    }
   ],
   "source": [
    "plt.hist(y)"
   ]
  },
  {
   "cell_type": "code",
   "execution_count": 11,
   "metadata": {},
   "outputs": [
    {
     "name": "stdout",
     "output_type": "stream",
     "text": [
      "0.0    137\n",
      "1.0     96\n",
      "Name: Results, dtype: int64\n"
     ]
    },
    {
     "data": {
      "text/plain": [
       "(array([137.,   0.,   0.,   0.,   0.,   0.,   0.,   0.,   0.,  96.]),\n",
       " array([0. , 0.1, 0.2, 0.3, 0.4, 0.5, 0.6, 0.7, 0.8, 0.9, 1. ]),\n",
       " <BarContainer object of 10 artists>)"
      ]
     },
     "execution_count": 11,
     "metadata": {},
     "output_type": "execute_result"
    },
    {
     "data": {
      "image/png": "[encoded data removed]",
      "text/plain": [
       "<Figure size 432x288 with 1 Axes>"
      ]
     },
     "metadata": {
      "needs_background": "light"
     },
     "output_type": "display_data"
    }
   ],
   "source": [
    "# transform the dataset\n",
    "under = RandomUnderSampler(sampling_strategy= 0.7,random_state = 0)\n",
    "X, Y = under.fit_resample(x, y)\n",
    "print(Y.value_counts())\n",
    "plt.hist(Y)"
   ]
  },
  {
   "cell_type": "code",
   "execution_count": 12,
   "metadata": {},
   "outputs": [
    {
     "name": "stdout",
     "output_type": "stream",
     "text": [
      "0.0    137\n",
      "1.0    137\n",
      "Name: Results, dtype: int64\n"
     ]
    },
    {
     "data": {
      "text/plain": [
       "(array([137.,   0.,   0.,   0.,   0.,   0.,   0.,   0.,   0., 137.]),\n",
       " array([0. , 0.1, 0.2, 0.3, 0.4, 0.5, 0.6, 0.7, 0.8, 0.9, 1. ]),\n",
       " <BarContainer object of 10 artists>)"
      ]
     },
     "execution_count": 12,
     "metadata": {},
     "output_type": "execute_result"
    },
    {
     "data": {
      "image/png": "[encoded data removed]",
      "text/plain": [
       "<Figure size 432x288 with 1 Axes>"
      ]
     },
     "metadata": {
      "needs_background": "light"
     },
     "output_type": "display_data"
    }
   ],
   "source": [
    "smt = SMOTE(random_state=0)\n",
    "X, Y = smt.fit_resample(X,Y)\n",
    "print(Y.value_counts())\n",
    "plt.hist(Y)"
   ]
  },
  {
   "cell_type": "code",
   "execution_count": 13,
   "metadata": {},
   "outputs": [
    {
     "name": "stdout",
     "output_type": "stream",
     "text": [
      "CV value :  2\n",
      "Parameters :  {}\n",
      "Accuracy :  67.153\n",
      "Standed deviation :  2.920\n",
      "CV value :  3\n",
      "Parameters :  {}\n",
      "Accuracy :  73.364\n",
      "Standed deviation :  3.344\n",
      "CV value :  4\n",
      "Parameters :  {}\n",
      "Accuracy :  76.263\n",
      "Standed deviation :  4.820\n",
      "CV value :  5\n",
      "Parameters :  {}\n",
      "Accuracy :  77.731\n",
      "Standed deviation :  3.173\n",
      "CV value :  6\n",
      "Parameters :  {}\n",
      "Accuracy :  72.971\n",
      "Standed deviation :  6.464\n",
      "CV value :  7\n",
      "Parameters :  {}\n",
      "Accuracy :  78.077\n",
      "Standed deviation :  5.855\n",
      "CV value :  8\n",
      "Parameters :  {}\n",
      "Accuracy :  74.065\n",
      "Standed deviation :  7.903\n",
      "CV value :  9\n",
      "Parameters :  {}\n",
      "Accuracy :  78.399\n",
      "Standed deviation :  6.983\n",
      "CV value :  10\n",
      "Parameters :  {}\n",
      "Accuracy :  78.743\n",
      "Standed deviation :  9.022\n",
      "CV value :  11\n",
      "Parameters :  {}\n",
      "Accuracy :  76.970\n",
      "Standed deviation :  8.846\n",
      "CV value :  12\n",
      "Parameters :  {}\n",
      "Accuracy :  76.301\n",
      "Standed deviation :  8.821\n",
      "CV value :  13\n",
      "Parameters :  {}\n",
      "Accuracy :  81.385\n",
      "Standed deviation :  8.240\n",
      "CV value :  14\n",
      "Parameters :  {}\n",
      "Accuracy :  80.996\n",
      "Standed deviation :  9.613\n",
      "CV value :  15\n",
      "Parameters :  {}\n",
      "Accuracy :  78.733\n",
      "Standed deviation :  11.983\n"
     ]
    }
   ],
   "source": [
    "# creating a decision tree classifier\n",
    "dt_model = tree.DecisionTreeClassifier()\n",
    "param_grid_dt = {\n",
    "     \n",
    "}\n",
    "cv_array = [2,3,4,5,6,7,8,9,10,11,12,13,14,15]\n",
    "for cv in cv_array:\n",
    "    gridSearchRF = GridSearchCV(estimator=dt_model, param_grid=param_grid_dt, scoring='accuracy', n_jobs=-1, cv=cv)\n",
    "    gridSearchRF.fit(X, Y)\n",
    "    print(\"CV value : \", cv)\n",
    "    print(\"Parameters : \", gridSearchRF.best_params_)\n",
    "    print(\"Accuracy :  %0.3f\" % (gridSearchRF.best_score_*100))\n",
    "    print(\"Standed deviation :  %0.3f\" % (gridSearchRF.cv_results_['std_test_score'][gridSearchRF.best_index_]*100))"
   ]
  },
  {
   "cell_type": "code",
   "execution_count": 14,
   "metadata": {},
   "outputs": [
    {
     "name": "stdout",
     "output_type": "stream",
     "text": [
      "CV value :  2\n",
      "Parameters :  {'random_state': 1}\n",
      "Accuracy :  72.628\n",
      "Standed deviation :  6.204\n",
      "CV value :  3\n",
      "Parameters :  {'random_state': 2}\n",
      "Accuracy :  76.983\n",
      "Standed deviation :  6.531\n",
      "CV value :  4\n",
      "Parameters :  {'random_state': 4}\n",
      "Accuracy :  77.701\n",
      "Standed deviation :  8.415\n",
      "CV value :  5\n",
      "Parameters :  {'random_state': 2}\n",
      "Accuracy :  81.401\n",
      "Standed deviation :  8.056\n",
      "CV value :  6\n",
      "Parameters :  {'random_state': 0}\n",
      "Accuracy :  79.203\n",
      "Standed deviation :  12.079\n",
      "CV value :  7\n",
      "Parameters :  {'random_state': 30}\n",
      "Accuracy :  79.515\n",
      "Standed deviation :  13.594\n",
      "CV value :  8\n",
      "Parameters :  {'random_state': 0}\n",
      "Accuracy :  80.578\n",
      "Standed deviation :  9.706\n",
      "CV value :  9\n",
      "Parameters :  {'random_state': 0}\n",
      "Accuracy :  82.019\n",
      "Standed deviation :  9.408\n",
      "CV value :  10\n",
      "Parameters :  {'random_state': 0}\n",
      "Accuracy :  79.458\n",
      "Standed deviation :  9.645\n",
      "CV value :  11\n",
      "Parameters :  {'random_state': 0}\n",
      "Accuracy :  80.667\n",
      "Standed deviation :  8.976\n",
      "CV value :  12\n",
      "Parameters :  {'random_state': 0}\n",
      "Accuracy :  81.802\n",
      "Standed deviation :  11.038\n",
      "CV value :  13\n",
      "Parameters :  {'random_state': 20}\n",
      "Accuracy :  82.834\n",
      "Standed deviation :  11.458\n",
      "CV value :  14\n",
      "Parameters :  {'random_state': 0}\n",
      "Accuracy :  80.226\n",
      "Standed deviation :  11.049\n",
      "CV value :  15\n",
      "Parameters :  {'random_state': 0}\n",
      "Accuracy :  81.248\n",
      "Standed deviation :  11.163\n"
     ]
    }
   ],
   "source": [
    "# creating a Gradient boosting classifier\n",
    "gb_model = GradientBoostingClassifier()\n",
    "param_grid_gb = {\n",
    "     'random_state': [0, 1, 2,3,4,5 , 10, 20, 30, 40, 50]\n",
    "}\n",
    "for cv in cv_array:\n",
    "     gridSearchRF = GridSearchCV(estimator=gb_model, param_grid=param_grid_gb, scoring='accuracy', n_jobs=-1, cv=cv)\n",
    "     gridSearchRF.fit(X, Y)\n",
    "     print(\"CV value : \", cv)\n",
    "     print(\"Parameters : \", gridSearchRF.best_params_)\n",
    "     print(\"Accuracy :  %0.3f\" % (gridSearchRF.best_score_*100))\n",
    "     print(\"Standed deviation :  %0.3f\" % (gridSearchRF.cv_results_['std_test_score'][gridSearchRF.best_index_]*100))"
   ]
  },
  {
   "cell_type": "code",
   "execution_count": 15,
   "metadata": {},
   "outputs": [
    {
     "name": "stdout",
     "output_type": "stream",
     "text": [
      "CV value :  2\n",
      "Parameters :  {'n_neighbors': 13}\n",
      "Accuracy :  64.234\n",
      "Standed deviation :  2.190\n",
      "CV value :  3\n",
      "Parameters :  {'n_neighbors': 13}\n",
      "Accuracy :  67.487\n",
      "Standed deviation :  7.832\n",
      "CV value :  4\n",
      "Parameters :  {'n_neighbors': 17}\n",
      "Accuracy :  70.396\n",
      "Standed deviation :  8.275\n",
      "CV value :  5\n",
      "Parameters :  {'n_neighbors': 17}\n",
      "Accuracy :  68.613\n",
      "Standed deviation :  10.373\n",
      "CV value :  6\n",
      "Parameters :  {'n_neighbors': 17}\n",
      "Accuracy :  68.631\n",
      "Standed deviation :  9.733\n",
      "CV value :  7\n",
      "Parameters :  {'n_neighbors': 17}\n",
      "Accuracy :  70.769\n",
      "Standed deviation :  10.841\n",
      "CV value :  8\n",
      "Parameters :  {'n_neighbors': 3}\n",
      "Accuracy :  69.286\n",
      "Standed deviation :  9.879\n",
      "CV value :  9\n",
      "Parameters :  {'n_neighbors': 3}\n",
      "Accuracy :  69.988\n",
      "Standed deviation :  12.523\n",
      "CV value :  10\n",
      "Parameters :  {'n_neighbors': 3}\n",
      "Accuracy :  70.331\n",
      "Standed deviation :  13.006\n",
      "CV value :  11\n",
      "Parameters :  {'n_neighbors': 3}\n",
      "Accuracy :  68.985\n",
      "Standed deviation :  14.159\n",
      "CV value :  12\n",
      "Parameters :  {'n_neighbors': 3}\n",
      "Accuracy :  70.109\n",
      "Standed deviation :  11.536\n",
      "CV value :  13\n",
      "Parameters :  {'n_neighbors': 3}\n",
      "Accuracy :  70.430\n",
      "Standed deviation :  12.839\n",
      "CV value :  14\n",
      "Parameters :  {'n_neighbors': 3}\n",
      "Accuracy :  70.376\n",
      "Standed deviation :  13.583\n",
      "CV value :  15\n",
      "Parameters :  {'n_neighbors': 3}\n",
      "Accuracy :  69.591\n",
      "Standed deviation :  13.519\n"
     ]
    }
   ],
   "source": [
    "# creating a KNN classifier\n",
    "KNN_model =KNeighborsClassifier()\n",
    "param_grid_knn = {\n",
    "     'n_neighbors': [3, 5, 7, 11, 13, 17]\n",
    "}\n",
    "for cv in cv_array:\n",
    "     gridSearchRF = GridSearchCV(estimator=KNN_model, param_grid=param_grid_knn, scoring='accuracy', n_jobs=-1, cv=cv)\n",
    "     gridSearchRF.fit(X, Y)\n",
    "     print(\"CV value : \", cv)\n",
    "     print(\"Parameters : \", gridSearchRF.best_params_)\n",
    "     print(\"Accuracy :  %0.3f\" % (gridSearchRF.best_score_*100))\n",
    "     print(\"Standed deviation :  %0.3f\" % (gridSearchRF.cv_results_['std_test_score'][gridSearchRF.best_index_]*100))"
   ]
  },
  {
   "cell_type": "code",
   "execution_count": 16,
   "metadata": {},
   "outputs": [
    {
     "name": "stdout",
     "output_type": "stream",
     "text": [
      "CV value :  2\n",
      "Parameters :  {'max_iter': 100}\n",
      "Accuracy :  71.898\n",
      "Standed deviation :  5.474\n",
      "CV value :  3\n",
      "Parameters :  {'max_iter': 100}\n",
      "Accuracy :  75.872\n",
      "Standed deviation :  7.889\n",
      "CV value :  4\n",
      "Parameters :  {'max_iter': 100}\n",
      "Accuracy :  73.279\n",
      "Standed deviation :  12.764\n",
      "CV value :  5\n",
      "Parameters :  {'max_iter': 100}\n",
      "Accuracy :  74.438\n",
      "Standed deviation :  9.867\n",
      "CV value :  6\n",
      "Parameters :  {'max_iter': 100}\n",
      "Accuracy :  75.894\n",
      "Standed deviation :  13.496\n",
      "CV value :  7\n",
      "Parameters :  {'max_iter': 100}\n",
      "Accuracy :  74.066\n",
      "Standed deviation :  16.610\n",
      "CV value :  8\n",
      "Parameters :  {'max_iter': 100}\n",
      "Accuracy :  75.494\n",
      "Standed deviation :  12.367\n",
      "CV value :  9\n",
      "Parameters :  {'max_iter': 100}\n",
      "Accuracy :  75.759\n",
      "Standed deviation :  16.043\n",
      "CV value :  10\n",
      "Parameters :  {'max_iter': 100}\n",
      "Accuracy :  74.643\n",
      "Standed deviation :  16.064\n",
      "CV value :  11\n",
      "Parameters :  {'max_iter': 100}\n",
      "Accuracy :  74.788\n",
      "Standed deviation :  15.512\n",
      "CV value :  12\n",
      "Parameters :  {'max_iter': 100}\n",
      "Accuracy :  75.560\n",
      "Standed deviation :  15.434\n",
      "CV value :  13\n",
      "Parameters :  {'max_iter': 100}\n",
      "Accuracy :  75.541\n",
      "Standed deviation :  17.808\n",
      "CV value :  14\n",
      "Parameters :  {'max_iter': 100}\n",
      "Accuracy :  74.229\n",
      "Standed deviation :  15.419\n",
      "CV value :  15\n",
      "Parameters :  {'max_iter': 100}\n",
      "Accuracy :  74.659\n",
      "Standed deviation :  16.784\n"
     ]
    }
   ],
   "source": [
    "# creating a Lgistic regression classifier\n",
    "lr_model = LogisticRegression() \n",
    "\n",
    "param_grid_lr = {\n",
    "     'max_iter': [100, 200, 300, 400, 500]\n",
    "}\n",
    "for cv in cv_array:\n",
    "     gridSearchRF = GridSearchCV(estimator=lr_model, param_grid=param_grid_lr, scoring='accuracy', n_jobs=-1, cv=cv)\n",
    "     gridSearchRF.fit(X, Y)\n",
    "     print(\"CV value : \", cv)\n",
    "     print(\"Parameters : \", gridSearchRF.best_params_)\n",
    "     print(\"Accuracy :  %0.3f\" % (gridSearchRF.best_score_*100))\n",
    "     print(\"Standed deviation :  %0.3f\" % (gridSearchRF.cv_results_['std_test_score'][gridSearchRF.best_index_]*100))\n"
   ]
  },
  {
   "cell_type": "code",
   "execution_count": 17,
   "metadata": {},
   "outputs": [
    {
     "name": "stdout",
     "output_type": "stream",
     "text": [
      "CV value :  2\n",
      "Parameters :  {}\n",
      "Accuracy :  70.438\n",
      "Standed deviation :  7.664\n",
      "CV value :  3\n",
      "Parameters :  {}\n",
      "Accuracy :  71.855\n",
      "Standed deviation :  8.795\n",
      "CV value :  4\n",
      "Parameters :  {}\n",
      "Accuracy :  71.483\n",
      "Standed deviation :  6.857\n",
      "CV value :  5\n",
      "Parameters :  {}\n",
      "Accuracy :  72.249\n",
      "Standed deviation :  15.256\n",
      "CV value :  6\n",
      "Parameters :  {}\n",
      "Accuracy :  72.609\n",
      "Standed deviation :  10.152\n",
      "CV value :  7\n",
      "Parameters :  {}\n",
      "Accuracy :  71.877\n",
      "Standed deviation :  11.174\n",
      "CV value :  8\n",
      "Parameters :  {}\n",
      "Accuracy :  71.460\n",
      "Standed deviation :  12.533\n",
      "CV value :  9\n",
      "Parameters :  {}\n",
      "Accuracy :  73.572\n",
      "Standed deviation :  12.045\n",
      "CV value :  10\n",
      "Parameters :  {}\n",
      "Accuracy :  73.505\n",
      "Standed deviation :  14.527\n",
      "CV value :  11\n",
      "Parameters :  {}\n",
      "Accuracy :  73.333\n",
      "Standed deviation :  13.297\n",
      "CV value :  12\n",
      "Parameters :  {}\n",
      "Accuracy :  71.887\n",
      "Standed deviation :  12.627\n",
      "CV value :  13\n",
      "Parameters :  {}\n",
      "Accuracy :  71.895\n",
      "Standed deviation :  14.283\n",
      "CV value :  14\n",
      "Parameters :  {}\n",
      "Accuracy :  72.143\n",
      "Standed deviation :  13.727\n",
      "CV value :  15\n",
      "Parameters :  {}\n",
      "Accuracy :  73.587\n",
      "Standed deviation :  14.452\n"
     ]
    }
   ],
   "source": [
    "# creating a Nave Bayers classifier\n",
    "nb_model = MultinomialNB()\n",
    "param_grid_nb = {\n",
    "\n",
    "}\n",
    "for cv in cv_array:\n",
    "    gridSearchRF = GridSearchCV(estimator=nb_model, param_grid=param_grid_nb, scoring='accuracy', n_jobs=-1, cv=cv)\n",
    "    gridSearchRF.fit(X, Y)\n",
    "    print(\"CV value : \", cv)\n",
    "    print(\"Parameters : \", gridSearchRF.best_params_)\n",
    "    print(\"Accuracy :  %0.3f\" % (gridSearchRF.best_score_*100))\n",
    "    print(\"Standed deviation :  %0.3f\" % (gridSearchRF.cv_results_['std_test_score'][gridSearchRF.best_index_]*100))\n"
   ]
  },
  {
   "cell_type": "code",
   "execution_count": 18,
   "metadata": {},
   "outputs": [
    {
     "name": "stdout",
     "output_type": "stream",
     "text": [
      "CV value :  2\n",
      "Parameters :  {'kernel': 'poly'}\n",
      "Accuracy :  71.168\n",
      "Standed deviation :  1.825\n",
      "CV value :  3\n",
      "Parameters :  {'kernel': 'linear'}\n",
      "Accuracy :  75.143\n",
      "Standed deviation :  7.909\n",
      "CV value :  4\n",
      "Parameters :  {'kernel': 'linear'}\n",
      "Accuracy :  75.091\n",
      "Standed deviation :  14.299\n",
      "CV value :  5\n",
      "Parameters :  {'kernel': 'poly'}\n",
      "Accuracy :  74.465\n",
      "Standed deviation :  5.464\n",
      "CV value :  6\n",
      "Parameters :  {'kernel': 'linear'}\n",
      "Accuracy :  74.799\n",
      "Standed deviation :  11.865\n",
      "CV value :  7\n",
      "Parameters :  {'kernel': 'linear'}\n",
      "Accuracy :  75.531\n",
      "Standed deviation :  16.053\n",
      "CV value :  8\n",
      "Parameters :  {'kernel': 'linear'}\n",
      "Accuracy :  75.851\n",
      "Standed deviation :  11.902\n",
      "CV value :  9\n",
      "Parameters :  {'kernel': 'linear'}\n",
      "Accuracy :  76.117\n",
      "Standed deviation :  16.255\n",
      "CV value :  10\n",
      "Parameters :  {'kernel': 'linear'}\n",
      "Accuracy :  75.741\n",
      "Standed deviation :  16.012\n",
      "CV value :  11\n",
      "Parameters :  {'kernel': 'poly'}\n",
      "Accuracy :  76.288\n",
      "Standed deviation :  8.576\n",
      "CV value :  12\n",
      "Parameters :  {'kernel': 'linear'}\n",
      "Accuracy :  75.889\n",
      "Standed deviation :  16.164\n",
      "CV value :  13\n",
      "Parameters :  {'kernel': 'poly'}\n",
      "Accuracy :  76.274\n",
      "Standed deviation :  11.517\n",
      "CV value :  14\n",
      "Parameters :  {'kernel': 'linear'}\n",
      "Accuracy :  75.639\n",
      "Standed deviation :  16.130\n",
      "CV value :  15\n",
      "Parameters :  {'kernel': 'poly'}\n",
      "Accuracy :  76.608\n",
      "Standed deviation :  11.339\n"
     ]
    }
   ],
   "source": [
    "# creating a SVM classifier\n",
    "svm_model = svm.SVC()\n",
    "param_grid_svm = {\n",
    "     'kernel': ['linear', 'poly', 'rbf', 'sigmoid']\n",
    "}\n",
    "\n",
    "for cv in cv_array:\n",
    "     gridSearchRF = GridSearchCV(estimator=svm_model, param_grid=param_grid_svm, scoring='accuracy', n_jobs=-1, cv=cv)\n",
    "     gridSearchRF.fit(X, Y)\n",
    "     print(\"CV value : \", cv)\n",
    "     print(\"Parameters : \", gridSearchRF.best_params_)\n",
    "     print(\"Accuracy :  %0.3f\" % (gridSearchRF.best_score_*100))\n",
    "     print(\"Standed deviation :  %0.3f\" % (gridSearchRF.cv_results_['std_test_score'][gridSearchRF.best_index_]*100))\n"
   ]
  },
  {
   "cell_type": "code",
   "execution_count": 19,
   "metadata": {},
   "outputs": [
    {
     "name": "stdout",
     "output_type": "stream",
     "text": [
      "CV value :  2\n",
      "Parameters :  {'max_depth': 100, 'max_features': 2, 'n_estimators': 100}\n",
      "Accuracy :  75.547\n",
      "Standed deviation :  7.664\n",
      "CV value :  3\n",
      "Parameters :  {'max_depth': 150, 'max_features': 2, 'n_estimators': 300}\n",
      "Accuracy :  83.202\n",
      "Standed deviation :  5.283\n",
      "CV value :  4\n",
      "Parameters :  {'max_depth': 300, 'max_features': 2, 'n_estimators': 300}\n",
      "Accuracy :  83.552\n",
      "Standed deviation :  6.964\n",
      "CV value :  5\n",
      "Parameters :  {'max_depth': 200, 'max_features': 2, 'n_estimators': 200}\n",
      "Accuracy :  85.051\n",
      "Standed deviation :  5.034\n",
      "CV value :  6\n",
      "Parameters :  {'max_depth': 90, 'max_features': 2, 'n_estimators': 200}\n",
      "Accuracy :  83.229\n",
      "Standed deviation :  8.273\n",
      "CV value :  7\n",
      "Parameters :  {'max_depth': 90, 'max_features': 2, 'n_estimators': 100}\n",
      "Accuracy :  83.929\n",
      "Standed deviation :  6.698\n",
      "CV value :  8\n",
      "Parameters :  {'max_depth': 90, 'max_features': 2, 'n_estimators': 200}\n",
      "Accuracy :  84.653\n",
      "Standed deviation :  5.469\n",
      "CV value :  9\n",
      "Parameters :  {'max_depth': 100, 'max_features': 3, 'n_estimators': 200}\n",
      "Accuracy :  84.982\n",
      "Standed deviation :  7.423\n",
      "CV value :  10\n",
      "Parameters :  {'max_depth': 300, 'max_features': 3, 'n_estimators': 200}\n",
      "Accuracy :  85.701\n",
      "Standed deviation :  6.991\n",
      "CV value :  11\n",
      "Parameters :  {'max_depth': 80, 'max_features': 3, 'n_estimators': 200}\n",
      "Accuracy :  85.015\n",
      "Standed deviation :  7.699\n",
      "CV value :  12\n",
      "Parameters :  {'max_depth': 200, 'max_features': 3, 'n_estimators': 300}\n",
      "Accuracy :  85.063\n",
      "Standed deviation :  8.958\n",
      "CV value :  13\n",
      "Parameters :  {'max_depth': 100, 'max_features': 3, 'n_estimators': 200}\n",
      "Accuracy :  85.764\n",
      "Standed deviation :  8.959\n",
      "CV value :  14\n",
      "Parameters :  {'max_depth': 150, 'max_features': 2, 'n_estimators': 200}\n",
      "Accuracy :  85.019\n",
      "Standed deviation :  9.592\n",
      "CV value :  15\n",
      "Parameters :  {'max_depth': 200, 'max_features': 3, 'n_estimators': 100}\n",
      "Accuracy :  86.413\n",
      "Standed deviation :  8.613\n"
     ]
    }
   ],
   "source": [
    "# creating a Random forest classifier\n",
    "rf = RandomForestClassifier()\n",
    "param_grid_rf = {\n",
    "     'max_depth': [80, 90, 100, 110, 150, 200, 300],\n",
    "     'max_features': [2, 3, 4, 5,6],\n",
    "     'n_estimators': [100, 200, 300]\n",
    "}\n",
    "\n",
    "for cv in cv_array:\n",
    "     gridSearchRF = GridSearchCV(estimator=rf, param_grid=param_grid_rf, scoring='accuracy', n_jobs=-1, cv=cv)\n",
    "     gridSearchRF.fit(X, Y)\n",
    "     print(\"CV value : \", cv)\n",
    "     print(\"Parameters : \", gridSearchRF.best_params_)\n",
    "     print(\"Accuracy :  %0.3f\" % (gridSearchRF.best_score_*100))\n",
    "     print(\"Standed deviation :  %0.3f\" % (gridSearchRF.cv_results_['std_test_score'][gridSearchRF.best_index_]*100))"
   ]
  }
 ],
 "metadata": {
  "kernelspec": {
   "display_name": "Python 3.9.13 ('base')",
   "language": "python",
   "name": "python3"
  },
  "language_info": {
   "codemirror_mode": {
    "name": "ipython",
    "version": 3
   },
   "file_extension": ".py",
   "mimetype": "text/x-python",
   "name": "python",
   "nbconvert_exporter": "python",
   "pygments_lexer": "ipython3",
   "version": "3.9.13"
  },
  "orig_nbformat": 4,
  "vscode": {
   "interpreter": {
    "hash": "dd78fe5a17d57d1a86104509f6d28e1e730005acb4374104044dd451171eb7b3"
   }
  }
 },
 "nbformat": 4,
 "nbformat_minor": 2
}
