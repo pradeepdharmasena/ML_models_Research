{
 "cells": [
  {
   "cell_type": "code",
   "execution_count": 1,
   "metadata": {},
   "outputs": [],
   "source": [
    "import numpy as np;\n",
    "import pandas as pd;\n",
    "import matplotlib.pyplot as plt\n",
    "import sklearn.metrics as sm\n",
    "from sklearn.preprocessing import LabelEncoder\n",
    "from sklearn.model_selection import train_test_split\n",
    "from sklearn.decomposition import PCA\n",
    "from sklearn.metrics import confusion_matrix\n",
    "import seaborn as sb\n",
    "from imblearn.under_sampling import RandomUnderSampler\n",
    "from imblearn.over_sampling import SMOTE"
   ]
  },
  {
   "cell_type": "code",
   "execution_count": 2,
   "metadata": {},
   "outputs": [
    {
     "name": "stdout",
     "output_type": "stream",
     "text": [
      "   ILMN_1651296  ILMN_1654609  ILMN_1655864  ILMN_1656111  ILMN_1657898  \\\n",
      "0        9.3790       13.1600        9.1206       13.0567        8.9263   \n",
      "1        9.3431       13.6183        9.6620       13.4208        8.6274   \n",
      "2        8.7567       12.5893        8.9047       11.5663        8.3385   \n",
      "3        8.7806       12.4219        8.7785       11.7575        8.2053   \n",
      "4        8.5279       12.0954        8.4493       11.7753        8.2168   \n",
      "\n",
      "   ILMN_1660357  ILMN_1660938  ILMN_1663416  ILMN_1663975  ILMN_1664861  ...  \\\n",
      "0        9.5279        9.2688       16.3292        8.6046        9.4549  ...   \n",
      "1        9.5668        9.5245       16.4771        8.7923        9.5092  ...   \n",
      "2        8.6186        8.7190       15.2230        8.3046        8.6895  ...   \n",
      "3        8.4064        8.6284       15.1578        8.4242        8.5277  ...   \n",
      "4        8.4192        8.4568       14.9286        8.1800        8.3119  ...   \n",
      "\n",
      "   ILMN_2159384  ILMN_2203891  ILMN_2203896  ILMN_2245676  ILMN_2272857  \\\n",
      "0        9.7306        9.5990       10.5498        9.3395        9.4560   \n",
      "1        9.8929        9.6539       10.6225       10.0364        9.5200   \n",
      "2        8.9173        8.9897        9.1936        8.8015        8.6917   \n",
      "3        8.8102        8.9482        9.2249        8.9228        8.7210   \n",
      "4        8.7016        8.8365        9.2346        8.4438        8.6942   \n",
      "\n",
      "   ILMN_2320853  ILMN_2342250  ILMN_2359627  ILMN_2406410  Results  \n",
      "0       13.9438        8.7951        8.4001       11.6673  control  \n",
      "1       14.2676        8.8309        8.7299       11.6743  control  \n",
      "2       12.3935        8.0839        8.3184       10.7985  control  \n",
      "3       12.5593        8.3335        8.3509       10.6591  control  \n",
      "4       12.1135        8.1306        8.4000       10.6473  control  \n",
      "\n",
      "[5 rows x 101 columns]\n"
     ]
    }
   ],
   "source": [
    "df = pd.read_csv(\"../data/selected_M_best100.csv\")\n",
    "df = df.drop_duplicates()\n",
    "print(df.head())"
   ]
  },
  {
   "cell_type": "code",
   "execution_count": 3,
   "metadata": {},
   "outputs": [],
   "source": [
    "def map_results(inpt):\n",
    "    if inpt == 'control':\n",
    "        return 0;\n",
    "\n",
    "    else:\n",
    "        return 1;"
   ]
  },
  {
   "cell_type": "code",
   "execution_count": 4,
   "metadata": {},
   "outputs": [
    {
     "name": "stdout",
     "output_type": "stream",
     "text": [
      "   ILMN_1651296  ILMN_1654609  ILMN_1655864  ILMN_1656111  ILMN_1657898  \\\n",
      "0        9.3790       13.1600        9.1206       13.0567        8.9263   \n",
      "1        9.3431       13.6183        9.6620       13.4208        8.6274   \n",
      "2        8.7567       12.5893        8.9047       11.5663        8.3385   \n",
      "3        8.7806       12.4219        8.7785       11.7575        8.2053   \n",
      "4        8.5279       12.0954        8.4493       11.7753        8.2168   \n",
      "\n",
      "   ILMN_1660357  ILMN_1660938  ILMN_1663416  ILMN_1663975  ILMN_1664861  ...  \\\n",
      "0        9.5279        9.2688       16.3292        8.6046        9.4549  ...   \n",
      "1        9.5668        9.5245       16.4771        8.7923        9.5092  ...   \n",
      "2        8.6186        8.7190       15.2230        8.3046        8.6895  ...   \n",
      "3        8.4064        8.6284       15.1578        8.4242        8.5277  ...   \n",
      "4        8.4192        8.4568       14.9286        8.1800        8.3119  ...   \n",
      "\n",
      "   ILMN_2159384  ILMN_2203891  ILMN_2203896  ILMN_2245676  ILMN_2272857  \\\n",
      "0        9.7306        9.5990       10.5498        9.3395        9.4560   \n",
      "1        9.8929        9.6539       10.6225       10.0364        9.5200   \n",
      "2        8.9173        8.9897        9.1936        8.8015        8.6917   \n",
      "3        8.8102        8.9482        9.2249        8.9228        8.7210   \n",
      "4        8.7016        8.8365        9.2346        8.4438        8.6942   \n",
      "\n",
      "   ILMN_2320853  ILMN_2342250  ILMN_2359627  ILMN_2406410  Results  \n",
      "0       13.9438        8.7951        8.4001       11.6673        0  \n",
      "1       14.2676        8.8309        8.7299       11.6743        0  \n",
      "2       12.3935        8.0839        8.3184       10.7985        0  \n",
      "3       12.5593        8.3335        8.3509       10.6591        0  \n",
      "4       12.1135        8.1306        8.4000       10.6473        0  \n",
      "\n",
      "[5 rows x 101 columns]\n"
     ]
    }
   ],
   "source": [
    "df['Results'] = df['Results'].apply(map_results)\n",
    "print(df.head())"
   ]
  },
  {
   "cell_type": "code",
   "execution_count": 5,
   "metadata": {},
   "outputs": [
    {
     "data": {
      "text/html": [
       "<div>\n",
       "<style scoped>\n",
       "    .dataframe tbody tr th:only-of-type {\n",
       "        vertical-align: middle;\n",
       "    }\n",
       "\n",
       "    .dataframe tbody tr th {\n",
       "        vertical-align: top;\n",
       "    }\n",
       "\n",
       "    .dataframe thead th {\n",
       "        text-align: right;\n",
       "    }\n",
       "</style>\n",
       "<table border=\"1\" class=\"dataframe\">\n",
       "  <thead>\n",
       "    <tr style=\"text-align: right;\">\n",
       "      <th></th>\n",
       "      <th>ILMN_1651296</th>\n",
       "      <th>ILMN_1654609</th>\n",
       "      <th>ILMN_1655864</th>\n",
       "      <th>ILMN_1656111</th>\n",
       "      <th>ILMN_1657898</th>\n",
       "      <th>ILMN_1660357</th>\n",
       "      <th>ILMN_1660938</th>\n",
       "      <th>ILMN_1663416</th>\n",
       "      <th>ILMN_1663975</th>\n",
       "      <th>ILMN_1664861</th>\n",
       "      <th>...</th>\n",
       "      <th>ILMN_2159384</th>\n",
       "      <th>ILMN_2203891</th>\n",
       "      <th>ILMN_2203896</th>\n",
       "      <th>ILMN_2245676</th>\n",
       "      <th>ILMN_2272857</th>\n",
       "      <th>ILMN_2320853</th>\n",
       "      <th>ILMN_2342250</th>\n",
       "      <th>ILMN_2359627</th>\n",
       "      <th>ILMN_2406410</th>\n",
       "      <th>Results</th>\n",
       "    </tr>\n",
       "  </thead>\n",
       "  <tbody>\n",
       "    <tr>\n",
       "      <th>count</th>\n",
       "      <td>140.000000</td>\n",
       "      <td>140.000000</td>\n",
       "      <td>140.000000</td>\n",
       "      <td>140.000000</td>\n",
       "      <td>140.000000</td>\n",
       "      <td>140.000000</td>\n",
       "      <td>140.000000</td>\n",
       "      <td>140.000000</td>\n",
       "      <td>140.000000</td>\n",
       "      <td>140.000000</td>\n",
       "      <td>...</td>\n",
       "      <td>140.000000</td>\n",
       "      <td>140.000000</td>\n",
       "      <td>140.000000</td>\n",
       "      <td>140.000000</td>\n",
       "      <td>140.000000</td>\n",
       "      <td>140.000000</td>\n",
       "      <td>140.000000</td>\n",
       "      <td>140.000000</td>\n",
       "      <td>140.000000</td>\n",
       "      <td>140.000000</td>\n",
       "    </tr>\n",
       "    <tr>\n",
       "      <th>mean</th>\n",
       "      <td>8.963658</td>\n",
       "      <td>12.634358</td>\n",
       "      <td>8.840350</td>\n",
       "      <td>11.874034</td>\n",
       "      <td>8.361906</td>\n",
       "      <td>8.984964</td>\n",
       "      <td>8.824249</td>\n",
       "      <td>15.757651</td>\n",
       "      <td>8.442949</td>\n",
       "      <td>8.970473</td>\n",
       "      <td>...</td>\n",
       "      <td>9.127508</td>\n",
       "      <td>9.202827</td>\n",
       "      <td>9.943714</td>\n",
       "      <td>9.048387</td>\n",
       "      <td>8.906776</td>\n",
       "      <td>13.466810</td>\n",
       "      <td>8.241331</td>\n",
       "      <td>8.425519</td>\n",
       "      <td>11.200771</td>\n",
       "      <td>0.707143</td>\n",
       "    </tr>\n",
       "    <tr>\n",
       "      <th>std</th>\n",
       "      <td>0.507967</td>\n",
       "      <td>0.787855</td>\n",
       "      <td>0.551345</td>\n",
       "      <td>0.896543</td>\n",
       "      <td>0.348476</td>\n",
       "      <td>0.548652</td>\n",
       "      <td>0.428465</td>\n",
       "      <td>0.639390</td>\n",
       "      <td>0.312019</td>\n",
       "      <td>0.847736</td>\n",
       "      <td>...</td>\n",
       "      <td>0.610215</td>\n",
       "      <td>0.657520</td>\n",
       "      <td>0.937709</td>\n",
       "      <td>0.499249</td>\n",
       "      <td>0.424639</td>\n",
       "      <td>0.757236</td>\n",
       "      <td>0.292743</td>\n",
       "      <td>0.383808</td>\n",
       "      <td>0.666722</td>\n",
       "      <td>0.456707</td>\n",
       "    </tr>\n",
       "    <tr>\n",
       "      <th>min</th>\n",
       "      <td>8.172100</td>\n",
       "      <td>9.570600</td>\n",
       "      <td>7.867800</td>\n",
       "      <td>8.669400</td>\n",
       "      <td>7.708100</td>\n",
       "      <td>8.049400</td>\n",
       "      <td>7.884700</td>\n",
       "      <td>12.853500</td>\n",
       "      <td>7.914500</td>\n",
       "      <td>7.722100</td>\n",
       "      <td>...</td>\n",
       "      <td>7.852400</td>\n",
       "      <td>8.306700</td>\n",
       "      <td>8.039000</td>\n",
       "      <td>7.992200</td>\n",
       "      <td>8.108100</td>\n",
       "      <td>10.752000</td>\n",
       "      <td>7.699200</td>\n",
       "      <td>7.761100</td>\n",
       "      <td>9.291300</td>\n",
       "      <td>0.000000</td>\n",
       "    </tr>\n",
       "    <tr>\n",
       "      <th>25%</th>\n",
       "      <td>8.595050</td>\n",
       "      <td>12.086050</td>\n",
       "      <td>8.413500</td>\n",
       "      <td>11.294975</td>\n",
       "      <td>8.128750</td>\n",
       "      <td>8.536025</td>\n",
       "      <td>8.474475</td>\n",
       "      <td>15.253375</td>\n",
       "      <td>8.202875</td>\n",
       "      <td>8.260800</td>\n",
       "      <td>...</td>\n",
       "      <td>8.679300</td>\n",
       "      <td>8.774550</td>\n",
       "      <td>9.309425</td>\n",
       "      <td>8.640600</td>\n",
       "      <td>8.607750</td>\n",
       "      <td>12.979300</td>\n",
       "      <td>8.026950</td>\n",
       "      <td>8.161925</td>\n",
       "      <td>10.811500</td>\n",
       "      <td>0.000000</td>\n",
       "    </tr>\n",
       "    <tr>\n",
       "      <th>50%</th>\n",
       "      <td>8.837400</td>\n",
       "      <td>12.694350</td>\n",
       "      <td>8.688850</td>\n",
       "      <td>11.907700</td>\n",
       "      <td>8.254400</td>\n",
       "      <td>8.911400</td>\n",
       "      <td>8.809150</td>\n",
       "      <td>16.006400</td>\n",
       "      <td>8.405250</td>\n",
       "      <td>8.777450</td>\n",
       "      <td>...</td>\n",
       "      <td>9.066750</td>\n",
       "      <td>9.008250</td>\n",
       "      <td>9.789650</td>\n",
       "      <td>9.046050</td>\n",
       "      <td>8.758050</td>\n",
       "      <td>13.661150</td>\n",
       "      <td>8.178500</td>\n",
       "      <td>8.335400</td>\n",
       "      <td>11.251850</td>\n",
       "      <td>1.000000</td>\n",
       "    </tr>\n",
       "    <tr>\n",
       "      <th>75%</th>\n",
       "      <td>9.262500</td>\n",
       "      <td>13.167725</td>\n",
       "      <td>9.193275</td>\n",
       "      <td>12.534300</td>\n",
       "      <td>8.539750</td>\n",
       "      <td>9.307150</td>\n",
       "      <td>9.102900</td>\n",
       "      <td>16.210800</td>\n",
       "      <td>8.635275</td>\n",
       "      <td>9.596200</td>\n",
       "      <td>...</td>\n",
       "      <td>9.559950</td>\n",
       "      <td>9.392600</td>\n",
       "      <td>10.440125</td>\n",
       "      <td>9.346525</td>\n",
       "      <td>9.234700</td>\n",
       "      <td>14.001500</td>\n",
       "      <td>8.414075</td>\n",
       "      <td>8.562700</td>\n",
       "      <td>11.645875</td>\n",
       "      <td>1.000000</td>\n",
       "    </tr>\n",
       "    <tr>\n",
       "      <th>max</th>\n",
       "      <td>10.410700</td>\n",
       "      <td>13.997800</td>\n",
       "      <td>10.372400</td>\n",
       "      <td>13.481200</td>\n",
       "      <td>9.626600</td>\n",
       "      <td>10.658800</td>\n",
       "      <td>9.881100</td>\n",
       "      <td>16.639100</td>\n",
       "      <td>9.186400</td>\n",
       "      <td>10.767600</td>\n",
       "      <td>...</td>\n",
       "      <td>10.433700</td>\n",
       "      <td>11.892100</td>\n",
       "      <td>13.061800</td>\n",
       "      <td>10.197800</td>\n",
       "      <td>10.149800</td>\n",
       "      <td>14.683300</td>\n",
       "      <td>9.326000</td>\n",
       "      <td>9.909400</td>\n",
       "      <td>12.640700</td>\n",
       "      <td>1.000000</td>\n",
       "    </tr>\n",
       "  </tbody>\n",
       "</table>\n",
       "<p>8 rows × 101 columns</p>\n",
       "</div>"
      ],
      "text/plain": [
       "       ILMN_1651296  ILMN_1654609  ILMN_1655864  ILMN_1656111  ILMN_1657898  \\\n",
       "count    140.000000    140.000000    140.000000    140.000000    140.000000   \n",
       "mean       8.963658     12.634358      8.840350     11.874034      8.361906   \n",
       "std        0.507967      0.787855      0.551345      0.896543      0.348476   \n",
       "min        8.172100      9.570600      7.867800      8.669400      7.708100   \n",
       "25%        8.595050     12.086050      8.413500     11.294975      8.128750   \n",
       "50%        8.837400     12.694350      8.688850     11.907700      8.254400   \n",
       "75%        9.262500     13.167725      9.193275     12.534300      8.539750   \n",
       "max       10.410700     13.997800     10.372400     13.481200      9.626600   \n",
       "\n",
       "       ILMN_1660357  ILMN_1660938  ILMN_1663416  ILMN_1663975  ILMN_1664861  \\\n",
       "count    140.000000    140.000000    140.000000    140.000000    140.000000   \n",
       "mean       8.984964      8.824249     15.757651      8.442949      8.970473   \n",
       "std        0.548652      0.428465      0.639390      0.312019      0.847736   \n",
       "min        8.049400      7.884700     12.853500      7.914500      7.722100   \n",
       "25%        8.536025      8.474475     15.253375      8.202875      8.260800   \n",
       "50%        8.911400      8.809150     16.006400      8.405250      8.777450   \n",
       "75%        9.307150      9.102900     16.210800      8.635275      9.596200   \n",
       "max       10.658800      9.881100     16.639100      9.186400     10.767600   \n",
       "\n",
       "       ...  ILMN_2159384  ILMN_2203891  ILMN_2203896  ILMN_2245676  \\\n",
       "count  ...    140.000000    140.000000    140.000000    140.000000   \n",
       "mean   ...      9.127508      9.202827      9.943714      9.048387   \n",
       "std    ...      0.610215      0.657520      0.937709      0.499249   \n",
       "min    ...      7.852400      8.306700      8.039000      7.992200   \n",
       "25%    ...      8.679300      8.774550      9.309425      8.640600   \n",
       "50%    ...      9.066750      9.008250      9.789650      9.046050   \n",
       "75%    ...      9.559950      9.392600     10.440125      9.346525   \n",
       "max    ...     10.433700     11.892100     13.061800     10.197800   \n",
       "\n",
       "       ILMN_2272857  ILMN_2320853  ILMN_2342250  ILMN_2359627  ILMN_2406410  \\\n",
       "count    140.000000    140.000000    140.000000    140.000000    140.000000   \n",
       "mean       8.906776     13.466810      8.241331      8.425519     11.200771   \n",
       "std        0.424639      0.757236      0.292743      0.383808      0.666722   \n",
       "min        8.108100     10.752000      7.699200      7.761100      9.291300   \n",
       "25%        8.607750     12.979300      8.026950      8.161925     10.811500   \n",
       "50%        8.758050     13.661150      8.178500      8.335400     11.251850   \n",
       "75%        9.234700     14.001500      8.414075      8.562700     11.645875   \n",
       "max       10.149800     14.683300      9.326000      9.909400     12.640700   \n",
       "\n",
       "          Results  \n",
       "count  140.000000  \n",
       "mean     0.707143  \n",
       "std      0.456707  \n",
       "min      0.000000  \n",
       "25%      0.000000  \n",
       "50%      1.000000  \n",
       "75%      1.000000  \n",
       "max      1.000000  \n",
       "\n",
       "[8 rows x 101 columns]"
      ]
     },
     "execution_count": 5,
     "metadata": {},
     "output_type": "execute_result"
    }
   ],
   "source": [
    "\n",
    "df.describe()"
   ]
  },
  {
   "cell_type": "code",
   "execution_count": 6,
   "metadata": {},
   "outputs": [
    {
     "name": "stdout",
     "output_type": "stream",
     "text": [
      "['ILMN_1651296', 'ILMN_1654609', 'ILMN_1655864', 'ILMN_1656111', 'ILMN_1657898', 'ILMN_1660357', 'ILMN_1660938', 'ILMN_1663416', 'ILMN_1663975', 'ILMN_1664861', 'ILMN_1667500', 'ILMN_1668535', 'ILMN_1670218', 'ILMN_1670638', 'ILMN_1670817', 'ILMN_1671005', 'ILMN_1671067', 'ILMN_1672295', 'ILMN_1674661', 'ILMN_1677756', 'ILMN_1679045', 'ILMN_1680139', 'ILMN_1687526', 'ILMN_1687884', 'ILMN_1689400', 'ILMN_1691860', 'ILMN_1692169', 'ILMN_1693635', 'ILMN_1694671', 'ILMN_1695382', 'ILMN_1698404', 'ILMN_1701962', 'ILMN_1702691', 'ILMN_1704014', 'ILMN_1704335', 'ILMN_1706859', 'ILMN_1707339', 'ILMN_1707631', 'ILMN_1713189', 'ILMN_1713764', 'ILMN_1715771', 'ILMN_1717229', 'ILMN_1718977', 'ILMN_1725707', 'ILMN_1729832', 'ILMN_1732141', 'ILMN_1733998', 'ILMN_1734410', 'ILMN_1738116', 'ILMN_1740875', 'ILMN_1743204', 'ILMN_1745788', 'ILMN_1755643', 'ILMN_1755911', 'ILMN_1756937', 'ILMN_1758687', 'ILMN_1760280', 'ILMN_1762080', 'ILMN_1763364', 'ILMN_1765725', 'ILMN_1767168', 'ILMN_1768391', 'ILMN_1768534', 'ILMN_1772796', 'ILMN_1773307', 'ILMN_1775304', 'ILMN_1776327', 'ILMN_1779014', 'ILMN_1779376', 'ILMN_1780334', 'ILMN_1785732', 'ILMN_1789074', 'ILMN_1794233', 'ILMN_1796830', 'ILMN_1798706', 'ILMN_1801584', 'ILMN_1803846', 'ILMN_1804988', 'ILMN_1805111', 'ILMN_1809511', 'ILMN_1812970', 'ILMN_1813817', 'ILMN_1852793', 'ILMN_1875248', 'ILMN_1882112', 'ILMN_1898124', 'ILMN_1901419', 'ILMN_2048982', 'ILMN_2082762', 'ILMN_2088437', 'ILMN_2112599', 'ILMN_2159384', 'ILMN_2203891', 'ILMN_2203896', 'ILMN_2245676', 'ILMN_2272857', 'ILMN_2320853', 'ILMN_2342250', 'ILMN_2359627', 'ILMN_2406410', 'Results']\n"
     ]
    }
   ],
   "source": [
    "df_features = list(df.columns)\n",
    "print(df_features)"
   ]
  },
  {
   "cell_type": "code",
   "execution_count": 7,
   "metadata": {},
   "outputs": [
    {
     "name": "stdout",
     "output_type": "stream",
     "text": [
      "1    99\n",
      "0    41\n",
      "Name: Results, dtype: int64\n"
     ]
    }
   ],
   "source": [
    "x = df.drop([\"Results\"], axis =1);\n",
    "y = df[\"Results\"]\n",
    "print(y.value_counts())"
   ]
  },
  {
   "cell_type": "code",
   "execution_count": 8,
   "metadata": {},
   "outputs": [
    {
     "data": {
      "text/plain": [
       "(array([41.,  0.,  0.,  0.,  0.,  0.,  0.,  0.,  0., 99.]),\n",
       " array([0. , 0.1, 0.2, 0.3, 0.4, 0.5, 0.6, 0.7, 0.8, 0.9, 1. ]),\n",
       " <BarContainer object of 10 artists>)"
      ]
     },
     "execution_count": 8,
     "metadata": {},
     "output_type": "execute_result"
    },
    {
     "data": {
      "image/png": "[encoded data removed]",
      "text/plain": [
       "<Figure size 432x288 with 1 Axes>"
      ]
     },
     "metadata": {
      "needs_background": "light"
     },
     "output_type": "display_data"
    }
   ],
   "source": [
    "plt.hist(y)"
   ]
  },
  {
   "cell_type": "code",
   "execution_count": 9,
   "metadata": {},
   "outputs": [
    {
     "name": "stdout",
     "output_type": "stream",
     "text": [
      "1    58\n",
      "0    41\n",
      "Name: Results, dtype: int64\n"
     ]
    },
    {
     "data": {
      "text/plain": [
       "(array([41.,  0.,  0.,  0.,  0.,  0.,  0.,  0.,  0., 58.]),\n",
       " array([0. , 0.1, 0.2, 0.3, 0.4, 0.5, 0.6, 0.7, 0.8, 0.9, 1. ]),\n",
       " <BarContainer object of 10 artists>)"
      ]
     },
     "execution_count": 9,
     "metadata": {},
     "output_type": "execute_result"
    },
    {
     "data": {
      "image/png": "[encoded data removed]",
      "text/plain": [
       "<Figure size 432x288 with 1 Axes>"
      ]
     },
     "metadata": {
      "needs_background": "light"
     },
     "output_type": "display_data"
    }
   ],
   "source": [
    "# transform the dataset\n",
    "under = RandomUnderSampler(sampling_strategy= 0.7, random_state = 0)\n",
    "X, Y = under.fit_resample(x, y)\n",
    "print(Y.value_counts())\n",
    "plt.hist(Y)"
   ]
  },
  {
   "cell_type": "code",
   "execution_count": 10,
   "metadata": {},
   "outputs": [
    {
     "name": "stdout",
     "output_type": "stream",
     "text": [
      "0    58\n",
      "1    58\n",
      "Name: Results, dtype: int64\n"
     ]
    },
    {
     "data": {
      "text/plain": [
       "(array([58.,  0.,  0.,  0.,  0.,  0.,  0.,  0.,  0., 58.]),\n",
       " array([0. , 0.1, 0.2, 0.3, 0.4, 0.5, 0.6, 0.7, 0.8, 0.9, 1. ]),\n",
       " <BarContainer object of 10 artists>)"
      ]
     },
     "execution_count": 10,
     "metadata": {},
     "output_type": "execute_result"
    },
    {
     "data": {
      "image/png": "[encoded data removed]",
      "text/plain": [
       "<Figure size 432x288 with 1 Axes>"
      ]
     },
     "metadata": {
      "needs_background": "light"
     },
     "output_type": "display_data"
    }
   ],
   "source": [
    "smt = SMOTE(random_state = 0)\n",
    "X, Y = smt.fit_resample(X,Y)\n",
    "print(Y.value_counts())\n",
    "plt.hist(Y)"
   ]
  },
  {
   "cell_type": "code",
   "execution_count": 15,
   "metadata": {},
   "outputs": [
    {
     "name": "stdout",
     "output_type": "stream",
     "text": [
      "[0.72579372]\n",
      "[65.52429552]\n",
      "PCA(n_components=1)\n"
     ]
    }
   ],
   "source": [
    "pca = PCA(n_components=1)\n",
    "X_1 = pca.fit(X)\n",
    "\n",
    "#X_2 = pd.concat([X_1, Y], axis=1)\n",
    "print(pca.explained_variance_ratio_)\n",
    "print(pca.singular_values_)\n",
    "#print(X_2.head())\n",
    "print(X_1)"
   ]
  }
 ],
 "metadata": {
  "kernelspec": {
   "display_name": "Python 3.9.13 ('base')",
   "language": "python",
   "name": "python3"
  },
  "language_info": {
   "codemirror_mode": {
    "name": "ipython",
    "version": 3
   },
   "file_extension": ".py",
   "mimetype": "text/x-python",
   "name": "python",
   "nbconvert_exporter": "python",
   "pygments_lexer": "ipython3",
   "version": "3.9.13"
  },
  "orig_nbformat": 4,
  "vscode": {
   "interpreter": {
    "hash": "dd78fe5a17d57d1a86104509f6d28e1e730005acb4374104044dd451171eb7b3"
   }
  }
 },
 "nbformat": 4,
 "nbformat_minor": 2
}
