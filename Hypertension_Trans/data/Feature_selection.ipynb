{
 "cells": [
  {
   "cell_type": "code",
   "execution_count": 1,
   "metadata": {},
   "outputs": [],
   "source": [
    "import numpy as np;\n",
    "import pandas as pd;\n",
    "import matplotlib.pyplot as plt\n",
    "import sklearn.metrics as sm\n",
    "import imblearn\n",
    "from sklearn.feature_selection import mutual_info_classif\n",
    "from sklearn.feature_selection import SelectKBest\n",
    "import seaborn as sb"
   ]
  },
  {
   "cell_type": "code",
   "execution_count": 2,
   "metadata": {},
   "outputs": [],
   "source": [
    "#read_file = pd.read_excel(\"data.xlsx\")\n",
    "#read_file.to_csv (\"hypertensionDataSet.csv\",  index = None, header=True)"
   ]
  },
  {
   "cell_type": "code",
   "execution_count": 3,
   "metadata": {},
   "outputs": [
    {
     "name": "stderr",
     "output_type": "stream",
     "text": [
      "C:\\Users\\Pradeep\\AppData\\Local\\Temp\\ipykernel_15544\\2818469972.py:1: DtypeWarning: Columns (1,2,3,4,5,6,7,8,9,10,11,12,13,14,15,16,17,18,19,20,21,22,23,24,25,26,27,28,29,30,31,32,33,34,35,36,37,38,39,40,41,42,43,44,45,46,47,48,49,50,51,52,53,54,55,56,57,58,59,60,61,62,63,64,65,66,67,68,69,70,71,72,73,74,75,76,77,78,79,80,81,82,83,84,85,86,87,88,89,90,91,92,93,94,95,96,97,98,99,100,101,102,103,104,105,106,107,108,109,110,111,112,113,114,115,116,117,118,119,120,121,122,123,124,125,126,127,128,129,130,131,132,133,134,135,136,137,138,139,140) have mixed types. Specify dtype option on import or set low_memory=False.\n",
      "  df = pd.read_csv(\"Converted.csv\", index_col=0)\n"
     ]
    }
   ],
   "source": [
    "df = pd.read_csv(\"Converted.csv\", index_col=0)\n",
    "df = df.drop_duplicates()"
   ]
  },
  {
   "cell_type": "code",
   "execution_count": 4,
   "metadata": {},
   "outputs": [
    {
     "data": {
      "text/html": [
       "<div>\n",
       "<style scoped>\n",
       "    .dataframe tbody tr th:only-of-type {\n",
       "        vertical-align: middle;\n",
       "    }\n",
       "\n",
       "    .dataframe tbody tr th {\n",
       "        vertical-align: top;\n",
       "    }\n",
       "\n",
       "    .dataframe thead th {\n",
       "        text-align: right;\n",
       "    }\n",
       "</style>\n",
       "<table border=\"1\" class=\"dataframe\">\n",
       "  <thead>\n",
       "    <tr style=\"text-align: right;\">\n",
       "      <th></th>\n",
       "      <th>GSM827665</th>\n",
       "      <th>GSM827666</th>\n",
       "      <th>GSM827667</th>\n",
       "      <th>GSM827668</th>\n",
       "      <th>GSM827669</th>\n",
       "      <th>GSM827670</th>\n",
       "      <th>GSM827671</th>\n",
       "      <th>GSM827672</th>\n",
       "      <th>GSM827673</th>\n",
       "      <th>GSM827674</th>\n",
       "      <th>...</th>\n",
       "      <th>GSM827795</th>\n",
       "      <th>GSM827796</th>\n",
       "      <th>GSM827797</th>\n",
       "      <th>GSM827798</th>\n",
       "      <th>GSM827799</th>\n",
       "      <th>GSM827800</th>\n",
       "      <th>GSM827801</th>\n",
       "      <th>GSM827802</th>\n",
       "      <th>GSM827803</th>\n",
       "      <th>GSM827804</th>\n",
       "    </tr>\n",
       "    <tr>\n",
       "      <th>Sample_id</th>\n",
       "      <th></th>\n",
       "      <th></th>\n",
       "      <th></th>\n",
       "      <th></th>\n",
       "      <th></th>\n",
       "      <th></th>\n",
       "      <th></th>\n",
       "      <th></th>\n",
       "      <th></th>\n",
       "      <th></th>\n",
       "      <th></th>\n",
       "      <th></th>\n",
       "      <th></th>\n",
       "      <th></th>\n",
       "      <th></th>\n",
       "      <th></th>\n",
       "      <th></th>\n",
       "      <th></th>\n",
       "      <th></th>\n",
       "      <th></th>\n",
       "      <th></th>\n",
       "    </tr>\n",
       "  </thead>\n",
       "  <tbody>\n",
       "    <tr>\n",
       "      <th>ILMN_1343291</th>\n",
       "      <td>17.1675</td>\n",
       "      <td>17.1925</td>\n",
       "      <td>16.8778</td>\n",
       "      <td>16.6716</td>\n",
       "      <td>16.4631</td>\n",
       "      <td>17.2019</td>\n",
       "      <td>17.1884</td>\n",
       "      <td>17.4337</td>\n",
       "      <td>17.2709</td>\n",
       "      <td>17.3198</td>\n",
       "      <td>...</td>\n",
       "      <td>17.2331</td>\n",
       "      <td>17.3595</td>\n",
       "      <td>17.4841</td>\n",
       "      <td>17.1282</td>\n",
       "      <td>17.2713</td>\n",
       "      <td>17.3791</td>\n",
       "      <td>17.4745</td>\n",
       "      <td>16.9428</td>\n",
       "      <td>16.6848</td>\n",
       "      <td>17.0084</td>\n",
       "    </tr>\n",
       "    <tr>\n",
       "      <th>ILMN_1343295</th>\n",
       "      <td>13.2586</td>\n",
       "      <td>13.6122</td>\n",
       "      <td>11.9146</td>\n",
       "      <td>12.423</td>\n",
       "      <td>11.8728</td>\n",
       "      <td>13.5163</td>\n",
       "      <td>13.655</td>\n",
       "      <td>13.7259</td>\n",
       "      <td>12.9336</td>\n",
       "      <td>13.0703</td>\n",
       "      <td>...</td>\n",
       "      <td>13.3845</td>\n",
       "      <td>13.8344</td>\n",
       "      <td>13.8248</td>\n",
       "      <td>13.3261</td>\n",
       "      <td>13.4856</td>\n",
       "      <td>12.9675</td>\n",
       "      <td>13.8544</td>\n",
       "      <td>13.6454</td>\n",
       "      <td>12.6013</td>\n",
       "      <td>13.4689</td>\n",
       "    </tr>\n",
       "    <tr>\n",
       "      <th>ILMN_1651199</th>\n",
       "      <td>7.9112</td>\n",
       "      <td>7.8667</td>\n",
       "      <td>7.9547</td>\n",
       "      <td>7.9057</td>\n",
       "      <td>7.9558</td>\n",
       "      <td>7.9515</td>\n",
       "      <td>7.9634</td>\n",
       "      <td>7.8013</td>\n",
       "      <td>7.6717</td>\n",
       "      <td>7.8553</td>\n",
       "      <td>...</td>\n",
       "      <td>7.7692</td>\n",
       "      <td>7.7799</td>\n",
       "      <td>7.9999</td>\n",
       "      <td>7.763</td>\n",
       "      <td>7.7138</td>\n",
       "      <td>7.9862</td>\n",
       "      <td>7.9643</td>\n",
       "      <td>7.755</td>\n",
       "      <td>8.0183</td>\n",
       "      <td>7.8802</td>\n",
       "    </tr>\n",
       "    <tr>\n",
       "      <th>ILMN_1651209</th>\n",
       "      <td>8.1231</td>\n",
       "      <td>8.1487</td>\n",
       "      <td>7.8337</td>\n",
       "      <td>8.0147</td>\n",
       "      <td>7.9728</td>\n",
       "      <td>7.9888</td>\n",
       "      <td>8.1232</td>\n",
       "      <td>8.2458</td>\n",
       "      <td>7.9695</td>\n",
       "      <td>8.2951</td>\n",
       "      <td>...</td>\n",
       "      <td>8.2939</td>\n",
       "      <td>8.0262</td>\n",
       "      <td>8.0504</td>\n",
       "      <td>8.3649</td>\n",
       "      <td>8.1343</td>\n",
       "      <td>8.0021</td>\n",
       "      <td>8.0655</td>\n",
       "      <td>8.0698</td>\n",
       "      <td>7.9077</td>\n",
       "      <td>8.3903</td>\n",
       "    </tr>\n",
       "    <tr>\n",
       "      <th>ILMN_1651210</th>\n",
       "      <td>7.7213</td>\n",
       "      <td>7.9313</td>\n",
       "      <td>7.9778</td>\n",
       "      <td>7.9647</td>\n",
       "      <td>7.9177</td>\n",
       "      <td>7.8818</td>\n",
       "      <td>7.7634</td>\n",
       "      <td>7.6572</td>\n",
       "      <td>7.8589</td>\n",
       "      <td>7.7663</td>\n",
       "      <td>...</td>\n",
       "      <td>7.8622</td>\n",
       "      <td>7.9078</td>\n",
       "      <td>7.8086</td>\n",
       "      <td>7.8273</td>\n",
       "      <td>8.0388</td>\n",
       "      <td>7.9582</td>\n",
       "      <td>7.924</td>\n",
       "      <td>7.9223</td>\n",
       "      <td>7.8709</td>\n",
       "      <td>7.8023</td>\n",
       "    </tr>\n",
       "  </tbody>\n",
       "</table>\n",
       "<p>5 rows × 140 columns</p>\n",
       "</div>"
      ],
      "text/plain": [
       "             GSM827665 GSM827666 GSM827667 GSM827668 GSM827669 GSM827670  \\\n",
       "Sample_id                                                                  \n",
       "ILMN_1343291   17.1675   17.1925   16.8778   16.6716   16.4631   17.2019   \n",
       "ILMN_1343295   13.2586   13.6122   11.9146    12.423   11.8728   13.5163   \n",
       "ILMN_1651199    7.9112    7.8667    7.9547    7.9057    7.9558    7.9515   \n",
       "ILMN_1651209    8.1231    8.1487    7.8337    8.0147    7.9728    7.9888   \n",
       "ILMN_1651210    7.7213    7.9313    7.9778    7.9647    7.9177    7.8818   \n",
       "\n",
       "             GSM827671 GSM827672 GSM827673 GSM827674  ... GSM827795 GSM827796  \\\n",
       "Sample_id                                             ...                       \n",
       "ILMN_1343291   17.1884   17.4337   17.2709   17.3198  ...   17.2331   17.3595   \n",
       "ILMN_1343295    13.655   13.7259   12.9336   13.0703  ...   13.3845   13.8344   \n",
       "ILMN_1651199    7.9634    7.8013    7.6717    7.8553  ...    7.7692    7.7799   \n",
       "ILMN_1651209    8.1232    8.2458    7.9695    8.2951  ...    8.2939    8.0262   \n",
       "ILMN_1651210    7.7634    7.6572    7.8589    7.7663  ...    7.8622    7.9078   \n",
       "\n",
       "             GSM827797 GSM827798 GSM827799 GSM827800 GSM827801 GSM827802  \\\n",
       "Sample_id                                                                  \n",
       "ILMN_1343291   17.4841   17.1282   17.2713   17.3791   17.4745   16.9428   \n",
       "ILMN_1343295   13.8248   13.3261   13.4856   12.9675   13.8544   13.6454   \n",
       "ILMN_1651199    7.9999     7.763    7.7138    7.9862    7.9643     7.755   \n",
       "ILMN_1651209    8.0504    8.3649    8.1343    8.0021    8.0655    8.0698   \n",
       "ILMN_1651210    7.8086    7.8273    8.0388    7.9582     7.924    7.9223   \n",
       "\n",
       "             GSM827803 GSM827804  \n",
       "Sample_id                         \n",
       "ILMN_1343291   16.6848   17.0084  \n",
       "ILMN_1343295   12.6013   13.4689  \n",
       "ILMN_1651199    8.0183    7.8802  \n",
       "ILMN_1651209    7.9077    8.3903  \n",
       "ILMN_1651210    7.8709    7.8023  \n",
       "\n",
       "[5 rows x 140 columns]"
      ]
     },
     "execution_count": 4,
     "metadata": {},
     "output_type": "execute_result"
    }
   ],
   "source": [
    "df.head()"
   ]
  },
  {
   "cell_type": "code",
   "execution_count": 5,
   "metadata": {},
   "outputs": [
    {
     "name": "stdout",
     "output_type": "stream",
     "text": [
      "Sample_id ILMN_1343291 ILMN_1343295 ILMN_1651199 ILMN_1651209 ILMN_1651210  \\\n",
      "GSM827665      17.1675      13.2586       7.9112       8.1231       7.7213   \n",
      "GSM827666      17.1925      13.6122       7.8667       8.1487       7.9313   \n",
      "GSM827667      16.8778      11.9146       7.9547       7.8337       7.9778   \n",
      "GSM827668      16.6716       12.423       7.9057       8.0147       7.9647   \n",
      "GSM827669      16.4631      11.8728       7.9558       7.9728       7.9177   \n",
      "\n",
      "Sample_id ILMN_1651221 ILMN_1651228 ILMN_1651229 ILMN_1651230 ILMN_1651232  \\\n",
      "GSM827665       8.1344      16.8012       9.1273       7.7285       8.4654   \n",
      "GSM827666       8.0763       16.921       8.9327       7.9633       8.0888   \n",
      "GSM827667       7.9839      16.2536        8.153       8.2885        8.033   \n",
      "GSM827668       8.0377      16.0069       8.4219       8.2889       7.9411   \n",
      "GSM827669       7.9714      15.9849       8.2749       8.2642        7.881   \n",
      "\n",
      "Sample_id  ... ILMN_2415776 ILMN_2415786 ILMN_2415826 ILMN_2415898  \\\n",
      "GSM827665  ...       8.4997      13.2497       7.9965      10.9044   \n",
      "GSM827666  ...       8.5099      12.8838       8.1013      10.7322   \n",
      "GSM827667  ...       8.4113      12.0219       8.0164       8.7911   \n",
      "GSM827668  ...       8.3346      12.2631       7.9906        9.173   \n",
      "GSM827669  ...       8.3241      12.1453        7.716       8.6359   \n",
      "\n",
      "Sample_id ILMN_2415911 ILMN_2415926 ILMN_2415949 ILMN_2415979 ILMN_2416019  \\\n",
      "GSM827665       9.5198       9.3447       9.0144      13.8879       7.6464   \n",
      "GSM827666       9.5773       9.0909       9.3277      13.9502        7.881   \n",
      "GSM827667       8.4079       8.5683       8.3302      12.1534       7.7238   \n",
      "GSM827668       8.9501       8.7044       8.6883      12.3272       7.6789   \n",
      "GSM827669       8.7143       8.6545       8.3855      12.4533       7.6853   \n",
      "\n",
      "Sample_id  Results  \n",
      "GSM827665  control  \n",
      "GSM827666  control  \n",
      "GSM827667  control  \n",
      "GSM827668  control  \n",
      "GSM827669  control  \n",
      "\n",
      "[5 rows x 48804 columns]\n"
     ]
    }
   ],
   "source": [
    "df = df.T.drop_duplicates();\n",
    "print(df.head())"
   ]
  },
  {
   "cell_type": "code",
   "execution_count": 6,
   "metadata": {},
   "outputs": [],
   "source": [
    "def map_results(inpt):\n",
    "    if inpt == 'control':\n",
    "        return 0;\n",
    "\n",
    "    else:\n",
    "        return 1;"
   ]
  },
  {
   "cell_type": "code",
   "execution_count": 7,
   "metadata": {},
   "outputs": [
    {
     "data": {
      "text/plain": [
       "48804"
      ]
     },
     "execution_count": 7,
     "metadata": {},
     "output_type": "execute_result"
    }
   ],
   "source": [
    "len(df.columns)"
   ]
  },
  {
   "cell_type": "code",
   "execution_count": 8,
   "metadata": {},
   "outputs": [
    {
     "data": {
      "text/html": [
       "<div>\n",
       "<style scoped>\n",
       "    .dataframe tbody tr th:only-of-type {\n",
       "        vertical-align: middle;\n",
       "    }\n",
       "\n",
       "    .dataframe tbody tr th {\n",
       "        vertical-align: top;\n",
       "    }\n",
       "\n",
       "    .dataframe thead th {\n",
       "        text-align: right;\n",
       "    }\n",
       "</style>\n",
       "<table border=\"1\" class=\"dataframe\">\n",
       "  <thead>\n",
       "    <tr style=\"text-align: right;\">\n",
       "      <th>Sample_id</th>\n",
       "      <th>ILMN_1343291</th>\n",
       "      <th>ILMN_1343295</th>\n",
       "      <th>ILMN_1651199</th>\n",
       "      <th>ILMN_1651209</th>\n",
       "      <th>ILMN_1651210</th>\n",
       "      <th>ILMN_1651221</th>\n",
       "      <th>ILMN_1651228</th>\n",
       "      <th>ILMN_1651229</th>\n",
       "      <th>ILMN_1651230</th>\n",
       "      <th>ILMN_1651232</th>\n",
       "      <th>...</th>\n",
       "      <th>ILMN_2415776</th>\n",
       "      <th>ILMN_2415786</th>\n",
       "      <th>ILMN_2415826</th>\n",
       "      <th>ILMN_2415898</th>\n",
       "      <th>ILMN_2415911</th>\n",
       "      <th>ILMN_2415926</th>\n",
       "      <th>ILMN_2415949</th>\n",
       "      <th>ILMN_2415979</th>\n",
       "      <th>ILMN_2416019</th>\n",
       "      <th>Results</th>\n",
       "    </tr>\n",
       "  </thead>\n",
       "  <tbody>\n",
       "    <tr>\n",
       "      <th>GSM827665</th>\n",
       "      <td>17.1675</td>\n",
       "      <td>13.2586</td>\n",
       "      <td>7.9112</td>\n",
       "      <td>8.1231</td>\n",
       "      <td>7.7213</td>\n",
       "      <td>8.1344</td>\n",
       "      <td>16.8012</td>\n",
       "      <td>9.1273</td>\n",
       "      <td>7.7285</td>\n",
       "      <td>8.4654</td>\n",
       "      <td>...</td>\n",
       "      <td>8.4997</td>\n",
       "      <td>13.2497</td>\n",
       "      <td>7.9965</td>\n",
       "      <td>10.9044</td>\n",
       "      <td>9.5198</td>\n",
       "      <td>9.3447</td>\n",
       "      <td>9.0144</td>\n",
       "      <td>13.8879</td>\n",
       "      <td>7.6464</td>\n",
       "      <td>control</td>\n",
       "    </tr>\n",
       "    <tr>\n",
       "      <th>GSM827666</th>\n",
       "      <td>17.1925</td>\n",
       "      <td>13.6122</td>\n",
       "      <td>7.8667</td>\n",
       "      <td>8.1487</td>\n",
       "      <td>7.9313</td>\n",
       "      <td>8.0763</td>\n",
       "      <td>16.921</td>\n",
       "      <td>8.9327</td>\n",
       "      <td>7.9633</td>\n",
       "      <td>8.0888</td>\n",
       "      <td>...</td>\n",
       "      <td>8.5099</td>\n",
       "      <td>12.8838</td>\n",
       "      <td>8.1013</td>\n",
       "      <td>10.7322</td>\n",
       "      <td>9.5773</td>\n",
       "      <td>9.0909</td>\n",
       "      <td>9.3277</td>\n",
       "      <td>13.9502</td>\n",
       "      <td>7.881</td>\n",
       "      <td>control</td>\n",
       "    </tr>\n",
       "    <tr>\n",
       "      <th>GSM827667</th>\n",
       "      <td>16.8778</td>\n",
       "      <td>11.9146</td>\n",
       "      <td>7.9547</td>\n",
       "      <td>7.8337</td>\n",
       "      <td>7.9778</td>\n",
       "      <td>7.9839</td>\n",
       "      <td>16.2536</td>\n",
       "      <td>8.153</td>\n",
       "      <td>8.2885</td>\n",
       "      <td>8.033</td>\n",
       "      <td>...</td>\n",
       "      <td>8.4113</td>\n",
       "      <td>12.0219</td>\n",
       "      <td>8.0164</td>\n",
       "      <td>8.7911</td>\n",
       "      <td>8.4079</td>\n",
       "      <td>8.5683</td>\n",
       "      <td>8.3302</td>\n",
       "      <td>12.1534</td>\n",
       "      <td>7.7238</td>\n",
       "      <td>control</td>\n",
       "    </tr>\n",
       "    <tr>\n",
       "      <th>GSM827668</th>\n",
       "      <td>16.6716</td>\n",
       "      <td>12.423</td>\n",
       "      <td>7.9057</td>\n",
       "      <td>8.0147</td>\n",
       "      <td>7.9647</td>\n",
       "      <td>8.0377</td>\n",
       "      <td>16.0069</td>\n",
       "      <td>8.4219</td>\n",
       "      <td>8.2889</td>\n",
       "      <td>7.9411</td>\n",
       "      <td>...</td>\n",
       "      <td>8.3346</td>\n",
       "      <td>12.2631</td>\n",
       "      <td>7.9906</td>\n",
       "      <td>9.173</td>\n",
       "      <td>8.9501</td>\n",
       "      <td>8.7044</td>\n",
       "      <td>8.6883</td>\n",
       "      <td>12.3272</td>\n",
       "      <td>7.6789</td>\n",
       "      <td>control</td>\n",
       "    </tr>\n",
       "    <tr>\n",
       "      <th>GSM827669</th>\n",
       "      <td>16.4631</td>\n",
       "      <td>11.8728</td>\n",
       "      <td>7.9558</td>\n",
       "      <td>7.9728</td>\n",
       "      <td>7.9177</td>\n",
       "      <td>7.9714</td>\n",
       "      <td>15.9849</td>\n",
       "      <td>8.2749</td>\n",
       "      <td>8.2642</td>\n",
       "      <td>7.881</td>\n",
       "      <td>...</td>\n",
       "      <td>8.3241</td>\n",
       "      <td>12.1453</td>\n",
       "      <td>7.716</td>\n",
       "      <td>8.6359</td>\n",
       "      <td>8.7143</td>\n",
       "      <td>8.6545</td>\n",
       "      <td>8.3855</td>\n",
       "      <td>12.4533</td>\n",
       "      <td>7.6853</td>\n",
       "      <td>control</td>\n",
       "    </tr>\n",
       "  </tbody>\n",
       "</table>\n",
       "<p>5 rows × 48804 columns</p>\n",
       "</div>"
      ],
      "text/plain": [
       "Sample_id ILMN_1343291 ILMN_1343295 ILMN_1651199 ILMN_1651209 ILMN_1651210  \\\n",
       "GSM827665      17.1675      13.2586       7.9112       8.1231       7.7213   \n",
       "GSM827666      17.1925      13.6122       7.8667       8.1487       7.9313   \n",
       "GSM827667      16.8778      11.9146       7.9547       7.8337       7.9778   \n",
       "GSM827668      16.6716       12.423       7.9057       8.0147       7.9647   \n",
       "GSM827669      16.4631      11.8728       7.9558       7.9728       7.9177   \n",
       "\n",
       "Sample_id ILMN_1651221 ILMN_1651228 ILMN_1651229 ILMN_1651230 ILMN_1651232  \\\n",
       "GSM827665       8.1344      16.8012       9.1273       7.7285       8.4654   \n",
       "GSM827666       8.0763       16.921       8.9327       7.9633       8.0888   \n",
       "GSM827667       7.9839      16.2536        8.153       8.2885        8.033   \n",
       "GSM827668       8.0377      16.0069       8.4219       8.2889       7.9411   \n",
       "GSM827669       7.9714      15.9849       8.2749       8.2642        7.881   \n",
       "\n",
       "Sample_id  ... ILMN_2415776 ILMN_2415786 ILMN_2415826 ILMN_2415898  \\\n",
       "GSM827665  ...       8.4997      13.2497       7.9965      10.9044   \n",
       "GSM827666  ...       8.5099      12.8838       8.1013      10.7322   \n",
       "GSM827667  ...       8.4113      12.0219       8.0164       8.7911   \n",
       "GSM827668  ...       8.3346      12.2631       7.9906        9.173   \n",
       "GSM827669  ...       8.3241      12.1453        7.716       8.6359   \n",
       "\n",
       "Sample_id ILMN_2415911 ILMN_2415926 ILMN_2415949 ILMN_2415979 ILMN_2416019  \\\n",
       "GSM827665       9.5198       9.3447       9.0144      13.8879       7.6464   \n",
       "GSM827666       9.5773       9.0909       9.3277      13.9502        7.881   \n",
       "GSM827667       8.4079       8.5683       8.3302      12.1534       7.7238   \n",
       "GSM827668       8.9501       8.7044       8.6883      12.3272       7.6789   \n",
       "GSM827669       8.7143       8.6545       8.3855      12.4533       7.6853   \n",
       "\n",
       "Sample_id  Results  \n",
       "GSM827665  control  \n",
       "GSM827666  control  \n",
       "GSM827667  control  \n",
       "GSM827668  control  \n",
       "GSM827669  control  \n",
       "\n",
       "[5 rows x 48804 columns]"
      ]
     },
     "execution_count": 8,
     "metadata": {},
     "output_type": "execute_result"
    }
   ],
   "source": [
    "df.head(5)"
   ]
  },
  {
   "cell_type": "code",
   "execution_count": 9,
   "metadata": {},
   "outputs": [
    {
     "data": {
      "text/plain": [
       "False"
      ]
     },
     "execution_count": 9,
     "metadata": {},
     "output_type": "execute_result"
    }
   ],
   "source": [
    "'Result' in df.columns"
   ]
  },
  {
   "cell_type": "code",
   "execution_count": 10,
   "metadata": {},
   "outputs": [
    {
     "name": "stdout",
     "output_type": "stream",
     "text": [
      "GSM827665                      control\n",
      "GSM827666                      control\n",
      "GSM827667                      control\n",
      "GSM827668                      control\n",
      "GSM827669                      control\n",
      "                       ...            \n",
      "GSM827800    Interstitial Lung Disease\n",
      "GSM827801    Interstitial Lung Disease\n",
      "GSM827802    Interstitial Lung Disease\n",
      "GSM827803    Interstitial Lung Disease\n",
      "GSM827804    Interstitial Lung Disease\n",
      "Name: Results, Length: 140, dtype: object\n"
     ]
    }
   ],
   "source": [
    "#df['Result'] = df['Result'].apply(map_results)\n",
    "print(df['Results'])"
   ]
  },
  {
   "cell_type": "code",
   "execution_count": 11,
   "metadata": {},
   "outputs": [
    {
     "name": "stdout",
     "output_type": "stream",
     "text": [
      "Sample_id ILMN_1343291 ILMN_1343295 ILMN_1651199 ILMN_1651209 ILMN_1651210  \\\n",
      "GSM827665      17.1675      13.2586       7.9112       8.1231       7.7213   \n",
      "GSM827666      17.1925      13.6122       7.8667       8.1487       7.9313   \n",
      "GSM827667      16.8778      11.9146       7.9547       7.8337       7.9778   \n",
      "GSM827668      16.6716       12.423       7.9057       8.0147       7.9647   \n",
      "GSM827669      16.4631      11.8728       7.9558       7.9728       7.9177   \n",
      "\n",
      "Sample_id ILMN_1651221 ILMN_1651228 ILMN_1651229 ILMN_1651230 ILMN_1651232  \\\n",
      "GSM827665       8.1344      16.8012       9.1273       7.7285       8.4654   \n",
      "GSM827666       8.0763       16.921       8.9327       7.9633       8.0888   \n",
      "GSM827667       7.9839      16.2536        8.153       8.2885        8.033   \n",
      "GSM827668       8.0377      16.0069       8.4219       8.2889       7.9411   \n",
      "GSM827669       7.9714      15.9849       8.2749       8.2642        7.881   \n",
      "\n",
      "Sample_id  ... ILMN_2415776 ILMN_2415786 ILMN_2415826 ILMN_2415898  \\\n",
      "GSM827665  ...       8.4997      13.2497       7.9965      10.9044   \n",
      "GSM827666  ...       8.5099      12.8838       8.1013      10.7322   \n",
      "GSM827667  ...       8.4113      12.0219       8.0164       8.7911   \n",
      "GSM827668  ...       8.3346      12.2631       7.9906        9.173   \n",
      "GSM827669  ...       8.3241      12.1453        7.716       8.6359   \n",
      "\n",
      "Sample_id ILMN_2415911 ILMN_2415926 ILMN_2415949 ILMN_2415979 ILMN_2416019  \\\n",
      "GSM827665       9.5198       9.3447       9.0144      13.8879       7.6464   \n",
      "GSM827666       9.5773       9.0909       9.3277      13.9502        7.881   \n",
      "GSM827667       8.4079       8.5683       8.3302      12.1534       7.7238   \n",
      "GSM827668       8.9501       8.7044       8.6883      12.3272       7.6789   \n",
      "GSM827669       8.7143       8.6545       8.3855      12.4533       7.6853   \n",
      "\n",
      "Sample_id  Results  \n",
      "GSM827665  control  \n",
      "GSM827666  control  \n",
      "GSM827667  control  \n",
      "GSM827668  control  \n",
      "GSM827669  control  \n",
      "\n",
      "[5 rows x 48804 columns]\n"
     ]
    }
   ],
   "source": [
    "print(df.head())"
   ]
  },
  {
   "cell_type": "code",
   "execution_count": 12,
   "metadata": {},
   "outputs": [],
   "source": [
    "X = df.drop([\"Results\"], axis =1);\n",
    "Y = df[\"Results\"]"
   ]
  },
  {
   "cell_type": "code",
   "execution_count": 13,
   "metadata": {},
   "outputs": [],
   "source": [
    "fs = SelectKBest(score_func=mutual_info_classif, k=13)\n",
    "X_selected = fs.fit_transform(X, Y)"
   ]
  },
  {
   "cell_type": "code",
   "execution_count": 14,
   "metadata": {},
   "outputs": [
    {
     "name": "stdout",
     "output_type": "stream",
     "text": [
      "[  800  1554  3646  4392  6319 13117 19343 21087 25316 26783 28303 43671\n",
      " 43773]\n"
     ]
    }
   ],
   "source": [
    "cols = fs.get_support(indices=True)\n",
    "print(cols)"
   ]
  },
  {
   "cell_type": "code",
   "execution_count": 15,
   "metadata": {},
   "outputs": [
    {
     "data": {
      "text/plain": [
       "(140, 13)"
      ]
     },
     "execution_count": 15,
     "metadata": {},
     "output_type": "execute_result"
    }
   ],
   "source": [
    "X_se = df.iloc[:,cols]\n",
    "X_se.shape"
   ]
  },
  {
   "cell_type": "code",
   "execution_count": 16,
   "metadata": {},
   "outputs": [
    {
     "data": {
      "text/plain": [
       "(140,)"
      ]
     },
     "execution_count": 16,
     "metadata": {},
     "output_type": "execute_result"
    }
   ],
   "source": [
    "df['Results'].shape"
   ]
  },
  {
   "cell_type": "code",
   "execution_count": 17,
   "metadata": {},
   "outputs": [
    {
     "data": {
      "text/plain": [
       "GSM827665                      control\n",
       "GSM827666                      control\n",
       "GSM827667                      control\n",
       "GSM827668                      control\n",
       "GSM827669                      control\n",
       "                       ...            \n",
       "GSM827800    Interstitial Lung Disease\n",
       "GSM827801    Interstitial Lung Disease\n",
       "GSM827802    Interstitial Lung Disease\n",
       "GSM827803    Interstitial Lung Disease\n",
       "GSM827804    Interstitial Lung Disease\n",
       "Name: Results, Length: 140, dtype: object"
      ]
     },
     "execution_count": 17,
     "metadata": {},
     "output_type": "execute_result"
    }
   ],
   "source": [
    "df['Results']"
   ]
  },
  {
   "cell_type": "code",
   "execution_count": 18,
   "metadata": {},
   "outputs": [],
   "source": [
    "X_se = pd.concat([X_se, df['Results']], axis=1)"
   ]
  },
  {
   "cell_type": "code",
   "execution_count": 19,
   "metadata": {},
   "outputs": [],
   "source": [
    "X_se.to_csv(\"selected_M_best13.csv\", encoding='utf-8', index=False)"
   ]
  }
 ],
 "metadata": {
  "kernelspec": {
   "display_name": "Python 3.9.13 ('base')",
   "language": "python",
   "name": "python3"
  },
  "language_info": {
   "codemirror_mode": {
    "name": "ipython",
    "version": 3
   },
   "file_extension": ".py",
   "mimetype": "text/x-python",
   "name": "python",
   "nbconvert_exporter": "python",
   "pygments_lexer": "ipython3",
   "version": "3.11.3"
  },
  "orig_nbformat": 4,
  "vscode": {
   "interpreter": {
    "hash": "dd78fe5a17d57d1a86104509f6d28e1e730005acb4374104044dd451171eb7b3"
   }
  }
 },
 "nbformat": 4,
 "nbformat_minor": 2
}
