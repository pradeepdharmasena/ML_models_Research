{
 "cells": [
  {
   "cell_type": "code",
   "execution_count": 56,
   "metadata": {},
   "outputs": [],
   "source": [
    "import numpy as np;\n",
    "import pandas as pd;\n",
    "import matplotlib.pyplot as plt\n",
    "import sklearn.metrics as sm\n",
    "import imblearn\n",
    "from sklearn.feature_selection import mutual_info_classif\n",
    "from sklearn.feature_selection import SelectKBest\n",
    "import seaborn as sb"
   ]
  },
  {
   "cell_type": "code",
   "execution_count": 57,
   "metadata": {},
   "outputs": [],
   "source": [
    "# read_file = pd.read_excel (\"data.xlsx\")\n",
    "# read_file.to_csv (\"hypertensionDataSet.csv\",  index = None, header=True)"
   ]
  },
  {
   "cell_type": "code",
   "execution_count": 58,
   "metadata": {},
   "outputs": [
    {
     "name": "stderr",
     "output_type": "stream",
     "text": [
      "C:\\temp\\ipykernel_15188\\2858488928.py:1: DtypeWarning: Columns (1,2,3,4,5,6,7,8,9,10,11,12,13,14,15,16,17,18,19,20,21,22,23,24,25,26,27,28,29,30,31,32,33,34,35,36,37,38,39,40,41,42,43,44,45,46,47,48,49,50,51,52,53,54,55,56,57,58,59,60,61,62,63,64,65,66,67,68,69,70,71,72,73,74,75,76,77,78,79,80,81,82,83,84,85,86,87,88,89,90,91,92,93,94,95,96,97,98,99,100,101,102,103,104,105,106,107,108,109,110,111,112,113,114,115,116,117,118,119,120,121,122,123,124,125,126,127,128,129,130,131,132,133,134,135,136,137,138,139,140) have mixed types. Specify dtype option on import or set low_memory=False.\n",
      "  df = pd.read_csv(\"converted.csv\", index_col = 0)\n"
     ]
    }
   ],
   "source": [
    "\n",
    "df = pd.read_csv(\"converted.csv\", index_col = 0)\n",
    "df = df.drop_duplicates()"
   ]
  },
  {
   "cell_type": "code",
   "execution_count": 59,
   "metadata": {},
   "outputs": [
    {
     "name": "stdout",
     "output_type": "stream",
     "text": [
      "Sample_id ILMN_1343291 ILMN_1343295 ILMN_1651199 ILMN_1651209 ILMN_1651210  \\\n",
      "GSM827665      17.1675      13.2586       7.9112       8.1231       7.7213   \n",
      "GSM827666      17.1925      13.6122       7.8667       8.1487       7.9313   \n",
      "GSM827667      16.8778      11.9146       7.9547       7.8337       7.9778   \n",
      "GSM827668      16.6716       12.423       7.9057       8.0147       7.9647   \n",
      "GSM827669      16.4631      11.8728       7.9558       7.9728       7.9177   \n",
      "\n",
      "Sample_id ILMN_1651221 ILMN_1651228 ILMN_1651229 ILMN_1651230 ILMN_1651232  \\\n",
      "GSM827665       8.1344      16.8012       9.1273       7.7285       8.4654   \n",
      "GSM827666       8.0763       16.921       8.9327       7.9633       8.0888   \n",
      "GSM827667       7.9839      16.2536        8.153       8.2885        8.033   \n",
      "GSM827668       8.0377      16.0069       8.4219       8.2889       7.9411   \n",
      "GSM827669       7.9714      15.9849       8.2749       8.2642        7.881   \n",
      "\n",
      "Sample_id  ... ILMN_2415776 ILMN_2415786 ILMN_2415826 ILMN_2415898  \\\n",
      "GSM827665  ...       8.4997      13.2497       7.9965      10.9044   \n",
      "GSM827666  ...       8.5099      12.8838       8.1013      10.7322   \n",
      "GSM827667  ...       8.4113      12.0219       8.0164       8.7911   \n",
      "GSM827668  ...       8.3346      12.2631       7.9906        9.173   \n",
      "GSM827669  ...       8.3241      12.1453        7.716       8.6359   \n",
      "\n",
      "Sample_id ILMN_2415911 ILMN_2415926 ILMN_2415949 ILMN_2415979 ILMN_2416019  \\\n",
      "GSM827665       9.5198       9.3447       9.0144      13.8879       7.6464   \n",
      "GSM827666       9.5773       9.0909       9.3277      13.9502        7.881   \n",
      "GSM827667       8.4079       8.5683       8.3302      12.1534       7.7238   \n",
      "GSM827668       8.9501       8.7044       8.6883      12.3272       7.6789   \n",
      "GSM827669       8.7143       8.6545       8.3855      12.4533       7.6853   \n",
      "\n",
      "Sample_id  Results  \n",
      "GSM827665  control  \n",
      "GSM827666  control  \n",
      "GSM827667  control  \n",
      "GSM827668  control  \n",
      "GSM827669  control  \n",
      "\n",
      "[5 rows x 48804 columns]\n"
     ]
    }
   ],
   "source": [
    "df = df.T.drop_duplicates();\n",
    "print(df.head())"
   ]
  },
  {
   "cell_type": "code",
   "execution_count": 60,
   "metadata": {},
   "outputs": [],
   "source": [
    "def map_results(inpt):\n",
    "    if inpt == 'control':\n",
    "        return 0;\n",
    "\n",
    "    else:\n",
    "        return 1;"
   ]
  },
  {
   "cell_type": "code",
   "execution_count": 61,
   "metadata": {},
   "outputs": [],
   "source": [
    "df['Results'] = df['Results'].apply(map_results)"
   ]
  },
  {
   "cell_type": "code",
   "execution_count": 62,
   "metadata": {},
   "outputs": [
    {
     "name": "stdout",
     "output_type": "stream",
     "text": [
      "Sample_id ILMN_1343291 ILMN_1343295 ILMN_1651199 ILMN_1651209 ILMN_1651210  \\\n",
      "GSM827665      17.1675      13.2586       7.9112       8.1231       7.7213   \n",
      "GSM827666      17.1925      13.6122       7.8667       8.1487       7.9313   \n",
      "GSM827667      16.8778      11.9146       7.9547       7.8337       7.9778   \n",
      "GSM827668      16.6716       12.423       7.9057       8.0147       7.9647   \n",
      "GSM827669      16.4631      11.8728       7.9558       7.9728       7.9177   \n",
      "\n",
      "Sample_id ILMN_1651221 ILMN_1651228 ILMN_1651229 ILMN_1651230 ILMN_1651232  \\\n",
      "GSM827665       8.1344      16.8012       9.1273       7.7285       8.4654   \n",
      "GSM827666       8.0763       16.921       8.9327       7.9633       8.0888   \n",
      "GSM827667       7.9839      16.2536        8.153       8.2885        8.033   \n",
      "GSM827668       8.0377      16.0069       8.4219       8.2889       7.9411   \n",
      "GSM827669       7.9714      15.9849       8.2749       8.2642        7.881   \n",
      "\n",
      "Sample_id  ... ILMN_2415776 ILMN_2415786 ILMN_2415826 ILMN_2415898  \\\n",
      "GSM827665  ...       8.4997      13.2497       7.9965      10.9044   \n",
      "GSM827666  ...       8.5099      12.8838       8.1013      10.7322   \n",
      "GSM827667  ...       8.4113      12.0219       8.0164       8.7911   \n",
      "GSM827668  ...       8.3346      12.2631       7.9906        9.173   \n",
      "GSM827669  ...       8.3241      12.1453        7.716       8.6359   \n",
      "\n",
      "Sample_id ILMN_2415911 ILMN_2415926 ILMN_2415949 ILMN_2415979 ILMN_2416019  \\\n",
      "GSM827665       9.5198       9.3447       9.0144      13.8879       7.6464   \n",
      "GSM827666       9.5773       9.0909       9.3277      13.9502        7.881   \n",
      "GSM827667       8.4079       8.5683       8.3302      12.1534       7.7238   \n",
      "GSM827668       8.9501       8.7044       8.6883      12.3272       7.6789   \n",
      "GSM827669       8.7143       8.6545       8.3855      12.4533       7.6853   \n",
      "\n",
      "Sample_id Results  \n",
      "GSM827665       0  \n",
      "GSM827666       0  \n",
      "GSM827667       0  \n",
      "GSM827668       0  \n",
      "GSM827669       0  \n",
      "\n",
      "[5 rows x 48804 columns]\n"
     ]
    }
   ],
   "source": [
    "print(df.head())"
   ]
  },
  {
   "cell_type": "code",
   "execution_count": 63,
   "metadata": {},
   "outputs": [],
   "source": [
    "X = df.drop([\"Results\"], axis =1);\n",
    "Y = df[\"Results\"]"
   ]
  },
  {
   "cell_type": "code",
   "execution_count": 64,
   "metadata": {},
   "outputs": [],
   "source": [
    "fs = SelectKBest(score_func=mutual_info_classif, k=5)\n",
    "X_selected = fs.fit_transform(X, Y)"
   ]
  },
  {
   "cell_type": "code",
   "execution_count": 65,
   "metadata": {},
   "outputs": [
    {
     "name": "stdout",
     "output_type": "stream",
     "text": [
      "[ 7700 25316 28303 35797 42310]\n"
     ]
    }
   ],
   "source": [
    "cols = fs.get_support(indices=True)\n",
    "print(cols)"
   ]
  },
  {
   "cell_type": "code",
   "execution_count": 66,
   "metadata": {},
   "outputs": [],
   "source": [
    "X_se = df.iloc[:,cols]\n",
    "X_se.to_csv(\"selected_M_best5.csv\", encoding='utf-8', index=False)"
   ]
  }
 ],
 "metadata": {
  "kernelspec": {
   "display_name": "Python 3.9.13 ('base')",
   "language": "python",
   "name": "python3"
  },
  "language_info": {
   "codemirror_mode": {
    "name": "ipython",
    "version": 3
   },
   "file_extension": ".py",
   "mimetype": "text/x-python",
   "name": "python",
   "nbconvert_exporter": "python",
   "pygments_lexer": "ipython3",
   "version": "3.9.13"
  },
  "orig_nbformat": 4,
  "vscode": {
   "interpreter": {
    "hash": "dd78fe5a17d57d1a86104509f6d28e1e730005acb4374104044dd451171eb7b3"
   }
  }
 },
 "nbformat": 4,
 "nbformat_minor": 2
}
