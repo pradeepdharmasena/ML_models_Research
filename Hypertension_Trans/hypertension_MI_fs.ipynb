{
 "cells": [
  {
   "cell_type": "markdown",
   "metadata": {},
   "source": [
    "Algorithm: SVM\n",
    "#Hyperparameters\n",
    "Kernels : linear, poly , rbf, sigmoid\n",
    "C = 20\n",
    "SMOTE oversampling\n"
   ]
  },
  {
   "cell_type": "code",
   "execution_count": 1,
   "metadata": {},
   "outputs": [],
   "source": [
    "import numpy as np;\n",
    "import pandas as pd;\n",
    "import matplotlib.pyplot as plt\n",
    "import sklearn.metrics as sm\n",
    "import imblearn\n",
    "\n",
    "from sklearn import svm\n",
    "from sklearn.preprocessing import LabelEncoder\n",
    "from sklearn.model_selection import train_test_split\n",
    "from sklearn.ensemble import RandomForestClassifier\n",
    "from sklearn.metrics import confusion_matrix\n",
    "from imblearn.over_sampling import SMOTE\n",
    "import seaborn as sb"
   ]
  },
  {
   "cell_type": "code",
   "execution_count": 2,
   "metadata": {},
   "outputs": [],
   "source": [
    "\n",
    "# read_file = pd.read_excel (\"data.xlsx\")\n",
    "# read_file.to_csv (\"hypertensionDataSet.csv\",  index = None, header=True)"
   ]
  },
  {
   "cell_type": "code",
   "execution_count": 62,
   "metadata": {},
   "outputs": [
    {
     "name": "stderr",
     "output_type": "stream",
     "text": [
      "C:\\temp\\ipykernel_13892\\982531536.py:1: DtypeWarning: Columns (1,2,3,4,5,6,7,8,9,10,11,12,13,14,15,16,17,18,19,20,21,22,23,24,25,26,27,28,29,30,31,32,33,34,35,36,37,38,39,40,41,42,43,44,45,46,47,48,49,50,51,52,53,54,55,56,57,58,59,60,61,62,63,64,65,66,67,68,69,70,71,72,73,74,75,76,77,78,79,80,81,82,83,84,85,86,87,88,89,90,91,92,93,94,95,96,97,98,99,100,101,102,103,104,105,106,107,108,109,110,111,112,113,114,115,116,117,118,119,120,121,122,123,124,125,126,127,128,129,130,131,132,133,134,135,136,137,138,139,140) have mixed types. Specify dtype option on import or set low_memory=False.\n",
      "  df = pd.read_csv(\"converted.csv\", index_col = 0)\n"
     ]
    },
    {
     "name": "stdout",
     "output_type": "stream",
     "text": [
      "             GSM827665 GSM827666 GSM827667 GSM827668 GSM827669 GSM827670  \\\n",
      "Sample_id                                                                  \n",
      "ILMN_1343291   17.1675   17.1925   16.8778   16.6716   16.4631   17.2019   \n",
      "ILMN_1343295   13.2586   13.6122   11.9146    12.423   11.8728   13.5163   \n",
      "ILMN_1651199    7.9112    7.8667    7.9547    7.9057    7.9558    7.9515   \n",
      "ILMN_1651209    8.1231    8.1487    7.8337    8.0147    7.9728    7.9888   \n",
      "ILMN_1651210    7.7213    7.9313    7.9778    7.9647    7.9177    7.8818   \n",
      "\n",
      "             GSM827671 GSM827672 GSM827673 GSM827674  ... GSM827795 GSM827796  \\\n",
      "Sample_id                                             ...                       \n",
      "ILMN_1343291   17.1884   17.4337   17.2709   17.3198  ...   17.2331   17.3595   \n",
      "ILMN_1343295    13.655   13.7259   12.9336   13.0703  ...   13.3845   13.8344   \n",
      "ILMN_1651199    7.9634    7.8013    7.6717    7.8553  ...    7.7692    7.7799   \n",
      "ILMN_1651209    8.1232    8.2458    7.9695    8.2951  ...    8.2939    8.0262   \n",
      "ILMN_1651210    7.7634    7.6572    7.8589    7.7663  ...    7.8622    7.9078   \n",
      "\n",
      "             GSM827797 GSM827798 GSM827799 GSM827800 GSM827801 GSM827802  \\\n",
      "Sample_id                                                                  \n",
      "ILMN_1343291   17.4841   17.1282   17.2713   17.3791   17.4745   16.9428   \n",
      "ILMN_1343295   13.8248   13.3261   13.4856   12.9675   13.8544   13.6454   \n",
      "ILMN_1651199    7.9999     7.763    7.7138    7.9862    7.9643     7.755   \n",
      "ILMN_1651209    8.0504    8.3649    8.1343    8.0021    8.0655    8.0698   \n",
      "ILMN_1651210    7.8086    7.8273    8.0388    7.9582     7.924    7.9223   \n",
      "\n",
      "             GSM827803 GSM827804  \n",
      "Sample_id                         \n",
      "ILMN_1343291   16.6848   17.0084  \n",
      "ILMN_1343295   12.6013   13.4689  \n",
      "ILMN_1651199    8.0183    7.8802  \n",
      "ILMN_1651209    7.9077    8.3903  \n",
      "ILMN_1651210    7.8709    7.8023  \n",
      "\n",
      "[5 rows x 140 columns]\n"
     ]
    }
   ],
   "source": [
    "df = pd.read_csv(\"converted.csv\", index_col = 0)\n",
    "df = df.drop_duplicates()\n",
    "print(df.head())"
   ]
  },
  {
   "cell_type": "code",
   "execution_count": 63,
   "metadata": {},
   "outputs": [
    {
     "name": "stdout",
     "output_type": "stream",
     "text": [
      "Sample_id ILMN_1343291 ILMN_1343295 ILMN_1651199 ILMN_1651209 ILMN_1651210  \\\n",
      "GSM827665      17.1675      13.2586       7.9112       8.1231       7.7213   \n",
      "GSM827666      17.1925      13.6122       7.8667       8.1487       7.9313   \n",
      "GSM827667      16.8778      11.9146       7.9547       7.8337       7.9778   \n",
      "GSM827668      16.6716       12.423       7.9057       8.0147       7.9647   \n",
      "GSM827669      16.4631      11.8728       7.9558       7.9728       7.9177   \n",
      "\n",
      "Sample_id ILMN_1651221 ILMN_1651228 ILMN_1651229 ILMN_1651230 ILMN_1651232  \\\n",
      "GSM827665       8.1344      16.8012       9.1273       7.7285       8.4654   \n",
      "GSM827666       8.0763       16.921       8.9327       7.9633       8.0888   \n",
      "GSM827667       7.9839      16.2536        8.153       8.2885        8.033   \n",
      "GSM827668       8.0377      16.0069       8.4219       8.2889       7.9411   \n",
      "GSM827669       7.9714      15.9849       8.2749       8.2642        7.881   \n",
      "\n",
      "Sample_id  ... ILMN_2415776 ILMN_2415786 ILMN_2415826 ILMN_2415898  \\\n",
      "GSM827665  ...       8.4997      13.2497       7.9965      10.9044   \n",
      "GSM827666  ...       8.5099      12.8838       8.1013      10.7322   \n",
      "GSM827667  ...       8.4113      12.0219       8.0164       8.7911   \n",
      "GSM827668  ...       8.3346      12.2631       7.9906        9.173   \n",
      "GSM827669  ...       8.3241      12.1453        7.716       8.6359   \n",
      "\n",
      "Sample_id ILMN_2415911 ILMN_2415926 ILMN_2415949 ILMN_2415979 ILMN_2416019  \\\n",
      "GSM827665       9.5198       9.3447       9.0144      13.8879       7.6464   \n",
      "GSM827666       9.5773       9.0909       9.3277      13.9502        7.881   \n",
      "GSM827667       8.4079       8.5683       8.3302      12.1534       7.7238   \n",
      "GSM827668       8.9501       8.7044       8.6883      12.3272       7.6789   \n",
      "GSM827669       8.7143       8.6545       8.3855      12.4533       7.6853   \n",
      "\n",
      "Sample_id  Results  \n",
      "GSM827665  control  \n",
      "GSM827666  control  \n",
      "GSM827667  control  \n",
      "GSM827668  control  \n",
      "GSM827669  control  \n",
      "\n",
      "[5 rows x 48804 columns]\n"
     ]
    }
   ],
   "source": [
    "df = df.T.drop_duplicates();\n",
    "print(df.head())"
   ]
  },
  {
   "cell_type": "code",
   "execution_count": 64,
   "metadata": {},
   "outputs": [
    {
     "name": "stdout",
     "output_type": "stream",
     "text": [
      "(140, 48804)\n"
     ]
    }
   ],
   "source": [
    "print(df.shape)"
   ]
  },
  {
   "cell_type": "code",
   "execution_count": 65,
   "metadata": {},
   "outputs": [
    {
     "name": "stdout",
     "output_type": "stream",
     "text": [
      "Sample_id ILMN_1343291 ILMN_1343295 ILMN_1651199 ILMN_1651209 ILMN_1651210  \\\n",
      "GSM827665      17.1675      13.2586       7.9112       8.1231       7.7213   \n",
      "GSM827666      17.1925      13.6122       7.8667       8.1487       7.9313   \n",
      "GSM827667      16.8778      11.9146       7.9547       7.8337       7.9778   \n",
      "GSM827668      16.6716       12.423       7.9057       8.0147       7.9647   \n",
      "GSM827669      16.4631      11.8728       7.9558       7.9728       7.9177   \n",
      "\n",
      "Sample_id ILMN_1651221 ILMN_1651228 ILMN_1651229 ILMN_1651230 ILMN_1651232  \\\n",
      "GSM827665       8.1344      16.8012       9.1273       7.7285       8.4654   \n",
      "GSM827666       8.0763       16.921       8.9327       7.9633       8.0888   \n",
      "GSM827667       7.9839      16.2536        8.153       8.2885        8.033   \n",
      "GSM827668       8.0377      16.0069       8.4219       8.2889       7.9411   \n",
      "GSM827669       7.9714      15.9849       8.2749       8.2642        7.881   \n",
      "\n",
      "Sample_id  ... ILMN_2415776 ILMN_2415786 ILMN_2415826 ILMN_2415898  \\\n",
      "GSM827665  ...       8.4997      13.2497       7.9965      10.9044   \n",
      "GSM827666  ...       8.5099      12.8838       8.1013      10.7322   \n",
      "GSM827667  ...       8.4113      12.0219       8.0164       8.7911   \n",
      "GSM827668  ...       8.3346      12.2631       7.9906        9.173   \n",
      "GSM827669  ...       8.3241      12.1453        7.716       8.6359   \n",
      "\n",
      "Sample_id ILMN_2415911 ILMN_2415926 ILMN_2415949 ILMN_2415979 ILMN_2416019  \\\n",
      "GSM827665       9.5198       9.3447       9.0144      13.8879       7.6464   \n",
      "GSM827666       9.5773       9.0909       9.3277      13.9502        7.881   \n",
      "GSM827667       8.4079       8.5683       8.3302      12.1534       7.7238   \n",
      "GSM827668       8.9501       8.7044       8.6883      12.3272       7.6789   \n",
      "GSM827669       8.7143       8.6545       8.3855      12.4533       7.6853   \n",
      "\n",
      "Sample_id  Results  \n",
      "GSM827665  control  \n",
      "GSM827666  control  \n",
      "GSM827667  control  \n",
      "GSM827668  control  \n",
      "GSM827669  control  \n",
      "\n",
      "[5 rows x 48804 columns]\n"
     ]
    }
   ],
   "source": [
    "\n",
    "print(df.head())"
   ]
  },
  {
   "cell_type": "code",
   "execution_count": 66,
   "metadata": {},
   "outputs": [
    {
     "data": {
      "text/plain": [
       "Sample_id\n",
       "ILMN_1343291    0\n",
       "ILMN_1343295    0\n",
       "ILMN_1651199    0\n",
       "ILMN_1651209    0\n",
       "ILMN_1651210    0\n",
       "               ..\n",
       "ILMN_2415926    0\n",
       "ILMN_2415949    0\n",
       "ILMN_2415979    0\n",
       "ILMN_2416019    0\n",
       "Results         0\n",
       "Length: 48804, dtype: int64"
      ]
     },
     "execution_count": 66,
     "metadata": {},
     "output_type": "execute_result"
    }
   ],
   "source": [
    "df.isnull().sum()"
   ]
  },
  {
   "cell_type": "code",
   "execution_count": 67,
   "metadata": {},
   "outputs": [
    {
     "data": {
      "text/html": [
       "<div>\n",
       "<style scoped>\n",
       "    .dataframe tbody tr th:only-of-type {\n",
       "        vertical-align: middle;\n",
       "    }\n",
       "\n",
       "    .dataframe tbody tr th {\n",
       "        vertical-align: top;\n",
       "    }\n",
       "\n",
       "    .dataframe thead th {\n",
       "        text-align: right;\n",
       "    }\n",
       "</style>\n",
       "<table border=\"1\" class=\"dataframe\">\n",
       "  <thead>\n",
       "    <tr style=\"text-align: right;\">\n",
       "      <th>Sample_id</th>\n",
       "      <th>ILMN_1343291</th>\n",
       "      <th>ILMN_1343295</th>\n",
       "      <th>ILMN_1651199</th>\n",
       "      <th>ILMN_1651209</th>\n",
       "      <th>ILMN_1651210</th>\n",
       "      <th>ILMN_1651221</th>\n",
       "      <th>ILMN_1651228</th>\n",
       "      <th>ILMN_1651229</th>\n",
       "      <th>ILMN_1651230</th>\n",
       "      <th>ILMN_1651232</th>\n",
       "      <th>...</th>\n",
       "      <th>ILMN_2415776</th>\n",
       "      <th>ILMN_2415786</th>\n",
       "      <th>ILMN_2415826</th>\n",
       "      <th>ILMN_2415898</th>\n",
       "      <th>ILMN_2415911</th>\n",
       "      <th>ILMN_2415926</th>\n",
       "      <th>ILMN_2415949</th>\n",
       "      <th>ILMN_2415979</th>\n",
       "      <th>ILMN_2416019</th>\n",
       "      <th>Results</th>\n",
       "    </tr>\n",
       "  </thead>\n",
       "  <tbody>\n",
       "    <tr>\n",
       "      <th>count</th>\n",
       "      <td>140.0000</td>\n",
       "      <td>140.0000</td>\n",
       "      <td>140.0000</td>\n",
       "      <td>140.0000</td>\n",
       "      <td>140.0000</td>\n",
       "      <td>140.0000</td>\n",
       "      <td>140.0000</td>\n",
       "      <td>140.0000</td>\n",
       "      <td>140.0000</td>\n",
       "      <td>140.0000</td>\n",
       "      <td>...</td>\n",
       "      <td>140</td>\n",
       "      <td>140</td>\n",
       "      <td>140</td>\n",
       "      <td>140</td>\n",
       "      <td>140</td>\n",
       "      <td>140</td>\n",
       "      <td>140</td>\n",
       "      <td>140</td>\n",
       "      <td>140</td>\n",
       "      <td>140</td>\n",
       "    </tr>\n",
       "    <tr>\n",
       "      <th>unique</th>\n",
       "      <td>139.0000</td>\n",
       "      <td>140.0000</td>\n",
       "      <td>139.0000</td>\n",
       "      <td>138.0000</td>\n",
       "      <td>135.0000</td>\n",
       "      <td>138.0000</td>\n",
       "      <td>139.0000</td>\n",
       "      <td>140.0000</td>\n",
       "      <td>137.0000</td>\n",
       "      <td>139.0000</td>\n",
       "      <td>...</td>\n",
       "      <td>139</td>\n",
       "      <td>140</td>\n",
       "      <td>140</td>\n",
       "      <td>138</td>\n",
       "      <td>139</td>\n",
       "      <td>138</td>\n",
       "      <td>138</td>\n",
       "      <td>140</td>\n",
       "      <td>140</td>\n",
       "      <td>6</td>\n",
       "    </tr>\n",
       "    <tr>\n",
       "      <th>top</th>\n",
       "      <td>17.3239</td>\n",
       "      <td>13.2586</td>\n",
       "      <td>7.7958</td>\n",
       "      <td>8.1481</td>\n",
       "      <td>7.9582</td>\n",
       "      <td>8.0857</td>\n",
       "      <td>16.6552</td>\n",
       "      <td>9.1273</td>\n",
       "      <td>7.8587</td>\n",
       "      <td>7.9462</td>\n",
       "      <td>...</td>\n",
       "      <td>8.0588</td>\n",
       "      <td>13.2497</td>\n",
       "      <td>7.9965</td>\n",
       "      <td>10.7322</td>\n",
       "      <td>9.6372</td>\n",
       "      <td>9.3068</td>\n",
       "      <td>9.308</td>\n",
       "      <td>13.8879</td>\n",
       "      <td>7.6464</td>\n",
       "      <td>control</td>\n",
       "    </tr>\n",
       "    <tr>\n",
       "      <th>freq</th>\n",
       "      <td>2.0000</td>\n",
       "      <td>1.0000</td>\n",
       "      <td>2.0000</td>\n",
       "      <td>2.0000</td>\n",
       "      <td>2.0000</td>\n",
       "      <td>2.0000</td>\n",
       "      <td>2.0000</td>\n",
       "      <td>1.0000</td>\n",
       "      <td>3.0000</td>\n",
       "      <td>2.0000</td>\n",
       "      <td>...</td>\n",
       "      <td>2</td>\n",
       "      <td>1</td>\n",
       "      <td>1</td>\n",
       "      <td>2</td>\n",
       "      <td>2</td>\n",
       "      <td>2</td>\n",
       "      <td>2</td>\n",
       "      <td>1</td>\n",
       "      <td>1</td>\n",
       "      <td>41</td>\n",
       "    </tr>\n",
       "  </tbody>\n",
       "</table>\n",
       "<p>4 rows × 48804 columns</p>\n",
       "</div>"
      ],
      "text/plain": [
       "Sample_id  ILMN_1343291  ILMN_1343295  ILMN_1651199  ILMN_1651209  \\\n",
       "count          140.0000      140.0000      140.0000      140.0000   \n",
       "unique         139.0000      140.0000      139.0000      138.0000   \n",
       "top             17.3239       13.2586        7.7958        8.1481   \n",
       "freq             2.0000        1.0000        2.0000        2.0000   \n",
       "\n",
       "Sample_id  ILMN_1651210  ILMN_1651221  ILMN_1651228  ILMN_1651229  \\\n",
       "count          140.0000      140.0000      140.0000      140.0000   \n",
       "unique         135.0000      138.0000      139.0000      140.0000   \n",
       "top              7.9582        8.0857       16.6552        9.1273   \n",
       "freq             2.0000        2.0000        2.0000        1.0000   \n",
       "\n",
       "Sample_id  ILMN_1651230  ILMN_1651232  ...  ILMN_2415776  ILMN_2415786  \\\n",
       "count          140.0000      140.0000  ...           140           140   \n",
       "unique         137.0000      139.0000  ...           139           140   \n",
       "top              7.8587        7.9462  ...        8.0588       13.2497   \n",
       "freq             3.0000        2.0000  ...             2             1   \n",
       "\n",
       "Sample_id  ILMN_2415826  ILMN_2415898  ILMN_2415911  ILMN_2415926  \\\n",
       "count               140           140           140           140   \n",
       "unique              140           138           139           138   \n",
       "top              7.9965       10.7322        9.6372        9.3068   \n",
       "freq                  1             2             2             2   \n",
       "\n",
       "Sample_id  ILMN_2415949  ILMN_2415979  ILMN_2416019  Results  \n",
       "count               140           140           140      140  \n",
       "unique              138           140           140        6  \n",
       "top               9.308       13.8879        7.6464  control  \n",
       "freq                  2             1             1       41  \n",
       "\n",
       "[4 rows x 48804 columns]"
      ]
     },
     "execution_count": 67,
     "metadata": {},
     "output_type": "execute_result"
    }
   ],
   "source": [
    "df.describe()"
   ]
  },
  {
   "cell_type": "code",
   "execution_count": 68,
   "metadata": {},
   "outputs": [],
   "source": [
    "df_features = list(df.columns)\n",
    "#print(df_features)"
   ]
  },
  {
   "cell_type": "code",
   "execution_count": 69,
   "metadata": {},
   "outputs": [
    {
     "data": {
      "text/plain": [
       "control                                              41\n",
       "Scleroderma with Pulmonary Arterial Hypertension     41\n",
       "Idiopathic Pulmonary Arterial Hypertension           30\n",
       "Scleroderma only                                     19\n",
       "Interstitial Lung Disease                             8\n",
       "Scleroderma with Pulmonary Arterial Hypertension      1\n",
       "Name: Results, dtype: int64"
      ]
     },
     "execution_count": 69,
     "metadata": {},
     "output_type": "execute_result"
    }
   ],
   "source": [
    "df.Results.value_counts()"
   ]
  },
  {
   "cell_type": "code",
   "execution_count": 70,
   "metadata": {},
   "outputs": [],
   "source": [
    "def map_results(inpt):\n",
    "    if inpt == 'control':\n",
    "        return 0;\n",
    "\n",
    "    else:\n",
    "        return 1;"
   ]
  },
  {
   "cell_type": "code",
   "execution_count": 71,
   "metadata": {},
   "outputs": [],
   "source": [
    "df['Results'] = df['Results'].apply(map_results)"
   ]
  },
  {
   "cell_type": "code",
   "execution_count": 72,
   "metadata": {},
   "outputs": [
    {
     "name": "stdout",
     "output_type": "stream",
     "text": [
      "Sample_id ILMN_1343291 ILMN_1343295 ILMN_1651199 ILMN_1651209 ILMN_1651210  \\\n",
      "GSM827665      17.1675      13.2586       7.9112       8.1231       7.7213   \n",
      "GSM827666      17.1925      13.6122       7.8667       8.1487       7.9313   \n",
      "GSM827667      16.8778      11.9146       7.9547       7.8337       7.9778   \n",
      "GSM827668      16.6716       12.423       7.9057       8.0147       7.9647   \n",
      "GSM827669      16.4631      11.8728       7.9558       7.9728       7.9177   \n",
      "\n",
      "Sample_id ILMN_1651221 ILMN_1651228 ILMN_1651229 ILMN_1651230 ILMN_1651232  \\\n",
      "GSM827665       8.1344      16.8012       9.1273       7.7285       8.4654   \n",
      "GSM827666       8.0763       16.921       8.9327       7.9633       8.0888   \n",
      "GSM827667       7.9839      16.2536        8.153       8.2885        8.033   \n",
      "GSM827668       8.0377      16.0069       8.4219       8.2889       7.9411   \n",
      "GSM827669       7.9714      15.9849       8.2749       8.2642        7.881   \n",
      "\n",
      "Sample_id  ... ILMN_2415776 ILMN_2415786 ILMN_2415826 ILMN_2415898  \\\n",
      "GSM827665  ...       8.4997      13.2497       7.9965      10.9044   \n",
      "GSM827666  ...       8.5099      12.8838       8.1013      10.7322   \n",
      "GSM827667  ...       8.4113      12.0219       8.0164       8.7911   \n",
      "GSM827668  ...       8.3346      12.2631       7.9906        9.173   \n",
      "GSM827669  ...       8.3241      12.1453        7.716       8.6359   \n",
      "\n",
      "Sample_id ILMN_2415911 ILMN_2415926 ILMN_2415949 ILMN_2415979 ILMN_2416019  \\\n",
      "GSM827665       9.5198       9.3447       9.0144      13.8879       7.6464   \n",
      "GSM827666       9.5773       9.0909       9.3277      13.9502        7.881   \n",
      "GSM827667       8.4079       8.5683       8.3302      12.1534       7.7238   \n",
      "GSM827668       8.9501       8.7044       8.6883      12.3272       7.6789   \n",
      "GSM827669       8.7143       8.6545       8.3855      12.4533       7.6853   \n",
      "\n",
      "Sample_id Results  \n",
      "GSM827665       0  \n",
      "GSM827666       0  \n",
      "GSM827667       0  \n",
      "GSM827668       0  \n",
      "GSM827669       0  \n",
      "\n",
      "[5 rows x 48804 columns]\n"
     ]
    }
   ],
   "source": [
    "print(df.head())"
   ]
  },
  {
   "cell_type": "code",
   "execution_count": 73,
   "metadata": {},
   "outputs": [],
   "source": [
    "X = df.drop([\"Results\"], axis =1);\n",
    "Y = df[\"Results\"]"
   ]
  },
  {
   "cell_type": "code",
   "execution_count": 74,
   "metadata": {},
   "outputs": [],
   "source": [
    "from sklearn.feature_selection import mutual_info_classif\n",
    "from sklearn.feature_selection import SelectKBest\n",
    "\n",
    "fs = SelectKBest(score_func=mutual_info_classif, k=100)\n",
    "X_selected = fs.fit_transform(X, Y)"
   ]
  },
  {
   "cell_type": "code",
   "execution_count": 75,
   "metadata": {},
   "outputs": [],
   "source": [
    "cols = fs.get_support(indices=True)"
   ]
  },
  {
   "cell_type": "code",
   "execution_count": 76,
   "metadata": {},
   "outputs": [
    {
     "name": "stdout",
     "output_type": "stream",
     "text": [
      "[   29   800  1062  1122  1554  2117  2253  2793  2902  3092  3646  3841\n",
      "  4222  4309  4352  4392  4406  4663  5147  5776  6052  6274  7700  7765\n",
      "  8065  8555  8611  8884  9083  9212  9783 10422 10556 10800 10862 11307\n",
      " 11383 11430 12414 12506 12853 13117 13409 14508 15193 15566 15849 15891\n",
      " 16487 16986 17369 17746 19295 19343 19491 19770 20004 20293 20478 20875\n",
      " 21087 21285 21314 22014 22109 22413 22589 23012 23071 23219 24036 24524\n",
      " 25316 25743 26047 26478 26839 27020 27039 27758 28303 28443 33015 35797\n",
      " 36738 38840 39308 41729 42310 42398 42835 43671 44495 44496 45196 45549\n",
      " 46343 46776 47180 48511]\n"
     ]
    }
   ],
   "source": [
    "print(cols)"
   ]
  },
  {
   "cell_type": "code",
   "execution_count": 77,
   "metadata": {},
   "outputs": [],
   "source": [
    "X_se = df.iloc[:,cols]"
   ]
  },
  {
   "cell_type": "code",
   "execution_count": 78,
   "metadata": {},
   "outputs": [],
   "source": [
    "X_se.to_csv(\"selected_M_best100.csv\", encoding='utf-8', index=False)"
   ]
  }
 ],
 "metadata": {
  "kernelspec": {
   "display_name": "Python 3.9.12 ('base')",
   "language": "python",
   "name": "python3"
  },
  "language_info": {
   "codemirror_mode": {
    "name": "ipython",
    "version": 3
   },
   "file_extension": ".py",
   "mimetype": "text/x-python",
   "name": "python",
   "nbconvert_exporter": "python",
   "pygments_lexer": "ipython3",
   "version": "3.9.13"
  },
  "orig_nbformat": 4,
  "vscode": {
   "interpreter": {
    "hash": "dd78fe5a17d57d1a86104509f6d28e1e730005acb4374104044dd451171eb7b3"
   }
  }
 },
 "nbformat": 4,
 "nbformat_minor": 2
}
