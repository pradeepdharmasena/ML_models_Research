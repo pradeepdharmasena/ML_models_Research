{
 "cells": [
  {
   "cell_type": "code",
   "execution_count": 16,
   "metadata": {},
   "outputs": [],
   "source": [
    "import numpy as np;\n",
    "import pandas as pd;\n",
    "import matplotlib.pyplot as plt\n",
    "import sklearn.metrics as sm\n",
    "from sklearn.preprocessing import LabelEncoder\n",
    "from sklearn.model_selection import cross_val_score\n",
    "from sklearn.model_selection import GridSearchCV\n",
    "from sklearn.preprocessing import MinMaxScaler\n",
    "\n",
    "from scipy import stats\n",
    "from sklearn import tree\n",
    "from sklearn.ensemble import GradientBoostingClassifier\n",
    "from sklearn.neighbors import KNeighborsClassifier\n",
    "from sklearn.linear_model import LogisticRegression\n",
    "from sklearn.naive_bayes import MultinomialNB,BernoulliNB\n",
    "from sklearn.ensemble import RandomForestClassifier\n",
    "from sklearn import tree\n",
    "from sklearn import svm\n",
    "import seaborn as sb\n",
    "from imblearn.under_sampling import RandomUnderSampler\n",
    "from imblearn.over_sampling import SMOTE"
   ]
  },
  {
   "cell_type": "code",
   "execution_count": 17,
   "metadata": {},
   "outputs": [
    {
     "name": "stdout",
     "output_type": "stream",
     "text": [
      "   ILMN_1651296  ILMN_1654609  ILMN_1655864  ILMN_1656111  ILMN_1657898  \\\n",
      "0        9.3790       13.1600        9.1206       13.0567        8.9263   \n",
      "1        9.3431       13.6183        9.6620       13.4208        8.6274   \n",
      "2        8.7567       12.5893        8.9047       11.5663        8.3385   \n",
      "3        8.7806       12.4219        8.7785       11.7575        8.2053   \n",
      "4        8.5279       12.0954        8.4493       11.7753        8.2168   \n",
      "\n",
      "   ILMN_1660357  ILMN_1660938  ILMN_1663416  ILMN_1663975  ILMN_1664861  ...  \\\n",
      "0        9.5279        9.2688       16.3292        8.6046        9.4549  ...   \n",
      "1        9.5668        9.5245       16.4771        8.7923        9.5092  ...   \n",
      "2        8.6186        8.7190       15.2230        8.3046        8.6895  ...   \n",
      "3        8.4064        8.6284       15.1578        8.4242        8.5277  ...   \n",
      "4        8.4192        8.4568       14.9286        8.1800        8.3119  ...   \n",
      "\n",
      "   ILMN_2159384  ILMN_2203891  ILMN_2203896  ILMN_2245676  ILMN_2272857  \\\n",
      "0        9.7306        9.5990       10.5498        9.3395        9.4560   \n",
      "1        9.8929        9.6539       10.6225       10.0364        9.5200   \n",
      "2        8.9173        8.9897        9.1936        8.8015        8.6917   \n",
      "3        8.8102        8.9482        9.2249        8.9228        8.7210   \n",
      "4        8.7016        8.8365        9.2346        8.4438        8.6942   \n",
      "\n",
      "   ILMN_2320853  ILMN_2342250  ILMN_2359627  ILMN_2406410  Results  \n",
      "0       13.9438        8.7951        8.4001       11.6673  control  \n",
      "1       14.2676        8.8309        8.7299       11.6743  control  \n",
      "2       12.3935        8.0839        8.3184       10.7985  control  \n",
      "3       12.5593        8.3335        8.3509       10.6591  control  \n",
      "4       12.1135        8.1306        8.4000       10.6473  control  \n",
      "\n",
      "[5 rows x 101 columns]\n"
     ]
    }
   ],
   "source": [
    "df = pd.read_csv(\"../data/selected_M_best100.csv\")\n",
    "df = df.drop_duplicates()\n",
    "print(df.head())"
   ]
  },
  {
   "cell_type": "code",
   "execution_count": 18,
   "metadata": {},
   "outputs": [],
   "source": [
    "def map_results(inpt):\n",
    "    if inpt == 'control':\n",
    "        return 0;\n",
    "\n",
    "    else:\n",
    "        return 1;"
   ]
  },
  {
   "cell_type": "code",
   "execution_count": 19,
   "metadata": {},
   "outputs": [
    {
     "name": "stdout",
     "output_type": "stream",
     "text": [
      "   ILMN_1651296  ILMN_1654609  ILMN_1655864  ILMN_1656111  ILMN_1657898  \\\n",
      "0        9.3790       13.1600        9.1206       13.0567        8.9263   \n",
      "1        9.3431       13.6183        9.6620       13.4208        8.6274   \n",
      "2        8.7567       12.5893        8.9047       11.5663        8.3385   \n",
      "3        8.7806       12.4219        8.7785       11.7575        8.2053   \n",
      "4        8.5279       12.0954        8.4493       11.7753        8.2168   \n",
      "\n",
      "   ILMN_1660357  ILMN_1660938  ILMN_1663416  ILMN_1663975  ILMN_1664861  ...  \\\n",
      "0        9.5279        9.2688       16.3292        8.6046        9.4549  ...   \n",
      "1        9.5668        9.5245       16.4771        8.7923        9.5092  ...   \n",
      "2        8.6186        8.7190       15.2230        8.3046        8.6895  ...   \n",
      "3        8.4064        8.6284       15.1578        8.4242        8.5277  ...   \n",
      "4        8.4192        8.4568       14.9286        8.1800        8.3119  ...   \n",
      "\n",
      "   ILMN_2159384  ILMN_2203891  ILMN_2203896  ILMN_2245676  ILMN_2272857  \\\n",
      "0        9.7306        9.5990       10.5498        9.3395        9.4560   \n",
      "1        9.8929        9.6539       10.6225       10.0364        9.5200   \n",
      "2        8.9173        8.9897        9.1936        8.8015        8.6917   \n",
      "3        8.8102        8.9482        9.2249        8.9228        8.7210   \n",
      "4        8.7016        8.8365        9.2346        8.4438        8.6942   \n",
      "\n",
      "   ILMN_2320853  ILMN_2342250  ILMN_2359627  ILMN_2406410  Results  \n",
      "0       13.9438        8.7951        8.4001       11.6673        0  \n",
      "1       14.2676        8.8309        8.7299       11.6743        0  \n",
      "2       12.3935        8.0839        8.3184       10.7985        0  \n",
      "3       12.5593        8.3335        8.3509       10.6591        0  \n",
      "4       12.1135        8.1306        8.4000       10.6473        0  \n",
      "\n",
      "[5 rows x 101 columns]\n"
     ]
    }
   ],
   "source": [
    "df['Results'] = df['Results'].apply(map_results)\n",
    "print(df.head())"
   ]
  },
  {
   "cell_type": "code",
   "execution_count": 20,
   "metadata": {},
   "outputs": [
    {
     "data": {
      "text/html": [
       "<div>\n",
       "<style scoped>\n",
       "    .dataframe tbody tr th:only-of-type {\n",
       "        vertical-align: middle;\n",
       "    }\n",
       "\n",
       "    .dataframe tbody tr th {\n",
       "        vertical-align: top;\n",
       "    }\n",
       "\n",
       "    .dataframe thead th {\n",
       "        text-align: right;\n",
       "    }\n",
       "</style>\n",
       "<table border=\"1\" class=\"dataframe\">\n",
       "  <thead>\n",
       "    <tr style=\"text-align: right;\">\n",
       "      <th></th>\n",
       "      <th>ILMN_1651296</th>\n",
       "      <th>ILMN_1654609</th>\n",
       "      <th>ILMN_1655864</th>\n",
       "      <th>ILMN_1656111</th>\n",
       "      <th>ILMN_1657898</th>\n",
       "      <th>ILMN_1660357</th>\n",
       "      <th>ILMN_1660938</th>\n",
       "      <th>ILMN_1663416</th>\n",
       "      <th>ILMN_1663975</th>\n",
       "      <th>ILMN_1664861</th>\n",
       "      <th>...</th>\n",
       "      <th>ILMN_2159384</th>\n",
       "      <th>ILMN_2203891</th>\n",
       "      <th>ILMN_2203896</th>\n",
       "      <th>ILMN_2245676</th>\n",
       "      <th>ILMN_2272857</th>\n",
       "      <th>ILMN_2320853</th>\n",
       "      <th>ILMN_2342250</th>\n",
       "      <th>ILMN_2359627</th>\n",
       "      <th>ILMN_2406410</th>\n",
       "      <th>Results</th>\n",
       "    </tr>\n",
       "  </thead>\n",
       "  <tbody>\n",
       "    <tr>\n",
       "      <th>count</th>\n",
       "      <td>140.000000</td>\n",
       "      <td>140.000000</td>\n",
       "      <td>140.000000</td>\n",
       "      <td>140.000000</td>\n",
       "      <td>140.000000</td>\n",
       "      <td>140.000000</td>\n",
       "      <td>140.000000</td>\n",
       "      <td>140.000000</td>\n",
       "      <td>140.000000</td>\n",
       "      <td>140.000000</td>\n",
       "      <td>...</td>\n",
       "      <td>140.000000</td>\n",
       "      <td>140.000000</td>\n",
       "      <td>140.000000</td>\n",
       "      <td>140.000000</td>\n",
       "      <td>140.000000</td>\n",
       "      <td>140.000000</td>\n",
       "      <td>140.000000</td>\n",
       "      <td>140.000000</td>\n",
       "      <td>140.000000</td>\n",
       "      <td>140.000000</td>\n",
       "    </tr>\n",
       "    <tr>\n",
       "      <th>mean</th>\n",
       "      <td>8.963658</td>\n",
       "      <td>12.634358</td>\n",
       "      <td>8.840350</td>\n",
       "      <td>11.874034</td>\n",
       "      <td>8.361906</td>\n",
       "      <td>8.984964</td>\n",
       "      <td>8.824249</td>\n",
       "      <td>15.757651</td>\n",
       "      <td>8.442949</td>\n",
       "      <td>8.970473</td>\n",
       "      <td>...</td>\n",
       "      <td>9.127508</td>\n",
       "      <td>9.202827</td>\n",
       "      <td>9.943714</td>\n",
       "      <td>9.048387</td>\n",
       "      <td>8.906776</td>\n",
       "      <td>13.466810</td>\n",
       "      <td>8.241331</td>\n",
       "      <td>8.425519</td>\n",
       "      <td>11.200771</td>\n",
       "      <td>0.707143</td>\n",
       "    </tr>\n",
       "    <tr>\n",
       "      <th>std</th>\n",
       "      <td>0.507967</td>\n",
       "      <td>0.787855</td>\n",
       "      <td>0.551345</td>\n",
       "      <td>0.896543</td>\n",
       "      <td>0.348476</td>\n",
       "      <td>0.548652</td>\n",
       "      <td>0.428465</td>\n",
       "      <td>0.639390</td>\n",
       "      <td>0.312019</td>\n",
       "      <td>0.847736</td>\n",
       "      <td>...</td>\n",
       "      <td>0.610215</td>\n",
       "      <td>0.657520</td>\n",
       "      <td>0.937709</td>\n",
       "      <td>0.499249</td>\n",
       "      <td>0.424639</td>\n",
       "      <td>0.757236</td>\n",
       "      <td>0.292743</td>\n",
       "      <td>0.383808</td>\n",
       "      <td>0.666722</td>\n",
       "      <td>0.456707</td>\n",
       "    </tr>\n",
       "    <tr>\n",
       "      <th>min</th>\n",
       "      <td>8.172100</td>\n",
       "      <td>9.570600</td>\n",
       "      <td>7.867800</td>\n",
       "      <td>8.669400</td>\n",
       "      <td>7.708100</td>\n",
       "      <td>8.049400</td>\n",
       "      <td>7.884700</td>\n",
       "      <td>12.853500</td>\n",
       "      <td>7.914500</td>\n",
       "      <td>7.722100</td>\n",
       "      <td>...</td>\n",
       "      <td>7.852400</td>\n",
       "      <td>8.306700</td>\n",
       "      <td>8.039000</td>\n",
       "      <td>7.992200</td>\n",
       "      <td>8.108100</td>\n",
       "      <td>10.752000</td>\n",
       "      <td>7.699200</td>\n",
       "      <td>7.761100</td>\n",
       "      <td>9.291300</td>\n",
       "      <td>0.000000</td>\n",
       "    </tr>\n",
       "    <tr>\n",
       "      <th>25%</th>\n",
       "      <td>8.595050</td>\n",
       "      <td>12.086050</td>\n",
       "      <td>8.413500</td>\n",
       "      <td>11.294975</td>\n",
       "      <td>8.128750</td>\n",
       "      <td>8.536025</td>\n",
       "      <td>8.474475</td>\n",
       "      <td>15.253375</td>\n",
       "      <td>8.202875</td>\n",
       "      <td>8.260800</td>\n",
       "      <td>...</td>\n",
       "      <td>8.679300</td>\n",
       "      <td>8.774550</td>\n",
       "      <td>9.309425</td>\n",
       "      <td>8.640600</td>\n",
       "      <td>8.607750</td>\n",
       "      <td>12.979300</td>\n",
       "      <td>8.026950</td>\n",
       "      <td>8.161925</td>\n",
       "      <td>10.811500</td>\n",
       "      <td>0.000000</td>\n",
       "    </tr>\n",
       "    <tr>\n",
       "      <th>50%</th>\n",
       "      <td>8.837400</td>\n",
       "      <td>12.694350</td>\n",
       "      <td>8.688850</td>\n",
       "      <td>11.907700</td>\n",
       "      <td>8.254400</td>\n",
       "      <td>8.911400</td>\n",
       "      <td>8.809150</td>\n",
       "      <td>16.006400</td>\n",
       "      <td>8.405250</td>\n",
       "      <td>8.777450</td>\n",
       "      <td>...</td>\n",
       "      <td>9.066750</td>\n",
       "      <td>9.008250</td>\n",
       "      <td>9.789650</td>\n",
       "      <td>9.046050</td>\n",
       "      <td>8.758050</td>\n",
       "      <td>13.661150</td>\n",
       "      <td>8.178500</td>\n",
       "      <td>8.335400</td>\n",
       "      <td>11.251850</td>\n",
       "      <td>1.000000</td>\n",
       "    </tr>\n",
       "    <tr>\n",
       "      <th>75%</th>\n",
       "      <td>9.262500</td>\n",
       "      <td>13.167725</td>\n",
       "      <td>9.193275</td>\n",
       "      <td>12.534300</td>\n",
       "      <td>8.539750</td>\n",
       "      <td>9.307150</td>\n",
       "      <td>9.102900</td>\n",
       "      <td>16.210800</td>\n",
       "      <td>8.635275</td>\n",
       "      <td>9.596200</td>\n",
       "      <td>...</td>\n",
       "      <td>9.559950</td>\n",
       "      <td>9.392600</td>\n",
       "      <td>10.440125</td>\n",
       "      <td>9.346525</td>\n",
       "      <td>9.234700</td>\n",
       "      <td>14.001500</td>\n",
       "      <td>8.414075</td>\n",
       "      <td>8.562700</td>\n",
       "      <td>11.645875</td>\n",
       "      <td>1.000000</td>\n",
       "    </tr>\n",
       "    <tr>\n",
       "      <th>max</th>\n",
       "      <td>10.410700</td>\n",
       "      <td>13.997800</td>\n",
       "      <td>10.372400</td>\n",
       "      <td>13.481200</td>\n",
       "      <td>9.626600</td>\n",
       "      <td>10.658800</td>\n",
       "      <td>9.881100</td>\n",
       "      <td>16.639100</td>\n",
       "      <td>9.186400</td>\n",
       "      <td>10.767600</td>\n",
       "      <td>...</td>\n",
       "      <td>10.433700</td>\n",
       "      <td>11.892100</td>\n",
       "      <td>13.061800</td>\n",
       "      <td>10.197800</td>\n",
       "      <td>10.149800</td>\n",
       "      <td>14.683300</td>\n",
       "      <td>9.326000</td>\n",
       "      <td>9.909400</td>\n",
       "      <td>12.640700</td>\n",
       "      <td>1.000000</td>\n",
       "    </tr>\n",
       "  </tbody>\n",
       "</table>\n",
       "<p>8 rows × 101 columns</p>\n",
       "</div>"
      ],
      "text/plain": [
       "       ILMN_1651296  ILMN_1654609  ILMN_1655864  ILMN_1656111  ILMN_1657898  \\\n",
       "count    140.000000    140.000000    140.000000    140.000000    140.000000   \n",
       "mean       8.963658     12.634358      8.840350     11.874034      8.361906   \n",
       "std        0.507967      0.787855      0.551345      0.896543      0.348476   \n",
       "min        8.172100      9.570600      7.867800      8.669400      7.708100   \n",
       "25%        8.595050     12.086050      8.413500     11.294975      8.128750   \n",
       "50%        8.837400     12.694350      8.688850     11.907700      8.254400   \n",
       "75%        9.262500     13.167725      9.193275     12.534300      8.539750   \n",
       "max       10.410700     13.997800     10.372400     13.481200      9.626600   \n",
       "\n",
       "       ILMN_1660357  ILMN_1660938  ILMN_1663416  ILMN_1663975  ILMN_1664861  \\\n",
       "count    140.000000    140.000000    140.000000    140.000000    140.000000   \n",
       "mean       8.984964      8.824249     15.757651      8.442949      8.970473   \n",
       "std        0.548652      0.428465      0.639390      0.312019      0.847736   \n",
       "min        8.049400      7.884700     12.853500      7.914500      7.722100   \n",
       "25%        8.536025      8.474475     15.253375      8.202875      8.260800   \n",
       "50%        8.911400      8.809150     16.006400      8.405250      8.777450   \n",
       "75%        9.307150      9.102900     16.210800      8.635275      9.596200   \n",
       "max       10.658800      9.881100     16.639100      9.186400     10.767600   \n",
       "\n",
       "       ...  ILMN_2159384  ILMN_2203891  ILMN_2203896  ILMN_2245676  \\\n",
       "count  ...    140.000000    140.000000    140.000000    140.000000   \n",
       "mean   ...      9.127508      9.202827      9.943714      9.048387   \n",
       "std    ...      0.610215      0.657520      0.937709      0.499249   \n",
       "min    ...      7.852400      8.306700      8.039000      7.992200   \n",
       "25%    ...      8.679300      8.774550      9.309425      8.640600   \n",
       "50%    ...      9.066750      9.008250      9.789650      9.046050   \n",
       "75%    ...      9.559950      9.392600     10.440125      9.346525   \n",
       "max    ...     10.433700     11.892100     13.061800     10.197800   \n",
       "\n",
       "       ILMN_2272857  ILMN_2320853  ILMN_2342250  ILMN_2359627  ILMN_2406410  \\\n",
       "count    140.000000    140.000000    140.000000    140.000000    140.000000   \n",
       "mean       8.906776     13.466810      8.241331      8.425519     11.200771   \n",
       "std        0.424639      0.757236      0.292743      0.383808      0.666722   \n",
       "min        8.108100     10.752000      7.699200      7.761100      9.291300   \n",
       "25%        8.607750     12.979300      8.026950      8.161925     10.811500   \n",
       "50%        8.758050     13.661150      8.178500      8.335400     11.251850   \n",
       "75%        9.234700     14.001500      8.414075      8.562700     11.645875   \n",
       "max       10.149800     14.683300      9.326000      9.909400     12.640700   \n",
       "\n",
       "          Results  \n",
       "count  140.000000  \n",
       "mean     0.707143  \n",
       "std      0.456707  \n",
       "min      0.000000  \n",
       "25%      0.000000  \n",
       "50%      1.000000  \n",
       "75%      1.000000  \n",
       "max      1.000000  \n",
       "\n",
       "[8 rows x 101 columns]"
      ]
     },
     "execution_count": 20,
     "metadata": {},
     "output_type": "execute_result"
    }
   ],
   "source": [
    "\n",
    "df.describe()"
   ]
  },
  {
   "cell_type": "code",
   "execution_count": 21,
   "metadata": {},
   "outputs": [
    {
     "name": "stdout",
     "output_type": "stream",
     "text": [
      "['ILMN_1651296', 'ILMN_1654609', 'ILMN_1655864', 'ILMN_1656111', 'ILMN_1657898', 'ILMN_1660357', 'ILMN_1660938', 'ILMN_1663416', 'ILMN_1663975', 'ILMN_1664861', 'ILMN_1667500', 'ILMN_1668535', 'ILMN_1670218', 'ILMN_1670638', 'ILMN_1670817', 'ILMN_1671005', 'ILMN_1671067', 'ILMN_1672295', 'ILMN_1674661', 'ILMN_1677756', 'ILMN_1679045', 'ILMN_1680139', 'ILMN_1687526', 'ILMN_1687884', 'ILMN_1689400', 'ILMN_1691860', 'ILMN_1692169', 'ILMN_1693635', 'ILMN_1694671', 'ILMN_1695382', 'ILMN_1698404', 'ILMN_1701962', 'ILMN_1702691', 'ILMN_1704014', 'ILMN_1704335', 'ILMN_1706859', 'ILMN_1707339', 'ILMN_1707631', 'ILMN_1713189', 'ILMN_1713764', 'ILMN_1715771', 'ILMN_1717229', 'ILMN_1718977', 'ILMN_1725707', 'ILMN_1729832', 'ILMN_1732141', 'ILMN_1733998', 'ILMN_1734410', 'ILMN_1738116', 'ILMN_1740875', 'ILMN_1743204', 'ILMN_1745788', 'ILMN_1755643', 'ILMN_1755911', 'ILMN_1756937', 'ILMN_1758687', 'ILMN_1760280', 'ILMN_1762080', 'ILMN_1763364', 'ILMN_1765725', 'ILMN_1767168', 'ILMN_1768391', 'ILMN_1768534', 'ILMN_1772796', 'ILMN_1773307', 'ILMN_1775304', 'ILMN_1776327', 'ILMN_1779014', 'ILMN_1779376', 'ILMN_1780334', 'ILMN_1785732', 'ILMN_1789074', 'ILMN_1794233', 'ILMN_1796830', 'ILMN_1798706', 'ILMN_1801584', 'ILMN_1803846', 'ILMN_1804988', 'ILMN_1805111', 'ILMN_1809511', 'ILMN_1812970', 'ILMN_1813817', 'ILMN_1852793', 'ILMN_1875248', 'ILMN_1882112', 'ILMN_1898124', 'ILMN_1901419', 'ILMN_2048982', 'ILMN_2082762', 'ILMN_2088437', 'ILMN_2112599', 'ILMN_2159384', 'ILMN_2203891', 'ILMN_2203896', 'ILMN_2245676', 'ILMN_2272857', 'ILMN_2320853', 'ILMN_2342250', 'ILMN_2359627', 'ILMN_2406410', 'Results']\n",
      "101\n"
     ]
    }
   ],
   "source": [
    "df_features = list(df.columns)\n",
    "print(df_features)\n",
    "print(len(df.columns))"
   ]
  },
  {
   "cell_type": "code",
   "execution_count": 22,
   "metadata": {},
   "outputs": [
    {
     "data": {
      "image/png": "[encoded data removed]",
      "text/plain": [
       "<Figure size 1440x4320 with 104 Axes>"
      ]
     },
     "metadata": {
      "needs_background": "light"
     },
     "output_type": "display_data"
    }
   ],
   "source": [
    "fig, axes = plt.subplots(26,4, figsize=(20,60))\n",
    "x_,y_ = 0,0\n",
    "for i, column in enumerate(df.columns[0:]):    \n",
    "    sb.boxplot(x=df[column], ax=axes[x_,y_], palette=\"Set2\")\n",
    "    if i < 3:\n",
    "        y_ += 1\n",
    "    elif i == 3: \n",
    "        x_ = 1\n",
    "        y_ = 0\n",
    "    elif i == 7:\n",
    "        x_ = 2\n",
    "        y_ = 0\n",
    "    elif i == 11: \n",
    "        x_ = 3\n",
    "        y_ = 0\n",
    "    elif i == 15:\n",
    "        x_ = 4\n",
    "        y_ = 0\n",
    "    elif i == 19:\n",
    "        x_ = 5\n",
    "        y_ = 0\n",
    "    elif i == 23:\n",
    "        x_ = 6\n",
    "        y_ = 0 \n",
    "    elif i == 27:\n",
    "        x_ = 7\n",
    "        y_ = 0\n",
    "    elif i == 31: \n",
    "        x_ = 8\n",
    "        y_ = 0\n",
    "    elif i == 35:\n",
    "        x_ = 9\n",
    "        y_ = 0\n",
    "    elif i == 39: \n",
    "        x_ = 10\n",
    "        y_ = 0\n",
    "    elif i == 43:\n",
    "        x_ = 11\n",
    "        y_ = 0\n",
    "    elif i == 47:\n",
    "        x_ = 12\n",
    "        y_ = 0\n",
    "    elif i == 51: \n",
    "        x_ = 13\n",
    "        y_ = 0\n",
    "    elif i == 55:\n",
    "        x_ = 14\n",
    "        y_ = 0\n",
    "    elif i == 59: \n",
    "        x_ = 15\n",
    "        y_ = 0\n",
    "    elif i == 63:\n",
    "        x_ = 16\n",
    "        y_ = 0\n",
    "    elif i == 67:\n",
    "        x_ = 17\n",
    "        y_ = 0\n",
    "    elif i == 71:\n",
    "        x_ = 18\n",
    "        y_ = 0 \n",
    "    elif i == 75:\n",
    "        x_ = 19\n",
    "        y_ = 0\n",
    "    elif i == 79: \n",
    "        x_ = 20\n",
    "        y_ = 0\n",
    "    elif i == 83:\n",
    "        x_ = 21\n",
    "        y_ = 0\n",
    "    elif i == 87: \n",
    "        x_ = 22\n",
    "        y_ = 0\n",
    "    elif i == 91:\n",
    "        x_ = 23\n",
    "        y_ = 0\n",
    "    elif i == 95:\n",
    "        x_ = 24\n",
    "        y_ = 0\n",
    "    elif i == 99:\n",
    "        x_ = 25\n",
    "        y_ = 0\n",
    "    else:\n",
    "        y_ += 1"
   ]
  },
  {
   "cell_type": "code",
   "execution_count": 23,
   "metadata": {},
   "outputs": [
    {
     "name": "stdout",
     "output_type": "stream",
     "text": [
      "Index(['ILMN_1651296', 'ILMN_1654609', 'ILMN_1655864', 'ILMN_1656111',\n",
      "       'ILMN_1657898', 'ILMN_1660357', 'ILMN_1660938', 'ILMN_1663416',\n",
      "       'ILMN_1663975', 'ILMN_1664861',\n",
      "       ...\n",
      "       'ILMN_2159384', 'ILMN_2203891', 'ILMN_2203896', 'ILMN_2245676',\n",
      "       'ILMN_2272857', 'ILMN_2320853', 'ILMN_2342250', 'ILMN_2359627',\n",
      "       'ILMN_2406410', 'Results'],\n",
      "      dtype='object', length=101)\n",
      "   ILMN_1651296  ILMN_1654609  ILMN_1655864  ILMN_1656111  ILMN_1657898  \\\n",
      "0      0.539132      0.810761      0.500200      0.911779      0.634975   \n",
      "1      0.523095      0.914280      0.716362      0.987448      0.479176   \n",
      "2      0.261145      0.681853      0.413998      0.602041      0.328590   \n",
      "3      0.271822      0.644041      0.363611      0.641776      0.259161   \n",
      "4      0.158939      0.570293      0.232173      0.645476      0.265155   \n",
      "\n",
      "   ILMN_1660357  ILMN_1660938  ILMN_1663416  ILMN_1663975  ILMN_1664861  ...  \\\n",
      "0      0.566605      0.693298      0.918137      0.542574      0.568971  ...   \n",
      "1      0.581513      0.821378      0.957206      0.690149      0.586800  ...   \n",
      "2      0.218134      0.417902      0.625925      0.306707      0.317649  ...   \n",
      "3      0.136813      0.372521      0.608701      0.400739      0.264521  ...   \n",
      "4      0.141718      0.286566      0.548156      0.208743      0.193663  ...   \n",
      "\n",
      "   ILMN_2159384  ILMN_2203891  ILMN_2203896  ILMN_2245676  ILMN_2272857  \\\n",
      "0      0.727618      0.360434      0.499881      0.610854      0.660185   \n",
      "1      0.790493      0.375746      0.514355      0.926823      0.691532   \n",
      "2      0.412544      0.190495      0.229872      0.366930      0.285840   \n",
      "3      0.371053      0.178920      0.236103      0.421926      0.300191   \n",
      "4      0.328982      0.147766      0.238035      0.204752      0.287065   \n",
      "\n",
      "   ILMN_2320853  ILMN_2342250  ILMN_2359627  ILMN_2406410  Results  \n",
      "0      0.811894      0.673654      0.297444      0.709381      0.0  \n",
      "1      0.894259      0.695660      0.450961      0.711471      0.0  \n",
      "2      0.417546      0.236477      0.259414      0.449991      0.0  \n",
      "3      0.459721      0.389907      0.274543      0.408372      0.0  \n",
      "4      0.346323      0.265183      0.297398      0.404849      0.0  \n",
      "\n",
      "[5 rows x 101 columns]\n"
     ]
    }
   ],
   "source": [
    "cols = df.columns\n",
    "print(cols)\n",
    "scaler = MinMaxScaler()\n",
    "dat = scaler.fit_transform(df)\n",
    "df_02 = pd.DataFrame(data=dat, columns=cols)  \n",
    "print(df_02.head())"
   ]
  },
  {
   "cell_type": "code",
   "execution_count": 24,
   "metadata": {},
   "outputs": [
    {
     "name": "stdout",
     "output_type": "stream",
     "text": [
      "1    99\n",
      "0    41\n",
      "Name: Results, dtype: int64\n"
     ]
    }
   ],
   "source": [
    "x = df_02.drop([\"Results\"], axis =1);\n",
    "y = df[\"Results\"]\n",
    "print(y.value_counts())"
   ]
  },
  {
   "cell_type": "code",
   "execution_count": 25,
   "metadata": {},
   "outputs": [
    {
     "data": {
      "text/plain": [
       "(array([41.,  0.,  0.,  0.,  0.,  0.,  0.,  0.,  0., 99.]),\n",
       " array([0. , 0.1, 0.2, 0.3, 0.4, 0.5, 0.6, 0.7, 0.8, 0.9, 1. ]),\n",
       " <BarContainer object of 10 artists>)"
      ]
     },
     "execution_count": 25,
     "metadata": {},
     "output_type": "execute_result"
    },
    {
     "data": {
      "image/png": "[encoded data removed]",
      "text/plain": [
       "<Figure size 432x288 with 1 Axes>"
      ]
     },
     "metadata": {
      "needs_background": "light"
     },
     "output_type": "display_data"
    }
   ],
   "source": [
    "plt.hist(y)"
   ]
  },
  {
   "cell_type": "code",
   "execution_count": 26,
   "metadata": {},
   "outputs": [
    {
     "name": "stdout",
     "output_type": "stream",
     "text": [
      "1    58\n",
      "0    41\n",
      "Name: Results, dtype: int64\n"
     ]
    },
    {
     "data": {
      "text/plain": [
       "(array([41.,  0.,  0.,  0.,  0.,  0.,  0.,  0.,  0., 58.]),\n",
       " array([0. , 0.1, 0.2, 0.3, 0.4, 0.5, 0.6, 0.7, 0.8, 0.9, 1. ]),\n",
       " <BarContainer object of 10 artists>)"
      ]
     },
     "execution_count": 26,
     "metadata": {},
     "output_type": "execute_result"
    },
    {
     "data": {
      "image/png": "[encoded data removed]",
      "text/plain": [
       "<Figure size 432x288 with 1 Axes>"
      ]
     },
     "metadata": {
      "needs_background": "light"
     },
     "output_type": "display_data"
    }
   ],
   "source": [
    "# transform the dataset\n",
    "under = RandomUnderSampler(sampling_strategy= 0.7)\n",
    "X, Y = under.fit_resample(x, y)\n",
    "print(Y.value_counts())\n",
    "plt.hist(Y)"
   ]
  },
  {
   "cell_type": "code",
   "execution_count": 27,
   "metadata": {},
   "outputs": [
    {
     "name": "stdout",
     "output_type": "stream",
     "text": [
      "0    58\n",
      "1    58\n",
      "Name: Results, dtype: int64\n"
     ]
    },
    {
     "data": {
      "text/plain": [
       "(array([58.,  0.,  0.,  0.,  0.,  0.,  0.,  0.,  0., 58.]),\n",
       " array([0. , 0.1, 0.2, 0.3, 0.4, 0.5, 0.6, 0.7, 0.8, 0.9, 1. ]),\n",
       " <BarContainer object of 10 artists>)"
      ]
     },
     "execution_count": 27,
     "metadata": {},
     "output_type": "execute_result"
    },
    {
     "data": {
      "image/png": "[encoded data removed]",
      "text/plain": [
       "<Figure size 432x288 with 1 Axes>"
      ]
     },
     "metadata": {
      "needs_background": "light"
     },
     "output_type": "display_data"
    }
   ],
   "source": [
    "smt = SMOTE()\n",
    "X, Y = smt.fit_resample(X,Y)\n",
    "print(Y.value_counts())\n",
    "plt.hist(Y)"
   ]
  },
  {
   "cell_type": "code",
   "execution_count": 28,
   "metadata": {},
   "outputs": [
    {
     "name": "stdout",
     "output_type": "stream",
     "text": [
      "CV value :  2\n",
      "Parameters :  {}\n",
      "Accuracy :  84.483\n",
      "Standed deviation :  5.172\n",
      "CV value :  3\n",
      "Parameters :  {}\n",
      "Accuracy :  88.776\n",
      "Standed deviation :  4.405\n",
      "CV value :  4\n",
      "Parameters :  {}\n",
      "Accuracy :  87.931\n",
      "Standed deviation :  7.109\n",
      "CV value :  5\n",
      "Parameters :  {}\n",
      "Accuracy :  91.377\n",
      "Standed deviation :  5.502\n"
     ]
    }
   ],
   "source": [
    "# creating a decision tree classifier\n",
    "dt_model = tree.DecisionTreeClassifier()\n",
    "param_grid_dt = {\n",
    "     \n",
    "}\n",
    "cv_array = [2,3,4,5]\n",
    "for cv in cv_array:\n",
    "    gridSearchRF = GridSearchCV(estimator=dt_model, param_grid=param_grid_dt, scoring='accuracy', n_jobs=-1, cv=cv)\n",
    "    gridSearchRF.fit(X, Y)\n",
    "    print(\"CV value : \", cv)\n",
    "    print(\"Parameters : \", gridSearchRF.best_params_)\n",
    "    print(\"Accuracy :  %0.3f\" % (gridSearchRF.best_score_*100))\n",
    "    print(\"Standed deviation :  %0.3f\" % (gridSearchRF.cv_results_['std_test_score'][gridSearchRF.best_index_]*100))"
   ]
  },
  {
   "cell_type": "code",
   "execution_count": 29,
   "metadata": {},
   "outputs": [
    {
     "name": "stdout",
     "output_type": "stream",
     "text": [
      "CV value :  2\n",
      "Parameters :  {'random_state': 1}\n",
      "Accuracy :  85.345\n",
      "Standed deviation :  4.310\n",
      "CV value :  3\n",
      "Parameters :  {'random_state': 0}\n",
      "Accuracy :  93.095\n",
      "Standed deviation :  3.217\n",
      "CV value :  4\n",
      "Parameters :  {'random_state': 2}\n",
      "Accuracy :  92.241\n",
      "Standed deviation :  2.859\n",
      "CV value :  5\n",
      "Parameters :  {'random_state': 0}\n",
      "Accuracy :  93.080\n",
      "Standed deviation :  4.456\n"
     ]
    }
   ],
   "source": [
    "# creating a Gradient boosting classifier\n",
    "gb_model = GradientBoostingClassifier()\n",
    "param_grid_gb = {\n",
    "     'random_state': [0, 1, 2,3,4,5 , 10, 20, 30, 40, 50]\n",
    "}\n",
    "for cv in cv_array:\n",
    "     gridSearchRF = GridSearchCV(estimator=gb_model, param_grid=param_grid_gb, scoring='accuracy', n_jobs=-1, cv=cv)\n",
    "     gridSearchRF.fit(X, Y)\n",
    "     print(\"CV value : \", cv)\n",
    "     print(\"Parameters : \", gridSearchRF.best_params_)\n",
    "     print(\"Accuracy :  %0.3f\" % (gridSearchRF.best_score_*100))\n",
    "     print(\"Standed deviation :  %0.3f\" % (gridSearchRF.cv_results_['std_test_score'][gridSearchRF.best_index_]*100))"
   ]
  },
  {
   "cell_type": "code",
   "execution_count": 30,
   "metadata": {},
   "outputs": [
    {
     "name": "stdout",
     "output_type": "stream",
     "text": [
      "CV value :  2\n",
      "Parameters :  {'n_neighbors': 5}\n",
      "Accuracy :  93.966\n",
      "Standed deviation :  2.586\n",
      "CV value :  3\n",
      "Parameters :  {'n_neighbors': 11}\n",
      "Accuracy :  94.804\n",
      "Standed deviation :  2.177\n",
      "CV value :  4\n",
      "Parameters :  {'n_neighbors': 7}\n",
      "Accuracy :  93.103\n",
      "Standed deviation :  4.877\n",
      "CV value :  5\n",
      "Parameters :  {'n_neighbors': 7}\n",
      "Accuracy :  93.913\n",
      "Standed deviation :  4.434\n"
     ]
    }
   ],
   "source": [
    "# creating a KNN classifier\n",
    "KNN_model =KNeighborsClassifier()\n",
    "param_grid_knn = {\n",
    "     'n_neighbors': [3, 5, 7, 11, 13, 17]\n",
    "}\n",
    "for cv in cv_array:\n",
    "     gridSearchRF = GridSearchCV(estimator=KNN_model, param_grid=param_grid_knn, scoring='accuracy', n_jobs=-1, cv=cv)\n",
    "     gridSearchRF.fit(X, Y)\n",
    "     print(\"CV value : \", cv)\n",
    "     print(\"Parameters : \", gridSearchRF.best_params_)\n",
    "     print(\"Accuracy :  %0.3f\" % (gridSearchRF.best_score_*100))\n",
    "     print(\"Standed deviation :  %0.3f\" % (gridSearchRF.cv_results_['std_test_score'][gridSearchRF.best_index_]*100))"
   ]
  },
  {
   "cell_type": "code",
   "execution_count": 31,
   "metadata": {},
   "outputs": [
    {
     "name": "stdout",
     "output_type": "stream",
     "text": [
      "CV value :  2\n",
      "Parameters :  {'max_iter': 100}\n",
      "Accuracy :  88.793\n",
      "Standed deviation :  6.034\n",
      "CV value :  3\n",
      "Parameters :  {'max_iter': 100}\n",
      "Accuracy :  90.486\n",
      "Standed deviation :  3.320\n",
      "CV value :  4\n",
      "Parameters :  {'max_iter': 100}\n",
      "Accuracy :  88.793\n",
      "Standed deviation :  6.156\n",
      "CV value :  5\n",
      "Parameters :  {'max_iter': 100}\n",
      "Accuracy :  89.601\n",
      "Standed deviation :  5.260\n"
     ]
    }
   ],
   "source": [
    "# creating a Lgistic regression classifier\n",
    "lr_model = LogisticRegression() \n",
    "\n",
    "param_grid_lr = {\n",
    "     'max_iter': [100, 200, 300, 400, 500]\n",
    "}\n",
    "for cv in cv_array:\n",
    "     gridSearchRF = GridSearchCV(estimator=lr_model, param_grid=param_grid_lr, scoring='accuracy', n_jobs=-1, cv=cv)\n",
    "     gridSearchRF.fit(X, Y)\n",
    "     print(\"CV value : \", cv)\n",
    "     print(\"Parameters : \", gridSearchRF.best_params_)\n",
    "     print(\"Accuracy :  %0.3f\" % (gridSearchRF.best_score_*100))\n",
    "     print(\"Standed deviation :  %0.3f\" % (gridSearchRF.cv_results_['std_test_score'][gridSearchRF.best_index_]*100))\n"
   ]
  },
  {
   "cell_type": "code",
   "execution_count": 32,
   "metadata": {},
   "outputs": [
    {
     "name": "stdout",
     "output_type": "stream",
     "text": [
      "CV value :  2\n",
      "Parameters :  {}\n",
      "Accuracy :  90.517\n",
      "Standed deviation :  4.310\n",
      "CV value :  3\n",
      "Parameters :  {}\n",
      "Accuracy :  90.463\n",
      "Standed deviation :  5.423\n",
      "CV value :  4\n",
      "Parameters :  {}\n",
      "Accuracy :  89.655\n",
      "Standed deviation :  6.897\n",
      "CV value :  5\n",
      "Parameters :  {}\n",
      "Accuracy :  89.601\n",
      "Standed deviation :  7.610\n"
     ]
    }
   ],
   "source": [
    "# creating a Nave Bayers classifier\n",
    "nb_model = MultinomialNB()\n",
    "param_grid_nb = {\n",
    "\n",
    "}\n",
    "for cv in cv_array:\n",
    "    gridSearchRF = GridSearchCV(estimator=nb_model, param_grid=param_grid_nb, scoring='accuracy', n_jobs=-1, cv=cv)\n",
    "    gridSearchRF.fit(X, Y)\n",
    "    print(\"CV value : \", cv)\n",
    "    print(\"Parameters : \", gridSearchRF.best_params_)\n",
    "    print(\"Accuracy :  %0.3f\" % (gridSearchRF.best_score_*100))\n",
    "    print(\"Standed deviation :  %0.3f\" % (gridSearchRF.cv_results_['std_test_score'][gridSearchRF.best_index_]*100))\n"
   ]
  },
  {
   "cell_type": "code",
   "execution_count": 33,
   "metadata": {},
   "outputs": [
    {
     "name": "stdout",
     "output_type": "stream",
     "text": [
      "CV value :  2\n",
      "Parameters :  {'kernel': 'linear'}\n",
      "Accuracy :  91.379\n",
      "Standed deviation :  5.172\n",
      "CV value :  3\n",
      "Parameters :  {'kernel': 'poly'}\n",
      "Accuracy :  93.972\n",
      "Standed deviation :  3.187\n",
      "CV value :  4\n",
      "Parameters :  {'kernel': 'poly'}\n",
      "Accuracy :  93.966\n",
      "Standed deviation :  2.859\n",
      "CV value :  5\n",
      "Parameters :  {'kernel': 'linear'}\n",
      "Accuracy :  94.783\n",
      "Standed deviation :  5.070\n"
     ]
    }
   ],
   "source": [
    "# creating a SVM classifier\n",
    "svm_model = svm.SVC()\n",
    "param_grid_svm = {\n",
    "     'kernel': ['linear', 'poly', 'rbf', 'sigmoid']\n",
    "}\n",
    "\n",
    "for cv in cv_array:\n",
    "     gridSearchRF = GridSearchCV(estimator=svm_model, param_grid=param_grid_svm, scoring='accuracy', n_jobs=-1, cv=cv)\n",
    "     gridSearchRF.fit(X, Y)\n",
    "     print(\"CV value : \", cv)\n",
    "     print(\"Parameters : \", gridSearchRF.best_params_)\n",
    "     print(\"Accuracy :  %0.3f\" % (gridSearchRF.best_score_*100))\n",
    "     print(\"Standed deviation :  %0.3f\" % (gridSearchRF.cv_results_['std_test_score'][gridSearchRF.best_index_]*100))\n"
   ]
  },
  {
   "cell_type": "code",
   "execution_count": 34,
   "metadata": {},
   "outputs": [
    {
     "name": "stdout",
     "output_type": "stream",
     "text": [
      "CV value :  2\n",
      "Parameters :  {'max_depth': 90, 'max_features': 2, 'n_estimators': 100}\n",
      "Accuracy :  93.103\n",
      "Standed deviation :  3.448\n",
      "CV value :  3\n",
      "Parameters :  {'max_depth': 150, 'max_features': 3, 'n_estimators': 100}\n",
      "Accuracy :  96.536\n",
      "Standed deviation :  2.450\n",
      "CV value :  4\n",
      "Parameters :  {'max_depth': 110, 'max_features': 2, 'n_estimators': 100}\n",
      "Accuracy :  95.690\n",
      "Standed deviation :  3.758\n",
      "CV value :  5\n",
      "Parameters :  {'max_depth': 150, 'max_features': 2, 'n_estimators': 100}\n",
      "Accuracy :  95.652\n",
      "Standed deviation :  2.750\n"
     ]
    }
   ],
   "source": [
    "# creating a Random forest classifier\n",
    "rf = RandomForestClassifier()\n",
    "param_grid_rf = {\n",
    "     'max_depth': [80, 90, 100, 110, 150, 200, 300],\n",
    "     'max_features': [2, 3, 4, 5,6],\n",
    "     'n_estimators': [100, 200, 300]\n",
    "}\n",
    "\n",
    "for cv in cv_array:\n",
    "     gridSearchRF = GridSearchCV(estimator=rf, param_grid=param_grid_rf, scoring='accuracy', n_jobs=-1, cv=cv)\n",
    "     gridSearchRF.fit(X, Y)\n",
    "     print(\"CV value : \", cv)\n",
    "     print(\"Parameters : \", gridSearchRF.best_params_)\n",
    "     print(\"Accuracy :  %0.3f\" % (gridSearchRF.best_score_*100))\n",
    "     print(\"Standed deviation :  %0.3f\" % (gridSearchRF.cv_results_['std_test_score'][gridSearchRF.best_index_]*100))"
   ]
  }
 ],
 "metadata": {
  "kernelspec": {
   "display_name": "Python 3.9.13 ('base')",
   "language": "python",
   "name": "python3"
  },
  "language_info": {
   "codemirror_mode": {
    "name": "ipython",
    "version": 3
   },
   "file_extension": ".py",
   "mimetype": "text/x-python",
   "name": "python",
   "nbconvert_exporter": "python",
   "pygments_lexer": "ipython3",
   "version": "3.9.13"
  },
  "orig_nbformat": 4,
  "vscode": {
   "interpreter": {
    "hash": "dd78fe5a17d57d1a86104509f6d28e1e730005acb4374104044dd451171eb7b3"
   }
  }
 },
 "nbformat": 4,
 "nbformat_minor": 2
}
