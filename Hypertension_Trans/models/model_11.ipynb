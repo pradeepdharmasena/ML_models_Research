{
 "cells": [
  {
   "cell_type": "code",
   "execution_count": 1,
   "metadata": {},
   "outputs": [],
   "source": [
    "import numpy as np;\n",
    "import pandas as pd;\n",
    "import matplotlib.pyplot as plt\n",
    "import sklearn.metrics as sm\n",
    "from sklearn.preprocessing import LabelEncoder\n",
    "from sklearn.model_selection import cross_val_score\n",
    "from sklearn.model_selection import GridSearchCV\n",
    "from sklearn.preprocessing import MinMaxScaler\n",
    "\n",
    "from scipy import stats\n",
    "from sklearn import tree\n",
    "from sklearn.ensemble import GradientBoostingClassifier\n",
    "from sklearn.neighbors import KNeighborsClassifier\n",
    "from sklearn.linear_model import LogisticRegression\n",
    "from sklearn.naive_bayes import MultinomialNB,BernoulliNB\n",
    "from sklearn.ensemble import RandomForestClassifier\n",
    "from sklearn import tree\n",
    "from sklearn import svm\n",
    "import seaborn as sb\n",
    "from imblearn.under_sampling import RandomUnderSampler\n",
    "from imblearn.over_sampling import SMOTE"
   ]
  },
  {
   "cell_type": "code",
   "execution_count": 2,
   "metadata": {},
   "outputs": [
    {
     "name": "stdout",
     "output_type": "stream",
     "text": [
      "   ILMN_1655864  ILMN_1657898  ILMN_1687526  ILMN_1725707  ILMN_1763364  \\\n",
      "0        9.1206        8.9263        9.5725       10.5066       10.6200   \n",
      "1        9.6620        8.6274        9.5859       11.0485       10.6084   \n",
      "2        8.9047        8.3385        9.1329        9.6670        9.5347   \n",
      "3        8.7785        8.2053        8.9398        9.6919        8.7864   \n",
      "4        8.4493        8.2168        8.7135        9.6350        8.7127   \n",
      "\n",
      "   ILMN_1775304  ILMN_1780334  ILMN_1794233  ILMN_1812970  ILMN_1875248  \\\n",
      "0       11.6864        7.8384        8.8507        8.9913        8.2650   \n",
      "1       11.9138        7.9872        8.7934        9.1648        8.7945   \n",
      "2       10.9197        7.8565        8.6468        8.4208        8.5512   \n",
      "3       10.4650        8.0362        8.4454        8.2253        8.4394   \n",
      "4       10.2487        8.1085        8.5345        8.0290        8.4529   \n",
      "\n",
      "   ILMN_2082762  Results  \n",
      "0       11.1457  control  \n",
      "1       11.7188  control  \n",
      "2       10.8772  control  \n",
      "3       10.2786  control  \n",
      "4       10.1435  control  \n"
     ]
    }
   ],
   "source": [
    "df = pd.read_csv(\"../data/selected_M_best11.csv\")\n",
    "df = df.drop_duplicates()\n",
    "print(df.head())"
   ]
  },
  {
   "cell_type": "code",
   "execution_count": 3,
   "metadata": {},
   "outputs": [
    {
     "data": {
      "text/plain": [
       "Index(['ILMN_1655864', 'ILMN_1657898', 'ILMN_1687526', 'ILMN_1725707',\n",
       "       'ILMN_1763364', 'ILMN_1775304', 'ILMN_1780334', 'ILMN_1794233',\n",
       "       'ILMN_1812970', 'ILMN_1875248', 'ILMN_2082762', 'Results'],\n",
       "      dtype='object')"
      ]
     },
     "execution_count": 3,
     "metadata": {},
     "output_type": "execute_result"
    }
   ],
   "source": [
    "df.columns"
   ]
  },
  {
   "cell_type": "code",
   "execution_count": 4,
   "metadata": {},
   "outputs": [],
   "source": [
    "def map_results(inpt):\n",
    "    if inpt == 'control':\n",
    "        return 0;\n",
    "\n",
    "    else:\n",
    "        return 1;"
   ]
  },
  {
   "cell_type": "code",
   "execution_count": 5,
   "metadata": {},
   "outputs": [
    {
     "name": "stdout",
     "output_type": "stream",
     "text": [
      "   ILMN_1655864  ILMN_1657898  ILMN_1687526  ILMN_1725707  ILMN_1763364  \\\n",
      "0        9.1206        8.9263        9.5725       10.5066       10.6200   \n",
      "1        9.6620        8.6274        9.5859       11.0485       10.6084   \n",
      "2        8.9047        8.3385        9.1329        9.6670        9.5347   \n",
      "3        8.7785        8.2053        8.9398        9.6919        8.7864   \n",
      "4        8.4493        8.2168        8.7135        9.6350        8.7127   \n",
      "\n",
      "   ILMN_1775304  ILMN_1780334  ILMN_1794233  ILMN_1812970  ILMN_1875248  \\\n",
      "0       11.6864        7.8384        8.8507        8.9913        8.2650   \n",
      "1       11.9138        7.9872        8.7934        9.1648        8.7945   \n",
      "2       10.9197        7.8565        8.6468        8.4208        8.5512   \n",
      "3       10.4650        8.0362        8.4454        8.2253        8.4394   \n",
      "4       10.2487        8.1085        8.5345        8.0290        8.4529   \n",
      "\n",
      "   ILMN_2082762  Results  \n",
      "0       11.1457        0  \n",
      "1       11.7188        0  \n",
      "2       10.8772        0  \n",
      "3       10.2786        0  \n",
      "4       10.1435        0  \n"
     ]
    }
   ],
   "source": [
    "df['Results'] = df['Results'].apply(map_results)\n",
    "print(df.head())"
   ]
  },
  {
   "cell_type": "code",
   "execution_count": 6,
   "metadata": {},
   "outputs": [
    {
     "data": {
      "text/html": [
       "<div>\n",
       "<style scoped>\n",
       "    .dataframe tbody tr th:only-of-type {\n",
       "        vertical-align: middle;\n",
       "    }\n",
       "\n",
       "    .dataframe tbody tr th {\n",
       "        vertical-align: top;\n",
       "    }\n",
       "\n",
       "    .dataframe thead th {\n",
       "        text-align: right;\n",
       "    }\n",
       "</style>\n",
       "<table border=\"1\" class=\"dataframe\">\n",
       "  <thead>\n",
       "    <tr style=\"text-align: right;\">\n",
       "      <th></th>\n",
       "      <th>ILMN_1655864</th>\n",
       "      <th>ILMN_1657898</th>\n",
       "      <th>ILMN_1687526</th>\n",
       "      <th>ILMN_1725707</th>\n",
       "      <th>ILMN_1763364</th>\n",
       "      <th>ILMN_1775304</th>\n",
       "      <th>ILMN_1780334</th>\n",
       "      <th>ILMN_1794233</th>\n",
       "      <th>ILMN_1812970</th>\n",
       "      <th>ILMN_1875248</th>\n",
       "      <th>ILMN_2082762</th>\n",
       "      <th>Results</th>\n",
       "    </tr>\n",
       "  </thead>\n",
       "  <tbody>\n",
       "    <tr>\n",
       "      <th>count</th>\n",
       "      <td>140.000000</td>\n",
       "      <td>140.000000</td>\n",
       "      <td>140.000000</td>\n",
       "      <td>140.000000</td>\n",
       "      <td>140.000000</td>\n",
       "      <td>140.000000</td>\n",
       "      <td>140.000000</td>\n",
       "      <td>140.000000</td>\n",
       "      <td>140.000000</td>\n",
       "      <td>140.000000</td>\n",
       "      <td>140.000000</td>\n",
       "      <td>140.000000</td>\n",
       "    </tr>\n",
       "    <tr>\n",
       "      <th>mean</th>\n",
       "      <td>8.840350</td>\n",
       "      <td>8.361906</td>\n",
       "      <td>9.035799</td>\n",
       "      <td>10.245039</td>\n",
       "      <td>9.550994</td>\n",
       "      <td>10.817113</td>\n",
       "      <td>8.590240</td>\n",
       "      <td>8.665949</td>\n",
       "      <td>8.365388</td>\n",
       "      <td>8.377289</td>\n",
       "      <td>10.579364</td>\n",
       "      <td>0.707143</td>\n",
       "    </tr>\n",
       "    <tr>\n",
       "      <th>std</th>\n",
       "      <td>0.551345</td>\n",
       "      <td>0.348476</td>\n",
       "      <td>0.539149</td>\n",
       "      <td>0.551783</td>\n",
       "      <td>0.676179</td>\n",
       "      <td>0.880402</td>\n",
       "      <td>0.599733</td>\n",
       "      <td>0.390432</td>\n",
       "      <td>0.479864</td>\n",
       "      <td>0.385426</td>\n",
       "      <td>0.766060</td>\n",
       "      <td>0.456707</td>\n",
       "    </tr>\n",
       "    <tr>\n",
       "      <th>min</th>\n",
       "      <td>7.867800</td>\n",
       "      <td>7.708100</td>\n",
       "      <td>8.050000</td>\n",
       "      <td>8.478500</td>\n",
       "      <td>8.400000</td>\n",
       "      <td>8.496600</td>\n",
       "      <td>7.778300</td>\n",
       "      <td>8.013300</td>\n",
       "      <td>7.618600</td>\n",
       "      <td>7.758800</td>\n",
       "      <td>8.692200</td>\n",
       "      <td>0.000000</td>\n",
       "    </tr>\n",
       "    <tr>\n",
       "      <th>25%</th>\n",
       "      <td>8.413500</td>\n",
       "      <td>8.128750</td>\n",
       "      <td>8.630825</td>\n",
       "      <td>9.764450</td>\n",
       "      <td>9.029625</td>\n",
       "      <td>10.226825</td>\n",
       "      <td>8.044450</td>\n",
       "      <td>8.394500</td>\n",
       "      <td>8.018450</td>\n",
       "      <td>8.110900</td>\n",
       "      <td>10.006300</td>\n",
       "      <td>0.000000</td>\n",
       "    </tr>\n",
       "    <tr>\n",
       "      <th>50%</th>\n",
       "      <td>8.688850</td>\n",
       "      <td>8.254400</td>\n",
       "      <td>8.895850</td>\n",
       "      <td>10.291350</td>\n",
       "      <td>9.477850</td>\n",
       "      <td>10.762350</td>\n",
       "      <td>8.428450</td>\n",
       "      <td>8.539800</td>\n",
       "      <td>8.155100</td>\n",
       "      <td>8.260100</td>\n",
       "      <td>10.407700</td>\n",
       "      <td>1.000000</td>\n",
       "    </tr>\n",
       "    <tr>\n",
       "      <th>75%</th>\n",
       "      <td>9.193275</td>\n",
       "      <td>8.539750</td>\n",
       "      <td>9.337525</td>\n",
       "      <td>10.689675</td>\n",
       "      <td>10.091750</td>\n",
       "      <td>11.431350</td>\n",
       "      <td>9.092550</td>\n",
       "      <td>8.840075</td>\n",
       "      <td>8.649025</td>\n",
       "      <td>8.596925</td>\n",
       "      <td>11.145700</td>\n",
       "      <td>1.000000</td>\n",
       "    </tr>\n",
       "    <tr>\n",
       "      <th>max</th>\n",
       "      <td>10.372400</td>\n",
       "      <td>9.626600</td>\n",
       "      <td>10.546200</td>\n",
       "      <td>11.875000</td>\n",
       "      <td>11.213100</td>\n",
       "      <td>12.968600</td>\n",
       "      <td>10.091500</td>\n",
       "      <td>9.946000</td>\n",
       "      <td>9.860400</td>\n",
       "      <td>9.530000</td>\n",
       "      <td>12.434900</td>\n",
       "      <td>1.000000</td>\n",
       "    </tr>\n",
       "  </tbody>\n",
       "</table>\n",
       "</div>"
      ],
      "text/plain": [
       "       ILMN_1655864  ILMN_1657898  ILMN_1687526  ILMN_1725707  ILMN_1763364  \\\n",
       "count    140.000000    140.000000    140.000000    140.000000    140.000000   \n",
       "mean       8.840350      8.361906      9.035799     10.245039      9.550994   \n",
       "std        0.551345      0.348476      0.539149      0.551783      0.676179   \n",
       "min        7.867800      7.708100      8.050000      8.478500      8.400000   \n",
       "25%        8.413500      8.128750      8.630825      9.764450      9.029625   \n",
       "50%        8.688850      8.254400      8.895850     10.291350      9.477850   \n",
       "75%        9.193275      8.539750      9.337525     10.689675     10.091750   \n",
       "max       10.372400      9.626600     10.546200     11.875000     11.213100   \n",
       "\n",
       "       ILMN_1775304  ILMN_1780334  ILMN_1794233  ILMN_1812970  ILMN_1875248  \\\n",
       "count    140.000000    140.000000    140.000000    140.000000    140.000000   \n",
       "mean      10.817113      8.590240      8.665949      8.365388      8.377289   \n",
       "std        0.880402      0.599733      0.390432      0.479864      0.385426   \n",
       "min        8.496600      7.778300      8.013300      7.618600      7.758800   \n",
       "25%       10.226825      8.044450      8.394500      8.018450      8.110900   \n",
       "50%       10.762350      8.428450      8.539800      8.155100      8.260100   \n",
       "75%       11.431350      9.092550      8.840075      8.649025      8.596925   \n",
       "max       12.968600     10.091500      9.946000      9.860400      9.530000   \n",
       "\n",
       "       ILMN_2082762     Results  \n",
       "count    140.000000  140.000000  \n",
       "mean      10.579364    0.707143  \n",
       "std        0.766060    0.456707  \n",
       "min        8.692200    0.000000  \n",
       "25%       10.006300    0.000000  \n",
       "50%       10.407700    1.000000  \n",
       "75%       11.145700    1.000000  \n",
       "max       12.434900    1.000000  "
      ]
     },
     "execution_count": 6,
     "metadata": {},
     "output_type": "execute_result"
    }
   ],
   "source": [
    "\n",
    "df.describe()"
   ]
  },
  {
   "cell_type": "code",
   "execution_count": 7,
   "metadata": {},
   "outputs": [
    {
     "name": "stdout",
     "output_type": "stream",
     "text": [
      "['ILMN_1655864', 'ILMN_1657898', 'ILMN_1687526', 'ILMN_1725707', 'ILMN_1763364', 'ILMN_1775304', 'ILMN_1780334', 'ILMN_1794233', 'ILMN_1812970', 'ILMN_1875248', 'ILMN_2082762', 'Results']\n",
      "12\n"
     ]
    }
   ],
   "source": [
    "df_features = list(df.columns)\n",
    "print(df_features)\n",
    "print(len(df.columns))"
   ]
  },
  {
   "cell_type": "code",
   "execution_count": 8,
   "metadata": {},
   "outputs": [
    {
     "data": {
      "image/png": "[encoded data removed]",
      "text/plain": [
       "<Figure size 2000x2000 with 16 Axes>"
      ]
     },
     "metadata": {},
     "output_type": "display_data"
    }
   ],
   "source": [
    "fig, axes = plt.subplots(4,4, figsize=(20,20))\n",
    "x_,y_ = 0,0\n",
    "for i, column in enumerate(df.columns[0:]):    \n",
    "    sb.boxplot(x=df[column], ax=axes[x_,y_], palette=\"Set2\")\n",
    "    if i < 3:\n",
    "        y_ += 1\n",
    "    elif i == 3: \n",
    "        x_ = 1\n",
    "        y_ = 0\n",
    "    elif i == 7:\n",
    "        x_ = 2\n",
    "        y_ = 0\n",
    "\n",
    "    elif i == 11:\n",
    "        x_ = 3\n",
    "        y_ = 0\n",
    "    \n",
    "    else:\n",
    "        y_ += 1"
   ]
  },
  {
   "cell_type": "code",
   "execution_count": 9,
   "metadata": {},
   "outputs": [
    {
     "name": "stdout",
     "output_type": "stream",
     "text": [
      "Index(['ILMN_1655864', 'ILMN_1657898', 'ILMN_1687526', 'ILMN_1725707',\n",
      "       'ILMN_1763364', 'ILMN_1775304', 'ILMN_1780334', 'ILMN_1794233',\n",
      "       'ILMN_1812970', 'ILMN_1875248', 'ILMN_2082762', 'Results'],\n",
      "      dtype='object')\n",
      "   ILMN_1655864  ILMN_1657898  ILMN_1687526  ILMN_1725707  ILMN_1763364  \\\n",
      "0      0.500200      0.634975      0.609927      0.597115      0.789165   \n",
      "1      0.716362      0.479176      0.615295      0.756661      0.785041   \n",
      "2      0.413998      0.328590      0.433819      0.349919      0.403363   \n",
      "3      0.363611      0.259161      0.356462      0.357250      0.137357   \n",
      "4      0.232173      0.265155      0.265804      0.340498      0.111159   \n",
      "\n",
      "   ILMN_1775304  ILMN_1780334  ILMN_1794233  ILMN_1812970  ILMN_1875248  \\\n",
      "0      0.713283      0.025981      0.433280      0.612320      0.285795   \n",
      "1      0.764132      0.090308      0.403632      0.689714      0.584745   \n",
      "2      0.541838      0.033806      0.327780      0.357837      0.447380   \n",
      "3      0.440161      0.111491      0.223573      0.270631      0.384259   \n",
      "4      0.391793      0.142746      0.269675      0.183067      0.391881   \n",
      "\n",
      "   ILMN_2082762  Results  \n",
      "0      0.655543      0.0  \n",
      "1      0.808668      0.0  \n",
      "2      0.583803      0.0  \n",
      "3      0.423865      0.0  \n",
      "4      0.387768      0.0  \n"
     ]
    }
   ],
   "source": [
    "cols = df.columns\n",
    "print(cols)\n",
    "scaler = MinMaxScaler()\n",
    "dat = scaler.fit_transform(df)\n",
    "df_02 = pd.DataFrame(data=dat, columns=cols)  \n",
    "print(df_02.head())"
   ]
  },
  {
   "cell_type": "code",
   "execution_count": 10,
   "metadata": {},
   "outputs": [
    {
     "name": "stdout",
     "output_type": "stream",
     "text": [
      "1    99\n",
      "0    41\n",
      "Name: Results, dtype: int64\n"
     ]
    }
   ],
   "source": [
    "x = df_02.drop([\"Results\"], axis =1);\n",
    "y = df[\"Results\"]\n",
    "print(y.value_counts())"
   ]
  },
  {
   "cell_type": "code",
   "execution_count": 11,
   "metadata": {},
   "outputs": [
    {
     "data": {
      "text/plain": [
       "(array([41.,  0.,  0.,  0.,  0.,  0.,  0.,  0.,  0., 99.]),\n",
       " array([0. , 0.1, 0.2, 0.3, 0.4, 0.5, 0.6, 0.7, 0.8, 0.9, 1. ]),\n",
       " <BarContainer object of 10 artists>)"
      ]
     },
     "execution_count": 11,
     "metadata": {},
     "output_type": "execute_result"
    },
    {
     "data": {
      "image/png": "[encoded data removed]",
      "text/plain": [
       "<Figure size 640x480 with 1 Axes>"
      ]
     },
     "metadata": {},
     "output_type": "display_data"
    }
   ],
   "source": [
    "plt.hist(y)"
   ]
  },
  {
   "cell_type": "code",
   "execution_count": 12,
   "metadata": {},
   "outputs": [
    {
     "name": "stdout",
     "output_type": "stream",
     "text": [
      "1    58\n",
      "0    41\n",
      "Name: Results, dtype: int64\n"
     ]
    },
    {
     "data": {
      "text/plain": [
       "(array([41.,  0.,  0.,  0.,  0.,  0.,  0.,  0.,  0., 58.]),\n",
       " array([0. , 0.1, 0.2, 0.3, 0.4, 0.5, 0.6, 0.7, 0.8, 0.9, 1. ]),\n",
       " <BarContainer object of 10 artists>)"
      ]
     },
     "execution_count": 12,
     "metadata": {},
     "output_type": "execute_result"
    },
    {
     "data": {
      "image/png": "[encoded data removed]",
      "text/plain": [
       "<Figure size 640x480 with 1 Axes>"
      ]
     },
     "metadata": {},
     "output_type": "display_data"
    }
   ],
   "source": [
    "# transform the dataset\n",
    "under = RandomUnderSampler(sampling_strategy= 0.7)\n",
    "X, Y = under.fit_resample(x, y)\n",
    "print(Y.value_counts())\n",
    "plt.hist(Y)"
   ]
  },
  {
   "cell_type": "code",
   "execution_count": 13,
   "metadata": {},
   "outputs": [
    {
     "name": "stdout",
     "output_type": "stream",
     "text": [
      "0    58\n",
      "1    58\n",
      "Name: Results, dtype: int64\n"
     ]
    },
    {
     "data": {
      "text/plain": [
       "(array([58.,  0.,  0.,  0.,  0.,  0.,  0.,  0.,  0., 58.]),\n",
       " array([0. , 0.1, 0.2, 0.3, 0.4, 0.5, 0.6, 0.7, 0.8, 0.9, 1. ]),\n",
       " <BarContainer object of 10 artists>)"
      ]
     },
     "execution_count": 13,
     "metadata": {},
     "output_type": "execute_result"
    },
    {
     "data": {
      "image/png": "[encoded data removed]",
      "text/plain": [
       "<Figure size 640x480 with 1 Axes>"
      ]
     },
     "metadata": {},
     "output_type": "display_data"
    }
   ],
   "source": [
    "smt = SMOTE()\n",
    "X, Y = smt.fit_resample(X,Y)\n",
    "print(Y.value_counts())\n",
    "plt.hist(Y)"
   ]
  },
  {
   "cell_type": "code",
   "execution_count": 14,
   "metadata": {},
   "outputs": [
    {
     "name": "stdout",
     "output_type": "stream",
     "text": [
      "CV value :  2\n",
      "Parameters :  {}\n",
      "Accuracy :  89.655\n",
      "Standed deviation :  1.724\n",
      "CV value :  3\n",
      "Parameters :  {}\n",
      "Accuracy :  88.821\n",
      "Standed deviation :  2.322\n",
      "CV value :  4\n",
      "Parameters :  {}\n",
      "Accuracy :  89.655\n",
      "Standed deviation :  5.973\n",
      "CV value :  5\n",
      "Parameters :  {}\n",
      "Accuracy :  89.674\n",
      "Standed deviation :  5.167\n"
     ]
    }
   ],
   "source": [
    "# creating a decision tree classifier\n",
    "dt_model = tree.DecisionTreeClassifier()\n",
    "param_grid_dt = {\n",
    "     \n",
    "}\n",
    "cv_array = [2,3,4,5]\n",
    "for cv in cv_array:\n",
    "    gridSearchRF = GridSearchCV(estimator=dt_model, param_grid=param_grid_dt, scoring='accuracy', n_jobs=-1, cv=cv)\n",
    "    gridSearchRF.fit(X, Y)\n",
    "    print(\"CV value : \", cv)\n",
    "    print(\"Parameters : \", gridSearchRF.best_params_)\n",
    "    print(\"Accuracy :  %0.3f\" % (gridSearchRF.best_score_*100))\n",
    "    print(\"Standed deviation :  %0.3f\" % (gridSearchRF.cv_results_['std_test_score'][gridSearchRF.best_index_]*100))"
   ]
  },
  {
   "cell_type": "code",
   "execution_count": 15,
   "metadata": {},
   "outputs": [
    {
     "name": "stdout",
     "output_type": "stream",
     "text": [
      "CV value :  2\n",
      "Parameters :  {'random_state': 0}\n",
      "Accuracy :  84.483\n",
      "Standed deviation :  3.448\n",
      "CV value :  3\n",
      "Parameters :  {'random_state': 20}\n",
      "Accuracy :  90.553\n",
      "Standed deviation :  3.138\n",
      "CV value :  4\n",
      "Parameters :  {'random_state': 0}\n",
      "Accuracy :  91.379\n",
      "Standed deviation :  6.216\n",
      "CV value :  5\n",
      "Parameters :  {'random_state': 10}\n",
      "Accuracy :  91.413\n",
      "Standed deviation :  6.075\n"
     ]
    }
   ],
   "source": [
    "# creating a Gradient boosting classifier\n",
    "gb_model = GradientBoostingClassifier()\n",
    "param_grid_gb = {\n",
    "     'random_state': [0, 1, 2,3,4,5 , 10, 20, 30, 40, 50]\n",
    "}\n",
    "for cv in cv_array:\n",
    "     gridSearchRF = GridSearchCV(estimator=gb_model, param_grid=param_grid_gb, scoring='accuracy', n_jobs=-1, cv=cv)\n",
    "     gridSearchRF.fit(X, Y)\n",
    "     print(\"CV value : \", cv)\n",
    "     print(\"Parameters : \", gridSearchRF.best_params_)\n",
    "     print(\"Accuracy :  %0.3f\" % (gridSearchRF.best_score_*100))\n",
    "     print(\"Standed deviation :  %0.3f\" % (gridSearchRF.cv_results_['std_test_score'][gridSearchRF.best_index_]*100))"
   ]
  },
  {
   "cell_type": "code",
   "execution_count": 16,
   "metadata": {},
   "outputs": [
    {
     "name": "stdout",
     "output_type": "stream",
     "text": [
      "CV value :  2\n",
      "Parameters :  {'n_neighbors': 7}\n",
      "Accuracy :  91.379\n",
      "Standed deviation :  3.448\n",
      "CV value :  3\n",
      "Parameters :  {'n_neighbors': 3}\n",
      "Accuracy :  93.927\n",
      "Standed deviation :  3.318\n",
      "CV value :  4\n",
      "Parameters :  {'n_neighbors': 3}\n",
      "Accuracy :  92.241\n",
      "Standed deviation :  5.653\n",
      "CV value :  5\n",
      "Parameters :  {'n_neighbors': 3}\n",
      "Accuracy :  93.080\n",
      "Standed deviation :  5.236\n"
     ]
    }
   ],
   "source": [
    "# creating a KNN classifier\n",
    "KNN_model =KNeighborsClassifier()\n",
    "param_grid_knn = {\n",
    "     'n_neighbors': [3, 5, 7, 11, 13, 17]\n",
    "}\n",
    "for cv in cv_array:\n",
    "     gridSearchRF = GridSearchCV(estimator=KNN_model, param_grid=param_grid_knn, scoring='accuracy', n_jobs=-1, cv=cv)\n",
    "     gridSearchRF.fit(X, Y)\n",
    "     print(\"CV value : \", cv)\n",
    "     print(\"Parameters : \", gridSearchRF.best_params_)\n",
    "     print(\"Accuracy :  %0.3f\" % (gridSearchRF.best_score_*100))\n",
    "     print(\"Standed deviation :  %0.3f\" % (gridSearchRF.cv_results_['std_test_score'][gridSearchRF.best_index_]*100))"
   ]
  },
  {
   "cell_type": "code",
   "execution_count": 17,
   "metadata": {},
   "outputs": [
    {
     "name": "stdout",
     "output_type": "stream",
     "text": [
      "CV value :  2\n",
      "Parameters :  {'max_iter': 100}\n",
      "Accuracy :  89.655\n",
      "Standed deviation :  1.724\n",
      "CV value :  3\n",
      "Parameters :  {'max_iter': 100}\n",
      "Accuracy :  89.654\n",
      "Standed deviation :  0.127\n",
      "CV value :  4\n",
      "Parameters :  {'max_iter': 100}\n",
      "Accuracy :  89.655\n",
      "Standed deviation :  6.451\n",
      "CV value :  5\n",
      "Parameters :  {'max_iter': 100}\n",
      "Accuracy :  90.543\n",
      "Standed deviation :  5.000\n"
     ]
    }
   ],
   "source": [
    "# creating a Lgistic regression classifier\n",
    "lr_model = LogisticRegression() \n",
    "\n",
    "param_grid_lr = {\n",
    "     'max_iter': [100, 200, 300, 400, 500]\n",
    "}\n",
    "for cv in cv_array:\n",
    "     gridSearchRF = GridSearchCV(estimator=lr_model, param_grid=param_grid_lr, scoring='accuracy', n_jobs=-1, cv=cv)\n",
    "     gridSearchRF.fit(X, Y)\n",
    "     print(\"CV value : \", cv)\n",
    "     print(\"Parameters : \", gridSearchRF.best_params_)\n",
    "     print(\"Accuracy :  %0.3f\" % (gridSearchRF.best_score_*100))\n",
    "     print(\"Standed deviation :  %0.3f\" % (gridSearchRF.cv_results_['std_test_score'][gridSearchRF.best_index_]*100))\n"
   ]
  },
  {
   "cell_type": "code",
   "execution_count": 18,
   "metadata": {},
   "outputs": [
    {
     "name": "stdout",
     "output_type": "stream",
     "text": [
      "CV value :  2\n",
      "Parameters :  {}\n",
      "Accuracy :  89.655\n",
      "Standed deviation :  1.724\n",
      "CV value :  3\n",
      "Parameters :  {}\n",
      "Accuracy :  89.654\n",
      "Standed deviation :  0.127\n",
      "CV value :  4\n",
      "Parameters :  {}\n",
      "Accuracy :  89.655\n",
      "Standed deviation :  6.451\n",
      "CV value :  5\n",
      "Parameters :  {}\n",
      "Accuracy :  89.601\n",
      "Standed deviation :  6.541\n"
     ]
    }
   ],
   "source": [
    "# creating a Nave Bayers classifier\n",
    "nb_model = MultinomialNB()\n",
    "param_grid_nb = {\n",
    "\n",
    "}\n",
    "for cv in cv_array:\n",
    "    gridSearchRF = GridSearchCV(estimator=nb_model, param_grid=param_grid_nb, scoring='accuracy', n_jobs=-1, cv=cv)\n",
    "    gridSearchRF.fit(X, Y)\n",
    "    print(\"CV value : \", cv)\n",
    "    print(\"Parameters : \", gridSearchRF.best_params_)\n",
    "    print(\"Accuracy :  %0.3f\" % (gridSearchRF.best_score_*100))\n",
    "    print(\"Standed deviation :  %0.3f\" % (gridSearchRF.cv_results_['std_test_score'][gridSearchRF.best_index_]*100))\n"
   ]
  },
  {
   "cell_type": "code",
   "execution_count": 19,
   "metadata": {},
   "outputs": [
    {
     "name": "stdout",
     "output_type": "stream",
     "text": [
      "CV value :  2\n",
      "Parameters :  {'kernel': 'linear'}\n",
      "Accuracy :  91.379\n",
      "Standed deviation :  3.448\n",
      "CV value :  3\n",
      "Parameters :  {'kernel': 'rbf'}\n",
      "Accuracy :  92.218\n",
      "Standed deviation :  2.205\n",
      "CV value :  4\n",
      "Parameters :  {'kernel': 'linear'}\n",
      "Accuracy :  91.379\n",
      "Standed deviation :  7.109\n",
      "CV value :  5\n",
      "Parameters :  {'kernel': 'rbf'}\n",
      "Accuracy :  93.116\n",
      "Standed deviation :  3.445\n"
     ]
    }
   ],
   "source": [
    "# creating a SVM classifier\n",
    "svm_model = svm.SVC()\n",
    "param_grid_svm = {\n",
    "     'kernel': ['linear', 'poly', 'rbf', 'sigmoid']\n",
    "}\n",
    "\n",
    "for cv in cv_array:\n",
    "     gridSearchRF = GridSearchCV(estimator=svm_model, param_grid=param_grid_svm, scoring='accuracy', n_jobs=-1, cv=cv)\n",
    "     gridSearchRF.fit(X, Y)\n",
    "     print(\"CV value : \", cv)\n",
    "     print(\"Parameters : \", gridSearchRF.best_params_)\n",
    "     print(\"Accuracy :  %0.3f\" % (gridSearchRF.best_score_*100))\n",
    "     print(\"Standed deviation :  %0.3f\" % (gridSearchRF.cv_results_['std_test_score'][gridSearchRF.best_index_]*100))\n"
   ]
  },
  {
   "cell_type": "code",
   "execution_count": 20,
   "metadata": {},
   "outputs": [
    {
     "name": "stdout",
     "output_type": "stream",
     "text": [
      "CV value :  2\n",
      "Parameters :  {'max_depth': 110, 'max_features': 3, 'n_estimators': 300}\n",
      "Accuracy :  92.241\n",
      "Standed deviation :  0.862\n",
      "CV value :  3\n",
      "Parameters :  {'max_depth': 90, 'max_features': 2, 'n_estimators': 100}\n",
      "Accuracy :  93.972\n",
      "Standed deviation :  1.178\n",
      "CV value :  4\n",
      "Parameters :  {'max_depth': 150, 'max_features': 3, 'n_estimators': 200}\n",
      "Accuracy :  93.103\n",
      "Standed deviation :  6.451\n",
      "CV value :  5\n",
      "Parameters :  {'max_depth': 80, 'max_features': 2, 'n_estimators': 200}\n",
      "Accuracy :  93.986\n",
      "Standed deviation :  4.393\n"
     ]
    }
   ],
   "source": [
    "# creating a Random forest classifier\n",
    "rf = RandomForestClassifier()\n",
    "param_grid_rf = {\n",
    "     'max_depth': [80, 90, 100, 110, 150, 200, 300],\n",
    "     'max_features': [2, 3, 4, 5,6],\n",
    "     'n_estimators': [100, 200, 300]\n",
    "}\n",
    "\n",
    "for cv in cv_array:\n",
    "     gridSearchRF = GridSearchCV(estimator=rf, param_grid=param_grid_rf, scoring='accuracy', n_jobs=-1, cv=cv)\n",
    "     gridSearchRF.fit(X, Y)\n",
    "     print(\"CV value : \", cv)\n",
    "     print(\"Parameters : \", gridSearchRF.best_params_)\n",
    "     print(\"Accuracy :  %0.3f\" % (gridSearchRF.best_score_*100))\n",
    "     print(\"Standed deviation :  %0.3f\" % (gridSearchRF.cv_results_['std_test_score'][gridSearchRF.best_index_]*100))"
   ]
  }
 ],
 "metadata": {
  "kernelspec": {
   "display_name": "Python 3.9.13 ('base')",
   "language": "python",
   "name": "python3"
  },
  "language_info": {
   "codemirror_mode": {
    "name": "ipython",
    "version": 3
   },
   "file_extension": ".py",
   "mimetype": "text/x-python",
   "name": "python",
   "nbconvert_exporter": "python",
   "pygments_lexer": "ipython3",
   "version": "3.11.3"
  },
  "orig_nbformat": 4,
  "vscode": {
   "interpreter": {
    "hash": "dd78fe5a17d57d1a86104509f6d28e1e730005acb4374104044dd451171eb7b3"
   }
  }
 },
 "nbformat": 4,
 "nbformat_minor": 2
}
