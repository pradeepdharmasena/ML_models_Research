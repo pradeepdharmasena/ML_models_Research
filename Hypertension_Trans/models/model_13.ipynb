{
 "cells": [
  {
   "cell_type": "code",
   "execution_count": 1,
   "metadata": {},
   "outputs": [],
   "source": [
    "import numpy as np;\n",
    "import pandas as pd;\n",
    "import matplotlib.pyplot as plt\n",
    "import sklearn.metrics as sm\n",
    "from sklearn.preprocessing import LabelEncoder\n",
    "from sklearn.model_selection import cross_val_score\n",
    "from sklearn.model_selection import GridSearchCV\n",
    "from sklearn.preprocessing import MinMaxScaler\n",
    "\n",
    "from scipy import stats\n",
    "from sklearn import tree\n",
    "from sklearn.ensemble import GradientBoostingClassifier\n",
    "from sklearn.neighbors import KNeighborsClassifier\n",
    "from sklearn.linear_model import LogisticRegression\n",
    "from sklearn.naive_bayes import MultinomialNB,BernoulliNB\n",
    "from sklearn.ensemble import RandomForestClassifier\n",
    "from sklearn import tree\n",
    "from sklearn import svm\n",
    "import seaborn as sb\n",
    "from imblearn.under_sampling import RandomUnderSampler\n",
    "from imblearn.over_sampling import SMOTE"
   ]
  },
  {
   "cell_type": "code",
   "execution_count": 2,
   "metadata": {},
   "outputs": [
    {
     "name": "stdout",
     "output_type": "stream",
     "text": [
      "   ILMN_1654609  ILMN_1657898  ILMN_1667500  ILMN_1671005  ILMN_1680347  \\\n",
      "0       13.1600        8.9263        8.4448       11.4310       10.9665   \n",
      "1       13.6183        8.6274        8.3387       12.1278       10.6635   \n",
      "2       12.5893        8.3385        8.0199       10.5202        9.4681   \n",
      "3       12.4219        8.2053        8.0968       10.2085        9.7403   \n",
      "4       12.0954        8.2168        8.1602       10.1140        9.4992   \n",
      "\n",
      "   ILMN_1717229  ILMN_1755911  ILMN_1767168  ILMN_1794233  ILMN_1803561  \\\n",
      "0        9.7426        8.5827        9.1624        8.8507        8.3141   \n",
      "1       10.0959        8.5797        9.1364        8.7934        8.3158   \n",
      "2        8.7295        8.5216        9.0568        8.6468        8.3195   \n",
      "3        8.7190        8.5182        8.7428        8.4454        8.2468   \n",
      "4        8.7705        8.4635        8.6005        8.5345        8.3591   \n",
      "\n",
      "   ILMN_1812970  ILMN_2159384  ILMN_2165762  Results  \n",
      "0        8.9913        9.7306        9.8590  control  \n",
      "1        9.1648        9.8929        9.8296  control  \n",
      "2        8.4208        8.9173        9.3954  control  \n",
      "3        8.2253        8.8102        9.2812  control  \n",
      "4        8.0290        8.7016        8.9593  control  \n"
     ]
    }
   ],
   "source": [
    "df = pd.read_csv(\"../data/selected_M_best13.csv\")\n",
    "df = df.drop_duplicates()\n",
    "print(df.head())"
   ]
  },
  {
   "cell_type": "code",
   "execution_count": 3,
   "metadata": {},
   "outputs": [
    {
     "data": {
      "text/plain": [
       "Index(['ILMN_1654609', 'ILMN_1657898', 'ILMN_1667500', 'ILMN_1671005',\n",
       "       'ILMN_1680347', 'ILMN_1717229', 'ILMN_1755911', 'ILMN_1767168',\n",
       "       'ILMN_1794233', 'ILMN_1803561', 'ILMN_1812970', 'ILMN_2159384',\n",
       "       'ILMN_2165762', 'Results'],\n",
       "      dtype='object')"
      ]
     },
     "execution_count": 3,
     "metadata": {},
     "output_type": "execute_result"
    }
   ],
   "source": [
    "df.columns"
   ]
  },
  {
   "cell_type": "code",
   "execution_count": 4,
   "metadata": {},
   "outputs": [],
   "source": [
    "def map_results(inpt):\n",
    "    if inpt == 'control':\n",
    "        return 0;\n",
    "\n",
    "    else:\n",
    "        return 1;"
   ]
  },
  {
   "cell_type": "code",
   "execution_count": 5,
   "metadata": {},
   "outputs": [
    {
     "name": "stdout",
     "output_type": "stream",
     "text": [
      "   ILMN_1654609  ILMN_1657898  ILMN_1667500  ILMN_1671005  ILMN_1680347  \\\n",
      "0       13.1600        8.9263        8.4448       11.4310       10.9665   \n",
      "1       13.6183        8.6274        8.3387       12.1278       10.6635   \n",
      "2       12.5893        8.3385        8.0199       10.5202        9.4681   \n",
      "3       12.4219        8.2053        8.0968       10.2085        9.7403   \n",
      "4       12.0954        8.2168        8.1602       10.1140        9.4992   \n",
      "\n",
      "   ILMN_1717229  ILMN_1755911  ILMN_1767168  ILMN_1794233  ILMN_1803561  \\\n",
      "0        9.7426        8.5827        9.1624        8.8507        8.3141   \n",
      "1       10.0959        8.5797        9.1364        8.7934        8.3158   \n",
      "2        8.7295        8.5216        9.0568        8.6468        8.3195   \n",
      "3        8.7190        8.5182        8.7428        8.4454        8.2468   \n",
      "4        8.7705        8.4635        8.6005        8.5345        8.3591   \n",
      "\n",
      "   ILMN_1812970  ILMN_2159384  ILMN_2165762  Results  \n",
      "0        8.9913        9.7306        9.8590        0  \n",
      "1        9.1648        9.8929        9.8296        0  \n",
      "2        8.4208        8.9173        9.3954        0  \n",
      "3        8.2253        8.8102        9.2812        0  \n",
      "4        8.0290        8.7016        8.9593        0  \n"
     ]
    }
   ],
   "source": [
    "df['Results'] = df['Results'].apply(map_results)\n",
    "print(df.head())"
   ]
  },
  {
   "cell_type": "code",
   "execution_count": 6,
   "metadata": {},
   "outputs": [
    {
     "data": {
      "text/html": [
       "<div>\n",
       "<style scoped>\n",
       "    .dataframe tbody tr th:only-of-type {\n",
       "        vertical-align: middle;\n",
       "    }\n",
       "\n",
       "    .dataframe tbody tr th {\n",
       "        vertical-align: top;\n",
       "    }\n",
       "\n",
       "    .dataframe thead th {\n",
       "        text-align: right;\n",
       "    }\n",
       "</style>\n",
       "<table border=\"1\" class=\"dataframe\">\n",
       "  <thead>\n",
       "    <tr style=\"text-align: right;\">\n",
       "      <th></th>\n",
       "      <th>ILMN_1654609</th>\n",
       "      <th>ILMN_1657898</th>\n",
       "      <th>ILMN_1667500</th>\n",
       "      <th>ILMN_1671005</th>\n",
       "      <th>ILMN_1680347</th>\n",
       "      <th>ILMN_1717229</th>\n",
       "      <th>ILMN_1755911</th>\n",
       "      <th>ILMN_1767168</th>\n",
       "      <th>ILMN_1794233</th>\n",
       "      <th>ILMN_1803561</th>\n",
       "      <th>ILMN_1812970</th>\n",
       "      <th>ILMN_2159384</th>\n",
       "      <th>ILMN_2165762</th>\n",
       "      <th>Results</th>\n",
       "    </tr>\n",
       "  </thead>\n",
       "  <tbody>\n",
       "    <tr>\n",
       "      <th>count</th>\n",
       "      <td>140.000000</td>\n",
       "      <td>140.000000</td>\n",
       "      <td>140.000000</td>\n",
       "      <td>140.000000</td>\n",
       "      <td>140.000000</td>\n",
       "      <td>140.000000</td>\n",
       "      <td>140.000000</td>\n",
       "      <td>140.000000</td>\n",
       "      <td>140.000000</td>\n",
       "      <td>140.000000</td>\n",
       "      <td>140.000000</td>\n",
       "      <td>140.000000</td>\n",
       "      <td>140.000000</td>\n",
       "      <td>140.000000</td>\n",
       "    </tr>\n",
       "    <tr>\n",
       "      <th>mean</th>\n",
       "      <td>12.634358</td>\n",
       "      <td>8.361906</td>\n",
       "      <td>8.240606</td>\n",
       "      <td>10.812333</td>\n",
       "      <td>10.141674</td>\n",
       "      <td>9.402969</td>\n",
       "      <td>8.560636</td>\n",
       "      <td>8.630438</td>\n",
       "      <td>8.665949</td>\n",
       "      <td>8.531041</td>\n",
       "      <td>8.365388</td>\n",
       "      <td>9.127508</td>\n",
       "      <td>9.288769</td>\n",
       "      <td>0.707143</td>\n",
       "    </tr>\n",
       "    <tr>\n",
       "      <th>std</th>\n",
       "      <td>0.787855</td>\n",
       "      <td>0.348476</td>\n",
       "      <td>0.238972</td>\n",
       "      <td>0.782629</td>\n",
       "      <td>0.618837</td>\n",
       "      <td>0.616764</td>\n",
       "      <td>0.269350</td>\n",
       "      <td>0.347360</td>\n",
       "      <td>0.390432</td>\n",
       "      <td>0.282366</td>\n",
       "      <td>0.479864</td>\n",
       "      <td>0.610215</td>\n",
       "      <td>0.504955</td>\n",
       "      <td>0.456707</td>\n",
       "    </tr>\n",
       "    <tr>\n",
       "      <th>min</th>\n",
       "      <td>9.570600</td>\n",
       "      <td>7.708100</td>\n",
       "      <td>7.830800</td>\n",
       "      <td>8.556300</td>\n",
       "      <td>8.136300</td>\n",
       "      <td>7.841600</td>\n",
       "      <td>8.008300</td>\n",
       "      <td>7.950500</td>\n",
       "      <td>8.013300</td>\n",
       "      <td>8.059700</td>\n",
       "      <td>7.618600</td>\n",
       "      <td>7.852400</td>\n",
       "      <td>8.262500</td>\n",
       "      <td>0.000000</td>\n",
       "    </tr>\n",
       "    <tr>\n",
       "      <th>25%</th>\n",
       "      <td>12.086050</td>\n",
       "      <td>8.128750</td>\n",
       "      <td>8.088375</td>\n",
       "      <td>10.215175</td>\n",
       "      <td>9.633800</td>\n",
       "      <td>8.875400</td>\n",
       "      <td>8.386200</td>\n",
       "      <td>8.374525</td>\n",
       "      <td>8.394500</td>\n",
       "      <td>8.316700</td>\n",
       "      <td>8.018450</td>\n",
       "      <td>8.679300</td>\n",
       "      <td>8.943925</td>\n",
       "      <td>0.000000</td>\n",
       "    </tr>\n",
       "    <tr>\n",
       "      <th>50%</th>\n",
       "      <td>12.694350</td>\n",
       "      <td>8.254400</td>\n",
       "      <td>8.159700</td>\n",
       "      <td>10.779850</td>\n",
       "      <td>10.244050</td>\n",
       "      <td>9.441000</td>\n",
       "      <td>8.531550</td>\n",
       "      <td>8.564100</td>\n",
       "      <td>8.539800</td>\n",
       "      <td>8.482300</td>\n",
       "      <td>8.155100</td>\n",
       "      <td>9.066750</td>\n",
       "      <td>9.220950</td>\n",
       "      <td>1.000000</td>\n",
       "    </tr>\n",
       "    <tr>\n",
       "      <th>75%</th>\n",
       "      <td>13.167725</td>\n",
       "      <td>8.539750</td>\n",
       "      <td>8.339600</td>\n",
       "      <td>11.397900</td>\n",
       "      <td>10.530725</td>\n",
       "      <td>9.823850</td>\n",
       "      <td>8.711575</td>\n",
       "      <td>8.856650</td>\n",
       "      <td>8.840075</td>\n",
       "      <td>8.686850</td>\n",
       "      <td>8.649025</td>\n",
       "      <td>9.559950</td>\n",
       "      <td>9.691450</td>\n",
       "      <td>1.000000</td>\n",
       "    </tr>\n",
       "    <tr>\n",
       "      <th>max</th>\n",
       "      <td>13.997800</td>\n",
       "      <td>9.626600</td>\n",
       "      <td>9.235600</td>\n",
       "      <td>12.475300</td>\n",
       "      <td>11.692400</td>\n",
       "      <td>10.719600</td>\n",
       "      <td>9.290200</td>\n",
       "      <td>9.619000</td>\n",
       "      <td>9.946000</td>\n",
       "      <td>9.387100</td>\n",
       "      <td>9.860400</td>\n",
       "      <td>10.433700</td>\n",
       "      <td>10.547200</td>\n",
       "      <td>1.000000</td>\n",
       "    </tr>\n",
       "  </tbody>\n",
       "</table>\n",
       "</div>"
      ],
      "text/plain": [
       "       ILMN_1654609  ILMN_1657898  ILMN_1667500  ILMN_1671005  ILMN_1680347  \\\n",
       "count    140.000000    140.000000    140.000000    140.000000    140.000000   \n",
       "mean      12.634358      8.361906      8.240606     10.812333     10.141674   \n",
       "std        0.787855      0.348476      0.238972      0.782629      0.618837   \n",
       "min        9.570600      7.708100      7.830800      8.556300      8.136300   \n",
       "25%       12.086050      8.128750      8.088375     10.215175      9.633800   \n",
       "50%       12.694350      8.254400      8.159700     10.779850     10.244050   \n",
       "75%       13.167725      8.539750      8.339600     11.397900     10.530725   \n",
       "max       13.997800      9.626600      9.235600     12.475300     11.692400   \n",
       "\n",
       "       ILMN_1717229  ILMN_1755911  ILMN_1767168  ILMN_1794233  ILMN_1803561  \\\n",
       "count    140.000000    140.000000    140.000000    140.000000    140.000000   \n",
       "mean       9.402969      8.560636      8.630438      8.665949      8.531041   \n",
       "std        0.616764      0.269350      0.347360      0.390432      0.282366   \n",
       "min        7.841600      8.008300      7.950500      8.013300      8.059700   \n",
       "25%        8.875400      8.386200      8.374525      8.394500      8.316700   \n",
       "50%        9.441000      8.531550      8.564100      8.539800      8.482300   \n",
       "75%        9.823850      8.711575      8.856650      8.840075      8.686850   \n",
       "max       10.719600      9.290200      9.619000      9.946000      9.387100   \n",
       "\n",
       "       ILMN_1812970  ILMN_2159384  ILMN_2165762     Results  \n",
       "count    140.000000    140.000000    140.000000  140.000000  \n",
       "mean       8.365388      9.127508      9.288769    0.707143  \n",
       "std        0.479864      0.610215      0.504955    0.456707  \n",
       "min        7.618600      7.852400      8.262500    0.000000  \n",
       "25%        8.018450      8.679300      8.943925    0.000000  \n",
       "50%        8.155100      9.066750      9.220950    1.000000  \n",
       "75%        8.649025      9.559950      9.691450    1.000000  \n",
       "max        9.860400     10.433700     10.547200    1.000000  "
      ]
     },
     "execution_count": 6,
     "metadata": {},
     "output_type": "execute_result"
    }
   ],
   "source": [
    "\n",
    "df.describe()"
   ]
  },
  {
   "cell_type": "code",
   "execution_count": 7,
   "metadata": {},
   "outputs": [
    {
     "name": "stdout",
     "output_type": "stream",
     "text": [
      "['ILMN_1654609', 'ILMN_1657898', 'ILMN_1667500', 'ILMN_1671005', 'ILMN_1680347', 'ILMN_1717229', 'ILMN_1755911', 'ILMN_1767168', 'ILMN_1794233', 'ILMN_1803561', 'ILMN_1812970', 'ILMN_2159384', 'ILMN_2165762', 'Results']\n",
      "14\n"
     ]
    }
   ],
   "source": [
    "df_features = list(df.columns)\n",
    "print(df_features)\n",
    "print(len(df.columns))"
   ]
  },
  {
   "cell_type": "code",
   "execution_count": 8,
   "metadata": {},
   "outputs": [
    {
     "data": {
      "image/png": "[encoded data removed]",
      "text/plain": [
       "<Figure size 2000x2000 with 16 Axes>"
      ]
     },
     "metadata": {},
     "output_type": "display_data"
    }
   ],
   "source": [
    "fig, axes = plt.subplots(4,4, figsize=(20,20))\n",
    "x_,y_ = 0,0\n",
    "for i, column in enumerate(df.columns[0:]):    \n",
    "    sb.boxplot(x=df[column], ax=axes[x_,y_], palette=\"Set2\")\n",
    "    if i < 3:\n",
    "        y_ += 1\n",
    "    elif i == 3: \n",
    "        x_ = 1\n",
    "        y_ = 0\n",
    "    elif i == 7:\n",
    "        x_ = 2\n",
    "        y_ = 0\n",
    "\n",
    "    elif i == 11:\n",
    "        x_ = 3\n",
    "        y_ = 0\n",
    "    \n",
    "    else:\n",
    "        y_ += 1"
   ]
  },
  {
   "cell_type": "code",
   "execution_count": 9,
   "metadata": {},
   "outputs": [
    {
     "name": "stdout",
     "output_type": "stream",
     "text": [
      "Index(['ILMN_1654609', 'ILMN_1657898', 'ILMN_1667500', 'ILMN_1671005',\n",
      "       'ILMN_1680347', 'ILMN_1717229', 'ILMN_1755911', 'ILMN_1767168',\n",
      "       'ILMN_1794233', 'ILMN_1803561', 'ILMN_1812970', 'ILMN_2159384',\n",
      "       'ILMN_2165762', 'Results'],\n",
      "      dtype='object')\n",
      "   ILMN_1654609  ILMN_1657898  ILMN_1667500  ILMN_1671005  ILMN_1680347  \\\n",
      "0      0.810761      0.634975      0.437073      0.733529      0.795872   \n",
      "1      0.914280      0.479176      0.361546      0.911329      0.710666   \n",
      "2      0.681853      0.328590      0.134610      0.501123      0.374511   \n",
      "3      0.644041      0.259161      0.189351      0.421587      0.451056   \n",
      "4      0.570293      0.265155      0.234482      0.397474      0.383257   \n",
      "\n",
      "   ILMN_1717229  ILMN_1755911  ILMN_1767168  ILMN_1794233  ILMN_1803561  \\\n",
      "0      0.660528      0.448085      0.726341      0.433280      0.191653   \n",
      "1      0.783287      0.445745      0.710758      0.403632      0.192934   \n",
      "2      0.308513      0.400421      0.663051      0.327780      0.195721   \n",
      "3      0.304864      0.397769      0.474858      0.223573      0.140952   \n",
      "4      0.322759      0.355098      0.389571      0.269675      0.225554   \n",
      "\n",
      "   ILMN_1812970  ILMN_2159384  ILMN_2165762  Results  \n",
      "0      0.612320      0.727618      0.698779      0.0  \n",
      "1      0.689714      0.790493      0.685911      0.0  \n",
      "2      0.357837      0.412544      0.495864      0.0  \n",
      "3      0.270631      0.371053      0.445879      0.0  \n",
      "4      0.183067      0.328982      0.304985      0.0  \n"
     ]
    }
   ],
   "source": [
    "cols = df.columns\n",
    "print(cols)\n",
    "scaler = MinMaxScaler()\n",
    "dat = scaler.fit_transform(df)\n",
    "df_02 = pd.DataFrame(data=dat, columns=cols)  \n",
    "print(df_02.head())"
   ]
  },
  {
   "cell_type": "code",
   "execution_count": 10,
   "metadata": {},
   "outputs": [
    {
     "name": "stdout",
     "output_type": "stream",
     "text": [
      "1    99\n",
      "0    41\n",
      "Name: Results, dtype: int64\n"
     ]
    }
   ],
   "source": [
    "x = df_02.drop([\"Results\"], axis =1);\n",
    "y = df[\"Results\"]\n",
    "print(y.value_counts())"
   ]
  },
  {
   "cell_type": "code",
   "execution_count": 11,
   "metadata": {},
   "outputs": [
    {
     "data": {
      "text/plain": [
       "(array([41.,  0.,  0.,  0.,  0.,  0.,  0.,  0.,  0., 99.]),\n",
       " array([0. , 0.1, 0.2, 0.3, 0.4, 0.5, 0.6, 0.7, 0.8, 0.9, 1. ]),\n",
       " <BarContainer object of 10 artists>)"
      ]
     },
     "execution_count": 11,
     "metadata": {},
     "output_type": "execute_result"
    },
    {
     "data": {
      "image/png": "[encoded data removed]",
      "text/plain": [
       "<Figure size 640x480 with 1 Axes>"
      ]
     },
     "metadata": {},
     "output_type": "display_data"
    }
   ],
   "source": [
    "plt.hist(y)"
   ]
  },
  {
   "cell_type": "code",
   "execution_count": 12,
   "metadata": {},
   "outputs": [
    {
     "name": "stdout",
     "output_type": "stream",
     "text": [
      "1    58\n",
      "0    41\n",
      "Name: Results, dtype: int64\n"
     ]
    },
    {
     "data": {
      "text/plain": [
       "(array([41.,  0.,  0.,  0.,  0.,  0.,  0.,  0.,  0., 58.]),\n",
       " array([0. , 0.1, 0.2, 0.3, 0.4, 0.5, 0.6, 0.7, 0.8, 0.9, 1. ]),\n",
       " <BarContainer object of 10 artists>)"
      ]
     },
     "execution_count": 12,
     "metadata": {},
     "output_type": "execute_result"
    },
    {
     "data": {
      "image/png": "[encoded data removed]",
      "text/plain": [
       "<Figure size 640x480 with 1 Axes>"
      ]
     },
     "metadata": {},
     "output_type": "display_data"
    }
   ],
   "source": [
    "# transform the dataset\n",
    "under = RandomUnderSampler(sampling_strategy= 0.7)\n",
    "X, Y = under.fit_resample(x, y)\n",
    "print(Y.value_counts())\n",
    "plt.hist(Y)"
   ]
  },
  {
   "cell_type": "code",
   "execution_count": 13,
   "metadata": {},
   "outputs": [
    {
     "name": "stdout",
     "output_type": "stream",
     "text": [
      "0    58\n",
      "1    58\n",
      "Name: Results, dtype: int64\n"
     ]
    },
    {
     "data": {
      "text/plain": [
       "(array([58.,  0.,  0.,  0.,  0.,  0.,  0.,  0.,  0., 58.]),\n",
       " array([0. , 0.1, 0.2, 0.3, 0.4, 0.5, 0.6, 0.7, 0.8, 0.9, 1. ]),\n",
       " <BarContainer object of 10 artists>)"
      ]
     },
     "execution_count": 13,
     "metadata": {},
     "output_type": "execute_result"
    },
    {
     "data": {
      "image/png": "[encoded data removed]",
      "text/plain": [
       "<Figure size 640x480 with 1 Axes>"
      ]
     },
     "metadata": {},
     "output_type": "display_data"
    }
   ],
   "source": [
    "smt = SMOTE()\n",
    "X, Y = smt.fit_resample(X,Y)\n",
    "print(Y.value_counts())\n",
    "plt.hist(Y)"
   ]
  },
  {
   "cell_type": "code",
   "execution_count": 14,
   "metadata": {},
   "outputs": [
    {
     "name": "stdout",
     "output_type": "stream",
     "text": [
      "CV value :  2\n",
      "Parameters :  {}\n",
      "Accuracy :  84.483\n",
      "Standed deviation :  1.724\n",
      "CV value :  3\n",
      "Parameters :  {}\n",
      "Accuracy :  88.844\n",
      "Standed deviation :  4.296\n",
      "CV value :  4\n",
      "Parameters :  {}\n",
      "Accuracy :  88.793\n",
      "Standed deviation :  6.622\n",
      "CV value :  5\n",
      "Parameters :  {}\n",
      "Accuracy :  85.326\n",
      "Standed deviation :  6.540\n"
     ]
    }
   ],
   "source": [
    "# creating a decision tree classifier\n",
    "dt_model = tree.DecisionTreeClassifier()\n",
    "param_grid_dt = {\n",
    "     \n",
    "}\n",
    "cv_array = [2,3,4,5]\n",
    "for cv in cv_array:\n",
    "    gridSearchRF = GridSearchCV(estimator=dt_model, param_grid=param_grid_dt, scoring='accuracy', n_jobs=-1, cv=cv)\n",
    "    gridSearchRF.fit(X, Y)\n",
    "    print(\"CV value : \", cv)\n",
    "    print(\"Parameters : \", gridSearchRF.best_params_)\n",
    "    print(\"Accuracy :  %0.3f\" % (gridSearchRF.best_score_*100))\n",
    "    print(\"Standed deviation :  %0.3f\" % (gridSearchRF.cv_results_['std_test_score'][gridSearchRF.best_index_]*100))"
   ]
  },
  {
   "cell_type": "code",
   "execution_count": 15,
   "metadata": {},
   "outputs": [
    {
     "name": "stdout",
     "output_type": "stream",
     "text": [
      "CV value :  2\n",
      "Parameters :  {'random_state': 0}\n",
      "Accuracy :  85.345\n",
      "Standed deviation :  0.862\n",
      "CV value :  3\n",
      "Parameters :  {'random_state': 20}\n",
      "Accuracy :  89.676\n",
      "Standed deviation :  2.012\n",
      "CV value :  4\n",
      "Parameters :  {'random_state': 2}\n",
      "Accuracy :  91.379\n",
      "Standed deviation :  3.855\n",
      "CV value :  5\n",
      "Parameters :  {'random_state': 0}\n",
      "Accuracy :  89.674\n",
      "Standed deviation :  6.467\n"
     ]
    }
   ],
   "source": [
    "# creating a Gradient boosting classifier\n",
    "gb_model = GradientBoostingClassifier()\n",
    "param_grid_gb = {\n",
    "     'random_state': [0, 1, 2,3,4,5 , 10, 20, 30, 40, 50]\n",
    "}\n",
    "for cv in cv_array:\n",
    "     gridSearchRF = GridSearchCV(estimator=gb_model, param_grid=param_grid_gb, scoring='accuracy', n_jobs=-1, cv=cv)\n",
    "     gridSearchRF.fit(X, Y)\n",
    "     print(\"CV value : \", cv)\n",
    "     print(\"Parameters : \", gridSearchRF.best_params_)\n",
    "     print(\"Accuracy :  %0.3f\" % (gridSearchRF.best_score_*100))\n",
    "     print(\"Standed deviation :  %0.3f\" % (gridSearchRF.cv_results_['std_test_score'][gridSearchRF.best_index_]*100))"
   ]
  },
  {
   "cell_type": "code",
   "execution_count": 16,
   "metadata": {},
   "outputs": [
    {
     "name": "stdout",
     "output_type": "stream",
     "text": [
      "CV value :  2\n",
      "Parameters :  {'n_neighbors': 5}\n",
      "Accuracy :  88.793\n",
      "Standed deviation :  4.310\n",
      "CV value :  3\n",
      "Parameters :  {'n_neighbors': 3}\n",
      "Accuracy :  93.972\n",
      "Standed deviation :  3.187\n",
      "CV value :  4\n",
      "Parameters :  {'n_neighbors': 3}\n",
      "Accuracy :  92.241\n",
      "Standed deviation :  6.156\n",
      "CV value :  5\n",
      "Parameters :  {'n_neighbors': 3}\n",
      "Accuracy :  93.043\n",
      "Standed deviation :  4.434\n"
     ]
    }
   ],
   "source": [
    "# creating a KNN classifier\n",
    "KNN_model =KNeighborsClassifier()\n",
    "param_grid_knn = {\n",
    "     'n_neighbors': [3, 5, 7, 11, 13, 17]\n",
    "}\n",
    "for cv in cv_array:\n",
    "     gridSearchRF = GridSearchCV(estimator=KNN_model, param_grid=param_grid_knn, scoring='accuracy', n_jobs=-1, cv=cv)\n",
    "     gridSearchRF.fit(X, Y)\n",
    "     print(\"CV value : \", cv)\n",
    "     print(\"Parameters : \", gridSearchRF.best_params_)\n",
    "     print(\"Accuracy :  %0.3f\" % (gridSearchRF.best_score_*100))\n",
    "     print(\"Standed deviation :  %0.3f\" % (gridSearchRF.cv_results_['std_test_score'][gridSearchRF.best_index_]*100))"
   ]
  },
  {
   "cell_type": "code",
   "execution_count": 17,
   "metadata": {},
   "outputs": [
    {
     "name": "stdout",
     "output_type": "stream",
     "text": [
      "CV value :  2\n",
      "Parameters :  {'max_iter': 100}\n",
      "Accuracy :  86.207\n",
      "Standed deviation :  1.724\n",
      "CV value :  3\n",
      "Parameters :  {'max_iter': 100}\n",
      "Accuracy :  85.335\n",
      "Standed deviation :  1.315\n",
      "CV value :  4\n",
      "Parameters :  {'max_iter': 100}\n",
      "Accuracy :  87.069\n",
      "Standed deviation :  2.859\n",
      "CV value :  5\n",
      "Parameters :  {'max_iter': 100}\n",
      "Accuracy :  85.362\n",
      "Standed deviation :  3.380\n"
     ]
    }
   ],
   "source": [
    "# creating a Lgistic regression classifier\n",
    "lr_model = LogisticRegression() \n",
    "\n",
    "param_grid_lr = {\n",
    "     'max_iter': [100, 200, 300, 400, 500]\n",
    "}\n",
    "for cv in cv_array:\n",
    "     gridSearchRF = GridSearchCV(estimator=lr_model, param_grid=param_grid_lr, scoring='accuracy', n_jobs=-1, cv=cv)\n",
    "     gridSearchRF.fit(X, Y)\n",
    "     print(\"CV value : \", cv)\n",
    "     print(\"Parameters : \", gridSearchRF.best_params_)\n",
    "     print(\"Accuracy :  %0.3f\" % (gridSearchRF.best_score_*100))\n",
    "     print(\"Standed deviation :  %0.3f\" % (gridSearchRF.cv_results_['std_test_score'][gridSearchRF.best_index_]*100))\n"
   ]
  },
  {
   "cell_type": "code",
   "execution_count": 18,
   "metadata": {},
   "outputs": [
    {
     "name": "stdout",
     "output_type": "stream",
     "text": [
      "CV value :  2\n",
      "Parameters :  {}\n",
      "Accuracy :  87.931\n",
      "Standed deviation :  1.724\n",
      "CV value :  3\n",
      "Parameters :  {}\n",
      "Accuracy :  89.676\n",
      "Standed deviation :  2.012\n",
      "CV value :  4\n",
      "Parameters :  {}\n",
      "Accuracy :  90.517\n",
      "Standed deviation :  4.479\n",
      "CV value :  5\n",
      "Parameters :  {}\n",
      "Accuracy :  89.674\n",
      "Standed deviation :  4.375\n"
     ]
    }
   ],
   "source": [
    "# creating a Nave Bayers classifier\n",
    "nb_model = MultinomialNB()\n",
    "param_grid_nb = {\n",
    "\n",
    "}\n",
    "for cv in cv_array:\n",
    "    gridSearchRF = GridSearchCV(estimator=nb_model, param_grid=param_grid_nb, scoring='accuracy', n_jobs=-1, cv=cv)\n",
    "    gridSearchRF.fit(X, Y)\n",
    "    print(\"CV value : \", cv)\n",
    "    print(\"Parameters : \", gridSearchRF.best_params_)\n",
    "    print(\"Accuracy :  %0.3f\" % (gridSearchRF.best_score_*100))\n",
    "    print(\"Standed deviation :  %0.3f\" % (gridSearchRF.cv_results_['std_test_score'][gridSearchRF.best_index_]*100))\n"
   ]
  },
  {
   "cell_type": "code",
   "execution_count": 19,
   "metadata": {},
   "outputs": [
    {
     "name": "stdout",
     "output_type": "stream",
     "text": [
      "CV value :  2\n",
      "Parameters :  {'kernel': 'poly'}\n",
      "Accuracy :  89.655\n",
      "Standed deviation :  5.172\n"
     ]
    },
    {
     "name": "stdout",
     "output_type": "stream",
     "text": [
      "CV value :  3\n",
      "Parameters :  {'kernel': 'poly'}\n",
      "Accuracy :  90.508\n",
      "Standed deviation :  1.277\n",
      "CV value :  4\n",
      "Parameters :  {'kernel': 'poly'}\n",
      "Accuracy :  90.517\n",
      "Standed deviation :  5.100\n",
      "CV value :  5\n",
      "Parameters :  {'kernel': 'poly'}\n",
      "Accuracy :  91.413\n",
      "Standed deviation :  5.417\n"
     ]
    }
   ],
   "source": [
    "# creating a SVM classifier\n",
    "svm_model = svm.SVC()\n",
    "param_grid_svm = {\n",
    "     'kernel': ['linear', 'poly', 'rbf', 'sigmoid']\n",
    "}\n",
    "\n",
    "for cv in cv_array:\n",
    "     gridSearchRF = GridSearchCV(estimator=svm_model, param_grid=param_grid_svm, scoring='accuracy', n_jobs=-1, cv=cv)\n",
    "     gridSearchRF.fit(X, Y)\n",
    "     print(\"CV value : \", cv)\n",
    "     print(\"Parameters : \", gridSearchRF.best_params_)\n",
    "     print(\"Accuracy :  %0.3f\" % (gridSearchRF.best_score_*100))\n",
    "     print(\"Standed deviation :  %0.3f\" % (gridSearchRF.cv_results_['std_test_score'][gridSearchRF.best_index_]*100))\n"
   ]
  },
  {
   "cell_type": "code",
   "execution_count": 20,
   "metadata": {},
   "outputs": [
    {
     "name": "stdout",
     "output_type": "stream",
     "text": [
      "CV value :  2\n",
      "Parameters :  {'max_depth': 80, 'max_features': 2, 'n_estimators': 200}\n",
      "Accuracy :  91.379\n",
      "Standed deviation :  1.724\n",
      "CV value :  3\n",
      "Parameters :  {'max_depth': 80, 'max_features': 4, 'n_estimators': 100}\n",
      "Accuracy :  92.263\n",
      "Standed deviation :  2.039\n",
      "CV value :  4\n",
      "Parameters :  {'max_depth': 80, 'max_features': 4, 'n_estimators': 100}\n",
      "Accuracy :  92.241\n",
      "Standed deviation :  6.156\n",
      "CV value :  5\n",
      "Parameters :  {'max_depth': 100, 'max_features': 2, 'n_estimators': 100}\n",
      "Accuracy :  92.246\n",
      "Standed deviation :  4.248\n"
     ]
    }
   ],
   "source": [
    "# creating a Random forest classifier\n",
    "rf = RandomForestClassifier()\n",
    "param_grid_rf = {\n",
    "     'max_depth': [80, 90, 100, 110, 150, 200, 300],\n",
    "     'max_features': [2, 3, 4, 5,6],\n",
    "     'n_estimators': [100, 200, 300]\n",
    "}\n",
    "\n",
    "for cv in cv_array:\n",
    "     gridSearchRF = GridSearchCV(estimator=rf, param_grid=param_grid_rf, scoring='accuracy', n_jobs=-1, cv=cv)\n",
    "     gridSearchRF.fit(X, Y)\n",
    "     print(\"CV value : \", cv)\n",
    "     print(\"Parameters : \", gridSearchRF.best_params_)\n",
    "     print(\"Accuracy :  %0.3f\" % (gridSearchRF.best_score_*100))\n",
    "     print(\"Standed deviation :  %0.3f\" % (gridSearchRF.cv_results_['std_test_score'][gridSearchRF.best_index_]*100))"
   ]
  }
 ],
 "metadata": {
  "kernelspec": {
   "display_name": "Python 3.9.13 ('base')",
   "language": "python",
   "name": "python3"
  },
  "language_info": {
   "codemirror_mode": {
    "name": "ipython",
    "version": 3
   },
   "file_extension": ".py",
   "mimetype": "text/x-python",
   "name": "python",
   "nbconvert_exporter": "python",
   "pygments_lexer": "ipython3",
   "version": "3.11.3"
  },
  "orig_nbformat": 4,
  "vscode": {
   "interpreter": {
    "hash": "dd78fe5a17d57d1a86104509f6d28e1e730005acb4374104044dd451171eb7b3"
   }
  }
 },
 "nbformat": 4,
 "nbformat_minor": 2
}
