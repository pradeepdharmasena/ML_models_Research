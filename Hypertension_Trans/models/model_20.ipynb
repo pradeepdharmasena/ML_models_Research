{
 "cells": [
  {
   "cell_type": "code",
   "execution_count": 40,
   "metadata": {},
   "outputs": [],
   "source": [
    "import numpy as np;\n",
    "import pandas as pd;\n",
    "import matplotlib.pyplot as plt\n",
    "import sklearn.metrics as sm\n",
    "from sklearn.preprocessing import LabelEncoder\n",
    "from sklearn.model_selection import cross_val_score\n",
    "from sklearn.model_selection import GridSearchCV\n",
    "from sklearn.preprocessing import MinMaxScaler\n",
    "\n",
    "from scipy import stats\n",
    "from sklearn import tree\n",
    "from sklearn.ensemble import GradientBoostingClassifier\n",
    "from sklearn.neighbors import KNeighborsClassifier\n",
    "from sklearn.linear_model import LogisticRegression\n",
    "from sklearn.naive_bayes import MultinomialNB,BernoulliNB\n",
    "from sklearn.ensemble import RandomForestClassifier\n",
    "from sklearn import tree\n",
    "from sklearn import svm\n",
    "import seaborn as sb\n",
    "from imblearn.under_sampling import RandomUnderSampler\n",
    "from imblearn.over_sampling import SMOTE"
   ]
  },
  {
   "cell_type": "code",
   "execution_count": 41,
   "metadata": {},
   "outputs": [
    {
     "name": "stdout",
     "output_type": "stream",
     "text": [
      "   ILMN_1655864  ILMN_1657898  ILMN_1671005  ILMN_1677756  ILMN_1687526  \\\n",
      "0        9.1206        8.9263       11.4310        9.9916        9.5725   \n",
      "1        9.6620        8.6274       12.1278       10.5783        9.5859   \n",
      "2        8.9047        8.3385       10.5202        9.3776        9.1329   \n",
      "3        8.7785        8.2053       10.2085        8.4853        8.9398   \n",
      "4        8.4493        8.2168       10.1140        8.5531        8.7135   \n",
      "\n",
      "   ILMN_1701962  ILMN_1704335  ILMN_1713764  ILMN_1725707  ILMN_1758687  ...  \\\n",
      "0        9.0516        9.4571        7.9901       10.5066        9.3814  ...   \n",
      "1        9.2065        9.0469        8.0947       11.0485        9.4561  ...   \n",
      "2        8.3497        8.3345        8.0296        9.6670        8.8520  ...   \n",
      "3        8.5285        8.4016        8.1067        9.6919        8.7720  ...   \n",
      "4        8.4029        8.2367        8.0940        9.6350        8.8086  ...   \n",
      "\n",
      "   ILMN_1765725  ILMN_1775304  ILMN_1780334  ILMN_1794233  ILMN_1804988  \\\n",
      "0       10.1923       11.6864        7.8384        8.8507       11.4931   \n",
      "1       10.4112       11.9138        7.9872        8.7934       11.7038   \n",
      "2        9.6691       10.9197        7.8565        8.6468       10.1673   \n",
      "3        9.3236       10.4650        8.0362        8.4454       10.3580   \n",
      "4        9.1816       10.2487        8.1085        8.5345        9.8385   \n",
      "\n",
      "   ILMN_1812970  ILMN_1875248  ILMN_2082762  ILMN_2159384  Results  \n",
      "0        8.9913        8.2650       11.1457        9.7306  control  \n",
      "1        9.1648        8.7945       11.7188        9.8929  control  \n",
      "2        8.4208        8.5512       10.8772        8.9173  control  \n",
      "3        8.2253        8.4394       10.2786        8.8102  control  \n",
      "4        8.0290        8.4529       10.1435        8.7016  control  \n",
      "\n",
      "[5 rows x 21 columns]\n"
     ]
    }
   ],
   "source": [
    "df = pd.read_csv(\"../data/selected_M_best20.csv\")\n",
    "df = df.drop_duplicates()\n",
    "print(df.head())"
   ]
  },
  {
   "cell_type": "code",
   "execution_count": 42,
   "metadata": {},
   "outputs": [],
   "source": [
    "def map_results(inpt):\n",
    "    if inpt == 'control':\n",
    "        return 0;\n",
    "\n",
    "    else:\n",
    "        return 1;"
   ]
  },
  {
   "cell_type": "code",
   "execution_count": 43,
   "metadata": {},
   "outputs": [
    {
     "name": "stdout",
     "output_type": "stream",
     "text": [
      "   ILMN_1655864  ILMN_1657898  ILMN_1671005  ILMN_1677756  ILMN_1687526  \\\n",
      "0        9.1206        8.9263       11.4310        9.9916        9.5725   \n",
      "1        9.6620        8.6274       12.1278       10.5783        9.5859   \n",
      "2        8.9047        8.3385       10.5202        9.3776        9.1329   \n",
      "3        8.7785        8.2053       10.2085        8.4853        8.9398   \n",
      "4        8.4493        8.2168       10.1140        8.5531        8.7135   \n",
      "\n",
      "   ILMN_1701962  ILMN_1704335  ILMN_1713764  ILMN_1725707  ILMN_1758687  ...  \\\n",
      "0        9.0516        9.4571        7.9901       10.5066        9.3814  ...   \n",
      "1        9.2065        9.0469        8.0947       11.0485        9.4561  ...   \n",
      "2        8.3497        8.3345        8.0296        9.6670        8.8520  ...   \n",
      "3        8.5285        8.4016        8.1067        9.6919        8.7720  ...   \n",
      "4        8.4029        8.2367        8.0940        9.6350        8.8086  ...   \n",
      "\n",
      "   ILMN_1765725  ILMN_1775304  ILMN_1780334  ILMN_1794233  ILMN_1804988  \\\n",
      "0       10.1923       11.6864        7.8384        8.8507       11.4931   \n",
      "1       10.4112       11.9138        7.9872        8.7934       11.7038   \n",
      "2        9.6691       10.9197        7.8565        8.6468       10.1673   \n",
      "3        9.3236       10.4650        8.0362        8.4454       10.3580   \n",
      "4        9.1816       10.2487        8.1085        8.5345        9.8385   \n",
      "\n",
      "   ILMN_1812970  ILMN_1875248  ILMN_2082762  ILMN_2159384  Results  \n",
      "0        8.9913        8.2650       11.1457        9.7306        0  \n",
      "1        9.1648        8.7945       11.7188        9.8929        0  \n",
      "2        8.4208        8.5512       10.8772        8.9173        0  \n",
      "3        8.2253        8.4394       10.2786        8.8102        0  \n",
      "4        8.0290        8.4529       10.1435        8.7016        0  \n",
      "\n",
      "[5 rows x 21 columns]\n"
     ]
    }
   ],
   "source": [
    "df['Results'] = df['Results'].apply(map_results)\n",
    "print(df.head())"
   ]
  },
  {
   "cell_type": "code",
   "execution_count": 44,
   "metadata": {},
   "outputs": [
    {
     "data": {
      "text/html": [
       "<div>\n",
       "<style scoped>\n",
       "    .dataframe tbody tr th:only-of-type {\n",
       "        vertical-align: middle;\n",
       "    }\n",
       "\n",
       "    .dataframe tbody tr th {\n",
       "        vertical-align: top;\n",
       "    }\n",
       "\n",
       "    .dataframe thead th {\n",
       "        text-align: right;\n",
       "    }\n",
       "</style>\n",
       "<table border=\"1\" class=\"dataframe\">\n",
       "  <thead>\n",
       "    <tr style=\"text-align: right;\">\n",
       "      <th></th>\n",
       "      <th>ILMN_1655864</th>\n",
       "      <th>ILMN_1657898</th>\n",
       "      <th>ILMN_1671005</th>\n",
       "      <th>ILMN_1677756</th>\n",
       "      <th>ILMN_1687526</th>\n",
       "      <th>ILMN_1701962</th>\n",
       "      <th>ILMN_1704335</th>\n",
       "      <th>ILMN_1713764</th>\n",
       "      <th>ILMN_1725707</th>\n",
       "      <th>ILMN_1758687</th>\n",
       "      <th>...</th>\n",
       "      <th>ILMN_1765725</th>\n",
       "      <th>ILMN_1775304</th>\n",
       "      <th>ILMN_1780334</th>\n",
       "      <th>ILMN_1794233</th>\n",
       "      <th>ILMN_1804988</th>\n",
       "      <th>ILMN_1812970</th>\n",
       "      <th>ILMN_1875248</th>\n",
       "      <th>ILMN_2082762</th>\n",
       "      <th>ILMN_2159384</th>\n",
       "      <th>Results</th>\n",
       "    </tr>\n",
       "  </thead>\n",
       "  <tbody>\n",
       "    <tr>\n",
       "      <th>count</th>\n",
       "      <td>140.000000</td>\n",
       "      <td>140.000000</td>\n",
       "      <td>140.000000</td>\n",
       "      <td>140.000000</td>\n",
       "      <td>140.000000</td>\n",
       "      <td>140.000000</td>\n",
       "      <td>140.000000</td>\n",
       "      <td>140.000000</td>\n",
       "      <td>140.000000</td>\n",
       "      <td>140.000000</td>\n",
       "      <td>...</td>\n",
       "      <td>140.000000</td>\n",
       "      <td>140.000000</td>\n",
       "      <td>140.000000</td>\n",
       "      <td>140.000000</td>\n",
       "      <td>140.000000</td>\n",
       "      <td>140.000000</td>\n",
       "      <td>140.000000</td>\n",
       "      <td>140.000000</td>\n",
       "      <td>140.000000</td>\n",
       "      <td>140.000000</td>\n",
       "    </tr>\n",
       "    <tr>\n",
       "      <th>mean</th>\n",
       "      <td>8.840350</td>\n",
       "      <td>8.361906</td>\n",
       "      <td>10.812333</td>\n",
       "      <td>9.293271</td>\n",
       "      <td>9.035799</td>\n",
       "      <td>8.636783</td>\n",
       "      <td>8.534474</td>\n",
       "      <td>8.286886</td>\n",
       "      <td>10.245039</td>\n",
       "      <td>8.886839</td>\n",
       "      <td>...</td>\n",
       "      <td>9.696534</td>\n",
       "      <td>10.817113</td>\n",
       "      <td>8.590240</td>\n",
       "      <td>8.665949</td>\n",
       "      <td>10.655081</td>\n",
       "      <td>8.365388</td>\n",
       "      <td>8.377289</td>\n",
       "      <td>10.579364</td>\n",
       "      <td>9.127508</td>\n",
       "      <td>0.707143</td>\n",
       "    </tr>\n",
       "    <tr>\n",
       "      <th>std</th>\n",
       "      <td>0.551345</td>\n",
       "      <td>0.348476</td>\n",
       "      <td>0.782629</td>\n",
       "      <td>0.642800</td>\n",
       "      <td>0.539149</td>\n",
       "      <td>0.346898</td>\n",
       "      <td>0.513085</td>\n",
       "      <td>0.277013</td>\n",
       "      <td>0.551783</td>\n",
       "      <td>0.447720</td>\n",
       "      <td>...</td>\n",
       "      <td>0.657034</td>\n",
       "      <td>0.880402</td>\n",
       "      <td>0.599733</td>\n",
       "      <td>0.390432</td>\n",
       "      <td>0.818998</td>\n",
       "      <td>0.479864</td>\n",
       "      <td>0.385426</td>\n",
       "      <td>0.766060</td>\n",
       "      <td>0.610215</td>\n",
       "      <td>0.456707</td>\n",
       "    </tr>\n",
       "    <tr>\n",
       "      <th>min</th>\n",
       "      <td>7.867800</td>\n",
       "      <td>7.708100</td>\n",
       "      <td>8.556300</td>\n",
       "      <td>8.120700</td>\n",
       "      <td>8.050000</td>\n",
       "      <td>7.972100</td>\n",
       "      <td>7.850900</td>\n",
       "      <td>7.737500</td>\n",
       "      <td>8.478500</td>\n",
       "      <td>8.265200</td>\n",
       "      <td>...</td>\n",
       "      <td>8.338700</td>\n",
       "      <td>8.496600</td>\n",
       "      <td>7.778300</td>\n",
       "      <td>8.013300</td>\n",
       "      <td>8.232400</td>\n",
       "      <td>7.618600</td>\n",
       "      <td>7.758800</td>\n",
       "      <td>8.692200</td>\n",
       "      <td>7.852400</td>\n",
       "      <td>0.000000</td>\n",
       "    </tr>\n",
       "    <tr>\n",
       "      <th>25%</th>\n",
       "      <td>8.413500</td>\n",
       "      <td>8.128750</td>\n",
       "      <td>10.215175</td>\n",
       "      <td>8.837150</td>\n",
       "      <td>8.630825</td>\n",
       "      <td>8.384500</td>\n",
       "      <td>8.131650</td>\n",
       "      <td>8.079800</td>\n",
       "      <td>9.764450</td>\n",
       "      <td>8.566575</td>\n",
       "      <td>...</td>\n",
       "      <td>9.205000</td>\n",
       "      <td>10.226825</td>\n",
       "      <td>8.044450</td>\n",
       "      <td>8.394500</td>\n",
       "      <td>10.034925</td>\n",
       "      <td>8.018450</td>\n",
       "      <td>8.110900</td>\n",
       "      <td>10.006300</td>\n",
       "      <td>8.679300</td>\n",
       "      <td>0.000000</td>\n",
       "    </tr>\n",
       "    <tr>\n",
       "      <th>50%</th>\n",
       "      <td>8.688850</td>\n",
       "      <td>8.254400</td>\n",
       "      <td>10.779850</td>\n",
       "      <td>9.161400</td>\n",
       "      <td>8.895850</td>\n",
       "      <td>8.544250</td>\n",
       "      <td>8.337950</td>\n",
       "      <td>8.236000</td>\n",
       "      <td>10.291350</td>\n",
       "      <td>8.726900</td>\n",
       "      <td>...</td>\n",
       "      <td>9.555950</td>\n",
       "      <td>10.762350</td>\n",
       "      <td>8.428450</td>\n",
       "      <td>8.539800</td>\n",
       "      <td>10.712250</td>\n",
       "      <td>8.155100</td>\n",
       "      <td>8.260100</td>\n",
       "      <td>10.407700</td>\n",
       "      <td>9.066750</td>\n",
       "      <td>1.000000</td>\n",
       "    </tr>\n",
       "    <tr>\n",
       "      <th>75%</th>\n",
       "      <td>9.193275</td>\n",
       "      <td>8.539750</td>\n",
       "      <td>11.397900</td>\n",
       "      <td>9.810575</td>\n",
       "      <td>9.337525</td>\n",
       "      <td>8.871950</td>\n",
       "      <td>8.919800</td>\n",
       "      <td>8.515125</td>\n",
       "      <td>10.689675</td>\n",
       "      <td>9.188925</td>\n",
       "      <td>...</td>\n",
       "      <td>10.141225</td>\n",
       "      <td>11.431350</td>\n",
       "      <td>9.092550</td>\n",
       "      <td>8.840075</td>\n",
       "      <td>11.190925</td>\n",
       "      <td>8.649025</td>\n",
       "      <td>8.596925</td>\n",
       "      <td>11.145700</td>\n",
       "      <td>9.559950</td>\n",
       "      <td>1.000000</td>\n",
       "    </tr>\n",
       "    <tr>\n",
       "      <th>max</th>\n",
       "      <td>10.372400</td>\n",
       "      <td>9.626600</td>\n",
       "      <td>12.475300</td>\n",
       "      <td>11.004100</td>\n",
       "      <td>10.546200</td>\n",
       "      <td>9.739900</td>\n",
       "      <td>9.805800</td>\n",
       "      <td>8.972600</td>\n",
       "      <td>11.875000</td>\n",
       "      <td>10.164300</td>\n",
       "      <td>...</td>\n",
       "      <td>11.179300</td>\n",
       "      <td>12.968600</td>\n",
       "      <td>10.091500</td>\n",
       "      <td>9.946000</td>\n",
       "      <td>12.366000</td>\n",
       "      <td>9.860400</td>\n",
       "      <td>9.530000</td>\n",
       "      <td>12.434900</td>\n",
       "      <td>10.433700</td>\n",
       "      <td>1.000000</td>\n",
       "    </tr>\n",
       "  </tbody>\n",
       "</table>\n",
       "<p>8 rows × 21 columns</p>\n",
       "</div>"
      ],
      "text/plain": [
       "       ILMN_1655864  ILMN_1657898  ILMN_1671005  ILMN_1677756  ILMN_1687526  \\\n",
       "count    140.000000    140.000000    140.000000    140.000000    140.000000   \n",
       "mean       8.840350      8.361906     10.812333      9.293271      9.035799   \n",
       "std        0.551345      0.348476      0.782629      0.642800      0.539149   \n",
       "min        7.867800      7.708100      8.556300      8.120700      8.050000   \n",
       "25%        8.413500      8.128750     10.215175      8.837150      8.630825   \n",
       "50%        8.688850      8.254400     10.779850      9.161400      8.895850   \n",
       "75%        9.193275      8.539750     11.397900      9.810575      9.337525   \n",
       "max       10.372400      9.626600     12.475300     11.004100     10.546200   \n",
       "\n",
       "       ILMN_1701962  ILMN_1704335  ILMN_1713764  ILMN_1725707  ILMN_1758687  \\\n",
       "count    140.000000    140.000000    140.000000    140.000000    140.000000   \n",
       "mean       8.636783      8.534474      8.286886     10.245039      8.886839   \n",
       "std        0.346898      0.513085      0.277013      0.551783      0.447720   \n",
       "min        7.972100      7.850900      7.737500      8.478500      8.265200   \n",
       "25%        8.384500      8.131650      8.079800      9.764450      8.566575   \n",
       "50%        8.544250      8.337950      8.236000     10.291350      8.726900   \n",
       "75%        8.871950      8.919800      8.515125     10.689675      9.188925   \n",
       "max        9.739900      9.805800      8.972600     11.875000     10.164300   \n",
       "\n",
       "       ...  ILMN_1765725  ILMN_1775304  ILMN_1780334  ILMN_1794233  \\\n",
       "count  ...    140.000000    140.000000    140.000000    140.000000   \n",
       "mean   ...      9.696534     10.817113      8.590240      8.665949   \n",
       "std    ...      0.657034      0.880402      0.599733      0.390432   \n",
       "min    ...      8.338700      8.496600      7.778300      8.013300   \n",
       "25%    ...      9.205000     10.226825      8.044450      8.394500   \n",
       "50%    ...      9.555950     10.762350      8.428450      8.539800   \n",
       "75%    ...     10.141225     11.431350      9.092550      8.840075   \n",
       "max    ...     11.179300     12.968600     10.091500      9.946000   \n",
       "\n",
       "       ILMN_1804988  ILMN_1812970  ILMN_1875248  ILMN_2082762  ILMN_2159384  \\\n",
       "count    140.000000    140.000000    140.000000    140.000000    140.000000   \n",
       "mean      10.655081      8.365388      8.377289     10.579364      9.127508   \n",
       "std        0.818998      0.479864      0.385426      0.766060      0.610215   \n",
       "min        8.232400      7.618600      7.758800      8.692200      7.852400   \n",
       "25%       10.034925      8.018450      8.110900     10.006300      8.679300   \n",
       "50%       10.712250      8.155100      8.260100     10.407700      9.066750   \n",
       "75%       11.190925      8.649025      8.596925     11.145700      9.559950   \n",
       "max       12.366000      9.860400      9.530000     12.434900     10.433700   \n",
       "\n",
       "          Results  \n",
       "count  140.000000  \n",
       "mean     0.707143  \n",
       "std      0.456707  \n",
       "min      0.000000  \n",
       "25%      0.000000  \n",
       "50%      1.000000  \n",
       "75%      1.000000  \n",
       "max      1.000000  \n",
       "\n",
       "[8 rows x 21 columns]"
      ]
     },
     "execution_count": 44,
     "metadata": {},
     "output_type": "execute_result"
    }
   ],
   "source": [
    "\n",
    "df.describe()"
   ]
  },
  {
   "cell_type": "code",
   "execution_count": 45,
   "metadata": {},
   "outputs": [
    {
     "name": "stdout",
     "output_type": "stream",
     "text": [
      "['ILMN_1655864', 'ILMN_1657898', 'ILMN_1671005', 'ILMN_1677756', 'ILMN_1687526', 'ILMN_1701962', 'ILMN_1704335', 'ILMN_1713764', 'ILMN_1725707', 'ILMN_1758687', 'ILMN_1763364', 'ILMN_1765725', 'ILMN_1775304', 'ILMN_1780334', 'ILMN_1794233', 'ILMN_1804988', 'ILMN_1812970', 'ILMN_1875248', 'ILMN_2082762', 'ILMN_2159384', 'Results']\n",
      "21\n"
     ]
    }
   ],
   "source": [
    "df_features = list(df.columns)\n",
    "print(df_features)\n",
    "print(len(df.columns))"
   ]
  },
  {
   "cell_type": "code",
   "execution_count": 46,
   "metadata": {},
   "outputs": [
    {
     "data": {
      "image/png": "[encoded data removed]",
      "text/plain": [
       "<Figure size 1440x1440 with 24 Axes>"
      ]
     },
     "metadata": {
      "needs_background": "light"
     },
     "output_type": "display_data"
    }
   ],
   "source": [
    "fig, axes = plt.subplots(6,4, figsize=(20,20))\n",
    "x_,y_ = 0,0\n",
    "for i, column in enumerate(df.columns[0:]):    \n",
    "    sb.boxplot(x=df[column], ax=axes[x_,y_], palette=\"Set2\")\n",
    "    if i < 3:\n",
    "        y_ += 1\n",
    "    elif i == 3: \n",
    "        x_ = 1\n",
    "        y_ = 0\n",
    "    elif i == 7:\n",
    "        x_ = 2\n",
    "        y_ = 0\n",
    "    elif i == 11:\n",
    "        x_ = 3\n",
    "        y_ = 0\n",
    "    elif i == 15:\n",
    "        x_ = 4\n",
    "        y_ = 0 \n",
    "    elif i == 19:\n",
    "        x_ = 5\n",
    "        y_ = 0\n",
    "\n",
    "    else:\n",
    "        y_ += 1"
   ]
  },
  {
   "cell_type": "code",
   "execution_count": 47,
   "metadata": {},
   "outputs": [
    {
     "name": "stdout",
     "output_type": "stream",
     "text": [
      "Index(['ILMN_1655864', 'ILMN_1657898', 'ILMN_1671005', 'ILMN_1677756',\n",
      "       'ILMN_1687526', 'ILMN_1701962', 'ILMN_1704335', 'ILMN_1713764',\n",
      "       'ILMN_1725707', 'ILMN_1758687', 'ILMN_1763364', 'ILMN_1765725',\n",
      "       'ILMN_1775304', 'ILMN_1780334', 'ILMN_1794233', 'ILMN_1804988',\n",
      "       'ILMN_1812970', 'ILMN_1875248', 'ILMN_2082762', 'ILMN_2159384',\n",
      "       'Results'],\n",
      "      dtype='object')\n",
      "   ILMN_1655864  ILMN_1657898  ILMN_1671005  ILMN_1677756  ILMN_1687526  \\\n",
      "0      0.500200      0.634975      0.733529      0.648852      0.609927   \n",
      "1      0.716362      0.479176      0.911329      0.852327      0.615295   \n",
      "2      0.413998      0.328590      0.501123      0.435909      0.433819   \n",
      "3      0.363611      0.259161      0.421587      0.126448      0.356462   \n",
      "4      0.232173      0.265155      0.397474      0.149962      0.265804   \n",
      "\n",
      "   ILMN_1701962  ILMN_1704335  ILMN_1713764  ILMN_1725707  ILMN_1758687  ...  \\\n",
      "0      0.610646      0.821628      0.204518      0.597115      0.587752  ...   \n",
      "1      0.698269      0.611796      0.289207      0.756661      0.627087  ...   \n",
      "2      0.213599      0.247378      0.236499      0.349919      0.308988  ...   \n",
      "3      0.314741      0.281702      0.298923      0.357250      0.266863  ...   \n",
      "4      0.243693      0.197350      0.288641      0.340498      0.286136  ...   \n",
      "\n",
      "   ILMN_1765725  ILMN_1775304  ILMN_1780334  ILMN_1794233  ILMN_1804988  \\\n",
      "0      0.652538      0.713283      0.025981      0.433280      0.788828   \n",
      "1      0.729599      0.764132      0.090308      0.403632      0.839801   \n",
      "2      0.468352      0.541838      0.033806      0.327780      0.468091   \n",
      "3      0.346723      0.440161      0.111491      0.223573      0.514225   \n",
      "4      0.296733      0.391793      0.142746      0.269675      0.388548   \n",
      "\n",
      "   ILMN_1812970  ILMN_1875248  ILMN_2082762  ILMN_2159384  Results  \n",
      "0      0.612320      0.285795      0.655543      0.727618      0.0  \n",
      "1      0.689714      0.584745      0.808668      0.790493      0.0  \n",
      "2      0.357837      0.447380      0.583803      0.412544      0.0  \n",
      "3      0.270631      0.384259      0.423865      0.371053      0.0  \n",
      "4      0.183067      0.391881      0.387768      0.328982      0.0  \n",
      "\n",
      "[5 rows x 21 columns]\n"
     ]
    }
   ],
   "source": [
    "cols = df.columns\n",
    "print(cols)\n",
    "scaler = MinMaxScaler()\n",
    "dat = scaler.fit_transform(df)\n",
    "df_02 = pd.DataFrame(data=dat, columns=cols)  \n",
    "print(df_02.head())"
   ]
  },
  {
   "cell_type": "code",
   "execution_count": 48,
   "metadata": {},
   "outputs": [
    {
     "name": "stdout",
     "output_type": "stream",
     "text": [
      "1    99\n",
      "0    41\n",
      "Name: Results, dtype: int64\n"
     ]
    }
   ],
   "source": [
    "x = df_02.drop([\"Results\"], axis =1);\n",
    "y = df[\"Results\"]\n",
    "print(y.value_counts())"
   ]
  },
  {
   "cell_type": "code",
   "execution_count": 49,
   "metadata": {},
   "outputs": [
    {
     "data": {
      "text/plain": [
       "(array([41.,  0.,  0.,  0.,  0.,  0.,  0.,  0.,  0., 99.]),\n",
       " array([0. , 0.1, 0.2, 0.3, 0.4, 0.5, 0.6, 0.7, 0.8, 0.9, 1. ]),\n",
       " <BarContainer object of 10 artists>)"
      ]
     },
     "execution_count": 49,
     "metadata": {},
     "output_type": "execute_result"
    },
    {
     "data": {
      "image/png": "[encoded data removed]",
      "text/plain": [
       "<Figure size 432x288 with 1 Axes>"
      ]
     },
     "metadata": {
      "needs_background": "light"
     },
     "output_type": "display_data"
    }
   ],
   "source": [
    "plt.hist(y)"
   ]
  },
  {
   "cell_type": "code",
   "execution_count": 50,
   "metadata": {},
   "outputs": [
    {
     "name": "stdout",
     "output_type": "stream",
     "text": [
      "1    58\n",
      "0    41\n",
      "Name: Results, dtype: int64\n"
     ]
    },
    {
     "data": {
      "text/plain": [
       "(array([41.,  0.,  0.,  0.,  0.,  0.,  0.,  0.,  0., 58.]),\n",
       " array([0. , 0.1, 0.2, 0.3, 0.4, 0.5, 0.6, 0.7, 0.8, 0.9, 1. ]),\n",
       " <BarContainer object of 10 artists>)"
      ]
     },
     "execution_count": 50,
     "metadata": {},
     "output_type": "execute_result"
    },
    {
     "data": {
      "image/png": "[encoded data removed]",
      "text/plain": [
       "<Figure size 432x288 with 1 Axes>"
      ]
     },
     "metadata": {
      "needs_background": "light"
     },
     "output_type": "display_data"
    }
   ],
   "source": [
    "# transform the dataset\n",
    "under = RandomUnderSampler(sampling_strategy= 0.7)\n",
    "X, Y = under.fit_resample(x, y)\n",
    "print(Y.value_counts())\n",
    "plt.hist(Y)"
   ]
  },
  {
   "cell_type": "code",
   "execution_count": 51,
   "metadata": {},
   "outputs": [
    {
     "name": "stdout",
     "output_type": "stream",
     "text": [
      "0    58\n",
      "1    58\n",
      "Name: Results, dtype: int64\n"
     ]
    },
    {
     "data": {
      "text/plain": [
       "(array([58.,  0.,  0.,  0.,  0.,  0.,  0.,  0.,  0., 58.]),\n",
       " array([0. , 0.1, 0.2, 0.3, 0.4, 0.5, 0.6, 0.7, 0.8, 0.9, 1. ]),\n",
       " <BarContainer object of 10 artists>)"
      ]
     },
     "execution_count": 51,
     "metadata": {},
     "output_type": "execute_result"
    },
    {
     "data": {
      "image/png": "[encoded data removed]",
      "text/plain": [
       "<Figure size 432x288 with 1 Axes>"
      ]
     },
     "metadata": {
      "needs_background": "light"
     },
     "output_type": "display_data"
    }
   ],
   "source": [
    "smt = SMOTE()\n",
    "X, Y = smt.fit_resample(X,Y)\n",
    "print(Y.value_counts())\n",
    "plt.hist(Y)"
   ]
  },
  {
   "cell_type": "code",
   "execution_count": 52,
   "metadata": {},
   "outputs": [
    {
     "name": "stdout",
     "output_type": "stream",
     "text": [
      "CV value :  2\n",
      "Parameters :  {}\n",
      "Accuracy :  87.931\n",
      "Standed deviation :  0.000\n",
      "CV value :  3\n",
      "Parameters :  {}\n",
      "Accuracy :  87.967\n",
      "Standed deviation :  4.293\n",
      "CV value :  4\n",
      "Parameters :  {}\n",
      "Accuracy :  87.069\n",
      "Standed deviation :  7.466\n",
      "CV value :  5\n",
      "Parameters :  {}\n",
      "Accuracy :  91.413\n",
      "Standed deviation :  3.772\n"
     ]
    }
   ],
   "source": [
    "# creating a decision tree classifier\n",
    "dt_model = tree.DecisionTreeClassifier()\n",
    "param_grid_dt = {\n",
    "     \n",
    "}\n",
    "cv_array = [2,3,4,5]\n",
    "for cv in cv_array:\n",
    "    gridSearchRF = GridSearchCV(estimator=dt_model, param_grid=param_grid_dt, scoring='accuracy', n_jobs=-1, cv=cv)\n",
    "    gridSearchRF.fit(X, Y)\n",
    "    print(\"CV value : \", cv)\n",
    "    print(\"Parameters : \", gridSearchRF.best_params_)\n",
    "    print(\"Accuracy :  %0.3f\" % (gridSearchRF.best_score_*100))\n",
    "    print(\"Standed deviation :  %0.3f\" % (gridSearchRF.cv_results_['std_test_score'][gridSearchRF.best_index_]*100))"
   ]
  },
  {
   "cell_type": "code",
   "execution_count": 53,
   "metadata": {},
   "outputs": [
    {
     "name": "stdout",
     "output_type": "stream",
     "text": [
      "CV value :  2\n",
      "Parameters :  {'random_state': 0}\n",
      "Accuracy :  87.069\n",
      "Standed deviation :  2.586\n",
      "CV value :  3\n",
      "Parameters :  {'random_state': 3}\n",
      "Accuracy :  92.218\n",
      "Standed deviation :  2.205\n",
      "CV value :  4\n",
      "Parameters :  {'random_state': 0}\n",
      "Accuracy :  93.103\n",
      "Standed deviation :  2.438\n",
      "CV value :  5\n",
      "Parameters :  {'random_state': 0}\n",
      "Accuracy :  93.116\n",
      "Standed deviation :  3.445\n"
     ]
    }
   ],
   "source": [
    "# creating a Gradient boosting classifier\n",
    "gb_model = GradientBoostingClassifier()\n",
    "param_grid_gb = {\n",
    "     'random_state': [0, 1, 2,3,4,5 , 10, 20, 30, 40, 50]\n",
    "}\n",
    "for cv in cv_array:\n",
    "     gridSearchRF = GridSearchCV(estimator=gb_model, param_grid=param_grid_gb, scoring='accuracy', n_jobs=-1, cv=cv)\n",
    "     gridSearchRF.fit(X, Y)\n",
    "     print(\"CV value : \", cv)\n",
    "     print(\"Parameters : \", gridSearchRF.best_params_)\n",
    "     print(\"Accuracy :  %0.3f\" % (gridSearchRF.best_score_*100))\n",
    "     print(\"Standed deviation :  %0.3f\" % (gridSearchRF.cv_results_['std_test_score'][gridSearchRF.best_index_]*100))"
   ]
  },
  {
   "cell_type": "code",
   "execution_count": 54,
   "metadata": {},
   "outputs": [
    {
     "name": "stdout",
     "output_type": "stream",
     "text": [
      "CV value :  2\n",
      "Parameters :  {'n_neighbors': 3}\n",
      "Accuracy :  89.655\n",
      "Standed deviation :  0.000\n",
      "CV value :  3\n",
      "Parameters :  {'n_neighbors': 7}\n",
      "Accuracy :  93.095\n",
      "Standed deviation :  1.259\n",
      "CV value :  4\n",
      "Parameters :  {'n_neighbors': 7}\n",
      "Accuracy :  93.103\n",
      "Standed deviation :  4.223\n",
      "CV value :  5\n",
      "Parameters :  {'n_neighbors': 7}\n",
      "Accuracy :  93.116\n",
      "Standed deviation :  2.075\n"
     ]
    }
   ],
   "source": [
    "# creating a KNN classifier\n",
    "KNN_model =KNeighborsClassifier()\n",
    "param_grid_knn = {\n",
    "     'n_neighbors': [3, 5, 7, 11, 13, 17]\n",
    "}\n",
    "for cv in cv_array:\n",
    "     gridSearchRF = GridSearchCV(estimator=KNN_model, param_grid=param_grid_knn, scoring='accuracy', n_jobs=-1, cv=cv)\n",
    "     gridSearchRF.fit(X, Y)\n",
    "     print(\"CV value : \", cv)\n",
    "     print(\"Parameters : \", gridSearchRF.best_params_)\n",
    "     print(\"Accuracy :  %0.3f\" % (gridSearchRF.best_score_*100))\n",
    "     print(\"Standed deviation :  %0.3f\" % (gridSearchRF.cv_results_['std_test_score'][gridSearchRF.best_index_]*100))"
   ]
  },
  {
   "cell_type": "code",
   "execution_count": 55,
   "metadata": {},
   "outputs": [
    {
     "name": "stdout",
     "output_type": "stream",
     "text": [
      "CV value :  2\n",
      "Parameters :  {'max_iter': 100}\n",
      "Accuracy :  86.207\n",
      "Standed deviation :  1.724\n",
      "CV value :  3\n",
      "Parameters :  {'max_iter': 100}\n",
      "Accuracy :  87.899\n",
      "Standed deviation :  2.608\n",
      "CV value :  4\n",
      "Parameters :  {'max_iter': 100}\n",
      "Accuracy :  88.793\n",
      "Standed deviation :  5.100\n",
      "CV value :  5\n",
      "Parameters :  {'max_iter': 100}\n",
      "Accuracy :  88.804\n",
      "Standed deviation :  5.870\n"
     ]
    }
   ],
   "source": [
    "# creating a Lgistic regression classifier\n",
    "lr_model = LogisticRegression() \n",
    "\n",
    "param_grid_lr = {\n",
    "     'max_iter': [100, 200, 300, 400, 500]\n",
    "}\n",
    "for cv in cv_array:\n",
    "     gridSearchRF = GridSearchCV(estimator=lr_model, param_grid=param_grid_lr, scoring='accuracy', n_jobs=-1, cv=cv)\n",
    "     gridSearchRF.fit(X, Y)\n",
    "     print(\"CV value : \", cv)\n",
    "     print(\"Parameters : \", gridSearchRF.best_params_)\n",
    "     print(\"Accuracy :  %0.3f\" % (gridSearchRF.best_score_*100))\n",
    "     print(\"Standed deviation :  %0.3f\" % (gridSearchRF.cv_results_['std_test_score'][gridSearchRF.best_index_]*100))\n"
   ]
  },
  {
   "cell_type": "code",
   "execution_count": 56,
   "metadata": {},
   "outputs": [
    {
     "name": "stdout",
     "output_type": "stream",
     "text": [
      "CV value :  2\n",
      "Parameters :  {}\n",
      "Accuracy :  93.966\n",
      "Standed deviation :  2.586\n",
      "CV value :  3\n",
      "Parameters :  {}\n",
      "Accuracy :  93.927\n",
      "Standed deviation :  3.318\n",
      "CV value :  4\n",
      "Parameters :  {}\n",
      "Accuracy :  92.241\n",
      "Standed deviation :  2.859\n",
      "CV value :  5\n",
      "Parameters :  {}\n",
      "Accuracy :  93.949\n",
      "Standed deviation :  2.161\n"
     ]
    }
   ],
   "source": [
    "# creating a Nave Bayers classifier\n",
    "nb_model = MultinomialNB()\n",
    "param_grid_nb = {\n",
    "\n",
    "}\n",
    "for cv in cv_array:\n",
    "    gridSearchRF = GridSearchCV(estimator=nb_model, param_grid=param_grid_nb, scoring='accuracy', n_jobs=-1, cv=cv)\n",
    "    gridSearchRF.fit(X, Y)\n",
    "    print(\"CV value : \", cv)\n",
    "    print(\"Parameters : \", gridSearchRF.best_params_)\n",
    "    print(\"Accuracy :  %0.3f\" % (gridSearchRF.best_score_*100))\n",
    "    print(\"Standed deviation :  %0.3f\" % (gridSearchRF.cv_results_['std_test_score'][gridSearchRF.best_index_]*100))\n"
   ]
  },
  {
   "cell_type": "code",
   "execution_count": 57,
   "metadata": {},
   "outputs": [
    {
     "name": "stdout",
     "output_type": "stream",
     "text": [
      "CV value :  2\n",
      "Parameters :  {'kernel': 'poly'}\n",
      "Accuracy :  89.655\n",
      "Standed deviation :  3.448\n",
      "CV value :  3\n",
      "Parameters :  {'kernel': 'poly'}\n",
      "Accuracy :  94.827\n",
      "Standed deviation :  2.095\n",
      "CV value :  4\n",
      "Parameters :  {'kernel': 'rbf'}\n",
      "Accuracy :  90.517\n",
      "Standed deviation :  3.758\n",
      "CV value :  5\n",
      "Parameters :  {'kernel': 'poly'}\n",
      "Accuracy :  93.152\n",
      "Standed deviation :  6.973\n"
     ]
    }
   ],
   "source": [
    "# creating a SVM classifier\n",
    "svm_model = svm.SVC()\n",
    "param_grid_svm = {\n",
    "     'kernel': ['linear', 'poly', 'rbf', 'sigmoid']\n",
    "}\n",
    "\n",
    "for cv in cv_array:\n",
    "     gridSearchRF = GridSearchCV(estimator=svm_model, param_grid=param_grid_svm, scoring='accuracy', n_jobs=-1, cv=cv)\n",
    "     gridSearchRF.fit(X, Y)\n",
    "     print(\"CV value : \", cv)\n",
    "     print(\"Parameters : \", gridSearchRF.best_params_)\n",
    "     print(\"Accuracy :  %0.3f\" % (gridSearchRF.best_score_*100))\n",
    "     print(\"Standed deviation :  %0.3f\" % (gridSearchRF.cv_results_['std_test_score'][gridSearchRF.best_index_]*100))\n"
   ]
  },
  {
   "cell_type": "code",
   "execution_count": 58,
   "metadata": {},
   "outputs": [
    {
     "name": "stdout",
     "output_type": "stream",
     "text": [
      "CV value :  2\n",
      "Parameters :  {'max_depth': 90, 'max_features': 6, 'n_estimators': 100}\n",
      "Accuracy :  95.690\n",
      "Standed deviation :  0.862\n",
      "CV value :  3\n",
      "Parameters :  {'max_depth': 80, 'max_features': 5, 'n_estimators': 200}\n",
      "Accuracy :  93.950\n",
      "Standed deviation :  1.304\n",
      "CV value :  4\n",
      "Parameters :  {'max_depth': 80, 'max_features': 3, 'n_estimators': 100}\n",
      "Accuracy :  94.828\n",
      "Standed deviation :  5.172\n",
      "CV value :  5\n",
      "Parameters :  {'max_depth': 80, 'max_features': 5, 'n_estimators': 200}\n",
      "Accuracy :  94.819\n",
      "Standed deviation :  1.759\n"
     ]
    }
   ],
   "source": [
    "# creating a Random forest classifier\n",
    "rf = RandomForestClassifier()\n",
    "param_grid_rf = {\n",
    "     'max_depth': [80, 90, 100, 110, 150, 200, 300],\n",
    "     'max_features': [2, 3, 4, 5,6],\n",
    "     'n_estimators': [100, 200, 300]\n",
    "}\n",
    "\n",
    "for cv in cv_array:\n",
    "     gridSearchRF = GridSearchCV(estimator=rf, param_grid=param_grid_rf, scoring='accuracy', n_jobs=-1, cv=cv)\n",
    "     gridSearchRF.fit(X, Y)\n",
    "     print(\"CV value : \", cv)\n",
    "     print(\"Parameters : \", gridSearchRF.best_params_)\n",
    "     print(\"Accuracy :  %0.3f\" % (gridSearchRF.best_score_*100))\n",
    "     print(\"Standed deviation :  %0.3f\" % (gridSearchRF.cv_results_['std_test_score'][gridSearchRF.best_index_]*100))"
   ]
  }
 ],
 "metadata": {
  "kernelspec": {
   "display_name": "Python 3.9.13 ('base')",
   "language": "python",
   "name": "python3"
  },
  "language_info": {
   "codemirror_mode": {
    "name": "ipython",
    "version": 3
   },
   "file_extension": ".py",
   "mimetype": "text/x-python",
   "name": "python",
   "nbconvert_exporter": "python",
   "pygments_lexer": "ipython3",
   "version": "3.9.13 (main, Oct 13 2022, 21:23:06) [MSC v.1916 64 bit (AMD64)]"
  },
  "orig_nbformat": 4,
  "vscode": {
   "interpreter": {
    "hash": "dd78fe5a17d57d1a86104509f6d28e1e730005acb4374104044dd451171eb7b3"
   }
  }
 },
 "nbformat": 4,
 "nbformat_minor": 2
}
