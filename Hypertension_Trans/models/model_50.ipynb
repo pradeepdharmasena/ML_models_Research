{
 "cells": [
  {
   "cell_type": "code",
   "execution_count": 17,
   "metadata": {},
   "outputs": [],
   "source": [
    "import numpy as np;\n",
    "import pandas as pd;\n",
    "import matplotlib.pyplot as plt\n",
    "import sklearn.metrics as sm\n",
    "from sklearn.preprocessing import LabelEncoder\n",
    "from sklearn.model_selection import cross_val_score\n",
    "from sklearn.model_selection import GridSearchCV\n",
    "from sklearn.preprocessing import MinMaxScaler\n",
    "\n",
    "from scipy import stats\n",
    "from sklearn import tree\n",
    "from sklearn.ensemble import GradientBoostingClassifier\n",
    "from sklearn.neighbors import KNeighborsClassifier\n",
    "from sklearn.linear_model import LogisticRegression\n",
    "from sklearn.naive_bayes import MultinomialNB,BernoulliNB\n",
    "from sklearn.ensemble import RandomForestClassifier\n",
    "from sklearn import tree\n",
    "from sklearn import svm\n",
    "import seaborn as sb\n",
    "from imblearn.under_sampling import RandomUnderSampler\n",
    "from imblearn.over_sampling import SMOTE"
   ]
  },
  {
   "cell_type": "code",
   "execution_count": 18,
   "metadata": {},
   "outputs": [
    {
     "name": "stdout",
     "output_type": "stream",
     "text": [
      "   ILMN_1651296  ILMN_1654609  ILMN_1655864  ILMN_1657898  ILMN_1660357  \\\n",
      "0        9.3790       13.1600        9.1206        8.9263        9.5279   \n",
      "1        9.3431       13.6183        9.6620        8.6274        9.5668   \n",
      "2        8.7567       12.5893        8.9047        8.3385        8.6186   \n",
      "3        8.7806       12.4219        8.7785        8.2053        8.4064   \n",
      "4        8.5279       12.0954        8.4493        8.2168        8.4192   \n",
      "\n",
      "   ILMN_1667500  ILMN_1670218  ILMN_1670638  ILMN_1671005  ILMN_1677756  ...  \\\n",
      "0        8.4448       11.3745       11.0382       11.4310        9.9916  ...   \n",
      "1        8.3387       11.7645       11.4380       12.1278       10.5783  ...   \n",
      "2        8.0199       10.2609        9.5454       10.5202        9.3776  ...   \n",
      "3        8.0968       10.1913        9.4288       10.2085        8.4853  ...   \n",
      "4        8.1602       10.0457        9.3820       10.1140        8.5531  ...   \n",
      "\n",
      "   ILMN_1805111  ILMN_1812970  ILMN_1852793  ILMN_1875248  ILMN_2082762  \\\n",
      "0        8.7189        8.9913       11.5808        8.2650       11.1457   \n",
      "1        8.6977        9.1648       12.2897        8.7945       11.7188   \n",
      "2        8.0117        8.4208       10.8190        8.5512       10.8772   \n",
      "3        8.0544        8.2253       10.4764        8.4394       10.2786   \n",
      "4        7.9513        8.0290       10.4831        8.4529       10.1435   \n",
      "\n",
      "   ILMN_2159384  ILMN_2203896  ILMN_2272857  ILMN_2359627  Results  \n",
      "0        9.7306       10.5498        9.4560        8.4001  control  \n",
      "1        9.8929       10.6225        9.5200        8.7299  control  \n",
      "2        8.9173        9.1936        8.6917        8.3184  control  \n",
      "3        8.8102        9.2249        8.7210        8.3509  control  \n",
      "4        8.7016        9.2346        8.6942        8.4000  control  \n",
      "\n",
      "[5 rows x 51 columns]\n"
     ]
    }
   ],
   "source": [
    "df = pd.read_csv(\"../data/selected_M_best50.csv\")\n",
    "df = df.drop_duplicates()\n",
    "print(df.head())"
   ]
  },
  {
   "cell_type": "code",
   "execution_count": 19,
   "metadata": {},
   "outputs": [],
   "source": [
    "def map_results(inpt):\n",
    "    if inpt == 'control':\n",
    "        return 0;\n",
    "\n",
    "    else:\n",
    "        return 1;"
   ]
  },
  {
   "cell_type": "code",
   "execution_count": 20,
   "metadata": {},
   "outputs": [
    {
     "name": "stdout",
     "output_type": "stream",
     "text": [
      "   ILMN_1651296  ILMN_1654609  ILMN_1655864  ILMN_1657898  ILMN_1660357  \\\n",
      "0        9.3790       13.1600        9.1206        8.9263        9.5279   \n",
      "1        9.3431       13.6183        9.6620        8.6274        9.5668   \n",
      "2        8.7567       12.5893        8.9047        8.3385        8.6186   \n",
      "3        8.7806       12.4219        8.7785        8.2053        8.4064   \n",
      "4        8.5279       12.0954        8.4493        8.2168        8.4192   \n",
      "\n",
      "   ILMN_1667500  ILMN_1670218  ILMN_1670638  ILMN_1671005  ILMN_1677756  ...  \\\n",
      "0        8.4448       11.3745       11.0382       11.4310        9.9916  ...   \n",
      "1        8.3387       11.7645       11.4380       12.1278       10.5783  ...   \n",
      "2        8.0199       10.2609        9.5454       10.5202        9.3776  ...   \n",
      "3        8.0968       10.1913        9.4288       10.2085        8.4853  ...   \n",
      "4        8.1602       10.0457        9.3820       10.1140        8.5531  ...   \n",
      "\n",
      "   ILMN_1805111  ILMN_1812970  ILMN_1852793  ILMN_1875248  ILMN_2082762  \\\n",
      "0        8.7189        8.9913       11.5808        8.2650       11.1457   \n",
      "1        8.6977        9.1648       12.2897        8.7945       11.7188   \n",
      "2        8.0117        8.4208       10.8190        8.5512       10.8772   \n",
      "3        8.0544        8.2253       10.4764        8.4394       10.2786   \n",
      "4        7.9513        8.0290       10.4831        8.4529       10.1435   \n",
      "\n",
      "   ILMN_2159384  ILMN_2203896  ILMN_2272857  ILMN_2359627  Results  \n",
      "0        9.7306       10.5498        9.4560        8.4001        0  \n",
      "1        9.8929       10.6225        9.5200        8.7299        0  \n",
      "2        8.9173        9.1936        8.6917        8.3184        0  \n",
      "3        8.8102        9.2249        8.7210        8.3509        0  \n",
      "4        8.7016        9.2346        8.6942        8.4000        0  \n",
      "\n",
      "[5 rows x 51 columns]\n"
     ]
    }
   ],
   "source": [
    "df['Results'] = df['Results'].apply(map_results)\n",
    "print(df.head())"
   ]
  },
  {
   "cell_type": "code",
   "execution_count": 21,
   "metadata": {},
   "outputs": [
    {
     "data": {
      "text/html": [
       "<div>\n",
       "<style scoped>\n",
       "    .dataframe tbody tr th:only-of-type {\n",
       "        vertical-align: middle;\n",
       "    }\n",
       "\n",
       "    .dataframe tbody tr th {\n",
       "        vertical-align: top;\n",
       "    }\n",
       "\n",
       "    .dataframe thead th {\n",
       "        text-align: right;\n",
       "    }\n",
       "</style>\n",
       "<table border=\"1\" class=\"dataframe\">\n",
       "  <thead>\n",
       "    <tr style=\"text-align: right;\">\n",
       "      <th></th>\n",
       "      <th>ILMN_1651296</th>\n",
       "      <th>ILMN_1654609</th>\n",
       "      <th>ILMN_1655864</th>\n",
       "      <th>ILMN_1657898</th>\n",
       "      <th>ILMN_1660357</th>\n",
       "      <th>ILMN_1667500</th>\n",
       "      <th>ILMN_1670218</th>\n",
       "      <th>ILMN_1670638</th>\n",
       "      <th>ILMN_1671005</th>\n",
       "      <th>ILMN_1677756</th>\n",
       "      <th>...</th>\n",
       "      <th>ILMN_1805111</th>\n",
       "      <th>ILMN_1812970</th>\n",
       "      <th>ILMN_1852793</th>\n",
       "      <th>ILMN_1875248</th>\n",
       "      <th>ILMN_2082762</th>\n",
       "      <th>ILMN_2159384</th>\n",
       "      <th>ILMN_2203896</th>\n",
       "      <th>ILMN_2272857</th>\n",
       "      <th>ILMN_2359627</th>\n",
       "      <th>Results</th>\n",
       "    </tr>\n",
       "  </thead>\n",
       "  <tbody>\n",
       "    <tr>\n",
       "      <th>count</th>\n",
       "      <td>140.000000</td>\n",
       "      <td>140.000000</td>\n",
       "      <td>140.000000</td>\n",
       "      <td>140.000000</td>\n",
       "      <td>140.000000</td>\n",
       "      <td>140.000000</td>\n",
       "      <td>140.000000</td>\n",
       "      <td>140.000000</td>\n",
       "      <td>140.000000</td>\n",
       "      <td>140.000000</td>\n",
       "      <td>...</td>\n",
       "      <td>140.000000</td>\n",
       "      <td>140.000000</td>\n",
       "      <td>140.000000</td>\n",
       "      <td>140.000000</td>\n",
       "      <td>140.000000</td>\n",
       "      <td>140.000000</td>\n",
       "      <td>140.000000</td>\n",
       "      <td>140.000000</td>\n",
       "      <td>140.000000</td>\n",
       "      <td>140.000000</td>\n",
       "    </tr>\n",
       "    <tr>\n",
       "      <th>mean</th>\n",
       "      <td>8.963658</td>\n",
       "      <td>12.634358</td>\n",
       "      <td>8.840350</td>\n",
       "      <td>8.361906</td>\n",
       "      <td>8.984964</td>\n",
       "      <td>8.240606</td>\n",
       "      <td>10.621906</td>\n",
       "      <td>10.079049</td>\n",
       "      <td>10.812333</td>\n",
       "      <td>9.293271</td>\n",
       "      <td>...</td>\n",
       "      <td>8.303556</td>\n",
       "      <td>8.365388</td>\n",
       "      <td>10.993503</td>\n",
       "      <td>8.377289</td>\n",
       "      <td>10.579364</td>\n",
       "      <td>9.127508</td>\n",
       "      <td>9.943714</td>\n",
       "      <td>8.906776</td>\n",
       "      <td>8.425519</td>\n",
       "      <td>0.707143</td>\n",
       "    </tr>\n",
       "    <tr>\n",
       "      <th>std</th>\n",
       "      <td>0.507967</td>\n",
       "      <td>0.787855</td>\n",
       "      <td>0.551345</td>\n",
       "      <td>0.348476</td>\n",
       "      <td>0.548652</td>\n",
       "      <td>0.238972</td>\n",
       "      <td>0.829364</td>\n",
       "      <td>0.666381</td>\n",
       "      <td>0.782629</td>\n",
       "      <td>0.642800</td>\n",
       "      <td>...</td>\n",
       "      <td>0.321369</td>\n",
       "      <td>0.479864</td>\n",
       "      <td>0.903003</td>\n",
       "      <td>0.385426</td>\n",
       "      <td>0.766060</td>\n",
       "      <td>0.610215</td>\n",
       "      <td>0.937709</td>\n",
       "      <td>0.424639</td>\n",
       "      <td>0.383808</td>\n",
       "      <td>0.456707</td>\n",
       "    </tr>\n",
       "    <tr>\n",
       "      <th>min</th>\n",
       "      <td>8.172100</td>\n",
       "      <td>9.570600</td>\n",
       "      <td>7.867800</td>\n",
       "      <td>7.708100</td>\n",
       "      <td>8.049400</td>\n",
       "      <td>7.830800</td>\n",
       "      <td>8.247400</td>\n",
       "      <td>8.495100</td>\n",
       "      <td>8.556300</td>\n",
       "      <td>8.120700</td>\n",
       "      <td>...</td>\n",
       "      <td>7.772500</td>\n",
       "      <td>7.618600</td>\n",
       "      <td>9.039600</td>\n",
       "      <td>7.758800</td>\n",
       "      <td>8.692200</td>\n",
       "      <td>7.852400</td>\n",
       "      <td>8.039000</td>\n",
       "      <td>8.108100</td>\n",
       "      <td>7.761100</td>\n",
       "      <td>0.000000</td>\n",
       "    </tr>\n",
       "    <tr>\n",
       "      <th>25%</th>\n",
       "      <td>8.595050</td>\n",
       "      <td>12.086050</td>\n",
       "      <td>8.413500</td>\n",
       "      <td>8.128750</td>\n",
       "      <td>8.536025</td>\n",
       "      <td>8.088375</td>\n",
       "      <td>9.999675</td>\n",
       "      <td>9.542500</td>\n",
       "      <td>10.215175</td>\n",
       "      <td>8.837150</td>\n",
       "      <td>...</td>\n",
       "      <td>8.045250</td>\n",
       "      <td>8.018450</td>\n",
       "      <td>10.398425</td>\n",
       "      <td>8.110900</td>\n",
       "      <td>10.006300</td>\n",
       "      <td>8.679300</td>\n",
       "      <td>9.309425</td>\n",
       "      <td>8.607750</td>\n",
       "      <td>8.161925</td>\n",
       "      <td>0.000000</td>\n",
       "    </tr>\n",
       "    <tr>\n",
       "      <th>50%</th>\n",
       "      <td>8.837400</td>\n",
       "      <td>12.694350</td>\n",
       "      <td>8.688850</td>\n",
       "      <td>8.254400</td>\n",
       "      <td>8.911400</td>\n",
       "      <td>8.159700</td>\n",
       "      <td>10.624050</td>\n",
       "      <td>10.149200</td>\n",
       "      <td>10.779850</td>\n",
       "      <td>9.161400</td>\n",
       "      <td>...</td>\n",
       "      <td>8.244350</td>\n",
       "      <td>8.155100</td>\n",
       "      <td>10.872250</td>\n",
       "      <td>8.260100</td>\n",
       "      <td>10.407700</td>\n",
       "      <td>9.066750</td>\n",
       "      <td>9.789650</td>\n",
       "      <td>8.758050</td>\n",
       "      <td>8.335400</td>\n",
       "      <td>1.000000</td>\n",
       "    </tr>\n",
       "    <tr>\n",
       "      <th>75%</th>\n",
       "      <td>9.262500</td>\n",
       "      <td>13.167725</td>\n",
       "      <td>9.193275</td>\n",
       "      <td>8.539750</td>\n",
       "      <td>9.307150</td>\n",
       "      <td>8.339600</td>\n",
       "      <td>11.230700</td>\n",
       "      <td>10.619300</td>\n",
       "      <td>11.397900</td>\n",
       "      <td>9.810575</td>\n",
       "      <td>...</td>\n",
       "      <td>8.530425</td>\n",
       "      <td>8.649025</td>\n",
       "      <td>11.544025</td>\n",
       "      <td>8.596925</td>\n",
       "      <td>11.145700</td>\n",
       "      <td>9.559950</td>\n",
       "      <td>10.440125</td>\n",
       "      <td>9.234700</td>\n",
       "      <td>8.562700</td>\n",
       "      <td>1.000000</td>\n",
       "    </tr>\n",
       "    <tr>\n",
       "      <th>max</th>\n",
       "      <td>10.410700</td>\n",
       "      <td>13.997800</td>\n",
       "      <td>10.372400</td>\n",
       "      <td>9.626600</td>\n",
       "      <td>10.658800</td>\n",
       "      <td>9.235600</td>\n",
       "      <td>12.168300</td>\n",
       "      <td>11.499200</td>\n",
       "      <td>12.475300</td>\n",
       "      <td>11.004100</td>\n",
       "      <td>...</td>\n",
       "      <td>9.153700</td>\n",
       "      <td>9.860400</td>\n",
       "      <td>13.282500</td>\n",
       "      <td>9.530000</td>\n",
       "      <td>12.434900</td>\n",
       "      <td>10.433700</td>\n",
       "      <td>13.061800</td>\n",
       "      <td>10.149800</td>\n",
       "      <td>9.909400</td>\n",
       "      <td>1.000000</td>\n",
       "    </tr>\n",
       "  </tbody>\n",
       "</table>\n",
       "<p>8 rows × 51 columns</p>\n",
       "</div>"
      ],
      "text/plain": [
       "       ILMN_1651296  ILMN_1654609  ILMN_1655864  ILMN_1657898  ILMN_1660357  \\\n",
       "count    140.000000    140.000000    140.000000    140.000000    140.000000   \n",
       "mean       8.963658     12.634358      8.840350      8.361906      8.984964   \n",
       "std        0.507967      0.787855      0.551345      0.348476      0.548652   \n",
       "min        8.172100      9.570600      7.867800      7.708100      8.049400   \n",
       "25%        8.595050     12.086050      8.413500      8.128750      8.536025   \n",
       "50%        8.837400     12.694350      8.688850      8.254400      8.911400   \n",
       "75%        9.262500     13.167725      9.193275      8.539750      9.307150   \n",
       "max       10.410700     13.997800     10.372400      9.626600     10.658800   \n",
       "\n",
       "       ILMN_1667500  ILMN_1670218  ILMN_1670638  ILMN_1671005  ILMN_1677756  \\\n",
       "count    140.000000    140.000000    140.000000    140.000000    140.000000   \n",
       "mean       8.240606     10.621906     10.079049     10.812333      9.293271   \n",
       "std        0.238972      0.829364      0.666381      0.782629      0.642800   \n",
       "min        7.830800      8.247400      8.495100      8.556300      8.120700   \n",
       "25%        8.088375      9.999675      9.542500     10.215175      8.837150   \n",
       "50%        8.159700     10.624050     10.149200     10.779850      9.161400   \n",
       "75%        8.339600     11.230700     10.619300     11.397900      9.810575   \n",
       "max        9.235600     12.168300     11.499200     12.475300     11.004100   \n",
       "\n",
       "       ...  ILMN_1805111  ILMN_1812970  ILMN_1852793  ILMN_1875248  \\\n",
       "count  ...    140.000000    140.000000    140.000000    140.000000   \n",
       "mean   ...      8.303556      8.365388     10.993503      8.377289   \n",
       "std    ...      0.321369      0.479864      0.903003      0.385426   \n",
       "min    ...      7.772500      7.618600      9.039600      7.758800   \n",
       "25%    ...      8.045250      8.018450     10.398425      8.110900   \n",
       "50%    ...      8.244350      8.155100     10.872250      8.260100   \n",
       "75%    ...      8.530425      8.649025     11.544025      8.596925   \n",
       "max    ...      9.153700      9.860400     13.282500      9.530000   \n",
       "\n",
       "       ILMN_2082762  ILMN_2159384  ILMN_2203896  ILMN_2272857  ILMN_2359627  \\\n",
       "count    140.000000    140.000000    140.000000    140.000000    140.000000   \n",
       "mean      10.579364      9.127508      9.943714      8.906776      8.425519   \n",
       "std        0.766060      0.610215      0.937709      0.424639      0.383808   \n",
       "min        8.692200      7.852400      8.039000      8.108100      7.761100   \n",
       "25%       10.006300      8.679300      9.309425      8.607750      8.161925   \n",
       "50%       10.407700      9.066750      9.789650      8.758050      8.335400   \n",
       "75%       11.145700      9.559950     10.440125      9.234700      8.562700   \n",
       "max       12.434900     10.433700     13.061800     10.149800      9.909400   \n",
       "\n",
       "          Results  \n",
       "count  140.000000  \n",
       "mean     0.707143  \n",
       "std      0.456707  \n",
       "min      0.000000  \n",
       "25%      0.000000  \n",
       "50%      1.000000  \n",
       "75%      1.000000  \n",
       "max      1.000000  \n",
       "\n",
       "[8 rows x 51 columns]"
      ]
     },
     "execution_count": 21,
     "metadata": {},
     "output_type": "execute_result"
    }
   ],
   "source": [
    "\n",
    "df.describe()"
   ]
  },
  {
   "cell_type": "code",
   "execution_count": 22,
   "metadata": {},
   "outputs": [
    {
     "name": "stdout",
     "output_type": "stream",
     "text": [
      "['ILMN_1651296', 'ILMN_1654609', 'ILMN_1655864', 'ILMN_1657898', 'ILMN_1660357', 'ILMN_1667500', 'ILMN_1670218', 'ILMN_1670638', 'ILMN_1671005', 'ILMN_1677756', 'ILMN_1679045', 'ILMN_1687526', 'ILMN_1693635', 'ILMN_1698404', 'ILMN_1701962', 'ILMN_1704335', 'ILMN_1706859', 'ILMN_1707631', 'ILMN_1713189', 'ILMN_1713764', 'ILMN_1715771', 'ILMN_1725707', 'ILMN_1729832', 'ILMN_1732141', 'ILMN_1740875', 'ILMN_1745788', 'ILMN_1755643', 'ILMN_1755911', 'ILMN_1758687', 'ILMN_1762080', 'ILMN_1763364', 'ILMN_1765725', 'ILMN_1767168', 'ILMN_1768391', 'ILMN_1772796', 'ILMN_1775304', 'ILMN_1780334', 'ILMN_1785732', 'ILMN_1794233', 'ILMN_1798706', 'ILMN_1804988', 'ILMN_1805111', 'ILMN_1812970', 'ILMN_1852793', 'ILMN_1875248', 'ILMN_2082762', 'ILMN_2159384', 'ILMN_2203896', 'ILMN_2272857', 'ILMN_2359627', 'Results']\n",
      "51\n"
     ]
    }
   ],
   "source": [
    "df_features = list(df.columns)\n",
    "print(df_features)\n",
    "print(len(df.columns))"
   ]
  },
  {
   "cell_type": "code",
   "execution_count": 23,
   "metadata": {},
   "outputs": [
    {
     "data": {
      "image/png": "[encoded data removed]",
      "text/plain": [
       "<Figure size 1440x1440 with 52 Axes>"
      ]
     },
     "metadata": {
      "needs_background": "light"
     },
     "output_type": "display_data"
    }
   ],
   "source": [
    "fig, axes = plt.subplots(13,4, figsize=(20,20))\n",
    "x_,y_ = 0,0\n",
    "for i, column in enumerate(df.columns[0:]):    \n",
    "    sb.boxplot(x=df[column], ax=axes[x_,y_], palette=\"Set2\")\n",
    "    if i < 3:\n",
    "        y_ += 1\n",
    "    elif i == 3: \n",
    "        x_ = 1\n",
    "        y_ = 0\n",
    "    elif i == 7:\n",
    "        x_ = 2\n",
    "        y_ = 0\n",
    "    elif i == 11: \n",
    "        x_ = 3\n",
    "        y_ = 0\n",
    "    elif i == 15:\n",
    "        x_ = 4\n",
    "        y_ = 0\n",
    "    elif i == 19:\n",
    "        x_ = 5\n",
    "        y_ = 0\n",
    "    elif i == 23:\n",
    "        x_ = 6\n",
    "        y_ = 0 \n",
    "    elif i == 27:\n",
    "        x_ = 7\n",
    "        y_ = 0\n",
    "    elif i == 31: \n",
    "        x_ = 8\n",
    "        y_ = 0\n",
    "    elif i == 35:\n",
    "        x_ = 9\n",
    "        y_ = 0\n",
    "    elif i == 39: \n",
    "        x_ = 10\n",
    "        y_ = 0\n",
    "    elif i == 43:\n",
    "        x_ = 11\n",
    "        y_ = 0\n",
    "    elif i == 47:\n",
    "        x_ = 12\n",
    "        y_ = 0\n",
    "\n",
    "    else:\n",
    "        y_ += 1"
   ]
  },
  {
   "cell_type": "code",
   "execution_count": 24,
   "metadata": {},
   "outputs": [
    {
     "name": "stdout",
     "output_type": "stream",
     "text": [
      "Index(['ILMN_1651296', 'ILMN_1654609', 'ILMN_1655864', 'ILMN_1657898',\n",
      "       'ILMN_1660357', 'ILMN_1667500', 'ILMN_1670218', 'ILMN_1670638',\n",
      "       'ILMN_1671005', 'ILMN_1677756', 'ILMN_1679045', 'ILMN_1687526',\n",
      "       'ILMN_1693635', 'ILMN_1698404', 'ILMN_1701962', 'ILMN_1704335',\n",
      "       'ILMN_1706859', 'ILMN_1707631', 'ILMN_1713189', 'ILMN_1713764',\n",
      "       'ILMN_1715771', 'ILMN_1725707', 'ILMN_1729832', 'ILMN_1732141',\n",
      "       'ILMN_1740875', 'ILMN_1745788', 'ILMN_1755643', 'ILMN_1755911',\n",
      "       'ILMN_1758687', 'ILMN_1762080', 'ILMN_1763364', 'ILMN_1765725',\n",
      "       'ILMN_1767168', 'ILMN_1768391', 'ILMN_1772796', 'ILMN_1775304',\n",
      "       'ILMN_1780334', 'ILMN_1785732', 'ILMN_1794233', 'ILMN_1798706',\n",
      "       'ILMN_1804988', 'ILMN_1805111', 'ILMN_1812970', 'ILMN_1852793',\n",
      "       'ILMN_1875248', 'ILMN_2082762', 'ILMN_2159384', 'ILMN_2203896',\n",
      "       'ILMN_2272857', 'ILMN_2359627', 'Results'],\n",
      "      dtype='object')\n",
      "   ILMN_1651296  ILMN_1654609  ILMN_1655864  ILMN_1657898  ILMN_1660357  \\\n",
      "0      0.539132      0.810761      0.500200      0.634975      0.566605   \n",
      "1      0.523095      0.914280      0.716362      0.479176      0.581513   \n",
      "2      0.261145      0.681853      0.413998      0.328590      0.218134   \n",
      "3      0.271822      0.644041      0.363611      0.259161      0.136813   \n",
      "4      0.158939      0.570293      0.232173      0.265155      0.141718   \n",
      "\n",
      "   ILMN_1667500  ILMN_1670218  ILMN_1670638  ILMN_1671005  ILMN_1677756  ...  \\\n",
      "0      0.437073      0.797546      0.846543      0.733529      0.648852  ...   \n",
      "1      0.361546      0.897013      0.979628      0.911329      0.852327  ...   \n",
      "2      0.134610      0.513530      0.349622      0.501123      0.435909  ...   \n",
      "3      0.189351      0.495779      0.310809      0.421587      0.126448  ...   \n",
      "4      0.234482      0.458645      0.295230      0.397474      0.149962  ...   \n",
      "\n",
      "   ILMN_1805111  ILMN_1812970  ILMN_1852793  ILMN_1875248  ILMN_2082762  \\\n",
      "0      0.685201      0.612320      0.598930      0.285795      0.655543   \n",
      "1      0.669852      0.689714      0.766009      0.584745      0.808668   \n",
      "2      0.173183      0.357837      0.419383      0.447380      0.583803   \n",
      "3      0.204098      0.270631      0.338636      0.384259      0.423865   \n",
      "4      0.129453      0.183067      0.340215      0.391881      0.387768   \n",
      "\n",
      "   ILMN_2159384  ILMN_2203896  ILMN_2272857  ILMN_2359627  Results  \n",
      "0      0.727618      0.499881      0.660185      0.297444      0.0  \n",
      "1      0.790493      0.514355      0.691532      0.450961      0.0  \n",
      "2      0.412544      0.229872      0.285840      0.259414      0.0  \n",
      "3      0.371053      0.236103      0.300191      0.274543      0.0  \n",
      "4      0.328982      0.238035      0.287065      0.297398      0.0  \n",
      "\n",
      "[5 rows x 51 columns]\n"
     ]
    }
   ],
   "source": [
    "cols = df.columns\n",
    "print(cols)\n",
    "scaler = MinMaxScaler()\n",
    "dat = scaler.fit_transform(df)\n",
    "df_02 = pd.DataFrame(data=dat, columns=cols)  \n",
    "print(df_02.head())"
   ]
  },
  {
   "cell_type": "code",
   "execution_count": 25,
   "metadata": {},
   "outputs": [
    {
     "name": "stdout",
     "output_type": "stream",
     "text": [
      "1    99\n",
      "0    41\n",
      "Name: Results, dtype: int64\n"
     ]
    }
   ],
   "source": [
    "x = df_02.drop([\"Results\"], axis =1);\n",
    "y = df[\"Results\"]\n",
    "print(y.value_counts())"
   ]
  },
  {
   "cell_type": "code",
   "execution_count": 26,
   "metadata": {},
   "outputs": [
    {
     "data": {
      "text/plain": [
       "(array([41.,  0.,  0.,  0.,  0.,  0.,  0.,  0.,  0., 99.]),\n",
       " array([0. , 0.1, 0.2, 0.3, 0.4, 0.5, 0.6, 0.7, 0.8, 0.9, 1. ]),\n",
       " <BarContainer object of 10 artists>)"
      ]
     },
     "execution_count": 26,
     "metadata": {},
     "output_type": "execute_result"
    },
    {
     "data": {
      "image/png": "[encoded data removed]",
      "text/plain": [
       "<Figure size 432x288 with 1 Axes>"
      ]
     },
     "metadata": {
      "needs_background": "light"
     },
     "output_type": "display_data"
    }
   ],
   "source": [
    "plt.hist(y)"
   ]
  },
  {
   "cell_type": "code",
   "execution_count": 27,
   "metadata": {},
   "outputs": [
    {
     "name": "stdout",
     "output_type": "stream",
     "text": [
      "1    58\n",
      "0    41\n",
      "Name: Results, dtype: int64\n"
     ]
    },
    {
     "data": {
      "text/plain": [
       "(array([41.,  0.,  0.,  0.,  0.,  0.,  0.,  0.,  0., 58.]),\n",
       " array([0. , 0.1, 0.2, 0.3, 0.4, 0.5, 0.6, 0.7, 0.8, 0.9, 1. ]),\n",
       " <BarContainer object of 10 artists>)"
      ]
     },
     "execution_count": 27,
     "metadata": {},
     "output_type": "execute_result"
    },
    {
     "data": {
      "image/png": "[encoded data removed]",
      "text/plain": [
       "<Figure size 432x288 with 1 Axes>"
      ]
     },
     "metadata": {
      "needs_background": "light"
     },
     "output_type": "display_data"
    }
   ],
   "source": [
    "# transform the dataset\n",
    "under = RandomUnderSampler(sampling_strategy= 0.7)\n",
    "X, Y = under.fit_resample(x, y)\n",
    "print(Y.value_counts())\n",
    "plt.hist(Y)"
   ]
  },
  {
   "cell_type": "code",
   "execution_count": 28,
   "metadata": {},
   "outputs": [
    {
     "name": "stdout",
     "output_type": "stream",
     "text": [
      "0    58\n",
      "1    58\n",
      "Name: Results, dtype: int64\n"
     ]
    },
    {
     "data": {
      "text/plain": [
       "(array([58.,  0.,  0.,  0.,  0.,  0.,  0.,  0.,  0., 58.]),\n",
       " array([0. , 0.1, 0.2, 0.3, 0.4, 0.5, 0.6, 0.7, 0.8, 0.9, 1. ]),\n",
       " <BarContainer object of 10 artists>)"
      ]
     },
     "execution_count": 28,
     "metadata": {},
     "output_type": "execute_result"
    },
    {
     "data": {
      "image/png": "[encoded data removed]",
      "text/plain": [
       "<Figure size 432x288 with 1 Axes>"
      ]
     },
     "metadata": {
      "needs_background": "light"
     },
     "output_type": "display_data"
    }
   ],
   "source": [
    "smt = SMOTE()\n",
    "X, Y = smt.fit_resample(X,Y)\n",
    "print(Y.value_counts())\n",
    "plt.hist(Y)"
   ]
  },
  {
   "cell_type": "code",
   "execution_count": 29,
   "metadata": {},
   "outputs": [
    {
     "name": "stdout",
     "output_type": "stream",
     "text": [
      "CV value :  2\n",
      "Parameters :  {}\n",
      "Accuracy :  87.931\n",
      "Standed deviation :  3.448\n",
      "CV value :  3\n",
      "Parameters :  {}\n",
      "Accuracy :  93.095\n",
      "Standed deviation :  5.281\n",
      "CV value :  4\n",
      "Parameters :  {}\n",
      "Accuracy :  85.345\n",
      "Standed deviation :  10.452\n",
      "CV value :  5\n",
      "Parameters :  {}\n",
      "Accuracy :  89.601\n",
      "Standed deviation :  6.541\n"
     ]
    }
   ],
   "source": [
    "# creating a decision tree classifier\n",
    "dt_model = tree.DecisionTreeClassifier()\n",
    "param_grid_dt = {\n",
    "     \n",
    "}\n",
    "cv_array = [2,3,4,5]\n",
    "for cv in cv_array:\n",
    "    gridSearchRF = GridSearchCV(estimator=dt_model, param_grid=param_grid_dt, scoring='accuracy', n_jobs=-1, cv=cv)\n",
    "    gridSearchRF.fit(X, Y)\n",
    "    print(\"CV value : \", cv)\n",
    "    print(\"Parameters : \", gridSearchRF.best_params_)\n",
    "    print(\"Accuracy :  %0.3f\" % (gridSearchRF.best_score_*100))\n",
    "    print(\"Standed deviation :  %0.3f\" % (gridSearchRF.cv_results_['std_test_score'][gridSearchRF.best_index_]*100))"
   ]
  },
  {
   "cell_type": "code",
   "execution_count": 30,
   "metadata": {},
   "outputs": [
    {
     "name": "stdout",
     "output_type": "stream",
     "text": [
      "CV value :  2\n",
      "Parameters :  {'random_state': 1}\n",
      "Accuracy :  89.655\n",
      "Standed deviation :  6.897\n",
      "CV value :  3\n",
      "Parameters :  {'random_state': 50}\n",
      "Accuracy :  89.586\n",
      "Standed deviation :  5.758\n",
      "CV value :  4\n",
      "Parameters :  {'random_state': 1}\n",
      "Accuracy :  87.931\n",
      "Standed deviation :  8.959\n",
      "CV value :  5\n",
      "Parameters :  {'random_state': 1}\n",
      "Accuracy :  90.435\n",
      "Standed deviation :  9.284\n"
     ]
    }
   ],
   "source": [
    "# creating a Gradient boosting classifier\n",
    "gb_model = GradientBoostingClassifier()\n",
    "param_grid_gb = {\n",
    "     'random_state': [0, 1, 2,3,4,5 , 10, 20, 30, 40, 50]\n",
    "}\n",
    "for cv in cv_array:\n",
    "     gridSearchRF = GridSearchCV(estimator=gb_model, param_grid=param_grid_gb, scoring='accuracy', n_jobs=-1, cv=cv)\n",
    "     gridSearchRF.fit(X, Y)\n",
    "     print(\"CV value : \", cv)\n",
    "     print(\"Parameters : \", gridSearchRF.best_params_)\n",
    "     print(\"Accuracy :  %0.3f\" % (gridSearchRF.best_score_*100))\n",
    "     print(\"Standed deviation :  %0.3f\" % (gridSearchRF.cv_results_['std_test_score'][gridSearchRF.best_index_]*100))"
   ]
  },
  {
   "cell_type": "code",
   "execution_count": 31,
   "metadata": {},
   "outputs": [
    {
     "name": "stdout",
     "output_type": "stream",
     "text": [
      "CV value :  2\n",
      "Parameters :  {'n_neighbors': 5}\n",
      "Accuracy :  94.828\n",
      "Standed deviation :  3.448\n",
      "CV value :  3\n",
      "Parameters :  {'n_neighbors': 3}\n",
      "Accuracy :  93.905\n",
      "Standed deviation :  5.415\n",
      "CV value :  4\n",
      "Parameters :  {'n_neighbors': 3}\n",
      "Accuracy :  93.966\n",
      "Standed deviation :  5.100\n",
      "CV value :  5\n",
      "Parameters :  {'n_neighbors': 3}\n",
      "Accuracy :  93.913\n",
      "Standed deviation :  5.217\n"
     ]
    }
   ],
   "source": [
    "# creating a KNN classifier\n",
    "KNN_model =KNeighborsClassifier()\n",
    "param_grid_knn = {\n",
    "     'n_neighbors': [3, 5, 7, 11, 13, 17]\n",
    "}\n",
    "for cv in cv_array:\n",
    "     gridSearchRF = GridSearchCV(estimator=KNN_model, param_grid=param_grid_knn, scoring='accuracy', n_jobs=-1, cv=cv)\n",
    "     gridSearchRF.fit(X, Y)\n",
    "     print(\"CV value : \", cv)\n",
    "     print(\"Parameters : \", gridSearchRF.best_params_)\n",
    "     print(\"Accuracy :  %0.3f\" % (gridSearchRF.best_score_*100))\n",
    "     print(\"Standed deviation :  %0.3f\" % (gridSearchRF.cv_results_['std_test_score'][gridSearchRF.best_index_]*100))"
   ]
  },
  {
   "cell_type": "code",
   "execution_count": 32,
   "metadata": {},
   "outputs": [
    {
     "name": "stdout",
     "output_type": "stream",
     "text": [
      "CV value :  2\n",
      "Parameters :  {'max_iter': 100}\n",
      "Accuracy :  88.793\n",
      "Standed deviation :  2.586\n",
      "CV value :  3\n",
      "Parameters :  {'max_iter': 100}\n",
      "Accuracy :  90.508\n",
      "Standed deviation :  1.277\n",
      "CV value :  4\n",
      "Parameters :  {'max_iter': 100}\n",
      "Accuracy :  89.655\n",
      "Standed deviation :  4.877\n",
      "CV value :  5\n",
      "Parameters :  {'max_iter': 100}\n",
      "Accuracy :  89.674\n",
      "Standed deviation :  5.167\n"
     ]
    }
   ],
   "source": [
    "# creating a Lgistic regression classifier\n",
    "lr_model = LogisticRegression() \n",
    "\n",
    "param_grid_lr = {\n",
    "     'max_iter': [100, 200, 300, 400, 500]\n",
    "}\n",
    "for cv in cv_array:\n",
    "     gridSearchRF = GridSearchCV(estimator=lr_model, param_grid=param_grid_lr, scoring='accuracy', n_jobs=-1, cv=cv)\n",
    "     gridSearchRF.fit(X, Y)\n",
    "     print(\"CV value : \", cv)\n",
    "     print(\"Parameters : \", gridSearchRF.best_params_)\n",
    "     print(\"Accuracy :  %0.3f\" % (gridSearchRF.best_score_*100))\n",
    "     print(\"Standed deviation :  %0.3f\" % (gridSearchRF.cv_results_['std_test_score'][gridSearchRF.best_index_]*100))\n"
   ]
  },
  {
   "cell_type": "code",
   "execution_count": 33,
   "metadata": {},
   "outputs": [
    {
     "name": "stdout",
     "output_type": "stream",
     "text": [
      "CV value :  2\n",
      "Parameters :  {}\n",
      "Accuracy :  93.103\n",
      "Standed deviation :  3.448\n",
      "CV value :  3\n",
      "Parameters :  {}\n",
      "Accuracy :  93.050\n",
      "Standed deviation :  4.513\n",
      "CV value :  4\n",
      "Parameters :  {}\n",
      "Accuracy :  91.379\n",
      "Standed deviation :  3.855\n",
      "CV value :  5\n",
      "Parameters :  {}\n",
      "Accuracy :  92.246\n",
      "Standed deviation :  4.248\n"
     ]
    }
   ],
   "source": [
    "# creating a Nave Bayers classifier\n",
    "nb_model = MultinomialNB()\n",
    "param_grid_nb = {\n",
    "\n",
    "}\n",
    "for cv in cv_array:\n",
    "    gridSearchRF = GridSearchCV(estimator=nb_model, param_grid=param_grid_nb, scoring='accuracy', n_jobs=-1, cv=cv)\n",
    "    gridSearchRF.fit(X, Y)\n",
    "    print(\"CV value : \", cv)\n",
    "    print(\"Parameters : \", gridSearchRF.best_params_)\n",
    "    print(\"Accuracy :  %0.3f\" % (gridSearchRF.best_score_*100))\n",
    "    print(\"Standed deviation :  %0.3f\" % (gridSearchRF.cv_results_['std_test_score'][gridSearchRF.best_index_]*100))\n"
   ]
  },
  {
   "cell_type": "code",
   "execution_count": 34,
   "metadata": {},
   "outputs": [
    {
     "name": "stdout",
     "output_type": "stream",
     "text": [
      "CV value :  2\n",
      "Parameters :  {'kernel': 'linear'}\n",
      "Accuracy :  90.517\n",
      "Standed deviation :  0.862\n",
      "CV value :  3\n",
      "Parameters :  {'kernel': 'poly'}\n",
      "Accuracy :  88.776\n",
      "Standed deviation :  2.501\n",
      "CV value :  4\n",
      "Parameters :  {'kernel': 'rbf'}\n",
      "Accuracy :  90.517\n",
      "Standed deviation :  4.479\n",
      "CV value :  5\n",
      "Parameters :  {'kernel': 'rbf'}\n",
      "Accuracy :  91.377\n",
      "Standed deviation :  4.765\n"
     ]
    }
   ],
   "source": [
    "# creating a SVM classifier\n",
    "svm_model = svm.SVC()\n",
    "param_grid_svm = {\n",
    "     'kernel': ['linear', 'poly', 'rbf', 'sigmoid']\n",
    "}\n",
    "\n",
    "for cv in cv_array:\n",
    "     gridSearchRF = GridSearchCV(estimator=svm_model, param_grid=param_grid_svm, scoring='accuracy', n_jobs=-1, cv=cv)\n",
    "     gridSearchRF.fit(X, Y)\n",
    "     print(\"CV value : \", cv)\n",
    "     print(\"Parameters : \", gridSearchRF.best_params_)\n",
    "     print(\"Accuracy :  %0.3f\" % (gridSearchRF.best_score_*100))\n",
    "     print(\"Standed deviation :  %0.3f\" % (gridSearchRF.cv_results_['std_test_score'][gridSearchRF.best_index_]*100))\n"
   ]
  },
  {
   "cell_type": "code",
   "execution_count": 36,
   "metadata": {},
   "outputs": [
    {
     "name": "stdout",
     "output_type": "stream",
     "text": [
      "CV value :  2\n",
      "Parameters :  {'max_depth': 80, 'max_features': 2, 'n_estimators': 300}\n",
      "Accuracy :  95.690\n",
      "Standed deviation :  2.586\n",
      "CV value :  3\n",
      "Parameters :  {'max_depth': 80, 'max_features': 4, 'n_estimators': 200}\n",
      "Accuracy :  95.659\n",
      "Standed deviation :  3.271\n",
      "CV value :  4\n",
      "Parameters :  {'max_depth': 80, 'max_features': 2, 'n_estimators': 300}\n",
      "Accuracy :  93.966\n",
      "Standed deviation :  5.100\n",
      "CV value :  5\n",
      "Parameters :  {'max_depth': 80, 'max_features': 4, 'n_estimators': 200}\n",
      "Accuracy :  95.652\n",
      "Standed deviation :  3.889\n",
      "CV value :  6\n",
      "Parameters :  {'max_depth': 300, 'max_features': 2, 'n_estimators': 100}\n",
      "Accuracy :  94.737\n",
      "Standed deviation :  7.443\n",
      "CV value :  7\n",
      "Parameters :  {'max_depth': 100, 'max_features': 6, 'n_estimators': 200}\n",
      "Accuracy :  95.641\n",
      "Standed deviation :  5.355\n",
      "CV value :  8\n",
      "Parameters :  {'max_depth': 80, 'max_features': 5, 'n_estimators': 200}\n",
      "Accuracy :  95.595\n",
      "Standed deviation :  4.942\n"
     ]
    }
   ],
   "source": [
    "# creating a Random forest classifier\n",
    "rf = RandomForestClassifier()\n",
    "param_grid_rf = {\n",
    "     'max_depth': [80, 90, 100, 110, 150, 200, 300],\n",
    "     'max_features': [2, 3, 4, 5,6],\n",
    "     'n_estimators': [100, 200, 300]\n",
    "}\n",
    "cv_array = [2,3,4,5,6,7,8]\n",
    "for cv in cv_array:\n",
    "     gridSearchRF = GridSearchCV(estimator=rf, param_grid=param_grid_rf, scoring='accuracy', n_jobs=-1, cv=cv)\n",
    "     gridSearchRF.fit(X, Y)\n",
    "     print(\"CV value : \", cv)\n",
    "     print(\"Parameters : \", gridSearchRF.best_params_)\n",
    "     print(\"Accuracy :  %0.3f\" % (gridSearchRF.best_score_*100))\n",
    "     print(\"Standed deviation :  %0.3f\" % (gridSearchRF.cv_results_['std_test_score'][gridSearchRF.best_index_]*100))"
   ]
  }
 ],
 "metadata": {
  "kernelspec": {
   "display_name": "Python 3.9.13 ('base')",
   "language": "python",
   "name": "python3"
  },
  "language_info": {
   "codemirror_mode": {
    "name": "ipython",
    "version": 3
   },
   "file_extension": ".py",
   "mimetype": "text/x-python",
   "name": "python",
   "nbconvert_exporter": "python",
   "pygments_lexer": "ipython3",
   "version": "3.9.13"
  },
  "orig_nbformat": 4,
  "vscode": {
   "interpreter": {
    "hash": "dd78fe5a17d57d1a86104509f6d28e1e730005acb4374104044dd451171eb7b3"
   }
  }
 },
 "nbformat": 4,
 "nbformat_minor": 2
}
