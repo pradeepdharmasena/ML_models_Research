{
 "cells": [
  {
   "cell_type": "code",
   "execution_count": 1,
   "metadata": {},
   "outputs": [],
   "source": [
    "import numpy as np;\n",
    "import pandas as pd;\n",
    "import matplotlib.pyplot as plt\n",
    "import sklearn.metrics as sm\n",
    "from sklearn.preprocessing import LabelEncoder\n",
    "from sklearn.model_selection import cross_val_score\n",
    "from sklearn.model_selection import GridSearchCV\n",
    "from sklearn.preprocessing import MinMaxScaler\n",
    "from scipy import stats\n",
    "from sklearn import tree\n",
    "from sklearn.ensemble import GradientBoostingClassifier\n",
    "from sklearn.neighbors import KNeighborsClassifier\n",
    "from sklearn.linear_model import LogisticRegression\n",
    "from sklearn.naive_bayes import MultinomialNB, BernoulliNB \n",
    "from sklearn.ensemble import RandomForestClassifier\n",
    "from sklearn import svm\n",
    "import seaborn as sb\n",
    "from imblearn.under_sampling import RandomUnderSampler\n",
    "from imblearn.over_sampling import SMOTE"
   ]
  },
  {
   "cell_type": "code",
   "execution_count": 2,
   "metadata": {},
   "outputs": [
    {
     "name": "stdout",
     "output_type": "stream",
     "text": [
      "    age  sex  cp  trestbps  chol  fbs  restecg  thalach  exang  oldpeak  \\\n",
      "0  57.0  1.0   3       145   233    1        0      150      0      2.3   \n",
      "1  64.0  0.0   2       130   250    0        1      187      0      3.5   \n",
      "2  52.0  1.0   1       130   204    0        0      172      0      1.4   \n",
      "3  56.0  0.0   1       120   236    0        1      178      0      0.8   \n",
      "4  66.0  0.0   0       120   354    0        1      163      1      0.6   \n",
      "\n",
      "   slope  ca  thal  target  \n",
      "0      0   0     1       1  \n",
      "1      0   0     2       1  \n",
      "2      2   0     2       1  \n",
      "3      2   0     2       1  \n",
      "4      2   0     2       1  \n"
     ]
    }
   ],
   "source": [
    "df = pd.read_csv(\"../data/hypertension_data.csv\")\n",
    "df = df.drop_duplicates()\n",
    "print(df.head())"
   ]
  },
  {
   "cell_type": "code",
   "execution_count": 3,
   "metadata": {},
   "outputs": [
    {
     "data": {
      "text/html": [
       "<div>\n",
       "<style scoped>\n",
       "    .dataframe tbody tr th:only-of-type {\n",
       "        vertical-align: middle;\n",
       "    }\n",
       "\n",
       "    .dataframe tbody tr th {\n",
       "        vertical-align: top;\n",
       "    }\n",
       "\n",
       "    .dataframe thead th {\n",
       "        text-align: right;\n",
       "    }\n",
       "</style>\n",
       "<table border=\"1\" class=\"dataframe\">\n",
       "  <thead>\n",
       "    <tr style=\"text-align: right;\">\n",
       "      <th></th>\n",
       "      <th>age</th>\n",
       "      <th>sex</th>\n",
       "      <th>cp</th>\n",
       "      <th>trestbps</th>\n",
       "      <th>chol</th>\n",
       "      <th>fbs</th>\n",
       "      <th>restecg</th>\n",
       "      <th>thalach</th>\n",
       "      <th>exang</th>\n",
       "      <th>oldpeak</th>\n",
       "      <th>slope</th>\n",
       "      <th>ca</th>\n",
       "      <th>thal</th>\n",
       "      <th>target</th>\n",
       "    </tr>\n",
       "  </thead>\n",
       "  <tbody>\n",
       "    <tr>\n",
       "      <th>count</th>\n",
       "      <td>26083.000000</td>\n",
       "      <td>26058.00000</td>\n",
       "      <td>26083.000000</td>\n",
       "      <td>26083.000000</td>\n",
       "      <td>26083.000000</td>\n",
       "      <td>26083.000000</td>\n",
       "      <td>26083.000000</td>\n",
       "      <td>26083.000000</td>\n",
       "      <td>26083.000000</td>\n",
       "      <td>26083.000000</td>\n",
       "      <td>26083.000000</td>\n",
       "      <td>26083.000000</td>\n",
       "      <td>26083.000000</td>\n",
       "      <td>26083.000000</td>\n",
       "    </tr>\n",
       "    <tr>\n",
       "      <th>mean</th>\n",
       "      <td>55.661389</td>\n",
       "      <td>0.50000</td>\n",
       "      <td>0.958594</td>\n",
       "      <td>131.592992</td>\n",
       "      <td>246.246061</td>\n",
       "      <td>0.149753</td>\n",
       "      <td>0.526512</td>\n",
       "      <td>149.655024</td>\n",
       "      <td>0.326573</td>\n",
       "      <td>1.039512</td>\n",
       "      <td>1.400299</td>\n",
       "      <td>0.721849</td>\n",
       "      <td>2.318752</td>\n",
       "      <td>0.547253</td>\n",
       "    </tr>\n",
       "    <tr>\n",
       "      <th>std</th>\n",
       "      <td>15.189768</td>\n",
       "      <td>0.50001</td>\n",
       "      <td>1.023931</td>\n",
       "      <td>17.588809</td>\n",
       "      <td>51.643522</td>\n",
       "      <td>0.356836</td>\n",
       "      <td>0.525641</td>\n",
       "      <td>22.858109</td>\n",
       "      <td>0.468969</td>\n",
       "      <td>1.165138</td>\n",
       "      <td>0.616513</td>\n",
       "      <td>1.011608</td>\n",
       "      <td>0.604659</td>\n",
       "      <td>0.497772</td>\n",
       "    </tr>\n",
       "    <tr>\n",
       "      <th>min</th>\n",
       "      <td>11.000000</td>\n",
       "      <td>0.00000</td>\n",
       "      <td>0.000000</td>\n",
       "      <td>94.000000</td>\n",
       "      <td>126.000000</td>\n",
       "      <td>0.000000</td>\n",
       "      <td>0.000000</td>\n",
       "      <td>71.000000</td>\n",
       "      <td>0.000000</td>\n",
       "      <td>0.000000</td>\n",
       "      <td>0.000000</td>\n",
       "      <td>0.000000</td>\n",
       "      <td>0.000000</td>\n",
       "      <td>0.000000</td>\n",
       "    </tr>\n",
       "    <tr>\n",
       "      <th>25%</th>\n",
       "      <td>44.000000</td>\n",
       "      <td>0.00000</td>\n",
       "      <td>0.000000</td>\n",
       "      <td>120.000000</td>\n",
       "      <td>211.000000</td>\n",
       "      <td>0.000000</td>\n",
       "      <td>0.000000</td>\n",
       "      <td>133.000000</td>\n",
       "      <td>0.000000</td>\n",
       "      <td>0.000000</td>\n",
       "      <td>1.000000</td>\n",
       "      <td>0.000000</td>\n",
       "      <td>2.000000</td>\n",
       "      <td>0.000000</td>\n",
       "    </tr>\n",
       "    <tr>\n",
       "      <th>50%</th>\n",
       "      <td>56.000000</td>\n",
       "      <td>0.50000</td>\n",
       "      <td>1.000000</td>\n",
       "      <td>130.000000</td>\n",
       "      <td>240.000000</td>\n",
       "      <td>0.000000</td>\n",
       "      <td>1.000000</td>\n",
       "      <td>153.000000</td>\n",
       "      <td>0.000000</td>\n",
       "      <td>0.800000</td>\n",
       "      <td>1.000000</td>\n",
       "      <td>0.000000</td>\n",
       "      <td>2.000000</td>\n",
       "      <td>1.000000</td>\n",
       "    </tr>\n",
       "    <tr>\n",
       "      <th>75%</th>\n",
       "      <td>67.000000</td>\n",
       "      <td>1.00000</td>\n",
       "      <td>2.000000</td>\n",
       "      <td>140.000000</td>\n",
       "      <td>275.000000</td>\n",
       "      <td>0.000000</td>\n",
       "      <td>1.000000</td>\n",
       "      <td>166.000000</td>\n",
       "      <td>1.000000</td>\n",
       "      <td>1.600000</td>\n",
       "      <td>2.000000</td>\n",
       "      <td>1.000000</td>\n",
       "      <td>3.000000</td>\n",
       "      <td>1.000000</td>\n",
       "    </tr>\n",
       "    <tr>\n",
       "      <th>max</th>\n",
       "      <td>98.000000</td>\n",
       "      <td>1.00000</td>\n",
       "      <td>3.000000</td>\n",
       "      <td>200.000000</td>\n",
       "      <td>564.000000</td>\n",
       "      <td>1.000000</td>\n",
       "      <td>2.000000</td>\n",
       "      <td>202.000000</td>\n",
       "      <td>1.000000</td>\n",
       "      <td>6.200000</td>\n",
       "      <td>2.000000</td>\n",
       "      <td>4.000000</td>\n",
       "      <td>3.000000</td>\n",
       "      <td>1.000000</td>\n",
       "    </tr>\n",
       "  </tbody>\n",
       "</table>\n",
       "</div>"
      ],
      "text/plain": [
       "                age          sex            cp      trestbps          chol  \\\n",
       "count  26083.000000  26058.00000  26083.000000  26083.000000  26083.000000   \n",
       "mean      55.661389      0.50000      0.958594    131.592992    246.246061   \n",
       "std       15.189768      0.50001      1.023931     17.588809     51.643522   \n",
       "min       11.000000      0.00000      0.000000     94.000000    126.000000   \n",
       "25%       44.000000      0.00000      0.000000    120.000000    211.000000   \n",
       "50%       56.000000      0.50000      1.000000    130.000000    240.000000   \n",
       "75%       67.000000      1.00000      2.000000    140.000000    275.000000   \n",
       "max       98.000000      1.00000      3.000000    200.000000    564.000000   \n",
       "\n",
       "                fbs       restecg       thalach         exang       oldpeak  \\\n",
       "count  26083.000000  26083.000000  26083.000000  26083.000000  26083.000000   \n",
       "mean       0.149753      0.526512    149.655024      0.326573      1.039512   \n",
       "std        0.356836      0.525641     22.858109      0.468969      1.165138   \n",
       "min        0.000000      0.000000     71.000000      0.000000      0.000000   \n",
       "25%        0.000000      0.000000    133.000000      0.000000      0.000000   \n",
       "50%        0.000000      1.000000    153.000000      0.000000      0.800000   \n",
       "75%        0.000000      1.000000    166.000000      1.000000      1.600000   \n",
       "max        1.000000      2.000000    202.000000      1.000000      6.200000   \n",
       "\n",
       "              slope            ca          thal        target  \n",
       "count  26083.000000  26083.000000  26083.000000  26083.000000  \n",
       "mean       1.400299      0.721849      2.318752      0.547253  \n",
       "std        0.616513      1.011608      0.604659      0.497772  \n",
       "min        0.000000      0.000000      0.000000      0.000000  \n",
       "25%        1.000000      0.000000      2.000000      0.000000  \n",
       "50%        1.000000      0.000000      2.000000      1.000000  \n",
       "75%        2.000000      1.000000      3.000000      1.000000  \n",
       "max        2.000000      4.000000      3.000000      1.000000  "
      ]
     },
     "execution_count": 3,
     "metadata": {},
     "output_type": "execute_result"
    }
   ],
   "source": [
    "df.describe()"
   ]
  },
  {
   "cell_type": "code",
   "execution_count": 4,
   "metadata": {},
   "outputs": [
    {
     "name": "stdout",
     "output_type": "stream",
     "text": [
      "['age', 'sex', 'cp', 'trestbps', 'chol', 'fbs', 'restecg', 'thalach', 'exang', 'oldpeak', 'slope', 'ca', 'thal', 'target']\n"
     ]
    }
   ],
   "source": [
    "df_features = list(df.columns)\n",
    "print(df_features)"
   ]
  },
  {
   "cell_type": "code",
   "execution_count": 5,
   "metadata": {},
   "outputs": [
    {
     "name": "stdout",
     "output_type": "stream",
     "text": [
      "age : [57. 64. 52. 56. 66. 51. 42. 38. 72. 47. 55. 63. 41. 81. 70. 62. 75. 69.\n",
      " 39. 50. 59. 49. 34. 46. 40. 33. 67. 54. 60. 61. 45. 68. 58. 43. 65. 74.\n",
      " 53. 76. 48. 44. 87. 71. 78. 77. 82. 73. 32. 29. 36. 83. 27. 84. 35. 31.\n",
      " 86. 79. 80. 37. 22. 30. 28. 88. 85. 26. 25. 21. 23. 24. 19. 17. 12. 20.\n",
      " 18. 16. 15. 11. 13. 14. 91. 97. 92. 93. 94. 96. 89. 90. 98. 95.]\n",
      "sex : [ 1.  0. nan]\n",
      "cp : [3 2 1 0]\n",
      "trestbps : [145 130 120 140 172 150 110 135 160 105 125 142 155 104 138 128 108 134\n",
      " 122 115 118 100 124  94 112 102 152 101 132 148 178 129 180 136 126 106\n",
      " 156 170 146 117 200 165 174 192 144 123 154 114 164]\n",
      "chol : [233 250 204 236 354 192 294 263 199 168 239 275 266 211 283 219 340 226\n",
      " 247 234 243 302 212 175 417 197 198 177 273 213 304 232 269 360 308 245\n",
      " 208 264 321 325 235 257 216 256 231 141 252 201 222 260 182 303 265 309\n",
      " 186 203 183 220 209 258 227 261 221 205 240 318 298 564 277 214 248 255\n",
      " 207 223 288 160 394 315 246 244 270 195 196 254 126 313 262 215 193 271\n",
      " 268 267 210 295 306 178 242 180 228 149 278 253 342 157 286 229 284 224\n",
      " 206 167 230 335 276 353 225 330 290 172 305 188 282 185 326 274 164 307\n",
      " 249 341 407 217 174 281 289 322 299 300 293 184 409 259 200 327 237 218\n",
      " 319 166 311 169 187 176 241 131]\n",
      "fbs : [1 0]\n",
      "restecg : [0 1 2]\n",
      "thalach : [150 187 172 178 163 148 153 173 162 174 160 139 171 144 158 114 151 161\n",
      " 179 137 157 123 152 168 140 188 125 170 165 142 180 143 182 156 115 149\n",
      " 146 175 186 185 159 130 190 132 147 154 202 166 164 184 122 169 138 111\n",
      " 145 194 131 133 155 167 192 121  96 126 105 181 116 108 129 120 112 128\n",
      " 109 113  99 177 141 136  97 127 103 124  88 195 106  95 117  71 118 134\n",
      "  90]\n",
      "exang : [0 1]\n",
      "oldpeak : [2.3 3.5 1.4 0.8 0.6 0.4 1.3 0.  0.5 1.6 1.2 0.2 1.8 1.  2.6 1.5 3.  2.4\n",
      " 0.1 1.9 4.2 1.1 2.  0.7 0.3 0.9 3.6 3.1 3.2 2.5 2.2 2.8 3.4 6.2 4.  5.6\n",
      " 2.9 2.1 3.8 4.4]\n",
      "slope : [0 2 1]\n",
      "ca : [0 2 1 3 4]\n",
      "thal : [1 2 3 0]\n",
      "target : [1 0]\n"
     ]
    }
   ],
   "source": [
    "for colum in df.columns :\n",
    "    unq = df[colum].unique()\n",
    "    print(f\"{colum} : {unq}\")"
   ]
  },
  {
   "cell_type": "code",
   "execution_count": 7,
   "metadata": {},
   "outputs": [
    {
     "name": "stdout",
     "output_type": "stream",
     "text": [
      "age          0\n",
      "sex         25\n",
      "cp           0\n",
      "trestbps     0\n",
      "chol         0\n",
      "fbs          0\n",
      "restecg      0\n",
      "thalach      0\n",
      "exang        0\n",
      "oldpeak      0\n",
      "slope        0\n",
      "ca           0\n",
      "thal         0\n",
      "target       0\n",
      "dtype: int64\n",
      "(26083, 14)\n",
      "(26058, 14)\n",
      "age         0\n",
      "sex         0\n",
      "cp          0\n",
      "trestbps    0\n",
      "chol        0\n",
      "fbs         0\n",
      "restecg     0\n",
      "thalach     0\n",
      "exang       0\n",
      "oldpeak     0\n",
      "slope       0\n",
      "ca          0\n",
      "thal        0\n",
      "target      0\n",
      "dtype: int64\n"
     ]
    }
   ],
   "source": [
    "#print((df[X.columns]).isNull().sum())\n",
    "print(df[df_features].isnull().sum())\n",
    "print(df.shape)\n",
    "df = df.dropna(axis = 0)\n",
    "print(df.shape)\n",
    "print(df[df_features].isnull().sum())\n",
    "#print(X)"
   ]
  },
  {
   "cell_type": "code",
   "execution_count": 9,
   "metadata": {},
   "outputs": [
    {
     "name": "stdout",
     "output_type": "stream",
     "text": [
      "age          98.0\n",
      "sex           1.0\n",
      "cp            3.0\n",
      "trestbps    200.0\n",
      "chol        564.0\n",
      "fbs           1.0\n",
      "restecg       2.0\n",
      "thalach     202.0\n",
      "exang         1.0\n",
      "oldpeak       6.2\n",
      "slope         2.0\n",
      "ca            4.0\n",
      "thal          3.0\n",
      "target        1.0\n",
      "dtype: float64\n"
     ]
    }
   ],
   "source": [
    "print(df.max())"
   ]
  },
  {
   "cell_type": "code",
   "execution_count": 10,
   "metadata": {},
   "outputs": [
    {
     "name": "stdout",
     "output_type": "stream",
     "text": [
      "age          11.0\n",
      "sex           0.0\n",
      "cp            0.0\n",
      "trestbps     94.0\n",
      "chol        126.0\n",
      "fbs           0.0\n",
      "restecg       0.0\n",
      "thalach      71.0\n",
      "exang         0.0\n",
      "oldpeak       0.0\n",
      "slope         0.0\n",
      "ca            0.0\n",
      "thal          0.0\n",
      "target        0.0\n",
      "dtype: float64\n"
     ]
    }
   ],
   "source": [
    "print(df.min())"
   ]
  },
  {
   "cell_type": "code",
   "execution_count": 11,
   "metadata": {},
   "outputs": [
    {
     "name": "stdout",
     "output_type": "stream",
     "text": [
      "age          87.0\n",
      "sex           1.0\n",
      "cp            3.0\n",
      "trestbps    106.0\n",
      "chol        438.0\n",
      "fbs           1.0\n",
      "restecg       2.0\n",
      "thalach     131.0\n",
      "exang         1.0\n",
      "oldpeak       6.2\n",
      "slope         2.0\n",
      "ca            4.0\n",
      "thal          3.0\n",
      "target        1.0\n",
      "dtype: float64\n"
     ]
    }
   ],
   "source": [
    "print(df.max() - df.min())"
   ]
  },
  {
   "cell_type": "code",
   "execution_count": 12,
   "metadata": {},
   "outputs": [
    {
     "data": {
      "image/png": "[encoded data removed]",
      "text/plain": [
       "<Figure size 2000x2000 with 16 Axes>"
      ]
     },
     "metadata": {},
     "output_type": "display_data"
    }
   ],
   "source": [
    "fig, axes = plt.subplots(4,4, figsize=(20,20))\n",
    "x_,y_ = 0,0\n",
    "for i, column in enumerate(df.columns[:]):    \n",
    "    sb.boxplot(x=df[column], ax=axes[x_,y_], palette=\"Set2\")\n",
    "    if i < 3:\n",
    "        y_ += 1\n",
    "    elif i == 3: \n",
    "        x_ = 1\n",
    "        y_ = 0\n",
    "    elif i == 7: \n",
    "        x_ = 2\n",
    "        y_ = 0\n",
    "    elif i == 11: \n",
    "        x_ = 3\n",
    "        y_ = 0\n",
    "    else:\n",
    "        y_ += 1"
   ]
  },
  {
   "cell_type": "code",
   "execution_count": 13,
   "metadata": {},
   "outputs": [
    {
     "name": "stdout",
     "output_type": "stream",
     "text": [
      "Index(['age', 'sex', 'cp', 'trestbps', 'chol', 'fbs', 'restecg', 'thalach',\n",
      "       'exang', 'oldpeak', 'slope', 'ca', 'thal', 'target'],\n",
      "      dtype='object')\n",
      "        age  sex        cp  trestbps      chol  fbs  restecg   thalach  exang  \\\n",
      "0  0.528736  1.0  1.000000  0.481132  0.244292  1.0      0.0  0.603053    0.0   \n",
      "1  0.609195  0.0  0.666667  0.339623  0.283105  0.0      0.5  0.885496    0.0   \n",
      "2  0.471264  1.0  0.333333  0.339623  0.178082  0.0      0.0  0.770992    0.0   \n",
      "3  0.517241  0.0  0.333333  0.245283  0.251142  0.0      0.5  0.816794    0.0   \n",
      "4  0.632184  0.0  0.000000  0.245283  0.520548  0.0      0.5  0.702290    1.0   \n",
      "\n",
      "    oldpeak  slope   ca      thal  target  \n",
      "0  0.370968    0.0  0.0  0.333333     1.0  \n",
      "1  0.564516    0.0  0.0  0.666667     1.0  \n",
      "2  0.225806    1.0  0.0  0.666667     1.0  \n",
      "3  0.129032    1.0  0.0  0.666667     1.0  \n",
      "4  0.096774    1.0  0.0  0.666667     1.0  \n"
     ]
    }
   ],
   "source": [
    "cols = df.columns\n",
    "print(cols)\n",
    "scaler = MinMaxScaler()\n",
    "dat = scaler.fit_transform(df)\n",
    "df_01 = pd.DataFrame(data=dat, columns=cols)  \n",
    "print(df_01.head())"
   ]
  },
  {
   "cell_type": "code",
   "execution_count": 14,
   "metadata": {},
   "outputs": [
    {
     "name": "stdout",
     "output_type": "stream",
     "text": [
      "age         1.0\n",
      "sex         1.0\n",
      "cp          1.0\n",
      "trestbps    1.0\n",
      "chol        1.0\n",
      "fbs         1.0\n",
      "restecg     1.0\n",
      "thalach     1.0\n",
      "exang       1.0\n",
      "oldpeak     1.0\n",
      "slope       1.0\n",
      "ca          1.0\n",
      "thal        1.0\n",
      "target      1.0\n",
      "dtype: float64\n"
     ]
    }
   ],
   "source": [
    "print(df_01.max() - df_01.min())"
   ]
  },
  {
   "cell_type": "code",
   "execution_count": 18,
   "metadata": {},
   "outputs": [
    {
     "name": "stdout",
     "output_type": "stream",
     "text": [
      "1.0    14274\n",
      "0.0    11784\n",
      "Name: target, dtype: int64\n"
     ]
    }
   ],
   "source": [
    "X = df_01.drop([\"target\"], axis =1);\n",
    "Y = df_01[\"target\"]\n",
    "print(Y.value_counts())"
   ]
  },
  {
   "cell_type": "code",
   "execution_count": 19,
   "metadata": {},
   "outputs": [
    {
     "data": {
      "text/plain": [
       "(array([11784.,     0.,     0.,     0.,     0.,     0.,     0.,     0.,\n",
       "            0., 14274.]),\n",
       " array([0. , 0.1, 0.2, 0.3, 0.4, 0.5, 0.6, 0.7, 0.8, 0.9, 1. ]),\n",
       " <BarContainer object of 10 artists>)"
      ]
     },
     "execution_count": 19,
     "metadata": {},
     "output_type": "execute_result"
    },
    {
     "data": {
      "image/png": "[encoded data removed]",
      "text/plain": [
       "<Figure size 640x480 with 1 Axes>"
      ]
     },
     "metadata": {},
     "output_type": "display_data"
    }
   ],
   "source": [
    "plt.hist(Y)"
   ]
  },
  {
   "cell_type": "code",
   "execution_count": 20,
   "metadata": {},
   "outputs": [
    {
     "name": "stdout",
     "output_type": "stream",
     "text": [
      "CV value :  2\n",
      "Parameters :  {}\n",
      "Accuracy :  100.000\n",
      "Standed deviation :  0.000\n",
      "CV value :  3\n",
      "Parameters :  {}\n",
      "Accuracy :  100.000\n",
      "Standed deviation :  0.000\n",
      "CV value :  4\n",
      "Parameters :  {}\n",
      "Accuracy :  100.000\n",
      "Standed deviation :  0.000\n",
      "CV value :  5\n",
      "Parameters :  {}\n",
      "Accuracy :  100.000\n",
      "Standed deviation :  0.000\n"
     ]
    }
   ],
   "source": [
    "# creating a decision tree classifier\n",
    "dt_model = tree.DecisionTreeClassifier()\n",
    "param_grid_dt = {\n",
    "     \n",
    "}\n",
    "cv_array = [2,3,4,5]\n",
    "for cv in cv_array:\n",
    "    gridSearchRF = GridSearchCV(estimator=dt_model, param_grid=param_grid_dt, scoring='accuracy', n_jobs=-1, cv=cv)\n",
    "    gridSearchRF.fit(X, Y)\n",
    "    print(\"CV value : \", cv)\n",
    "    print(\"Parameters : \", gridSearchRF.best_params_)\n",
    "    print(\"Accuracy :  %0.3f\" % (gridSearchRF.best_score_*100))\n",
    "    print(\"Standed deviation :  %0.3f\" % (gridSearchRF.cv_results_['std_test_score'][gridSearchRF.best_index_]*100))"
   ]
  },
  {
   "cell_type": "code",
   "execution_count": 21,
   "metadata": {},
   "outputs": [
    {
     "name": "stdout",
     "output_type": "stream",
     "text": [
      "CV value :  2\n",
      "Parameters :  {'random_state': 0}\n",
      "Accuracy :  98.534\n",
      "Standed deviation :  0.008\n",
      "CV value :  3\n",
      "Parameters :  {'random_state': 0}\n",
      "Accuracy :  98.407\n",
      "Standed deviation :  0.297\n",
      "CV value :  4\n",
      "Parameters :  {'random_state': 0}\n",
      "Accuracy :  98.331\n",
      "Standed deviation :  0.338\n",
      "CV value :  5\n",
      "Parameters :  {'random_state': 0}\n",
      "Accuracy :  97.981\n",
      "Standed deviation :  0.562\n"
     ]
    }
   ],
   "source": [
    "# creating a Gradient boosting classifier\n",
    "gb_model = GradientBoostingClassifier()\n",
    "param_grid_gb = {\n",
    "     'random_state': [0, 1, 2,3,4,5 , 10, 20, 30, 40, 50]\n",
    "}\n",
    "for cv in cv_array:\n",
    "     gridSearchRF = GridSearchCV(estimator=gb_model, param_grid=param_grid_gb, scoring='accuracy', n_jobs=-1, cv=cv)\n",
    "     gridSearchRF.fit(X, Y)\n",
    "     print(\"CV value : \", cv)\n",
    "     print(\"Parameters : \", gridSearchRF.best_params_)\n",
    "     print(\"Accuracy :  %0.3f\" % (gridSearchRF.best_score_*100))\n",
    "     print(\"Standed deviation :  %0.3f\" % (gridSearchRF.cv_results_['std_test_score'][gridSearchRF.best_index_]*100))"
   ]
  },
  {
   "cell_type": "code",
   "execution_count": 22,
   "metadata": {},
   "outputs": [
    {
     "name": "stdout",
     "output_type": "stream",
     "text": [
      "CV value :  2\n",
      "Parameters :  {'n_neighbors': 3}\n",
      "Accuracy :  99.992\n",
      "Standed deviation :  0.008\n",
      "CV value :  3\n",
      "Parameters :  {'n_neighbors': 3}\n",
      "Accuracy :  99.996\n",
      "Standed deviation :  0.005\n",
      "CV value :  4\n",
      "Parameters :  {'n_neighbors': 3}\n",
      "Accuracy :  100.000\n",
      "Standed deviation :  0.000\n",
      "CV value :  5\n",
      "Parameters :  {'n_neighbors': 3}\n",
      "Accuracy :  99.992\n",
      "Standed deviation :  0.009\n"
     ]
    }
   ],
   "source": [
    "# creating a KNN classifier\n",
    "KNN_model =KNeighborsClassifier()\n",
    "param_grid_knn = {\n",
    "     'n_neighbors': [3, 5, 7, 11, 13, 17]\n",
    "}\n",
    "for cv in cv_array:\n",
    "     gridSearchRF = GridSearchCV(estimator=KNN_model, param_grid=param_grid_knn, scoring='accuracy', n_jobs=-1, cv=cv)\n",
    "     gridSearchRF.fit(X, Y)\n",
    "     print(\"CV value : \", cv)\n",
    "     print(\"Parameters : \", gridSearchRF.best_params_)\n",
    "     print(\"Accuracy :  %0.3f\" % (gridSearchRF.best_score_*100))\n",
    "     print(\"Standed deviation :  %0.3f\" % (gridSearchRF.cv_results_['std_test_score'][gridSearchRF.best_index_]*100))"
   ]
  },
  {
   "cell_type": "code",
   "execution_count": 23,
   "metadata": {},
   "outputs": [
    {
     "name": "stdout",
     "output_type": "stream",
     "text": [
      "CV value :  2\n",
      "Parameters :  {'max_iter': 100}\n",
      "Accuracy :  85.916\n",
      "Standed deviation :  0.123\n",
      "CV value :  3\n",
      "Parameters :  {'max_iter': 100}\n",
      "Accuracy :  85.820\n",
      "Standed deviation :  0.095\n",
      "CV value :  4\n",
      "Parameters :  {'max_iter': 100}\n",
      "Accuracy :  85.897\n",
      "Standed deviation :  0.058\n",
      "CV value :  5\n",
      "Parameters :  {'max_iter': 100}\n",
      "Accuracy :  86.004\n",
      "Standed deviation :  0.194\n"
     ]
    }
   ],
   "source": [
    "# creating a Lgistic regression classifier\n",
    "lr_model = LogisticRegression() \n",
    "\n",
    "param_grid_lr = {\n",
    "     'max_iter': [100, 200, 300, 400, 500]\n",
    "}\n",
    "for cv in cv_array:\n",
    "     gridSearchRF = GridSearchCV(estimator=lr_model, param_grid=param_grid_lr, scoring='accuracy', n_jobs=-1, cv=cv)\n",
    "     gridSearchRF.fit(X, Y)\n",
    "     print(\"CV value : \", cv)\n",
    "     print(\"Parameters : \", gridSearchRF.best_params_)\n",
    "     print(\"Accuracy :  %0.3f\" % (gridSearchRF.best_score_*100))\n",
    "     print(\"Standed deviation :  %0.3f\" % (gridSearchRF.cv_results_['std_test_score'][gridSearchRF.best_index_]*100))\n"
   ]
  },
  {
   "cell_type": "code",
   "execution_count": 24,
   "metadata": {},
   "outputs": [
    {
     "name": "stdout",
     "output_type": "stream",
     "text": [
      "CV value :  2\n",
      "Parameters :  {}\n",
      "Accuracy :  78.602\n",
      "Standed deviation :  0.192\n",
      "CV value :  3\n",
      "Parameters :  {}\n",
      "Accuracy :  78.602\n",
      "Standed deviation :  0.434\n",
      "CV value :  4\n",
      "Parameters :  {}\n",
      "Accuracy :  78.613\n",
      "Standed deviation :  0.276\n",
      "CV value :  5\n",
      "Parameters :  {}\n",
      "Accuracy :  78.571\n",
      "Standed deviation :  0.148\n"
     ]
    }
   ],
   "source": [
    "# creating a Nave Bayers classifier\n",
    "nb_model = MultinomialNB()\n",
    "param_grid_nb = {\n",
    "\n",
    "}\n",
    "for cv in cv_array:\n",
    "    gridSearchRF = GridSearchCV(estimator=nb_model, param_grid=param_grid_nb, scoring='accuracy', n_jobs=-1, cv=cv)\n",
    "    gridSearchRF.fit(X, Y)\n",
    "    print(\"CV value : \", cv)\n",
    "    print(\"Parameters : \", gridSearchRF.best_params_)\n",
    "    print(\"Accuracy :  %0.3f\" % (gridSearchRF.best_score_*100))\n",
    "    print(\"Standed deviation :  %0.3f\" % (gridSearchRF.cv_results_['std_test_score'][gridSearchRF.best_index_]*100))\n"
   ]
  },
  {
   "cell_type": "code",
   "execution_count": 25,
   "metadata": {},
   "outputs": [
    {
     "name": "stdout",
     "output_type": "stream",
     "text": [
      "CV value :  2\n",
      "Parameters :  {'kernel': 'poly'}\n",
      "Accuracy :  95.445\n",
      "Standed deviation :  0.127\n",
      "CV value :  3\n",
      "Parameters :  {'kernel': 'poly'}\n",
      "Accuracy :  95.905\n",
      "Standed deviation :  0.113\n",
      "CV value :  4\n",
      "Parameters :  {'kernel': 'poly'}\n",
      "Accuracy :  95.928\n",
      "Standed deviation :  0.205\n",
      "CV value :  5\n",
      "Parameters :  {'kernel': 'poly'}\n",
      "Accuracy :  95.971\n",
      "Standed deviation :  0.222\n"
     ]
    }
   ],
   "source": [
    "# creating a SVM classifier\n",
    "svm_model = svm.SVC()\n",
    "param_grid_svm = {\n",
    "     'kernel': ['linear', 'poly', 'rbf', 'sigmoid']\n",
    "}\n",
    "\n",
    "for cv in cv_array:\n",
    "     gridSearchRF = GridSearchCV(estimator=svm_model, param_grid=param_grid_svm, scoring='accuracy', n_jobs=-1, cv=cv)\n",
    "     gridSearchRF.fit(X, Y)\n",
    "     print(\"CV value : \", cv)\n",
    "     print(\"Parameters : \", gridSearchRF.best_params_)\n",
    "     print(\"Accuracy :  %0.3f\" % (gridSearchRF.best_score_*100))\n",
    "     print(\"Standed deviation :  %0.3f\" % (gridSearchRF.cv_results_['std_test_score'][gridSearchRF.best_index_]*100))\n"
   ]
  },
  {
   "cell_type": "code",
   "execution_count": 26,
   "metadata": {},
   "outputs": [
    {
     "name": "stdout",
     "output_type": "stream",
     "text": [
      "CV value :  2\n",
      "Parameters :  {'max_depth': 80, 'max_features': 2, 'n_estimators': 100}\n",
      "Accuracy :  100.000\n",
      "Standed deviation :  0.000\n",
      "CV value :  3\n",
      "Parameters :  {'max_depth': 80, 'max_features': 2, 'n_estimators': 100}\n",
      "Accuracy :  100.000\n",
      "Standed deviation :  0.000\n",
      "CV value :  4\n",
      "Parameters :  {'max_depth': 80, 'max_features': 2, 'n_estimators': 100}\n",
      "Accuracy :  100.000\n",
      "Standed deviation :  0.000\n",
      "CV value :  5\n",
      "Parameters :  {'max_depth': 80, 'max_features': 2, 'n_estimators': 100}\n",
      "Accuracy :  100.000\n",
      "Standed deviation :  0.000\n"
     ]
    }
   ],
   "source": [
    "# creating a Random forest classifier\n",
    "rf = RandomForestClassifier()\n",
    "param_grid_rf = {\n",
    "     'max_depth': [80, 90, 100, 110, 150, 200, 300],\n",
    "     'max_features': [2, 3, 4, 5,6],\n",
    "     'n_estimators': [100, 200, 300]\n",
    "}\n",
    "\n",
    "for cv in cv_array:\n",
    "     gridSearchRF = GridSearchCV(estimator=rf, param_grid=param_grid_rf, scoring='accuracy', n_jobs=-1, cv=cv)\n",
    "     gridSearchRF.fit(X, Y)\n",
    "     print(\"CV value : \", cv)\n",
    "     print(\"Parameters : \", gridSearchRF.best_params_)\n",
    "     print(\"Accuracy :  %0.3f\" % (gridSearchRF.best_score_*100))\n",
    "     print(\"Standed deviation :  %0.3f\" % (gridSearchRF.cv_results_['std_test_score'][gridSearchRF.best_index_]*100))"
   ]
  }
 ],
 "metadata": {
  "kernelspec": {
   "display_name": "Python 3.9.13 ('base')",
   "language": "python",
   "name": "python3"
  },
  "language_info": {
   "codemirror_mode": {
    "name": "ipython",
    "version": 3
   },
   "file_extension": ".py",
   "mimetype": "text/x-python",
   "name": "python",
   "nbconvert_exporter": "python",
   "pygments_lexer": "ipython3",
   "version": "3.11.3"
  },
  "orig_nbformat": 4,
  "vscode": {
   "interpreter": {
    "hash": "dd78fe5a17d57d1a86104509f6d28e1e730005acb4374104044dd451171eb7b3"
   }
  }
 },
 "nbformat": 4,
 "nbformat_minor": 2
}
