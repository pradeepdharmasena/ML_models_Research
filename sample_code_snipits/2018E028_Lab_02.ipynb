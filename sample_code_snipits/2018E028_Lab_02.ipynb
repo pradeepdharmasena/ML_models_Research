{
 "cells": [
  {
   "cell_type": "code",
   "execution_count": 5,
   "metadata": {},
   "outputs": [],
   "source": [
    "\n",
    "#DHARMASENA T.A.P\n",
    "#2018/E/028\n",
    "#SEMESTER 6\n",
    "#3RD JUN 2022\n"
   ]
  },
  {
   "cell_type": "code",
   "execution_count": 6,
   "metadata": {},
   "outputs": [],
   "source": [
    "import pandas as pd\n",
    "import numpy as np\n",
    "from sklearn.model_selection import train_test_split\n",
    "import matplotlib.pyplot as plt\n",
    "import seaborn as sb\n",
    "from sklearn.linear_model import LinearRegression\n",
    "from sklearn import metrics as sm\n",
    "from sklearn.preprocessing import StandardScaler\n",
    "%matplotlib inline"
   ]
  },
  {
   "cell_type": "code",
   "execution_count": 7,
   "metadata": {},
   "outputs": [
    {
     "name": "stdout",
     "output_type": "stream",
     "text": [
      "         RMSD        F1       F2       F3        F4            F5        F6  \\\n",
      "0      17.284  13558.30  4305.35  0.31754  162.1730  1.872791e+06  215.3590   \n",
      "1       6.021   6191.96  1623.16  0.26213   53.3894  8.034467e+05   87.2024   \n",
      "2       9.275   7725.98  1726.28  0.22343   67.2887  1.075648e+06   81.7913   \n",
      "3      15.851   8424.58  2368.25  0.28111   67.8325  1.210472e+06  109.4390   \n",
      "4       7.962   7460.84  1736.94  0.23280   52.4123  1.021020e+06   94.5234   \n",
      "...       ...       ...      ...      ...       ...           ...       ...   \n",
      "45724  11.354   9106.35  2553.61  0.28042   72.1356  1.231680e+06  124.9890   \n",
      "45725   3.762   8037.12  2777.68  0.34560   64.3390  1.105797e+06  112.7460   \n",
      "45726   6.521   7978.76  2508.57  0.31440   75.8654  1.116725e+06  102.2770   \n",
      "45728   9.791   8878.93  3055.78  0.34416   94.0314  1.242266e+06  115.1950   \n",
      "45729  18.827  12732.40  4444.36  0.34905  157.6300  1.788897e+06  229.4590   \n",
      "\n",
      "            F7   F8       F9  \n",
      "0      4287.87  102  27.0302  \n",
      "1      3328.91   39  38.5468  \n",
      "2      2981.04   29  38.8119  \n",
      "3      3248.22   70  39.0651  \n",
      "4      2814.42   41  39.9147  \n",
      "...        ...  ...      ...  \n",
      "45724  4440.33   90  36.7669  \n",
      "45725  3384.21   84  36.8036  \n",
      "45726  3974.52   54  36.0470  \n",
      "45728  3421.79   41  35.6045  \n",
      "45729  4626.85  141  29.8118  \n",
      "\n",
      "[44019 rows x 10 columns]\n"
     ]
    }
   ],
   "source": [
    "df = pd.read_csv(\"https://archive.ics.uci.edu/ml/machine-learning-databases/00265/CASP.csv\")\n",
    "df = df.drop_duplicates()\n",
    "print(df)\n",
    "\n",
    "#RMSD-Size of the residue.\n",
    "#F1 - Total surface area.\n",
    "#F2 - Non polar exposed area.\n",
    "#F3 - Fractional area of exposed non polar residue.\n",
    "#F4 - Fractional area of exposed non polar part of residue.\n",
    "#F5 - Molecular mass weighted exposed area.\n",
    "#F6 - Average deviation from standard exposed area of residue.\n",
    "#F7 - Euclidian distance.\n",
    "#F8 - Secondary structure penalty.\n",
    "#F9 - Spacial Distribution constraints (N,K Value)."
   ]
  },
  {
   "cell_type": "code",
   "execution_count": 8,
   "metadata": {},
   "outputs": [
    {
     "name": "stdout",
     "output_type": "stream",
     "text": [
      "['RMSD', 'F1', 'F2', 'F3', 'F4', 'F5', 'F6', 'F7', 'F8', 'F9']\n"
     ]
    }
   ],
   "source": [
    "df_features = list(df.columns)\n",
    "\n",
    "print(df_features)"
   ]
  },
  {
   "cell_type": "code",
   "execution_count": 12,
   "metadata": {},
   "outputs": [
    {
     "name": "stdout",
     "output_type": "stream",
     "text": [
      "RMSD    0\n",
      "F1      0\n",
      "F2      0\n",
      "F3      0\n",
      "F4      0\n",
      "F5      0\n",
      "F6      0\n",
      "F7      0\n",
      "F8      0\n",
      "F9      0\n",
      "dtype: int64\n",
      "RMSD    0\n",
      "F1      0\n",
      "F2      0\n",
      "F3      0\n",
      "F4      0\n",
      "F5      0\n",
      "F6      0\n",
      "F7      0\n",
      "F8      0\n",
      "F9      0\n",
      "dtype: int64\n"
     ]
    }
   ],
   "source": [
    "print(df.isnull().sum())\n",
    "print((df[['RMSD', 'F1', 'F2', 'F3', 'F4', 'F5', 'F6', 'F7', 'F8', 'F9']]==' ?').sum())"
   ]
  },
  {
   "cell_type": "code",
   "execution_count": 10,
   "metadata": {},
   "outputs": [
    {
     "data": {
      "text/html": [
       "<div>\n",
       "<style scoped>\n",
       "    .dataframe tbody tr th:only-of-type {\n",
       "        vertical-align: middle;\n",
       "    }\n",
       "\n",
       "    .dataframe tbody tr th {\n",
       "        vertical-align: top;\n",
       "    }\n",
       "\n",
       "    .dataframe thead th {\n",
       "        text-align: right;\n",
       "    }\n",
       "</style>\n",
       "<table border=\"1\" class=\"dataframe\">\n",
       "  <thead>\n",
       "    <tr style=\"text-align: right;\">\n",
       "      <th></th>\n",
       "      <th>RMSD</th>\n",
       "      <th>F1</th>\n",
       "      <th>F2</th>\n",
       "      <th>F3</th>\n",
       "      <th>F4</th>\n",
       "      <th>F5</th>\n",
       "      <th>F6</th>\n",
       "      <th>F7</th>\n",
       "      <th>F8</th>\n",
       "      <th>F9</th>\n",
       "    </tr>\n",
       "  </thead>\n",
       "  <tbody>\n",
       "    <tr>\n",
       "      <td>count</td>\n",
       "      <td>44019.000000</td>\n",
       "      <td>44019.000000</td>\n",
       "      <td>44019.000000</td>\n",
       "      <td>44019.000000</td>\n",
       "      <td>44019.000000</td>\n",
       "      <td>4.401900e+04</td>\n",
       "      <td>44019.000000</td>\n",
       "      <td>44019.000000</td>\n",
       "      <td>44019.000000</td>\n",
       "      <td>44019.000000</td>\n",
       "    </tr>\n",
       "    <tr>\n",
       "      <td>mean</td>\n",
       "      <td>7.795829</td>\n",
       "      <td>9874.503445</td>\n",
       "      <td>3019.460210</td>\n",
       "      <td>0.302475</td>\n",
       "      <td>103.496111</td>\n",
       "      <td>1.368753e+06</td>\n",
       "      <td>145.669889</td>\n",
       "      <td>3992.357462</td>\n",
       "      <td>70.095300</td>\n",
       "      <td>34.522120</td>\n",
       "    </tr>\n",
       "    <tr>\n",
       "      <td>std</td>\n",
       "      <td>6.137803</td>\n",
       "      <td>4054.023208</td>\n",
       "      <td>1465.353353</td>\n",
       "      <td>0.063060</td>\n",
       "      <td>55.298130</td>\n",
       "      <td>5.635050e+05</td>\n",
       "      <td>69.869706</td>\n",
       "      <td>2006.910773</td>\n",
       "      <td>56.490249</td>\n",
       "      <td>5.978529</td>\n",
       "    </tr>\n",
       "    <tr>\n",
       "      <td>min</td>\n",
       "      <td>0.000000</td>\n",
       "      <td>2392.050000</td>\n",
       "      <td>403.500000</td>\n",
       "      <td>0.092500</td>\n",
       "      <td>10.310100</td>\n",
       "      <td>3.194902e+05</td>\n",
       "      <td>31.970400</td>\n",
       "      <td>0.000000</td>\n",
       "      <td>0.000000</td>\n",
       "      <td>15.228000</td>\n",
       "    </tr>\n",
       "    <tr>\n",
       "      <td>25%</td>\n",
       "      <td>2.313000</td>\n",
       "      <td>6940.705000</td>\n",
       "      <td>1979.515000</td>\n",
       "      <td>0.258580</td>\n",
       "      <td>63.606950</td>\n",
       "      <td>9.542189e+05</td>\n",
       "      <td>94.786400</td>\n",
       "      <td>3167.420000</td>\n",
       "      <td>31.000000</td>\n",
       "      <td>30.430250</td>\n",
       "    </tr>\n",
       "    <tr>\n",
       "      <td>50%</td>\n",
       "      <td>5.087000</td>\n",
       "      <td>8902.580000</td>\n",
       "      <td>2671.030000</td>\n",
       "      <td>0.300190</td>\n",
       "      <td>87.777800</td>\n",
       "      <td>1.238022e+06</td>\n",
       "      <td>126.218000</td>\n",
       "      <td>3840.540000</td>\n",
       "      <td>54.000000</td>\n",
       "      <td>35.301900</td>\n",
       "    </tr>\n",
       "    <tr>\n",
       "      <td>75%</td>\n",
       "      <td>13.465500</td>\n",
       "      <td>12124.450000</td>\n",
       "      <td>3789.575000</td>\n",
       "      <td>0.343075</td>\n",
       "      <td>133.614000</td>\n",
       "      <td>1.690883e+06</td>\n",
       "      <td>181.451000</td>\n",
       "      <td>4644.850000</td>\n",
       "      <td>91.000000</td>\n",
       "      <td>38.869550</td>\n",
       "    </tr>\n",
       "    <tr>\n",
       "      <td>max</td>\n",
       "      <td>20.999000</td>\n",
       "      <td>40034.900000</td>\n",
       "      <td>15312.000000</td>\n",
       "      <td>0.577690</td>\n",
       "      <td>369.317000</td>\n",
       "      <td>5.472011e+06</td>\n",
       "      <td>598.408000</td>\n",
       "      <td>105948.170000</td>\n",
       "      <td>350.000000</td>\n",
       "      <td>55.300900</td>\n",
       "    </tr>\n",
       "  </tbody>\n",
       "</table>\n",
       "</div>"
      ],
      "text/plain": [
       "               RMSD            F1            F2            F3            F4  \\\n",
       "count  44019.000000  44019.000000  44019.000000  44019.000000  44019.000000   \n",
       "mean       7.795829   9874.503445   3019.460210      0.302475    103.496111   \n",
       "std        6.137803   4054.023208   1465.353353      0.063060     55.298130   \n",
       "min        0.000000   2392.050000    403.500000      0.092500     10.310100   \n",
       "25%        2.313000   6940.705000   1979.515000      0.258580     63.606950   \n",
       "50%        5.087000   8902.580000   2671.030000      0.300190     87.777800   \n",
       "75%       13.465500  12124.450000   3789.575000      0.343075    133.614000   \n",
       "max       20.999000  40034.900000  15312.000000      0.577690    369.317000   \n",
       "\n",
       "                 F5            F6             F7            F8            F9  \n",
       "count  4.401900e+04  44019.000000   44019.000000  44019.000000  44019.000000  \n",
       "mean   1.368753e+06    145.669889    3992.357462     70.095300     34.522120  \n",
       "std    5.635050e+05     69.869706    2006.910773     56.490249      5.978529  \n",
       "min    3.194902e+05     31.970400       0.000000      0.000000     15.228000  \n",
       "25%    9.542189e+05     94.786400    3167.420000     31.000000     30.430250  \n",
       "50%    1.238022e+06    126.218000    3840.540000     54.000000     35.301900  \n",
       "75%    1.690883e+06    181.451000    4644.850000     91.000000     38.869550  \n",
       "max    5.472011e+06    598.408000  105948.170000    350.000000     55.300900  "
      ]
     },
     "execution_count": 10,
     "metadata": {},
     "output_type": "execute_result"
    }
   ],
   "source": [
    "df.describe()"
   ]
  },
  {
   "cell_type": "code",
   "execution_count": 11,
   "metadata": {},
   "outputs": [],
   "source": [
    "X = df[['F1', 'F2', 'F3', 'F4', 'F5', 'F6', 'F7', 'F8', 'F9']]\n",
    "Y = df['RMSD']"
   ]
  },
  {
   "cell_type": "code",
   "execution_count": 30,
   "metadata": {},
   "outputs": [
    {
     "name": "stdout",
     "output_type": "stream",
     "text": [
      "[[ 0.90868705  0.87753878  0.23889567 ...  0.14724914  0.56478885\n",
      "  -1.25315192]\n",
      " [-0.90837795 -0.95288694 -0.63980375 ... -0.3305852  -0.55046054\n",
      "   0.67319661]\n",
      " [-0.52997917 -0.88251403 -1.25351368 ... -0.50392323 -0.72748425\n",
      "   0.71753913]\n",
      " ...\n",
      " [-0.46762559 -0.34865039  0.18910112 ... -0.00888812 -0.28492497\n",
      "   0.25506226]\n",
      " [-0.24557944  0.02478597  0.6610393  ... -0.28430459 -0.5150558\n",
      "   0.18104656]\n",
      " [ 0.70496119  0.97240435  0.7385856  ...  0.31615743  1.25518132\n",
      "  -0.78788169]]\n"
     ]
    }
   ],
   "source": [
    "scale = StandardScaler()\n",
    "X_scaled = scale.fit_transform(X)\n",
    "print(X_scaled)"
   ]
  },
  {
   "cell_type": "code",
   "execution_count": 31,
   "metadata": {},
   "outputs": [
    {
     "name": "stdout",
     "output_type": "stream",
     "text": [
      "[[-0.69030321 -1.51664133 -3.01043677 ... -0.39574579 -1.02842456\n",
      "  -0.08019123]\n",
      " [-1.0480556  -1.00629446 -0.44189419 ... -0.44600769 -0.95761508\n",
      "   0.83231783]\n",
      " [ 0.2643815  -0.07940169 -0.59096068 ...  0.35224315  1.8216572\n",
      "  -0.97836549]\n",
      " ...\n",
      " [-1.31339749 -1.34539741 -1.14425111 ... -0.69010701 -1.01072219\n",
      "   1.46391848]\n",
      " [ 0.07333454  0.08759747  0.11076192 ... -0.13101751 -0.74518662\n",
      "   0.55179414]\n",
      " [-1.04930375 -0.99491141 -0.39098956 ... -0.63045744 -0.55046054\n",
      "   1.00100672]]\n"
     ]
    }
   ],
   "source": [
    "X_train, X_test, Y_train, Y_test = train_test_split(X_scaled, Y, test_size=0.2, random_state=50)\n",
    "print(X_train)"
   ]
  },
  {
   "cell_type": "code",
   "execution_count": 32,
   "metadata": {},
   "outputs": [],
   "source": [
    "linearRegressionModel = LinearRegression()"
   ]
  },
  {
   "cell_type": "code",
   "execution_count": 33,
   "metadata": {},
   "outputs": [
    {
     "data": {
      "text/plain": [
       "LinearRegression(copy_X=True, fit_intercept=True, n_jobs=None, normalize=False)"
      ]
     },
     "execution_count": 33,
     "metadata": {},
     "output_type": "execute_result"
    }
   ],
   "source": [
    "linearRegressionModel.fit(X_train, Y_train)"
   ]
  },
  {
   "cell_type": "code",
   "execution_count": 40,
   "metadata": {},
   "outputs": [
    {
     "name": "stdout",
     "output_type": "stream",
     "text": [
      "       Coeff\n",
      "F1  7.279480\n",
      "F2  2.034722\n",
      "F3  1.159460\n",
      "F4 -6.046885\n",
      "F5 -3.081861\n",
      "F6 -1.743681\n",
      "F7 -0.270289\n",
      "F8  0.853884\n",
      "F9 -0.675657\n"
     ]
    }
   ],
   "source": [
    "cofficients = pd.DataFrame(linearRegressionModel.coef_, ['F1', 'F2', 'F3', 'F4', 'F5', 'F6', 'F7', 'F8', 'F9'], columns = ['Coeff'])\n",
    "print(cofficients)"
   ]
  },
  {
   "cell_type": "code",
   "execution_count": 35,
   "metadata": {},
   "outputs": [],
   "source": [
    "Y_pred = linearRegressionModel.predict(X_test)"
   ]
  },
  {
   "cell_type": "code",
   "execution_count": 36,
   "metadata": {},
   "outputs": [
    {
     "data": {
      "text/plain": [
       "<matplotlib.collections.PathCollection at 0x207e6202308>"
      ]
     },
     "execution_count": 36,
     "metadata": {},
     "output_type": "execute_result"
    },
    {
     "data": {
      "image/png": "[encoded data removed]",
      "text/plain": [
       "<Figure size 432x288 with 1 Axes>"
      ]
     },
     "metadata": {
      "needs_background": "light"
     },
     "output_type": "display_data"
    }
   ],
   "source": [
    "plt.scatter(Y_test, Y_pred)"
   ]
  },
  {
   "cell_type": "code",
   "execution_count": 37,
   "metadata": {},
   "outputs": [
    {
     "name": "stdout",
     "output_type": "stream",
     "text": [
      "4.401451433294013\n"
     ]
    }
   ],
   "source": [
    "mae = sm.mean_absolute_error(Y_test, Y_pred) # mean absolute error\n",
    "print(mae)"
   ]
  },
  {
   "cell_type": "code",
   "execution_count": 38,
   "metadata": {},
   "outputs": [
    {
     "name": "stdout",
     "output_type": "stream",
     "text": [
      "27.422901473700698\n"
     ]
    }
   ],
   "source": [
    "mse = sm.mean_squared_error(Y_test, Y_pred)  #mean squared error\n",
    "print(mse)"
   ]
  },
  {
   "cell_type": "code",
   "execution_count": 39,
   "metadata": {},
   "outputs": [
    {
     "name": "stdout",
     "output_type": "stream",
     "text": [
      "5.236688025240829\n"
     ]
    }
   ],
   "source": [
    "rmse = np.sqrt(mse)\n",
    "print(rmse)"
   ]
  },
  {
   "cell_type": "code",
   "execution_count": null,
   "metadata": {},
   "outputs": [],
   "source": []
  }
 ],
 "metadata": {
  "kernelspec": {
   "display_name": "Python 3",
   "language": "python",
   "name": "python3"
  },
  "language_info": {
   "codemirror_mode": {
    "name": "ipython",
    "version": 3
   },
   "file_extension": ".py",
   "mimetype": "text/x-python",
   "name": "python",
   "nbconvert_exporter": "python",
   "pygments_lexer": "ipython3",
   "version": "3.7.4"
  }
 },
 "nbformat": 4,
 "nbformat_minor": 2
}
