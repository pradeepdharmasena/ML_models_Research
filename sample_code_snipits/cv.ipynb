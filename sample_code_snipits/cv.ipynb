{
 "cells": [
  {
   "cell_type": "code",
   "execution_count": 46,
   "id": "31c68f37",
   "metadata": {},
   "outputs": [],
   "source": [
    "import numpy as np\n",
    "import pandas as pd"
   ]
  },
  {
   "cell_type": "code",
   "execution_count": 47,
   "id": "0951a360",
   "metadata": {},
   "outputs": [],
   "source": [
    "data = pd.read_csv(\"./dataset_with_10_features/2/selected_M.csv\")"
   ]
  },
  {
   "cell_type": "code",
   "execution_count": 48,
   "id": "a1f7af7c",
   "metadata": {},
   "outputs": [],
   "source": [
    "X = data.values[:,:-1]\n",
    "y = data.values[:,-1:]"
   ]
  },
  {
   "cell_type": "code",
   "execution_count": 49,
   "id": "2622926a",
   "metadata": {},
   "outputs": [],
   "source": [
    "from sklearn.model_selection import cross_val_score"
   ]
  },
  {
   "cell_type": "code",
   "execution_count": 50,
   "id": "bda22344",
   "metadata": {},
   "outputs": [
    {
     "name": "stdout",
     "output_type": "stream",
     "text": [
      "Accuracy RF: 0.95 (+/- 0.12)\n",
      "Accuracy SVM: 0.90 (+/- 0.19)\n",
      "Accuracy KNN: 0.93 (+/- 0.12)\n"
     ]
    }
   ],
   "source": [
    "# Random Forest\n",
    "from sklearn.ensemble import RandomForestClassifier\n",
    "rf = RandomForestClassifier()\n",
    "acc = cross_val_score(rf, X, y.ravel(), cv=5)\n",
    "print(\"Accuracy RF: %0.2f (+/- %0.2f)\" % (acc.mean(), acc.std() * 2))\n",
    "\n",
    "# Support Vector Machine\n",
    "from sklearn.svm import SVC\n",
    "svm = SVC()\n",
    "acc = cross_val_score(svm, X, y.ravel(), cv=5)\n",
    "print(\"Accuracy SVM: %0.2f (+/- %0.2f)\" % (acc.mean(), acc.std() * 2))\n",
    "\n",
    "# K-Nearest Neighbors\n",
    "from sklearn.neighbors import KNeighborsClassifier\n",
    "knn = KNeighborsClassifier()\n",
    "acc = cross_val_score(knn, X, y.ravel(), cv=5)\n",
    "print(\"Accuracy KNN: %0.2f (+/- %0.2f)\" % (acc.mean(), acc.std() * 2))"
   ]
  },
  {
   "cell_type": "code",
   "execution_count": null,
   "id": "0a9fea7f",
   "metadata": {},
   "outputs": [],
   "source": []
  }
 ],
 "metadata": {
  "kernelspec": {
   "display_name": "Python 3 (ipykernel)",
   "language": "python",
   "name": "python3"
  },
  "language_info": {
   "codemirror_mode": {
    "name": "ipython",
    "version": 3
   },
   "file_extension": ".py",
   "mimetype": "text/x-python",
   "name": "python",
   "nbconvert_exporter": "python",
   "pygments_lexer": "ipython3",
   "version": "3.9.7"
  }
 },
 "nbformat": 4,
 "nbformat_minor": 5
}
