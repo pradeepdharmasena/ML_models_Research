{
 "cells": [
  {
   "cell_type": "markdown",
   "id": "d98424d2",
   "metadata": {},
   "source": [
    "# Mutual Information"
   ]
  },
  {
   "cell_type": "code",
   "execution_count": 7,
   "id": "2f66b2f2",
   "metadata": {},
   "outputs": [],
   "source": [
    "import pandas as pd\n",
    "import matplotlib.pyplot as plt"
   ]
  },
  {
   "cell_type": "code",
   "execution_count": 45,
   "id": "4d926425",
   "metadata": {},
   "outputs": [],
   "source": [
    "data = pd.read_csv(\"pre_selected_new_M.csv\", low_memory=False)"
   ]
  },
  {
   "cell_type": "code",
   "execution_count": 46,
   "id": "e2712920",
   "metadata": {},
   "outputs": [],
   "source": [
    "X = data.drop(['label'], axis=1)\n",
    "y = data['label']"
   ]
  },
  {
   "cell_type": "code",
   "execution_count": 47,
   "id": "cdf598a4",
   "metadata": {
    "scrolled": true
   },
   "outputs": [
    {
     "data": {
      "text/plain": [
       "Index(['56465M', '227244M', '961762M', '1063954M', '1129626M', '1414255M',\n",
       "       '1496095M', '1703514M', '1901703M', '2011430M', '2097787M', '2101220M',\n",
       "       '2283913M', '2294662M', '2348404M', '2371202M', '2786568M', '2858295M',\n",
       "       '2933949M', '2988237M'],\n",
       "      dtype='object')"
      ]
     },
     "execution_count": 47,
     "metadata": {},
     "output_type": "execute_result"
    }
   ],
   "source": [
    "X.columns"
   ]
  },
  {
   "cell_type": "code",
   "execution_count": 48,
   "id": "ac64a6ab",
   "metadata": {},
   "outputs": [
    {
     "name": "stdout",
     "output_type": "stream",
     "text": [
      "['56465', '227244', '961762', '1063954', '1129626', '1414255', '1496095', '1703514', '1901703', '2011430', '2097787', '2101220', '2283913', '2294662', '2348404', '2371202', '2786568', '2858295', '2933949', '2988237']\n",
      "\n",
      "Sequence the importance of each feature\n"
     ]
    },
    {
     "data": {
      "image/png": "[encoded data removed]",
      "text/plain": [
       "<Figure size 720x432 with 1 Axes>"
      ]
     },
     "metadata": {
      "needs_background": "light"
     },
     "output_type": "display_data"
    }
   ],
   "source": [
    "# import necessary libraries\n",
    "from sklearn.feature_selection import mutual_info_classif\n",
    "from sklearn.feature_selection import SelectKBest\n",
    "\n",
    "fs = SelectKBest(score_func=mutual_info_classif, k=20)\n",
    "\n",
    "\n",
    "\n",
    "X_selected = fs.fit_transform(X, y)\n",
    "\n",
    "lst = [words[:-1] for words in fs.get_feature_names_out()]\n",
    "print(lst)\n",
    "\n",
    "X_selected = pd.DataFrame(X_selected, columns=lst)\n",
    "\n",
    "print(\"\\nSequence the importance of each feature\")\n",
    "fs.fit(X_selected,y)\n",
    "mi_score = pd.Series(fs.scores_, index=X_selected.columns)\n",
    "mi_score.sort_values(ascending=False).plot.bar(figsize=(10, 6))\n",
    "plt.yticks([0.0, 0.2, 0.4, 0.6, 0.8, 1.0])\n",
    "plt.show()"
   ]
  },
  {
   "cell_type": "code",
   "execution_count": 22,
   "id": "794ca565",
   "metadata": {},
   "outputs": [
    {
     "data": {
      "text/html": [
       "<div>\n",
       "<style scoped>\n",
       "    .dataframe tbody tr th:only-of-type {\n",
       "        vertical-align: middle;\n",
       "    }\n",
       "\n",
       "    .dataframe tbody tr th {\n",
       "        vertical-align: top;\n",
       "    }\n",
       "\n",
       "    .dataframe thead th {\n",
       "        text-align: right;\n",
       "    }\n",
       "</style>\n",
       "<table border=\"1\" class=\"dataframe\">\n",
       "  <thead>\n",
       "    <tr style=\"text-align: right;\">\n",
       "      <th></th>\n",
       "      <th>56465M</th>\n",
       "      <th>227244M</th>\n",
       "      <th>961762M</th>\n",
       "      <th>1063954M</th>\n",
       "      <th>1129626M</th>\n",
       "      <th>1414255M</th>\n",
       "      <th>1496095M</th>\n",
       "      <th>1703514M</th>\n",
       "      <th>1901703M</th>\n",
       "      <th>2011430M</th>\n",
       "      <th>2097787M</th>\n",
       "      <th>2101220M</th>\n",
       "      <th>2283913M</th>\n",
       "      <th>2294662M</th>\n",
       "      <th>2348404M</th>\n",
       "      <th>2371202M</th>\n",
       "      <th>2786568M</th>\n",
       "      <th>2858295M</th>\n",
       "      <th>2933949M</th>\n",
       "      <th>2988237M</th>\n",
       "    </tr>\n",
       "  </thead>\n",
       "  <tbody>\n",
       "    <tr>\n",
       "      <th>21</th>\n",
       "      <td>0.290323</td>\n",
       "      <td>0.571429</td>\n",
       "      <td>0.200000</td>\n",
       "      <td>0.25</td>\n",
       "      <td>0.25</td>\n",
       "      <td>0.173913</td>\n",
       "      <td>0.142857</td>\n",
       "      <td>0.200000</td>\n",
       "      <td>0.333333</td>\n",
       "      <td>0.103448</td>\n",
       "      <td>0.147059</td>\n",
       "      <td>0.318182</td>\n",
       "      <td>0.250000</td>\n",
       "      <td>0.258065</td>\n",
       "      <td>0.5</td>\n",
       "      <td>0.166667</td>\n",
       "      <td>0.2500</td>\n",
       "      <td>0.296296</td>\n",
       "      <td>0.230769</td>\n",
       "      <td>0.200000</td>\n",
       "    </tr>\n",
       "    <tr>\n",
       "      <th>20</th>\n",
       "      <td>0.258065</td>\n",
       "      <td>0.714286</td>\n",
       "      <td>0.133333</td>\n",
       "      <td>0.10</td>\n",
       "      <td>0.25</td>\n",
       "      <td>0.173913</td>\n",
       "      <td>0.107143</td>\n",
       "      <td>0.066667</td>\n",
       "      <td>0.000000</td>\n",
       "      <td>0.103448</td>\n",
       "      <td>0.058824</td>\n",
       "      <td>0.272727</td>\n",
       "      <td>0.125000</td>\n",
       "      <td>0.225806</td>\n",
       "      <td>0.2</td>\n",
       "      <td>0.166667</td>\n",
       "      <td>0.3125</td>\n",
       "      <td>0.111111</td>\n",
       "      <td>0.076923</td>\n",
       "      <td>0.171429</td>\n",
       "    </tr>\n",
       "    <tr>\n",
       "      <th>3</th>\n",
       "      <td>0.064516</td>\n",
       "      <td>0.000000</td>\n",
       "      <td>0.066667</td>\n",
       "      <td>0.15</td>\n",
       "      <td>1.00</td>\n",
       "      <td>0.086957</td>\n",
       "      <td>0.160714</td>\n",
       "      <td>0.100000</td>\n",
       "      <td>0.333333</td>\n",
       "      <td>0.241379</td>\n",
       "      <td>0.205882</td>\n",
       "      <td>0.227273</td>\n",
       "      <td>0.166667</td>\n",
       "      <td>0.161290</td>\n",
       "      <td>0.3</td>\n",
       "      <td>0.111111</td>\n",
       "      <td>0.0000</td>\n",
       "      <td>0.111111</td>\n",
       "      <td>0.076923</td>\n",
       "      <td>0.085714</td>\n",
       "    </tr>\n",
       "    <tr>\n",
       "      <th>34</th>\n",
       "      <td>0.451613</td>\n",
       "      <td>0.142857</td>\n",
       "      <td>0.133333</td>\n",
       "      <td>0.25</td>\n",
       "      <td>0.25</td>\n",
       "      <td>0.282609</td>\n",
       "      <td>0.410714</td>\n",
       "      <td>0.233333</td>\n",
       "      <td>0.333333</td>\n",
       "      <td>0.103448</td>\n",
       "      <td>0.352941</td>\n",
       "      <td>0.318182</td>\n",
       "      <td>0.250000</td>\n",
       "      <td>0.258065</td>\n",
       "      <td>0.8</td>\n",
       "      <td>0.277778</td>\n",
       "      <td>0.2500</td>\n",
       "      <td>0.222222</td>\n",
       "      <td>0.076923</td>\n",
       "      <td>0.371429</td>\n",
       "    </tr>\n",
       "    <tr>\n",
       "      <th>6</th>\n",
       "      <td>0.096774</td>\n",
       "      <td>0.000000</td>\n",
       "      <td>0.066667</td>\n",
       "      <td>0.10</td>\n",
       "      <td>0.00</td>\n",
       "      <td>0.000000</td>\n",
       "      <td>0.017857</td>\n",
       "      <td>0.033333</td>\n",
       "      <td>0.000000</td>\n",
       "      <td>0.000000</td>\n",
       "      <td>0.029412</td>\n",
       "      <td>0.090909</td>\n",
       "      <td>0.041667</td>\n",
       "      <td>0.096774</td>\n",
       "      <td>0.1</td>\n",
       "      <td>0.000000</td>\n",
       "      <td>0.0000</td>\n",
       "      <td>0.074074</td>\n",
       "      <td>0.000000</td>\n",
       "      <td>0.028571</td>\n",
       "    </tr>\n",
       "  </tbody>\n",
       "</table>\n",
       "</div>"
      ],
      "text/plain": [
       "      56465M   227244M   961762M  1063954M  1129626M  1414255M  1496095M  \\\n",
       "21  0.290323  0.571429  0.200000      0.25      0.25  0.173913  0.142857   \n",
       "20  0.258065  0.714286  0.133333      0.10      0.25  0.173913  0.107143   \n",
       "3   0.064516  0.000000  0.066667      0.15      1.00  0.086957  0.160714   \n",
       "34  0.451613  0.142857  0.133333      0.25      0.25  0.282609  0.410714   \n",
       "6   0.096774  0.000000  0.066667      0.10      0.00  0.000000  0.017857   \n",
       "\n",
       "    1703514M  1901703M  2011430M  2097787M  2101220M  2283913M  2294662M  \\\n",
       "21  0.200000  0.333333  0.103448  0.147059  0.318182  0.250000  0.258065   \n",
       "20  0.066667  0.000000  0.103448  0.058824  0.272727  0.125000  0.225806   \n",
       "3   0.100000  0.333333  0.241379  0.205882  0.227273  0.166667  0.161290   \n",
       "34  0.233333  0.333333  0.103448  0.352941  0.318182  0.250000  0.258065   \n",
       "6   0.033333  0.000000  0.000000  0.029412  0.090909  0.041667  0.096774   \n",
       "\n",
       "    2348404M  2371202M  2786568M  2858295M  2933949M  2988237M  \n",
       "21       0.5  0.166667    0.2500  0.296296  0.230769  0.200000  \n",
       "20       0.2  0.166667    0.3125  0.111111  0.076923  0.171429  \n",
       "3        0.3  0.111111    0.0000  0.111111  0.076923  0.085714  \n",
       "34       0.8  0.277778    0.2500  0.222222  0.076923  0.371429  \n",
       "6        0.1  0.000000    0.0000  0.074074  0.000000  0.028571  "
      ]
     },
     "execution_count": 22,
     "metadata": {},
     "output_type": "execute_result"
    }
   ],
   "source": [
    "X_selected.sample(5)"
   ]
  },
  {
   "cell_type": "code",
   "execution_count": 23,
   "id": "b4358f62",
   "metadata": {},
   "outputs": [],
   "source": [
    "X_selected['label'] = y"
   ]
  },
  {
   "cell_type": "code",
   "execution_count": 24,
   "id": "34f43886",
   "metadata": {},
   "outputs": [
    {
     "data": {
      "text/plain": [
       "Index(['56465M', '227244M', '961762M', '1063954M', '1129626M', '1414255M',\n",
       "       '1496095M', '1703514M', '1901703M', '2011430M', '2097787M', '2101220M',\n",
       "       '2283913M', '2294662M', '2348404M', '2371202M', '2786568M', '2858295M',\n",
       "       '2933949M', '2988237M', 'label'],\n",
       "      dtype='object')"
      ]
     },
     "execution_count": 24,
     "metadata": {},
     "output_type": "execute_result"
    }
   ],
   "source": [
    "X_selected.columns"
   ]
  },
  {
   "cell_type": "code",
   "execution_count": 25,
   "id": "db586eac",
   "metadata": {},
   "outputs": [],
   "source": [
    "X_selected.to_csv(\"./dataset_with_20_features/2/selected_M.csv\", encoding='utf-8', index=False)"
   ]
  },
  {
   "cell_type": "code",
   "execution_count": null,
   "id": "1d8093dd",
   "metadata": {},
   "outputs": [],
   "source": []
  },
  {
   "cell_type": "code",
   "execution_count": null,
   "id": "1c0210bd",
   "metadata": {},
   "outputs": [],
   "source": []
  },
  {
   "cell_type": "markdown",
   "id": "cd19a006",
   "metadata": {},
   "source": [
    "# Forward feature selection"
   ]
  },
  {
   "cell_type": "code",
   "execution_count": null,
   "id": "72de1dbb",
   "metadata": {},
   "outputs": [],
   "source": [
    "import numpy as np\n",
    "import pandas as pd\n",
    "from sklearn.ensemble import RandomForestClassifier\n",
    "from sklearn.model_selection import train_test_split\n",
    "from sklearn.metrics import accuracy_score\n",
    "from mlxtend.feature_selection import SequentialFeatureSelector"
   ]
  },
  {
   "cell_type": "code",
   "execution_count": null,
   "id": "a0681d82",
   "metadata": {},
   "outputs": [],
   "source": [
    "# Read data\n",
    "df = pd.read_csv(\"pre_selection_F.csv\", low_memory=False)\n",
    "\n",
    "# Train/test split\n",
    "X_train, X_test, y_train, y_test = train_test_split(df.values[:,:-1],df.values[:,-1:],test_size=0.20,random_state=42)\n",
    "\n",
    "y_train = y_train.ravel()\n",
    "y_test = y_test.ravel()\n",
    "\n",
    "print('Training dataset shape:', X_train.shape, y_train.shape)\n",
    "print('Testing dataset shape:', X_test.shape, y_test.shape)"
   ]
  },
  {
   "cell_type": "code",
   "execution_count": null,
   "id": "11d1656e",
   "metadata": {},
   "outputs": [],
   "source": [
    "# Build RF classifier to use in feature selection\n",
    "clf = RandomForestClassifier(n_estimators=100, n_jobs=-1)\n",
    "\n",
    "# Build step forward feature selection\n",
    "sfs = SequentialFeatureSelector(clf, k_features=5, forward=True, floating=False, verbose=2, scoring='accuracy', cv=5)\n",
    "\n",
    "# Perform SFFS\n",
    "sfs = sfs.fit(X_train, y_train)"
   ]
  },
  {
   "cell_type": "code",
   "execution_count": null,
   "id": "1ce6c2aa",
   "metadata": {},
   "outputs": [],
   "source": [
    "# Which features?\n",
    "feat_cols = list(sfs.k_feature_idx_)\n",
    "print(feat_cols)"
   ]
  },
  {
   "cell_type": "code",
   "execution_count": null,
   "id": "346d16ea",
   "metadata": {},
   "outputs": [],
   "source": [
    "# Build full model with selected features\n",
    "clf = RandomForestClassifier(n_estimators=100, max_depth=4)\n",
    "clf.fit(X_train[:, feat_cols], y_train)\n",
    "\n",
    "y_train_pred = clf.predict(X_train[:, feat_cols])\n",
    "print('Training accuracy on selected features: %.3f' % accuracy_score(y_train, y_train_pred))\n",
    "\n",
    "y_test_pred = clf.predict(X_test[:, feat_cols])\n",
    "print('Testing accuracy on selected features: %.3f' % accuracy_score(y_test, y_test_pred))"
   ]
  },
  {
   "cell_type": "code",
   "execution_count": null,
   "id": "0e4031fa",
   "metadata": {},
   "outputs": [],
   "source": []
  }
 ],
 "metadata": {
  "kernelspec": {
   "display_name": "Python 3 (ipykernel)",
   "language": "python",
   "name": "python3"
  },
  "language_info": {
   "codemirror_mode": {
    "name": "ipython",
    "version": 3
   },
   "file_extension": ".py",
   "mimetype": "text/x-python",
   "name": "python",
   "nbconvert_exporter": "python",
   "pygments_lexer": "ipython3",
   "version": "3.9.7"
  }
 },
 "nbformat": 4,
 "nbformat_minor": 5
}
