{
 "cells": [
  {
   "cell_type": "code",
   "execution_count": 1,
   "id": "a77685c8",
   "metadata": {},
   "outputs": [],
   "source": [
    "filename = \"GSE194227_mother.results.csv\"\n",
    "add_labels = 'mother_labels.csv'"
   ]
  },
  {
   "cell_type": "code",
   "execution_count": 2,
   "id": "951c5d3f",
   "metadata": {},
   "outputs": [],
   "source": [
    "import numpy as np\n",
    "import pandas as pd"
   ]
  },
  {
   "cell_type": "code",
   "execution_count": 3,
   "id": "874c00c8",
   "metadata": {},
   "outputs": [],
   "source": [
    "data = pd.read_csv(filename ,low_memory=False)"
   ]
  },
  {
   "cell_type": "code",
   "execution_count": 4,
   "id": "1c2cea36",
   "metadata": {},
   "outputs": [
    {
     "data": {
      "text/plain": [
       "(['edgeR.logFC', 'edgeR.logCPM', 'edgeR.p.value', 'edgeR.adj.p.value'],\n",
       " ['edgeR.logFC', 'edgeR.logCPM', 'edgeR.p.value', 'edgeR.adj.p.value'])"
      ]
     },
     "execution_count": 4,
     "metadata": {},
     "output_type": "execute_result"
    }
   ],
   "source": [
    "data.columns[data.isna().any()].tolist(), data.columns[data.isna().any()].tolist()"
   ]
  },
  {
   "cell_type": "code",
   "execution_count": 5,
   "id": "159b646c",
   "metadata": {},
   "outputs": [],
   "source": [
    "data.drop(labels=['edgeR.logFC', 'edgeR.logCPM', 'edgeR.p.value', 'edgeR.adj.p.value', 'chr', 'start', 'stop'], axis=1, inplace=True)"
   ]
  },
  {
   "cell_type": "code",
   "execution_count": 6,
   "id": "8277045d",
   "metadata": {},
   "outputs": [],
   "source": [
    "data = data[(data.T != 0).any()]"
   ]
  },
  {
   "cell_type": "code",
   "execution_count": 7,
   "id": "5d0b7bff",
   "metadata": {},
   "outputs": [
    {
     "data": {
      "text/plain": [
       "(2932684, 84)"
      ]
     },
     "execution_count": 7,
     "metadata": {},
     "output_type": "execute_result"
    }
   ],
   "source": [
    "data.shape"
   ]
  },
  {
   "cell_type": "code",
   "execution_count": 8,
   "id": "45afeb9f",
   "metadata": {},
   "outputs": [],
   "source": [
    "names = data.columns"
   ]
  },
  {
   "cell_type": "code",
   "execution_count": 9,
   "id": "594bf398",
   "metadata": {},
   "outputs": [],
   "source": [
    "import re\n",
    "new_names = []\n",
    "\n",
    "for name in names:\n",
    "    x = re.search(\".*counts$\", name)\n",
    "    if x:\n",
    "        new_names.append(name)"
   ]
  },
  {
   "cell_type": "code",
   "execution_count": 10,
   "id": "51f2c30a",
   "metadata": {},
   "outputs": [],
   "source": [
    "new_data = data[new_names]"
   ]
  },
  {
   "cell_type": "code",
   "execution_count": 11,
   "id": "ee06955b",
   "metadata": {
    "scrolled": true
   },
   "outputs": [],
   "source": [
    "labels = pd.read_csv(add_labels).transpose()[0]"
   ]
  },
  {
   "cell_type": "code",
   "execution_count": 12,
   "id": "60375c56",
   "metadata": {},
   "outputs": [],
   "source": [
    "transposed_data = new_data.transpose()"
   ]
  },
  {
   "cell_type": "code",
   "execution_count": 13,
   "id": "ca592b39",
   "metadata": {},
   "outputs": [
    {
     "data": {
      "text/plain": [
       "(40, 2932684)"
      ]
     },
     "execution_count": 13,
     "metadata": {},
     "output_type": "execute_result"
    }
   ],
   "source": [
    "transposed_data.shape"
   ]
  },
  {
   "cell_type": "code",
   "execution_count": 14,
   "id": "20415255",
   "metadata": {},
   "outputs": [
    {
     "data": {
      "text/plain": [
       "(40,)"
      ]
     },
     "execution_count": 14,
     "metadata": {},
     "output_type": "execute_result"
    }
   ],
   "source": [
    "labels.shape"
   ]
  },
  {
   "cell_type": "code",
   "execution_count": 15,
   "id": "b52a7b66",
   "metadata": {},
   "outputs": [
    {
     "data": {
      "text/plain": [
       "0    21\n",
       "1    19\n",
       "Name: 0, dtype: int64"
      ]
     },
     "execution_count": 15,
     "metadata": {},
     "output_type": "execute_result"
    }
   ],
   "source": [
    "labels.value_counts()"
   ]
  },
  {
   "cell_type": "code",
   "execution_count": 16,
   "id": "d4dd6131",
   "metadata": {},
   "outputs": [],
   "source": [
    "transposed_data['label'] = labels"
   ]
  },
  {
   "cell_type": "code",
   "execution_count": 17,
   "id": "ac49e095",
   "metadata": {},
   "outputs": [],
   "source": [
    "transposed_data = transposed_data.apply(pd.to_numeric)"
   ]
  },
  {
   "cell_type": "code",
   "execution_count": 18,
   "id": "a46212b8",
   "metadata": {},
   "outputs": [],
   "source": [
    "X = transposed_data.drop(['label'], axis=1)\n",
    "y = transposed_data['label']"
   ]
  },
  {
   "cell_type": "code",
   "execution_count": null,
   "id": "64cd3e73",
   "metadata": {},
   "outputs": [],
   "source": [
    "from sklearn.preprocessing import MinMaxScaler\n",
    "scaler = MinMaxScaler()\n",
    "\n",
    "names = X.columns\n",
    "\n",
    "data = scaler.fit_transform(X)\n",
    "\n",
    "X = pd.DataFrame(data, columns=names)"
   ]
  },
  {
   "cell_type": "code",
   "execution_count": 19,
   "id": "1ed59352",
   "metadata": {},
   "outputs": [],
   "source": [
    "from sklearn.feature_selection import mutual_info_classif\n",
    "from sklearn.feature_selection import SelectKBest"
   ]
  },
  {
   "cell_type": "code",
   "execution_count": 20,
   "id": "a6a22d58",
   "metadata": {},
   "outputs": [],
   "source": [
    "fs = SelectKBest(score_func=mutual_info_classif, k=20)\n",
    "X_selected = fs.fit_transform(X, y)"
   ]
  },
  {
   "cell_type": "code",
   "execution_count": 21,
   "id": "9824aa20",
   "metadata": {},
   "outputs": [],
   "source": [
    "cols = fs.get_support(indices=True)"
   ]
  },
  {
   "cell_type": "code",
   "execution_count": 22,
   "id": "fc29b8fe",
   "metadata": {},
   "outputs": [
    {
     "data": {
      "text/plain": [
       "array([  56694,  425451, 1042906, 1280477, 1333445, 1392019, 1473708,\n",
       "       1570047, 1631434, 1854699, 1861625, 1959738, 1971224, 2044835,\n",
       "       2258060, 2280858, 2408548, 2638177, 2739910, 2890407], dtype=int64)"
      ]
     },
     "execution_count": 22,
     "metadata": {},
     "output_type": "execute_result"
    }
   ],
   "source": [
    "cols"
   ]
  },
  {
   "cell_type": "code",
   "execution_count": 23,
   "id": "e9817ee1",
   "metadata": {},
   "outputs": [],
   "source": [
    "X_selected = transposed_data.iloc[:,cols]"
   ]
  },
  {
   "cell_type": "code",
   "execution_count": 24,
   "id": "e36c5b64",
   "metadata": {},
   "outputs": [
    {
     "name": "stderr",
     "output_type": "stream",
     "text": [
      "C:\\Users\\Deep Blade\\AppData\\Local\\Temp\\ipykernel_6812\\949575838.py:1: SettingWithCopyWarning: \n",
      "A value is trying to be set on a copy of a slice from a DataFrame.\n",
      "Try using .loc[row_indexer,col_indexer] = value instead\n",
      "\n",
      "See the caveats in the documentation: https://pandas.pydata.org/pandas-docs/stable/user_guide/indexing.html#returning-a-view-versus-a-copy\n",
      "  X_selected['label'] = labels\n"
     ]
    }
   ],
   "source": [
    "X_selected['label'] = labels"
   ]
  },
  {
   "cell_type": "code",
   "execution_count": 25,
   "id": "55e9cf92",
   "metadata": {},
   "outputs": [
    {
     "data": {
      "text/html": [
       "<div>\n",
       "<style scoped>\n",
       "    .dataframe tbody tr th:only-of-type {\n",
       "        vertical-align: middle;\n",
       "    }\n",
       "\n",
       "    .dataframe tbody tr th {\n",
       "        vertical-align: top;\n",
       "    }\n",
       "\n",
       "    .dataframe thead th {\n",
       "        text-align: right;\n",
       "    }\n",
       "</style>\n",
       "<table border=\"1\" class=\"dataframe\">\n",
       "  <thead>\n",
       "    <tr style=\"text-align: right;\">\n",
       "      <th></th>\n",
       "      <th>56992</th>\n",
       "      <th>445532</th>\n",
       "      <th>1063954</th>\n",
       "      <th>1302496</th>\n",
       "      <th>1355464</th>\n",
       "      <th>1414255</th>\n",
       "      <th>1496095</th>\n",
       "      <th>1609007</th>\n",
       "      <th>1670394</th>\n",
       "      <th>1894753</th>\n",
       "      <th>...</th>\n",
       "      <th>1999944</th>\n",
       "      <th>2011430</th>\n",
       "      <th>2101220</th>\n",
       "      <th>2348404</th>\n",
       "      <th>2371202</th>\n",
       "      <th>2507570</th>\n",
       "      <th>2737930</th>\n",
       "      <th>2858295</th>\n",
       "      <th>3009884</th>\n",
       "      <th>label</th>\n",
       "    </tr>\n",
       "  </thead>\n",
       "  <tbody>\n",
       "    <tr>\n",
       "      <th>sPT436M.bam.counts</th>\n",
       "      <td>8</td>\n",
       "      <td>3</td>\n",
       "      <td>7</td>\n",
       "      <td>3</td>\n",
       "      <td>1</td>\n",
       "      <td>13</td>\n",
       "      <td>16</td>\n",
       "      <td>3</td>\n",
       "      <td>3</td>\n",
       "      <td>12</td>\n",
       "      <td>...</td>\n",
       "      <td>6</td>\n",
       "      <td>9</td>\n",
       "      <td>8</td>\n",
       "      <td>4</td>\n",
       "      <td>3</td>\n",
       "      <td>13</td>\n",
       "      <td>14</td>\n",
       "      <td>6</td>\n",
       "      <td>3</td>\n",
       "      <td>0</td>\n",
       "    </tr>\n",
       "    <tr>\n",
       "      <th>sPT409M.bam.counts</th>\n",
       "      <td>5</td>\n",
       "      <td>0</td>\n",
       "      <td>3</td>\n",
       "      <td>0</td>\n",
       "      <td>0</td>\n",
       "      <td>5</td>\n",
       "      <td>5</td>\n",
       "      <td>6</td>\n",
       "      <td>11</td>\n",
       "      <td>3</td>\n",
       "      <td>...</td>\n",
       "      <td>2</td>\n",
       "      <td>5</td>\n",
       "      <td>2</td>\n",
       "      <td>1</td>\n",
       "      <td>0</td>\n",
       "      <td>4</td>\n",
       "      <td>6</td>\n",
       "      <td>5</td>\n",
       "      <td>1</td>\n",
       "      <td>1</td>\n",
       "    </tr>\n",
       "    <tr>\n",
       "      <th>sPT404M.bam.counts</th>\n",
       "      <td>5</td>\n",
       "      <td>3</td>\n",
       "      <td>1</td>\n",
       "      <td>1</td>\n",
       "      <td>3</td>\n",
       "      <td>11</td>\n",
       "      <td>13</td>\n",
       "      <td>4</td>\n",
       "      <td>8</td>\n",
       "      <td>7</td>\n",
       "      <td>...</td>\n",
       "      <td>8</td>\n",
       "      <td>10</td>\n",
       "      <td>6</td>\n",
       "      <td>6</td>\n",
       "      <td>2</td>\n",
       "      <td>9</td>\n",
       "      <td>14</td>\n",
       "      <td>5</td>\n",
       "      <td>5</td>\n",
       "      <td>1</td>\n",
       "    </tr>\n",
       "    <tr>\n",
       "      <th>sPT427M.bam.counts</th>\n",
       "      <td>9</td>\n",
       "      <td>2</td>\n",
       "      <td>4</td>\n",
       "      <td>7</td>\n",
       "      <td>1</td>\n",
       "      <td>10</td>\n",
       "      <td>15</td>\n",
       "      <td>5</td>\n",
       "      <td>3</td>\n",
       "      <td>3</td>\n",
       "      <td>...</td>\n",
       "      <td>3</td>\n",
       "      <td>3</td>\n",
       "      <td>8</td>\n",
       "      <td>2</td>\n",
       "      <td>6</td>\n",
       "      <td>10</td>\n",
       "      <td>4</td>\n",
       "      <td>7</td>\n",
       "      <td>3</td>\n",
       "      <td>0</td>\n",
       "    </tr>\n",
       "    <tr>\n",
       "      <th>sPT416M.bam.counts</th>\n",
       "      <td>3</td>\n",
       "      <td>1</td>\n",
       "      <td>3</td>\n",
       "      <td>0</td>\n",
       "      <td>0</td>\n",
       "      <td>5</td>\n",
       "      <td>5</td>\n",
       "      <td>2</td>\n",
       "      <td>2</td>\n",
       "      <td>1</td>\n",
       "      <td>...</td>\n",
       "      <td>0</td>\n",
       "      <td>1</td>\n",
       "      <td>2</td>\n",
       "      <td>0</td>\n",
       "      <td>0</td>\n",
       "      <td>1</td>\n",
       "      <td>2</td>\n",
       "      <td>5</td>\n",
       "      <td>5</td>\n",
       "      <td>1</td>\n",
       "    </tr>\n",
       "  </tbody>\n",
       "</table>\n",
       "<p>5 rows × 21 columns</p>\n",
       "</div>"
      ],
      "text/plain": [
       "                    56992  445532  1063954  1302496  1355464  1414255  \\\n",
       "sPT436M.bam.counts      8       3        7        3        1       13   \n",
       "sPT409M.bam.counts      5       0        3        0        0        5   \n",
       "sPT404M.bam.counts      5       3        1        1        3       11   \n",
       "sPT427M.bam.counts      9       2        4        7        1       10   \n",
       "sPT416M.bam.counts      3       1        3        0        0        5   \n",
       "\n",
       "                    1496095  1609007  1670394  1894753  ...  1999944  2011430  \\\n",
       "sPT436M.bam.counts       16        3        3       12  ...        6        9   \n",
       "sPT409M.bam.counts        5        6       11        3  ...        2        5   \n",
       "sPT404M.bam.counts       13        4        8        7  ...        8       10   \n",
       "sPT427M.bam.counts       15        5        3        3  ...        3        3   \n",
       "sPT416M.bam.counts        5        2        2        1  ...        0        1   \n",
       "\n",
       "                    2101220  2348404  2371202  2507570  2737930  2858295  \\\n",
       "sPT436M.bam.counts        8        4        3       13       14        6   \n",
       "sPT409M.bam.counts        2        1        0        4        6        5   \n",
       "sPT404M.bam.counts        6        6        2        9       14        5   \n",
       "sPT427M.bam.counts        8        2        6       10        4        7   \n",
       "sPT416M.bam.counts        2        0        0        1        2        5   \n",
       "\n",
       "                    3009884  label  \n",
       "sPT436M.bam.counts        3      0  \n",
       "sPT409M.bam.counts        1      1  \n",
       "sPT404M.bam.counts        5      1  \n",
       "sPT427M.bam.counts        3      0  \n",
       "sPT416M.bam.counts        5      1  \n",
       "\n",
       "[5 rows x 21 columns]"
      ]
     },
     "execution_count": 25,
     "metadata": {},
     "output_type": "execute_result"
    }
   ],
   "source": [
    "X_selected.sample(5)"
   ]
  },
  {
   "cell_type": "code",
   "execution_count": 26,
   "id": "10ab51c8",
   "metadata": {},
   "outputs": [
    {
     "name": "stderr",
     "output_type": "stream",
     "text": [
      "C:\\Users\\Deep Blade\\anaconda3\\envs\\ML\\lib\\site-packages\\sklearn\\utils\\validation.py:1858: FutureWarning: Feature names only support names that are all strings. Got feature names with dtypes: ['int', 'str']. An error will be raised in 1.2.\n",
      "  warnings.warn(\n",
      "C:\\Users\\Deep Blade\\anaconda3\\envs\\ML\\lib\\site-packages\\sklearn\\utils\\validation.py:1858: FutureWarning: Feature names only support names that are all strings. Got feature names with dtypes: ['int', 'str']. An error will be raised in 1.2.\n",
      "  warnings.warn(\n"
     ]
    }
   ],
   "source": [
    "from sklearn.preprocessing import MinMaxScaler\n",
    "scaler = MinMaxScaler()\n",
    "\n",
    "names = X_selected.columns\n",
    "d = scaler.fit_transform(X_selected)\n",
    "scaled_df = pd.DataFrame(d, columns=names)"
   ]
  },
  {
   "cell_type": "code",
   "execution_count": 27,
   "id": "3cb481d6",
   "metadata": {},
   "outputs": [],
   "source": [
    "scaled_df.to_csv(\"selected_M_best20.csv\", encoding='utf-8', index=False)"
   ]
  },
  {
   "cell_type": "code",
   "execution_count": null,
   "id": "9c496a90",
   "metadata": {},
   "outputs": [],
   "source": []
  }
 ],
 "metadata": {
  "kernelspec": {
   "display_name": "Python 3.9.5 64-bit",
   "language": "python",
   "name": "python3"
  },
  "language_info": {
   "codemirror_mode": {
    "name": "ipython",
    "version": 3
   },
   "file_extension": ".py",
   "mimetype": "text/x-python",
   "name": "python",
   "nbconvert_exporter": "python",
   "pygments_lexer": "ipython3",
   "version": "3.9.5"
  },
  "vscode": {
   "interpreter": {
    "hash": "b1303c23e102d595619ebc1120390039220f4fe9e9c4d42b8a383c248f867a72"
   }
  }
 },
 "nbformat": 4,
 "nbformat_minor": 5
}
